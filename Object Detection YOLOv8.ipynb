{
 "cells": [
  {
   "cell_type": "code",
   "execution_count": 1,
   "metadata": {},
   "outputs": [
    {
     "name": "stderr",
     "output_type": "stream",
     "text": [
      "c:\\Users\\aryas\\AppData\\Local\\Programs\\Python\\Python37\\lib\\site-packages\\tqdm\\auto.py:21: TqdmWarning: IProgress not found. Please update jupyter and ipywidgets. See https://ipywidgets.readthedocs.io/en/stable/user_install.html\n",
      "  from .autonotebook import tqdm as notebook_tqdm\n"
     ]
    }
   ],
   "source": [
    "from ultralytics import YOLO\n",
    "import cv2 # For the ineraction of camera with model\n",
    "import cvzone\n"
   ]
  },
  {
   "cell_type": "markdown",
   "metadata": {},
   "source": [
    "# YOLO with Webcom"
   ]
  },
  {
   "cell_type": "code",
   "execution_count": 2,
   "metadata": {},
   "outputs": [],
   "source": [
    "cap = cv2.VideoCapture(0) # \"0\" indicates the default camera.\n",
    "cap.set(cv2.CAP_PROP_FRAME_WIDTH, 1280) # This sets the resolutioin width \n",
    "cap.set(cv2.CAP_PROP_FRAME_HEIGHT, 720) # This sets the resolutioin height\n",
    "if not cap.isOpened(): # It checks if Open CV is able to access the camera or not\n",
    "    print(\"Error: Could not access the camera\")\n",
    "    exit()"
   ]
  },
  {
   "cell_type": "code",
   "execution_count": 3,
   "metadata": {},
   "outputs": [
    {
     "name": "stderr",
     "output_type": "stream",
     "text": [
      "Downloading https://github.com/ultralytics/assets/releases/download/v0.0.0/yolov8n.pt to 'yolov8n.pt'...\n",
      "100%|██████████| 6.23M/6.23M [00:02<00:00, 3.17MB/s]\n"
     ]
    }
   ],
   "source": [
    "model = YOLO(\"yolov8n.pt\") # YOLO 8 Nano(YOLO8N)"
   ]
  },
  {
   "cell_type": "markdown",
   "metadata": {},
   "source": [
    "cv2.imshow(\"Image\", img) #display the current frame\n",
    " -success: a boolean indicating whether the frame was captured successfully\n",
    "\n",
    "cap.release()\n",
    "- Releases the webcam resource.\n",
    "- Allows other applications or scripts to access the webcam"
   ]
  },
  {
   "cell_type": "code",
   "execution_count": 4,
   "metadata": {},
   "outputs": [],
   "source": [
    "import math"
   ]
  },
  {
   "cell_type": "code",
   "execution_count": 5,
   "metadata": {},
   "outputs": [
    {
     "name": "stderr",
     "output_type": "stream",
     "text": [
      "\n",
      "0: 384x640 (no detections), 171.5ms\n",
      "Speed: 0.8ms preprocess, 171.5ms inference, 9.9ms postprocess per image at shape (1, 3, 384, 640)\n",
      "\n",
      "0: 384x640 (no detections), 98.3ms\n",
      "Speed: 4.2ms preprocess, 98.3ms inference, 0.0ms postprocess per image at shape (1, 3, 384, 640)\n",
      "\n",
      "0: 384x640 (no detections), 91.2ms\n",
      "Speed: 0.0ms preprocess, 91.2ms inference, 0.0ms postprocess per image at shape (1, 3, 384, 640)\n",
      "\n",
      "0: 384x640 (no detections), 87.6ms\n",
      "Speed: 0.0ms preprocess, 87.6ms inference, 2.0ms postprocess per image at shape (1, 3, 384, 640)\n",
      "\n",
      "0: 384x640 (no detections), 86.9ms\n",
      "Speed: 3.1ms preprocess, 86.9ms inference, 0.0ms postprocess per image at shape (1, 3, 384, 640)\n",
      "\n",
      "0: 384x640 (no detections), 90.8ms\n",
      "Speed: 0.0ms preprocess, 90.8ms inference, 0.0ms postprocess per image at shape (1, 3, 384, 640)\n",
      "\n",
      "0: 384x640 (no detections), 82.8ms\n",
      "Speed: 4.4ms preprocess, 82.8ms inference, 0.0ms postprocess per image at shape (1, 3, 384, 640)\n",
      "\n",
      "0: 384x640 (no detections), 86.7ms\n",
      "Speed: 4.9ms preprocess, 86.7ms inference, 0.0ms postprocess per image at shape (1, 3, 384, 640)\n",
      "\n",
      "0: 384x640 (no detections), 83.9ms\n",
      "Speed: 4.6ms preprocess, 83.9ms inference, 2.0ms postprocess per image at shape (1, 3, 384, 640)\n",
      "\n",
      "0: 384x640 (no detections), 75.5ms\n",
      "Speed: 4.6ms preprocess, 75.5ms inference, 0.0ms postprocess per image at shape (1, 3, 384, 640)\n",
      "\n",
      "0: 384x640 (no detections), 76.8ms\n",
      "Speed: 5.3ms preprocess, 76.8ms inference, 0.0ms postprocess per image at shape (1, 3, 384, 640)\n",
      "\n",
      "0: 384x640 (no detections), 87.9ms\n",
      "Speed: 0.0ms preprocess, 87.9ms inference, 0.0ms postprocess per image at shape (1, 3, 384, 640)\n",
      "\n",
      "0: 384x640 (no detections), 90.5ms\n",
      "Speed: 0.0ms preprocess, 90.5ms inference, 0.0ms postprocess per image at shape (1, 3, 384, 640)\n",
      "\n",
      "0: 384x640 (no detections), 85.1ms\n",
      "Speed: 0.0ms preprocess, 85.1ms inference, 2.0ms postprocess per image at shape (1, 3, 384, 640)\n",
      "\n",
      "0: 384x640 (no detections), 84.7ms\n",
      "Speed: 5.0ms preprocess, 84.7ms inference, 0.0ms postprocess per image at shape (1, 3, 384, 640)\n",
      "\n",
      "0: 384x640 (no detections), 83.1ms\n",
      "Speed: 5.3ms preprocess, 83.1ms inference, 0.0ms postprocess per image at shape (1, 3, 384, 640)\n",
      "\n",
      "0: 384x640 (no detections), 83.0ms\n",
      "Speed: 4.1ms preprocess, 83.0ms inference, 0.0ms postprocess per image at shape (1, 3, 384, 640)\n",
      "\n",
      "0: 384x640 (no detections), 67.4ms\n",
      "Speed: 5.4ms preprocess, 67.4ms inference, 0.0ms postprocess per image at shape (1, 3, 384, 640)\n",
      "\n",
      "0: 384x640 (no detections), 86.6ms\n",
      "Speed: 0.0ms preprocess, 86.6ms inference, 1.8ms postprocess per image at shape (1, 3, 384, 640)\n",
      "\n",
      "0: 384x640 (no detections), 86.0ms\n",
      "Speed: 0.0ms preprocess, 86.0ms inference, 2.0ms postprocess per image at shape (1, 3, 384, 640)\n",
      "\n",
      "0: 384x640 (no detections), 79.5ms\n",
      "Speed: 0.0ms preprocess, 79.5ms inference, 0.0ms postprocess per image at shape (1, 3, 384, 640)\n",
      "\n",
      "0: 384x640 (no detections), 78.9ms\n",
      "Speed: 3.7ms preprocess, 78.9ms inference, 0.0ms postprocess per image at shape (1, 3, 384, 640)\n",
      "\n",
      "0: 384x640 (no detections), 85.5ms\n",
      "Speed: 3.8ms preprocess, 85.5ms inference, 2.2ms postprocess per image at shape (1, 3, 384, 640)\n",
      "\n",
      "0: 384x640 (no detections), 87.7ms\n",
      "Speed: 0.0ms preprocess, 87.7ms inference, 2.1ms postprocess per image at shape (1, 3, 384, 640)\n",
      "\n",
      "0: 384x640 (no detections), 74.9ms\n",
      "Speed: 4.3ms preprocess, 74.9ms inference, 0.0ms postprocess per image at shape (1, 3, 384, 640)\n",
      "\n",
      "0: 384x640 (no detections), 69.9ms\n",
      "Speed: 3.0ms preprocess, 69.9ms inference, 0.0ms postprocess per image at shape (1, 3, 384, 640)\n",
      "\n",
      "0: 384x640 (no detections), 87.2ms\n",
      "Speed: 4.3ms preprocess, 87.2ms inference, 0.0ms postprocess per image at shape (1, 3, 384, 640)\n",
      "\n",
      "0: 384x640 (no detections), 85.9ms\n",
      "Speed: 1.8ms preprocess, 85.9ms inference, 0.0ms postprocess per image at shape (1, 3, 384, 640)\n",
      "\n",
      "0: 384x640 (no detections), 80.4ms\n",
      "Speed: 2.4ms preprocess, 80.4ms inference, 0.0ms postprocess per image at shape (1, 3, 384, 640)\n",
      "\n",
      "0: 384x640 (no detections), 83.0ms\n",
      "Speed: 4.4ms preprocess, 83.0ms inference, 0.0ms postprocess per image at shape (1, 3, 384, 640)\n",
      "\n",
      "0: 384x640 (no detections), 81.0ms\n",
      "Speed: 0.0ms preprocess, 81.0ms inference, 0.0ms postprocess per image at shape (1, 3, 384, 640)\n",
      "\n",
      "0: 384x640 (no detections), 80.0ms\n",
      "Speed: 3.2ms preprocess, 80.0ms inference, 0.0ms postprocess per image at shape (1, 3, 384, 640)\n",
      "\n",
      "0: 384x640 (no detections), 83.0ms\n",
      "Speed: 0.0ms preprocess, 83.0ms inference, 0.0ms postprocess per image at shape (1, 3, 384, 640)\n",
      "\n",
      "0: 384x640 (no detections), 88.6ms\n",
      "Speed: 0.0ms preprocess, 88.6ms inference, 0.0ms postprocess per image at shape (1, 3, 384, 640)\n",
      "\n",
      "0: 384x640 (no detections), 89.7ms\n",
      "Speed: 0.0ms preprocess, 89.7ms inference, 2.0ms postprocess per image at shape (1, 3, 384, 640)\n",
      "\n",
      "0: 384x640 (no detections), 92.0ms\n",
      "Speed: 0.0ms preprocess, 92.0ms inference, 0.0ms postprocess per image at shape (1, 3, 384, 640)\n",
      "\n",
      "0: 384x640 (no detections), 88.4ms\n",
      "Speed: 0.0ms preprocess, 88.4ms inference, 0.7ms postprocess per image at shape (1, 3, 384, 640)\n",
      "\n",
      "0: 384x640 (no detections), 89.4ms\n",
      "Speed: 0.0ms preprocess, 89.4ms inference, 0.8ms postprocess per image at shape (1, 3, 384, 640)\n",
      "\n",
      "0: 384x640 (no detections), 82.5ms\n",
      "Speed: 0.7ms preprocess, 82.5ms inference, 0.6ms postprocess per image at shape (1, 3, 384, 640)\n",
      "\n",
      "0: 384x640 (no detections), 88.2ms\n",
      "Speed: 4.5ms preprocess, 88.2ms inference, 0.0ms postprocess per image at shape (1, 3, 384, 640)\n",
      "\n",
      "0: 384x640 (no detections), 88.9ms\n",
      "Speed: 0.0ms preprocess, 88.9ms inference, 0.0ms postprocess per image at shape (1, 3, 384, 640)\n",
      "\n",
      "0: 384x640 (no detections), 88.5ms\n",
      "Speed: 0.0ms preprocess, 88.5ms inference, 2.0ms postprocess per image at shape (1, 3, 384, 640)\n",
      "\n",
      "0: 384x640 (no detections), 87.5ms\n",
      "Speed: 0.0ms preprocess, 87.5ms inference, 0.0ms postprocess per image at shape (1, 3, 384, 640)\n",
      "\n",
      "0: 384x640 (no detections), 107.2ms\n",
      "Speed: 0.0ms preprocess, 107.2ms inference, 0.0ms postprocess per image at shape (1, 3, 384, 640)\n",
      "\n",
      "0: 384x640 (no detections), 91.8ms\n",
      "Speed: 3.8ms preprocess, 91.8ms inference, 2.0ms postprocess per image at shape (1, 3, 384, 640)\n",
      "\n",
      "0: 384x640 (no detections), 84.0ms\n",
      "Speed: 2.0ms preprocess, 84.0ms inference, 0.0ms postprocess per image at shape (1, 3, 384, 640)\n",
      "\n",
      "0: 384x640 (no detections), 92.2ms\n",
      "Speed: 4.0ms preprocess, 92.2ms inference, 2.0ms postprocess per image at shape (1, 3, 384, 640)\n",
      "\n",
      "0: 384x640 (no detections), 95.2ms\n",
      "Speed: 0.0ms preprocess, 95.2ms inference, 0.0ms postprocess per image at shape (1, 3, 384, 640)\n",
      "\n",
      "0: 384x640 (no detections), 88.6ms\n",
      "Speed: 4.0ms preprocess, 88.6ms inference, 2.2ms postprocess per image at shape (1, 3, 384, 640)\n",
      "\n",
      "0: 384x640 (no detections), 123.7ms\n",
      "Speed: 5.8ms preprocess, 123.7ms inference, 0.0ms postprocess per image at shape (1, 3, 384, 640)\n",
      "\n",
      "0: 384x640 (no detections), 109.0ms\n",
      "Speed: 2.0ms preprocess, 109.0ms inference, 1.5ms postprocess per image at shape (1, 3, 384, 640)\n",
      "\n",
      "0: 384x640 (no detections), 85.3ms\n",
      "Speed: 4.5ms preprocess, 85.3ms inference, 2.0ms postprocess per image at shape (1, 3, 384, 640)\n",
      "\n",
      "0: 384x640 (no detections), 97.7ms\n",
      "Speed: 4.0ms preprocess, 97.7ms inference, 0.0ms postprocess per image at shape (1, 3, 384, 640)\n",
      "\n",
      "0: 384x640 (no detections), 100.5ms\n",
      "Speed: 3.4ms preprocess, 100.5ms inference, 1.0ms postprocess per image at shape (1, 3, 384, 640)\n",
      "\n",
      "0: 384x640 (no detections), 110.3ms\n",
      "Speed: 0.0ms preprocess, 110.3ms inference, 0.0ms postprocess per image at shape (1, 3, 384, 640)\n",
      "\n",
      "0: 384x640 (no detections), 119.7ms\n",
      "Speed: 2.5ms preprocess, 119.7ms inference, 0.7ms postprocess per image at shape (1, 3, 384, 640)\n",
      "\n",
      "0: 384x640 (no detections), 104.7ms\n",
      "Speed: 2.0ms preprocess, 104.7ms inference, 0.0ms postprocess per image at shape (1, 3, 384, 640)\n",
      "\n",
      "0: 384x640 (no detections), 87.4ms\n",
      "Speed: 0.0ms preprocess, 87.4ms inference, 2.0ms postprocess per image at shape (1, 3, 384, 640)\n",
      "\n",
      "0: 384x640 (no detections), 87.7ms\n",
      "Speed: 2.0ms preprocess, 87.7ms inference, 0.0ms postprocess per image at shape (1, 3, 384, 640)\n",
      "\n",
      "0: 384x640 (no detections), 86.7ms\n",
      "Speed: 3.9ms preprocess, 86.7ms inference, 0.0ms postprocess per image at shape (1, 3, 384, 640)\n",
      "\n",
      "0: 384x640 (no detections), 86.2ms\n",
      "Speed: 3.5ms preprocess, 86.2ms inference, 1.0ms postprocess per image at shape (1, 3, 384, 640)\n",
      "\n",
      "0: 384x640 (no detections), 90.9ms\n",
      "Speed: 0.0ms preprocess, 90.9ms inference, 0.0ms postprocess per image at shape (1, 3, 384, 640)\n",
      "\n",
      "0: 384x640 (no detections), 86.6ms\n",
      "Speed: 4.6ms preprocess, 86.6ms inference, 0.0ms postprocess per image at shape (1, 3, 384, 640)\n",
      "\n",
      "0: 384x640 (no detections), 92.1ms\n",
      "Speed: 4.5ms preprocess, 92.1ms inference, 0.0ms postprocess per image at shape (1, 3, 384, 640)\n",
      "\n",
      "0: 384x640 (no detections), 89.4ms\n",
      "Speed: 0.0ms preprocess, 89.4ms inference, 0.0ms postprocess per image at shape (1, 3, 384, 640)\n",
      "\n",
      "0: 384x640 (no detections), 85.4ms\n",
      "Speed: 4.8ms preprocess, 85.4ms inference, 0.0ms postprocess per image at shape (1, 3, 384, 640)\n",
      "\n",
      "0: 384x640 (no detections), 85.9ms\n",
      "Speed: 0.0ms preprocess, 85.9ms inference, 0.0ms postprocess per image at shape (1, 3, 384, 640)\n",
      "\n",
      "0: 384x640 (no detections), 80.5ms\n",
      "Speed: 2.5ms preprocess, 80.5ms inference, 0.0ms postprocess per image at shape (1, 3, 384, 640)\n",
      "\n",
      "0: 384x640 (no detections), 78.5ms\n",
      "Speed: 3.0ms preprocess, 78.5ms inference, 10.8ms postprocess per image at shape (1, 3, 384, 640)\n",
      "\n",
      "0: 384x640 (no detections), 83.7ms\n",
      "Speed: 4.2ms preprocess, 83.7ms inference, 0.0ms postprocess per image at shape (1, 3, 384, 640)\n",
      "\n",
      "0: 384x640 (no detections), 91.2ms\n",
      "Speed: 0.0ms preprocess, 91.2ms inference, 0.0ms postprocess per image at shape (1, 3, 384, 640)\n",
      "\n",
      "0: 384x640 (no detections), 94.3ms\n",
      "Speed: 0.0ms preprocess, 94.3ms inference, 0.0ms postprocess per image at shape (1, 3, 384, 640)\n",
      "\n",
      "0: 384x640 (no detections), 89.1ms\n",
      "Speed: 0.0ms preprocess, 89.1ms inference, 0.0ms postprocess per image at shape (1, 3, 384, 640)\n",
      "\n",
      "0: 384x640 (no detections), 88.1ms\n",
      "Speed: 0.0ms preprocess, 88.1ms inference, 1.8ms postprocess per image at shape (1, 3, 384, 640)\n",
      "\n",
      "0: 384x640 (no detections), 85.9ms\n",
      "Speed: 4.5ms preprocess, 85.9ms inference, 0.0ms postprocess per image at shape (1, 3, 384, 640)\n",
      "\n",
      "0: 384x640 (no detections), 80.6ms\n",
      "Speed: 0.0ms preprocess, 80.6ms inference, 0.0ms postprocess per image at shape (1, 3, 384, 640)\n",
      "\n",
      "0: 384x640 (no detections), 79.5ms\n",
      "Speed: 0.0ms preprocess, 79.5ms inference, 0.0ms postprocess per image at shape (1, 3, 384, 640)\n",
      "\n",
      "0: 384x640 (no detections), 118.4ms\n",
      "Speed: 4.9ms preprocess, 118.4ms inference, 2.0ms postprocess per image at shape (1, 3, 384, 640)\n",
      "\n",
      "0: 384x640 (no detections), 94.6ms\n",
      "Speed: 0.0ms preprocess, 94.6ms inference, 0.0ms postprocess per image at shape (1, 3, 384, 640)\n",
      "\n",
      "0: 384x640 (no detections), 84.3ms\n",
      "Speed: 0.0ms preprocess, 84.3ms inference, 0.0ms postprocess per image at shape (1, 3, 384, 640)\n",
      "\n",
      "0: 384x640 (no detections), 91.9ms\n",
      "Speed: 0.0ms preprocess, 91.9ms inference, 0.0ms postprocess per image at shape (1, 3, 384, 640)\n",
      "\n",
      "0: 384x640 (no detections), 92.4ms\n",
      "Speed: 5.6ms preprocess, 92.4ms inference, 0.0ms postprocess per image at shape (1, 3, 384, 640)\n",
      "\n",
      "0: 384x640 (no detections), 89.3ms\n",
      "Speed: 0.0ms preprocess, 89.3ms inference, 2.1ms postprocess per image at shape (1, 3, 384, 640)\n",
      "\n",
      "0: 384x640 (no detections), 116.5ms\n",
      "Speed: 5.2ms preprocess, 116.5ms inference, 0.0ms postprocess per image at shape (1, 3, 384, 640)\n",
      "\n",
      "0: 384x640 (no detections), 79.2ms\n",
      "Speed: 3.4ms preprocess, 79.2ms inference, 0.0ms postprocess per image at shape (1, 3, 384, 640)\n",
      "\n",
      "0: 384x640 (no detections), 74.3ms\n",
      "Speed: 4.8ms preprocess, 74.3ms inference, 11.9ms postprocess per image at shape (1, 3, 384, 640)\n",
      "\n",
      "0: 384x640 (no detections), 82.9ms\n",
      "Speed: 3.4ms preprocess, 82.9ms inference, 0.8ms postprocess per image at shape (1, 3, 384, 640)\n",
      "\n",
      "0: 384x640 (no detections), 90.2ms\n",
      "Speed: 0.0ms preprocess, 90.2ms inference, 2.0ms postprocess per image at shape (1, 3, 384, 640)\n",
      "\n",
      "0: 384x640 (no detections), 94.5ms\n",
      "Speed: 0.0ms preprocess, 94.5ms inference, 0.0ms postprocess per image at shape (1, 3, 384, 640)\n",
      "\n",
      "0: 384x640 (no detections), 85.7ms\n",
      "Speed: 0.0ms preprocess, 85.7ms inference, 0.0ms postprocess per image at shape (1, 3, 384, 640)\n",
      "\n",
      "0: 384x640 (no detections), 88.7ms\n",
      "Speed: 0.0ms preprocess, 88.7ms inference, 0.0ms postprocess per image at shape (1, 3, 384, 640)\n",
      "\n",
      "0: 384x640 (no detections), 88.5ms\n",
      "Speed: 0.0ms preprocess, 88.5ms inference, 2.0ms postprocess per image at shape (1, 3, 384, 640)\n",
      "\n",
      "0: 384x640 (no detections), 88.6ms\n",
      "Speed: 0.0ms preprocess, 88.6ms inference, 2.0ms postprocess per image at shape (1, 3, 384, 640)\n",
      "\n",
      "0: 384x640 (no detections), 87.4ms\n",
      "Speed: 4.9ms preprocess, 87.4ms inference, 2.0ms postprocess per image at shape (1, 3, 384, 640)\n",
      "\n",
      "0: 384x640 (no detections), 107.7ms\n",
      "Speed: 4.5ms preprocess, 107.7ms inference, 0.0ms postprocess per image at shape (1, 3, 384, 640)\n",
      "\n",
      "0: 384x640 (no detections), 200.3ms\n",
      "Speed: 4.7ms preprocess, 200.3ms inference, 0.0ms postprocess per image at shape (1, 3, 384, 640)\n",
      "\n",
      "0: 384x640 (no detections), 200.7ms\n",
      "Speed: 0.0ms preprocess, 200.7ms inference, 11.7ms postprocess per image at shape (1, 3, 384, 640)\n",
      "\n",
      "0: 384x640 (no detections), 200.1ms\n",
      "Speed: 1.0ms preprocess, 200.1ms inference, 0.0ms postprocess per image at shape (1, 3, 384, 640)\n",
      "\n",
      "0: 384x640 (no detections), 216.2ms\n",
      "Speed: 7.1ms preprocess, 216.2ms inference, 0.0ms postprocess per image at shape (1, 3, 384, 640)\n",
      "\n",
      "0: 384x640 (no detections), 258.0ms\n",
      "Speed: 6.7ms preprocess, 258.0ms inference, 0.0ms postprocess per image at shape (1, 3, 384, 640)\n",
      "\n",
      "0: 384x640 (no detections), 252.6ms\n",
      "Speed: 0.0ms preprocess, 252.6ms inference, 0.0ms postprocess per image at shape (1, 3, 384, 640)\n",
      "\n",
      "0: 384x640 (no detections), 300.6ms\n",
      "Speed: 0.0ms preprocess, 300.6ms inference, 0.0ms postprocess per image at shape (1, 3, 384, 640)\n",
      "\n",
      "0: 384x640 (no detections), 230.2ms\n",
      "Speed: 0.0ms preprocess, 230.2ms inference, 2.7ms postprocess per image at shape (1, 3, 384, 640)\n",
      "\n",
      "0: 384x640 (no detections), 206.2ms\n",
      "Speed: 0.0ms preprocess, 206.2ms inference, 0.0ms postprocess per image at shape (1, 3, 384, 640)\n",
      "\n",
      "0: 384x640 (no detections), 200.3ms\n",
      "Speed: 6.1ms preprocess, 200.3ms inference, 10.2ms postprocess per image at shape (1, 3, 384, 640)\n",
      "\n",
      "0: 384x640 (no detections), 207.3ms\n",
      "Speed: 7.8ms preprocess, 207.3ms inference, 0.0ms postprocess per image at shape (1, 3, 384, 640)\n",
      "\n",
      "0: 384x640 (no detections), 215.9ms\n",
      "Speed: 0.0ms preprocess, 215.9ms inference, 1.1ms postprocess per image at shape (1, 3, 384, 640)\n",
      "\n",
      "0: 384x640 (no detections), 209.3ms\n",
      "Speed: 0.0ms preprocess, 209.3ms inference, 1.6ms postprocess per image at shape (1, 3, 384, 640)\n",
      "\n",
      "0: 384x640 (no detections), 201.4ms\n",
      "Speed: 8.6ms preprocess, 201.4ms inference, 0.0ms postprocess per image at shape (1, 3, 384, 640)\n",
      "\n",
      "0: 384x640 (no detections), 199.8ms\n",
      "Speed: 7.4ms preprocess, 199.8ms inference, 0.0ms postprocess per image at shape (1, 3, 384, 640)\n",
      "\n",
      "0: 384x640 (no detections), 199.7ms\n",
      "Speed: 8.3ms preprocess, 199.7ms inference, 0.0ms postprocess per image at shape (1, 3, 384, 640)\n",
      "\n",
      "0: 384x640 (no detections), 208.0ms\n",
      "Speed: 5.2ms preprocess, 208.0ms inference, 1.6ms postprocess per image at shape (1, 3, 384, 640)\n",
      "\n",
      "0: 384x640 (no detections), 215.9ms\n",
      "Speed: 0.0ms preprocess, 215.9ms inference, 1.1ms postprocess per image at shape (1, 3, 384, 640)\n",
      "\n",
      "0: 384x640 (no detections), 208.2ms\n",
      "Speed: 6.7ms preprocess, 208.2ms inference, 1.2ms postprocess per image at shape (1, 3, 384, 640)\n",
      "\n",
      "0: 384x640 (no detections), 217.0ms\n",
      "Speed: 0.0ms preprocess, 217.0ms inference, 0.0ms postprocess per image at shape (1, 3, 384, 640)\n",
      "\n",
      "0: 384x640 (no detections), 203.4ms\n",
      "Speed: 4.2ms preprocess, 203.4ms inference, 5.7ms postprocess per image at shape (1, 3, 384, 640)\n",
      "\n",
      "0: 384x640 (no detections), 211.7ms\n",
      "Speed: 0.0ms preprocess, 211.7ms inference, 0.0ms postprocess per image at shape (1, 3, 384, 640)\n",
      "\n",
      "0: 384x640 (no detections), 216.2ms\n",
      "Speed: 6.9ms preprocess, 216.2ms inference, 0.0ms postprocess per image at shape (1, 3, 384, 640)\n",
      "\n",
      "0: 384x640 (no detections), 199.3ms\n",
      "Speed: 9.1ms preprocess, 199.3ms inference, 9.5ms postprocess per image at shape (1, 3, 384, 640)\n",
      "\n",
      "0: 384x640 (no detections), 205.6ms\n",
      "Speed: 6.7ms preprocess, 205.6ms inference, 3.6ms postprocess per image at shape (1, 3, 384, 640)\n",
      "\n",
      "0: 384x640 (no detections), 209.0ms\n",
      "Speed: 1.2ms preprocess, 209.0ms inference, 0.0ms postprocess per image at shape (1, 3, 384, 640)\n",
      "\n",
      "0: 384x640 (no detections), 208.2ms\n",
      "Speed: 8.3ms preprocess, 208.2ms inference, 0.0ms postprocess per image at shape (1, 3, 384, 640)\n",
      "\n",
      "0: 384x640 (no detections), 214.1ms\n",
      "Speed: 0.0ms preprocess, 214.1ms inference, 1.4ms postprocess per image at shape (1, 3, 384, 640)\n",
      "\n",
      "0: 384x640 (no detections), 212.3ms\n",
      "Speed: 0.0ms preprocess, 212.3ms inference, 0.0ms postprocess per image at shape (1, 3, 384, 640)\n",
      "\n",
      "0: 384x640 (no detections), 199.7ms\n",
      "Speed: 6.1ms preprocess, 199.7ms inference, 0.0ms postprocess per image at shape (1, 3, 384, 640)\n",
      "\n",
      "0: 384x640 (no detections), 204.1ms\n",
      "Speed: 7.2ms preprocess, 204.1ms inference, 5.1ms postprocess per image at shape (1, 3, 384, 640)\n",
      "\n",
      "0: 384x640 (no detections), 199.7ms\n",
      "Speed: 7.9ms preprocess, 199.7ms inference, 0.0ms postprocess per image at shape (1, 3, 384, 640)\n",
      "\n",
      "0: 384x640 (no detections), 199.4ms\n",
      "Speed: 8.6ms preprocess, 199.4ms inference, 0.0ms postprocess per image at shape (1, 3, 384, 640)\n",
      "\n",
      "0: 384x640 (no detections), 201.3ms\n",
      "Speed: 7.9ms preprocess, 201.3ms inference, 0.0ms postprocess per image at shape (1, 3, 384, 640)\n",
      "\n",
      "0: 384x640 (no detections), 216.7ms\n",
      "Speed: 0.0ms preprocess, 216.7ms inference, 0.0ms postprocess per image at shape (1, 3, 384, 640)\n",
      "\n",
      "0: 384x640 (no detections), 199.8ms\n",
      "Speed: 0.0ms preprocess, 199.8ms inference, 0.0ms postprocess per image at shape (1, 3, 384, 640)\n",
      "\n",
      "0: 384x640 (no detections), 209.6ms\n",
      "Speed: 7.2ms preprocess, 209.6ms inference, 0.0ms postprocess per image at shape (1, 3, 384, 640)\n",
      "\n",
      "0: 384x640 (no detections), 216.1ms\n",
      "Speed: 0.0ms preprocess, 216.1ms inference, 0.0ms postprocess per image at shape (1, 3, 384, 640)\n",
      "\n",
      "0: 384x640 (no detections), 200.5ms\n",
      "Speed: 0.0ms preprocess, 200.5ms inference, 0.0ms postprocess per image at shape (1, 3, 384, 640)\n",
      "\n",
      "0: 384x640 (no detections), 199.9ms\n",
      "Speed: 0.0ms preprocess, 199.9ms inference, 15.2ms postprocess per image at shape (1, 3, 384, 640)\n",
      "\n",
      "0: 384x640 (no detections), 199.7ms\n",
      "Speed: 8.9ms preprocess, 199.7ms inference, 0.0ms postprocess per image at shape (1, 3, 384, 640)\n",
      "\n",
      "0: 384x640 (no detections), 207.5ms\n",
      "Speed: 5.2ms preprocess, 207.5ms inference, 2.6ms postprocess per image at shape (1, 3, 384, 640)\n",
      "\n",
      "0: 384x640 (no detections), 200.6ms\n",
      "Speed: 3.6ms preprocess, 200.6ms inference, 8.3ms postprocess per image at shape (1, 3, 384, 640)\n",
      "\n",
      "0: 384x640 (no detections), 207.8ms\n",
      "Speed: 5.7ms preprocess, 207.8ms inference, 1.1ms postprocess per image at shape (1, 3, 384, 640)\n",
      "\n",
      "0: 384x640 (no detections), 217.0ms\n",
      "Speed: 0.0ms preprocess, 217.0ms inference, 0.0ms postprocess per image at shape (1, 3, 384, 640)\n",
      "\n",
      "0: 384x640 (no detections), 213.6ms\n",
      "Speed: 0.0ms preprocess, 213.6ms inference, 2.1ms postprocess per image at shape (1, 3, 384, 640)\n",
      "\n",
      "0: 384x640 (no detections), 215.9ms\n",
      "Speed: 0.0ms preprocess, 215.9ms inference, 1.2ms postprocess per image at shape (1, 3, 384, 640)\n",
      "\n",
      "0: 384x640 (no detections), 210.3ms\n",
      "Speed: 6.3ms preprocess, 210.3ms inference, 0.0ms postprocess per image at shape (1, 3, 384, 640)\n",
      "\n",
      "0: 384x640 (no detections), 199.2ms\n",
      "Speed: 8.3ms preprocess, 199.2ms inference, 0.0ms postprocess per image at shape (1, 3, 384, 640)\n",
      "\n",
      "0: 384x640 (no detections), 216.6ms\n",
      "Speed: 0.0ms preprocess, 216.6ms inference, 0.0ms postprocess per image at shape (1, 3, 384, 640)\n",
      "\n",
      "0: 384x640 (no detections), 207.4ms\n",
      "Speed: 0.0ms preprocess, 207.4ms inference, 5.1ms postprocess per image at shape (1, 3, 384, 640)\n",
      "\n",
      "0: 384x640 (no detections), 211.1ms\n",
      "Speed: 0.0ms preprocess, 211.1ms inference, 0.0ms postprocess per image at shape (1, 3, 384, 640)\n",
      "\n",
      "0: 384x640 (no detections), 208.9ms\n",
      "Speed: 8.1ms preprocess, 208.9ms inference, 0.0ms postprocess per image at shape (1, 3, 384, 640)\n",
      "\n",
      "0: 384x640 (no detections), 204.0ms\n",
      "Speed: 7.8ms preprocess, 204.0ms inference, 5.7ms postprocess per image at shape (1, 3, 384, 640)\n",
      "\n",
      "0: 384x640 (no detections), 210.4ms\n",
      "Speed: 8.5ms preprocess, 210.4ms inference, 0.0ms postprocess per image at shape (1, 3, 384, 640)\n",
      "\n",
      "0: 384x640 (no detections), 210.4ms\n",
      "Speed: 1.0ms preprocess, 210.4ms inference, 0.0ms postprocess per image at shape (1, 3, 384, 640)\n",
      "\n",
      "0: 384x640 (no detections), 204.7ms\n",
      "Speed: 8.5ms preprocess, 204.7ms inference, 0.0ms postprocess per image at shape (1, 3, 384, 640)\n",
      "\n",
      "0: 384x640 (no detections), 200.3ms\n",
      "Speed: 0.7ms preprocess, 200.3ms inference, 0.0ms postprocess per image at shape (1, 3, 384, 640)\n",
      "\n",
      "0: 384x640 (no detections), 212.0ms\n",
      "Speed: 1.1ms preprocess, 212.0ms inference, 0.0ms postprocess per image at shape (1, 3, 384, 640)\n",
      "\n",
      "0: 384x640 (no detections), 204.4ms\n",
      "Speed: 3.6ms preprocess, 204.4ms inference, 0.0ms postprocess per image at shape (1, 3, 384, 640)\n",
      "\n",
      "0: 384x640 (no detections), 219.8ms\n",
      "Speed: 6.1ms preprocess, 219.8ms inference, 0.0ms postprocess per image at shape (1, 3, 384, 640)\n",
      "\n",
      "0: 384x640 (no detections), 213.7ms\n",
      "Speed: 0.0ms preprocess, 213.7ms inference, 0.0ms postprocess per image at shape (1, 3, 384, 640)\n",
      "\n",
      "0: 384x640 (no detections), 211.1ms\n",
      "Speed: 0.0ms preprocess, 211.1ms inference, 4.7ms postprocess per image at shape (1, 3, 384, 640)\n",
      "\n",
      "0: 384x640 (no detections), 202.6ms\n",
      "Speed: 6.2ms preprocess, 202.6ms inference, 5.6ms postprocess per image at shape (1, 3, 384, 640)\n",
      "\n",
      "0: 384x640 (no detections), 215.5ms\n",
      "Speed: 0.0ms preprocess, 215.5ms inference, 1.0ms postprocess per image at shape (1, 3, 384, 640)\n",
      "\n",
      "0: 384x640 (no detections), 212.8ms\n",
      "Speed: 0.0ms preprocess, 212.8ms inference, 3.0ms postprocess per image at shape (1, 3, 384, 640)\n",
      "\n",
      "0: 384x640 (no detections), 210.6ms\n",
      "Speed: 0.8ms preprocess, 210.6ms inference, 0.0ms postprocess per image at shape (1, 3, 384, 640)\n",
      "\n",
      "0: 384x640 (no detections), 206.7ms\n",
      "Speed: 8.2ms preprocess, 206.7ms inference, 0.0ms postprocess per image at shape (1, 3, 384, 640)\n",
      "\n",
      "0: 384x640 (no detections), 200.6ms\n",
      "Speed: 7.3ms preprocess, 200.6ms inference, 9.1ms postprocess per image at shape (1, 3, 384, 640)\n",
      "\n",
      "0: 384x640 (no detections), 209.4ms\n",
      "Speed: 8.2ms preprocess, 209.4ms inference, 0.0ms postprocess per image at shape (1, 3, 384, 640)\n",
      "\n",
      "0: 384x640 (no detections), 208.9ms\n",
      "Speed: 7.2ms preprocess, 208.9ms inference, 0.0ms postprocess per image at shape (1, 3, 384, 640)\n",
      "\n",
      "0: 384x640 (no detections), 208.4ms\n",
      "Speed: 0.0ms preprocess, 208.4ms inference, 7.4ms postprocess per image at shape (1, 3, 384, 640)\n",
      "\n",
      "0: 384x640 (no detections), 202.8ms\n",
      "Speed: 9.0ms preprocess, 202.8ms inference, 0.0ms postprocess per image at shape (1, 3, 384, 640)\n",
      "\n",
      "0: 384x640 (no detections), 201.5ms\n",
      "Speed: 7.7ms preprocess, 201.5ms inference, 0.0ms postprocess per image at shape (1, 3, 384, 640)\n",
      "\n",
      "0: 384x640 (no detections), 216.4ms\n",
      "Speed: 0.0ms preprocess, 216.4ms inference, 0.0ms postprocess per image at shape (1, 3, 384, 640)\n",
      "\n",
      "0: 384x640 (no detections), 215.9ms\n",
      "Speed: 0.0ms preprocess, 215.9ms inference, 0.0ms postprocess per image at shape (1, 3, 384, 640)\n",
      "\n",
      "0: 384x640 (no detections), 199.6ms\n",
      "Speed: 0.0ms preprocess, 199.6ms inference, 15.7ms postprocess per image at shape (1, 3, 384, 640)\n",
      "\n",
      "0: 384x640 (no detections), 199.8ms\n",
      "Speed: 0.0ms preprocess, 199.8ms inference, 15.9ms postprocess per image at shape (1, 3, 384, 640)\n",
      "\n",
      "0: 384x640 (no detections), 200.4ms\n",
      "Speed: 0.0ms preprocess, 200.4ms inference, 13.8ms postprocess per image at shape (1, 3, 384, 640)\n",
      "\n",
      "0: 384x640 (no detections), 216.4ms\n",
      "Speed: 0.0ms preprocess, 216.4ms inference, 4.2ms postprocess per image at shape (1, 3, 384, 640)\n",
      "\n",
      "0: 384x640 (no detections), 200.4ms\n",
      "Speed: 0.0ms preprocess, 200.4ms inference, 11.9ms postprocess per image at shape (1, 3, 384, 640)\n",
      "\n",
      "0: 384x640 (no detections), 209.0ms\n",
      "Speed: 2.5ms preprocess, 209.0ms inference, 0.0ms postprocess per image at shape (1, 3, 384, 640)\n",
      "\n",
      "0: 384x640 (no detections), 213.5ms\n",
      "Speed: 0.0ms preprocess, 213.5ms inference, 0.0ms postprocess per image at shape (1, 3, 384, 640)\n",
      "\n",
      "0: 384x640 (no detections), 213.3ms\n",
      "Speed: 0.0ms preprocess, 213.3ms inference, 2.6ms postprocess per image at shape (1, 3, 384, 640)\n",
      "\n",
      "0: 384x640 (no detections), 208.0ms\n",
      "Speed: 0.0ms preprocess, 208.0ms inference, 4.7ms postprocess per image at shape (1, 3, 384, 640)\n",
      "\n",
      "0: 384x640 (no detections), 204.1ms\n",
      "Speed: 3.7ms preprocess, 204.1ms inference, 2.1ms postprocess per image at shape (1, 3, 384, 640)\n",
      "\n",
      "0: 384x640 (no detections), 203.5ms\n",
      "Speed: 0.0ms preprocess, 203.5ms inference, 0.0ms postprocess per image at shape (1, 3, 384, 640)\n",
      "\n",
      "0: 384x640 (no detections), 211.1ms\n",
      "Speed: 0.0ms preprocess, 211.1ms inference, 0.0ms postprocess per image at shape (1, 3, 384, 640)\n",
      "\n",
      "0: 384x640 (no detections), 203.4ms\n",
      "Speed: 6.7ms preprocess, 203.4ms inference, 4.7ms postprocess per image at shape (1, 3, 384, 640)\n",
      "\n",
      "0: 384x640 (no detections), 213.8ms\n",
      "Speed: 0.0ms preprocess, 213.8ms inference, 1.3ms postprocess per image at shape (1, 3, 384, 640)\n",
      "\n",
      "0: 384x640 (no detections), 203.4ms\n",
      "Speed: 7.2ms preprocess, 203.4ms inference, 5.5ms postprocess per image at shape (1, 3, 384, 640)\n",
      "\n",
      "0: 384x640 (no detections), 203.0ms\n",
      "Speed: 0.0ms preprocess, 203.0ms inference, 12.9ms postprocess per image at shape (1, 3, 384, 640)\n",
      "\n",
      "0: 384x640 (no detections), 208.3ms\n",
      "Speed: 0.0ms preprocess, 208.3ms inference, 7.9ms postprocess per image at shape (1, 3, 384, 640)\n",
      "\n",
      "0: 384x640 (no detections), 208.0ms\n",
      "Speed: 8.0ms preprocess, 208.0ms inference, 0.0ms postprocess per image at shape (1, 3, 384, 640)\n",
      "\n",
      "0: 384x640 (no detections), 199.4ms\n",
      "Speed: 9.1ms preprocess, 199.4ms inference, 0.0ms postprocess per image at shape (1, 3, 384, 640)\n",
      "\n",
      "0: 384x640 (no detections), 209.7ms\n",
      "Speed: 7.7ms preprocess, 209.7ms inference, 0.0ms postprocess per image at shape (1, 3, 384, 640)\n",
      "\n",
      "0: 384x640 (no detections), 209.1ms\n",
      "Speed: 8.7ms preprocess, 209.1ms inference, 0.0ms postprocess per image at shape (1, 3, 384, 640)\n",
      "\n",
      "0: 384x640 (no detections), 204.5ms\n",
      "Speed: 8.2ms preprocess, 204.5ms inference, 0.0ms postprocess per image at shape (1, 3, 384, 640)\n",
      "\n",
      "0: 384x640 (no detections), 213.6ms\n",
      "Speed: 8.3ms preprocess, 213.6ms inference, 7.2ms postprocess per image at shape (1, 3, 384, 640)\n",
      "\n",
      "0: 384x640 (no detections), 215.7ms\n",
      "Speed: 0.0ms preprocess, 215.7ms inference, 0.0ms postprocess per image at shape (1, 3, 384, 640)\n",
      "\n",
      "0: 384x640 (no detections), 211.6ms\n",
      "Speed: 5.2ms preprocess, 211.6ms inference, 0.0ms postprocess per image at shape (1, 3, 384, 640)\n",
      "\n",
      "0: 384x640 (no detections), 199.2ms\n",
      "Speed: 7.2ms preprocess, 199.2ms inference, 15.5ms postprocess per image at shape (1, 3, 384, 640)\n",
      "\n",
      "0: 384x640 (no detections), 209.7ms\n",
      "Speed: 6.4ms preprocess, 209.7ms inference, 3.5ms postprocess per image at shape (1, 3, 384, 640)\n",
      "\n",
      "0: 384x640 (no detections), 219.9ms\n",
      "Speed: 5.1ms preprocess, 219.9ms inference, 1.9ms postprocess per image at shape (1, 3, 384, 640)\n",
      "\n",
      "0: 384x640 (no detections), 216.3ms\n",
      "Speed: 4.1ms preprocess, 216.3ms inference, 0.0ms postprocess per image at shape (1, 3, 384, 640)\n",
      "\n",
      "0: 384x640 (no detections), 207.8ms\n",
      "Speed: 6.9ms preprocess, 207.8ms inference, 0.0ms postprocess per image at shape (1, 3, 384, 640)\n",
      "\n",
      "0: 384x640 (no detections), 214.1ms\n",
      "Speed: 4.4ms preprocess, 214.1ms inference, 0.0ms postprocess per image at shape (1, 3, 384, 640)\n",
      "\n",
      "0: 384x640 (no detections), 205.4ms\n",
      "Speed: 5.4ms preprocess, 205.4ms inference, 0.0ms postprocess per image at shape (1, 3, 384, 640)\n",
      "\n",
      "0: 384x640 (no detections), 207.4ms\n",
      "Speed: 5.9ms preprocess, 207.4ms inference, 0.0ms postprocess per image at shape (1, 3, 384, 640)\n",
      "\n",
      "0: 384x640 (no detections), 202.8ms\n",
      "Speed: 3.6ms preprocess, 202.8ms inference, 7.2ms postprocess per image at shape (1, 3, 384, 640)\n",
      "\n",
      "0: 384x640 (no detections), 208.4ms\n",
      "Speed: 5.1ms preprocess, 208.4ms inference, 0.0ms postprocess per image at shape (1, 3, 384, 640)\n",
      "\n",
      "0: 384x640 (no detections), 208.8ms\n",
      "Speed: 5.2ms preprocess, 208.8ms inference, 0.0ms postprocess per image at shape (1, 3, 384, 640)\n",
      "\n",
      "0: 384x640 (no detections), 211.4ms\n",
      "Speed: 4.3ms preprocess, 211.4ms inference, 2.8ms postprocess per image at shape (1, 3, 384, 640)\n",
      "\n",
      "0: 384x640 (no detections), 210.7ms\n",
      "Speed: 3.2ms preprocess, 210.7ms inference, 2.8ms postprocess per image at shape (1, 3, 384, 640)\n",
      "\n",
      "0: 384x640 (no detections), 204.4ms\n",
      "Speed: 5.2ms preprocess, 204.4ms inference, 4.8ms postprocess per image at shape (1, 3, 384, 640)\n",
      "\n",
      "0: 384x640 (no detections), 214.4ms\n",
      "Speed: 0.0ms preprocess, 214.4ms inference, 1.8ms postprocess per image at shape (1, 3, 384, 640)\n",
      "\n",
      "0: 384x640 (no detections), 212.1ms\n",
      "Speed: 3.5ms preprocess, 212.1ms inference, 0.0ms postprocess per image at shape (1, 3, 384, 640)\n",
      "\n",
      "0: 384x640 (no detections), 210.0ms\n",
      "Speed: 8.4ms preprocess, 210.0ms inference, 0.0ms postprocess per image at shape (1, 3, 384, 640)\n",
      "\n",
      "0: 384x640 (no detections), 191.9ms\n",
      "Speed: 4.9ms preprocess, 191.9ms inference, 0.0ms postprocess per image at shape (1, 3, 384, 640)\n",
      "\n",
      "0: 384x640 (no detections), 208.0ms\n",
      "Speed: 4.0ms preprocess, 208.0ms inference, 4.1ms postprocess per image at shape (1, 3, 384, 640)\n",
      "\n",
      "0: 384x640 (no detections), 209.9ms\n",
      "Speed: 8.1ms preprocess, 209.9ms inference, 0.0ms postprocess per image at shape (1, 3, 384, 640)\n",
      "\n",
      "0: 384x640 (no detections), 159.4ms\n",
      "Speed: 4.5ms preprocess, 159.4ms inference, 0.0ms postprocess per image at shape (1, 3, 384, 640)\n",
      "\n",
      "0: 384x640 (no detections), 89.0ms\n",
      "Speed: 2.0ms preprocess, 89.0ms inference, 0.0ms postprocess per image at shape (1, 3, 384, 640)\n",
      "\n",
      "0: 384x640 (no detections), 91.7ms\n",
      "Speed: 2.0ms preprocess, 91.7ms inference, 0.0ms postprocess per image at shape (1, 3, 384, 640)\n",
      "\n",
      "0: 384x640 (no detections), 100.2ms\n",
      "Speed: 3.5ms preprocess, 100.2ms inference, 0.0ms postprocess per image at shape (1, 3, 384, 640)\n",
      "\n",
      "0: 384x640 (no detections), 109.5ms\n",
      "Speed: 2.3ms preprocess, 109.5ms inference, 2.0ms postprocess per image at shape (1, 3, 384, 640)\n",
      "\n",
      "0: 384x640 (no detections), 90.5ms\n",
      "Speed: 3.2ms preprocess, 90.5ms inference, 2.0ms postprocess per image at shape (1, 3, 384, 640)\n",
      "\n",
      "0: 384x640 (no detections), 90.6ms\n",
      "Speed: 3.5ms preprocess, 90.6ms inference, 2.0ms postprocess per image at shape (1, 3, 384, 640)\n",
      "\n",
      "0: 384x640 (no detections), 97.2ms\n",
      "Speed: 2.0ms preprocess, 97.2ms inference, 0.0ms postprocess per image at shape (1, 3, 384, 640)\n",
      "\n",
      "0: 384x640 (no detections), 90.9ms\n",
      "Speed: 2.0ms preprocess, 90.9ms inference, 0.0ms postprocess per image at shape (1, 3, 384, 640)\n",
      "\n",
      "0: 384x640 (no detections), 91.4ms\n",
      "Speed: 3.4ms preprocess, 91.4ms inference, 2.0ms postprocess per image at shape (1, 3, 384, 640)\n",
      "\n",
      "0: 384x640 (no detections), 93.7ms\n",
      "Speed: 3.1ms preprocess, 93.7ms inference, 0.0ms postprocess per image at shape (1, 3, 384, 640)\n",
      "\n",
      "0: 384x640 (no detections), 92.5ms\n",
      "Speed: 4.0ms preprocess, 92.5ms inference, 0.0ms postprocess per image at shape (1, 3, 384, 640)\n",
      "\n",
      "0: 384x640 (no detections), 93.4ms\n",
      "Speed: 2.0ms preprocess, 93.4ms inference, 3.3ms postprocess per image at shape (1, 3, 384, 640)\n",
      "\n",
      "0: 384x640 (no detections), 90.6ms\n",
      "Speed: 4.1ms preprocess, 90.6ms inference, 0.0ms postprocess per image at shape (1, 3, 384, 640)\n",
      "\n",
      "0: 384x640 (no detections), 90.7ms\n",
      "Speed: 4.0ms preprocess, 90.7ms inference, 0.0ms postprocess per image at shape (1, 3, 384, 640)\n",
      "\n",
      "0: 384x640 (no detections), 91.8ms\n",
      "Speed: 0.8ms preprocess, 91.8ms inference, 0.0ms postprocess per image at shape (1, 3, 384, 640)\n",
      "\n",
      "0: 384x640 (no detections), 86.6ms\n",
      "Speed: 3.8ms preprocess, 86.6ms inference, 0.0ms postprocess per image at shape (1, 3, 384, 640)\n",
      "\n",
      "0: 384x640 (no detections), 84.4ms\n",
      "Speed: 2.2ms preprocess, 84.4ms inference, 0.0ms postprocess per image at shape (1, 3, 384, 640)\n",
      "\n",
      "0: 384x640 (no detections), 81.5ms\n",
      "Speed: 3.6ms preprocess, 81.5ms inference, 0.0ms postprocess per image at shape (1, 3, 384, 640)\n",
      "\n",
      "0: 384x640 (no detections), 88.4ms\n",
      "Speed: 2.3ms preprocess, 88.4ms inference, 2.0ms postprocess per image at shape (1, 3, 384, 640)\n",
      "\n",
      "0: 384x640 (no detections), 87.5ms\n",
      "Speed: 2.9ms preprocess, 87.5ms inference, 0.0ms postprocess per image at shape (1, 3, 384, 640)\n",
      "\n",
      "0: 384x640 (no detections), 85.8ms\n",
      "Speed: 1.2ms preprocess, 85.8ms inference, 0.0ms postprocess per image at shape (1, 3, 384, 640)\n",
      "\n",
      "0: 384x640 (no detections), 84.0ms\n",
      "Speed: 3.8ms preprocess, 84.0ms inference, 0.0ms postprocess per image at shape (1, 3, 384, 640)\n",
      "\n",
      "0: 384x640 (no detections), 86.2ms\n",
      "Speed: 3.4ms preprocess, 86.2ms inference, 0.0ms postprocess per image at shape (1, 3, 384, 640)\n",
      "\n",
      "0: 384x640 1 person, 82.2ms\n",
      "Speed: 2.0ms preprocess, 82.2ms inference, 8.0ms postprocess per image at shape (1, 3, 384, 640)\n",
      "\n"
     ]
    },
    {
     "name": "stdout",
     "output_type": "stream",
     "text": [
      "6 0 994 702\n",
      "67\n"
     ]
    },
    {
     "name": "stderr",
     "output_type": "stream",
     "text": [
      "0: 384x640 1 person, 91.1ms\n",
      "Speed: 3.8ms preprocess, 91.1ms inference, 0.0ms postprocess per image at shape (1, 3, 384, 640)\n",
      "\n",
      "0: 384x640 1 person, 89.9ms\n",
      "Speed: 4.3ms preprocess, 89.9ms inference, 0.0ms postprocess per image at shape (1, 3, 384, 640)\n",
      "\n"
     ]
    },
    {
     "name": "stdout",
     "output_type": "stream",
     "text": [
      "338 8 1159 710\n",
      "91\n",
      "362 6 1255 709\n",
      "88\n"
     ]
    },
    {
     "name": "stderr",
     "output_type": "stream",
     "text": [
      "0: 384x640 1 person, 89.7ms\n",
      "Speed: 3.9ms preprocess, 89.7ms inference, 1.4ms postprocess per image at shape (1, 3, 384, 640)\n",
      "\n",
      "0: 384x640 1 person, 92.0ms\n",
      "Speed: 2.0ms preprocess, 92.0ms inference, 1.7ms postprocess per image at shape (1, 3, 384, 640)\n",
      "\n"
     ]
    },
    {
     "name": "stdout",
     "output_type": "stream",
     "text": [
      "384 1 1261 710\n",
      "91\n",
      "405 0 1250 707\n",
      "92\n"
     ]
    },
    {
     "name": "stderr",
     "output_type": "stream",
     "text": [
      "0: 384x640 1 person, 82.5ms\n",
      "Speed: 0.0ms preprocess, 82.5ms inference, 0.0ms postprocess per image at shape (1, 3, 384, 640)\n",
      "\n",
      "0: 384x640 1 person, 88.6ms\n",
      "Speed: 2.0ms preprocess, 88.6ms inference, 0.0ms postprocess per image at shape (1, 3, 384, 640)\n",
      "\n"
     ]
    },
    {
     "name": "stdout",
     "output_type": "stream",
     "text": [
      "391 0 1267 706\n",
      "91\n",
      "352 0 1280 710\n",
      "92\n"
     ]
    },
    {
     "name": "stderr",
     "output_type": "stream",
     "text": [
      "0: 384x640 1 person, 87.0ms\n",
      "Speed: 2.9ms preprocess, 87.0ms inference, 0.5ms postprocess per image at shape (1, 3, 384, 640)\n",
      "\n",
      "0: 384x640 1 person, 94.8ms\n",
      "Speed: 4.5ms preprocess, 94.8ms inference, 2.0ms postprocess per image at shape (1, 3, 384, 640)\n",
      "\n"
     ]
    },
    {
     "name": "stdout",
     "output_type": "stream",
     "text": [
      "329 2 1261 710\n",
      "91\n",
      "272 2 1272 711\n",
      "91\n"
     ]
    },
    {
     "name": "stderr",
     "output_type": "stream",
     "text": [
      "0: 384x640 1 person, 91.7ms\n",
      "Speed: 3.0ms preprocess, 91.7ms inference, 7.8ms postprocess per image at shape (1, 3, 384, 640)\n",
      "\n",
      "0: 384x640 1 person, 86.5ms\n",
      "Speed: 3.4ms preprocess, 86.5ms inference, 0.0ms postprocess per image at shape (1, 3, 384, 640)\n",
      "\n"
     ]
    },
    {
     "name": "stdout",
     "output_type": "stream",
     "text": [
      "263 3 1274 711\n",
      "91\n",
      "278 5 1255 710\n",
      "92\n"
     ]
    },
    {
     "name": "stderr",
     "output_type": "stream",
     "text": [
      "0: 384x640 1 person, 77.1ms\n",
      "Speed: 2.6ms preprocess, 77.1ms inference, 0.0ms postprocess per image at shape (1, 3, 384, 640)\n",
      "\n",
      "0: 384x640 1 person, 109.1ms\n",
      "Speed: 4.3ms preprocess, 109.1ms inference, 2.0ms postprocess per image at shape (1, 3, 384, 640)\n",
      "\n"
     ]
    },
    {
     "name": "stdout",
     "output_type": "stream",
     "text": [
      "283 2 1195 710\n",
      "92\n",
      "268 6 1180 711\n",
      "92\n"
     ]
    },
    {
     "name": "stderr",
     "output_type": "stream",
     "text": [
      "0: 384x640 1 person, 95.8ms\n",
      "Speed: 0.0ms preprocess, 95.8ms inference, 1.5ms postprocess per image at shape (1, 3, 384, 640)\n",
      "\n",
      "0: 384x640 1 person, 89.0ms\n",
      "Speed: 2.9ms preprocess, 89.0ms inference, 0.0ms postprocess per image at shape (1, 3, 384, 640)\n",
      "\n"
     ]
    },
    {
     "name": "stdout",
     "output_type": "stream",
     "text": [
      "258 5 1184 711\n",
      "92\n",
      "286 1 1144 710\n",
      "91\n"
     ]
    },
    {
     "name": "stderr",
     "output_type": "stream",
     "text": [
      "0: 384x640 1 person, 89.0ms\n",
      "Speed: 0.7ms preprocess, 89.0ms inference, 2.7ms postprocess per image at shape (1, 3, 384, 640)\n",
      "\n",
      "0: 384x640 1 person, 90.4ms\n",
      "Speed: 2.7ms preprocess, 90.4ms inference, 0.0ms postprocess per image at shape (1, 3, 384, 640)\n",
      "\n"
     ]
    },
    {
     "name": "stdout",
     "output_type": "stream",
     "text": [
      "339 5 1181 711\n",
      "95\n",
      "369 4 1264 713\n",
      "94\n"
     ]
    },
    {
     "name": "stderr",
     "output_type": "stream",
     "text": [
      "0: 384x640 1 person, 91.2ms\n",
      "Speed: 2.8ms preprocess, 91.2ms inference, 2.0ms postprocess per image at shape (1, 3, 384, 640)\n",
      "\n",
      "0: 384x640 1 person, 92.5ms\n",
      "Speed: 0.0ms preprocess, 92.5ms inference, 2.0ms postprocess per image at shape (1, 3, 384, 640)\n",
      "\n"
     ]
    },
    {
     "name": "stdout",
     "output_type": "stream",
     "text": [
      "401 4 1272 711\n",
      "94\n",
      "495 20 1280 710\n",
      "93\n"
     ]
    },
    {
     "name": "stderr",
     "output_type": "stream",
     "text": [
      "0: 384x640 1 person, 87.3ms\n",
      "Speed: 0.0ms preprocess, 87.3ms inference, 0.0ms postprocess per image at shape (1, 3, 384, 640)\n",
      "\n",
      "0: 384x640 1 person, 88.1ms\n",
      "Speed: 4.8ms preprocess, 88.1ms inference, 2.0ms postprocess per image at shape (1, 3, 384, 640)\n",
      "\n"
     ]
    },
    {
     "name": "stdout",
     "output_type": "stream",
     "text": [
      "539 22 1277 710\n",
      "95\n",
      "648 18 1279 711\n",
      "94\n"
     ]
    },
    {
     "name": "stderr",
     "output_type": "stream",
     "text": [
      "0: 384x640 1 person, 91.8ms\n",
      "Speed: 0.0ms preprocess, 91.8ms inference, 1.7ms postprocess per image at shape (1, 3, 384, 640)\n",
      "\n",
      "0: 384x640 1 person, 89.0ms\n",
      "Speed: 3.8ms preprocess, 89.0ms inference, 2.0ms postprocess per image at shape (1, 3, 384, 640)\n",
      "\n",
      "0: 384x640 1 person, 89.7ms\n"
     ]
    },
    {
     "name": "stdout",
     "output_type": "stream",
     "text": [
      "716 23 1279 711\n",
      "92\n",
      "746 15 1279 709\n",
      "92\n",
      "787 3 1279 710\n",
      "93\n"
     ]
    },
    {
     "name": "stderr",
     "output_type": "stream",
     "text": [
      "Speed: 0.0ms preprocess, 89.7ms inference, 0.0ms postprocess per image at shape (1, 3, 384, 640)\n",
      "\n",
      "0: 384x640 1 person, 98.0ms\n",
      "Speed: 0.0ms preprocess, 98.0ms inference, 2.0ms postprocess per image at shape (1, 3, 384, 640)\n",
      "\n",
      "0: 384x640 1 person, 90.8ms\n",
      "Speed: 3.6ms preprocess, 90.8ms inference, 2.0ms postprocess per image at shape (1, 3, 384, 640)\n",
      "\n",
      "0: 384x640 1 person, 84.0ms\n"
     ]
    },
    {
     "name": "stdout",
     "output_type": "stream",
     "text": [
      "825 2 1278 709\n",
      "92\n",
      "832 1 1278 709\n",
      "88\n",
      "836 1 1278 710\n",
      "90\n"
     ]
    },
    {
     "name": "stderr",
     "output_type": "stream",
     "text": [
      "Speed: 6.2ms preprocess, 84.0ms inference, 3.5ms postprocess per image at shape (1, 3, 384, 640)\n",
      "\n",
      "0: 384x640 1 person, 98.9ms\n",
      "Speed: 0.0ms preprocess, 98.9ms inference, 0.0ms postprocess per image at shape (1, 3, 384, 640)\n",
      "\n",
      "0: 384x640 1 cat, 88.8ms\n",
      "Speed: 0.0ms preprocess, 88.8ms inference, 0.0ms postprocess per image at shape (1, 3, 384, 640)\n",
      "\n"
     ]
    },
    {
     "name": "stdout",
     "output_type": "stream",
     "text": [
      "818 3 1278 710\n",
      "90\n",
      "753 3 1279 713\n",
      "82\n",
      "723 5 1278 714\n"
     ]
    },
    {
     "name": "stderr",
     "output_type": "stream",
     "text": [
      "0: 384x640 1 person, 1 cat, 85.4ms\n",
      "Speed: 4.5ms preprocess, 85.4ms inference, 0.0ms postprocess per image at shape (1, 3, 384, 640)\n",
      "\n",
      "0: 384x640 2 persons, 105.8ms\n",
      "Speed: 0.0ms preprocess, 105.8ms inference, 9.4ms postprocess per image at shape (1, 3, 384, 640)\n",
      "\n"
     ]
    },
    {
     "name": "stdout",
     "output_type": "stream",
     "text": [
      "69\n",
      "753 8 1279 710\n",
      "28\n",
      "599 2 1279 709\n",
      "92\n",
      "184 634 294 720\n",
      "56\n"
     ]
    },
    {
     "name": "stderr",
     "output_type": "stream",
     "text": [
      "0: 384x640 2 persons, 88.3ms\n",
      "Speed: 4.4ms preprocess, 88.3ms inference, 0.0ms postprocess per image at shape (1, 3, 384, 640)\n",
      "\n",
      "0: 384x640 2 persons, 1 airplane, 86.3ms\n",
      "Speed: 6.0ms preprocess, 86.3ms inference, 2.9ms postprocess per image at shape (1, 3, 384, 640)\n",
      "\n"
     ]
    },
    {
     "name": "stdout",
     "output_type": "stream",
     "text": [
      "581 2 1278 710\n",
      "92\n",
      "202 626 310 720\n",
      "72\n",
      "562 1 1253 713\n",
      "82\n",
      "275 600 380 720\n",
      "76\n",
      "0 1 713 698\n",
      "30\n"
     ]
    },
    {
     "name": "stderr",
     "output_type": "stream",
     "text": [
      "0: 384x640 2 persons, 1 airplane, 91.9ms\n",
      "Speed: 0.0ms preprocess, 91.9ms inference, 0.5ms postprocess per image at shape (1, 3, 384, 640)\n",
      "\n",
      "0: 384x640 3 persons, 1 airplane, 88.6ms\n",
      "Speed: 4.2ms preprocess, 88.6ms inference, 0.0ms postprocess per image at shape (1, 3, 384, 640)\n",
      "\n"
     ]
    },
    {
     "name": "stdout",
     "output_type": "stream",
     "text": [
      "298 585 434 720\n",
      "81\n",
      "544 2 1270 712\n",
      "72\n",
      "0 5 710 685\n",
      "31\n",
      "300 579 446 719\n",
      "87\n",
      "605 3 1278 714\n",
      "79\n",
      "533 3 1080 719\n",
      "32\n",
      "1 5 718 700\n",
      "32\n"
     ]
    },
    {
     "name": "stderr",
     "output_type": "stream",
     "text": [
      "0: 384x640 2 persons, 1 airplane, 88.3ms\n",
      "Speed: 0.0ms preprocess, 88.3ms inference, 0.0ms postprocess per image at shape (1, 3, 384, 640)\n",
      "\n",
      "0: 384x640 2 persons, 90.3ms\n",
      "Speed: 5.8ms preprocess, 90.3ms inference, 1.8ms postprocess per image at shape (1, 3, 384, 640)\n",
      "\n"
     ]
    },
    {
     "name": "stdout",
     "output_type": "stream",
     "text": [
      "315 560 464 720\n",
      "87\n",
      "598 5 1276 712\n",
      "85\n",
      "1 5 716 605\n",
      "45\n",
      "554 2 1274 715\n",
      "76\n",
      "351 610 443 720\n",
      "67\n"
     ]
    },
    {
     "name": "stderr",
     "output_type": "stream",
     "text": [
      "0: 384x640 2 persons, 1 airplane, 88.3ms\n",
      "Speed: 0.7ms preprocess, 88.3ms inference, 2.0ms postprocess per image at shape (1, 3, 384, 640)\n",
      "\n",
      "0: 384x640 2 persons, 1 airplane, 76.9ms\n",
      "Speed: 2.1ms preprocess, 76.9ms inference, 0.0ms postprocess per image at shape (1, 3, 384, 640)\n",
      "\n"
     ]
    },
    {
     "name": "stdout",
     "output_type": "stream",
     "text": [
      "347 588 474 720\n",
      "80\n",
      "575 1 1261 713\n",
      "76\n",
      "1 7 747 695\n",
      "42\n",
      "646 4 1278 711\n",
      "89\n",
      "343 585 481 720\n",
      "84\n",
      "1 5 741 668\n",
      "54\n"
     ]
    },
    {
     "name": "stderr",
     "output_type": "stream",
     "text": [
      "0: 384x640 2 persons, 1 airplane, 92.1ms\n",
      "Speed: 0.0ms preprocess, 92.1ms inference, 2.0ms postprocess per image at shape (1, 3, 384, 640)\n",
      "\n",
      "0: 384x640 2 persons, 1 airplane, 89.7ms\n",
      "Speed: 2.1ms preprocess, 89.7ms inference, 0.5ms postprocess per image at shape (1, 3, 384, 640)\n",
      "\n"
     ]
    },
    {
     "name": "stdout",
     "output_type": "stream",
     "text": [
      "572 1 1267 714\n",
      "79\n",
      "363 615 458 720\n",
      "76\n",
      "1 3 747 704\n",
      "42\n",
      "650 3 1277 713\n",
      "88\n",
      "345 571 499 720\n",
      "86\n",
      "1 5 751 622\n",
      "38\n"
     ]
    },
    {
     "name": "stderr",
     "output_type": "stream",
     "text": [
      "0: 384x640 2 persons, 1 airplane, 89.7ms\n",
      "Speed: 3.5ms preprocess, 89.7ms inference, 0.0ms postprocess per image at shape (1, 3, 384, 640)\n",
      "\n",
      "0: 384x640 2 persons, 1 airplane, 90.6ms\n",
      "Speed: 3.9ms preprocess, 90.6ms inference, 2.0ms postprocess per image at shape (1, 3, 384, 640)\n",
      "\n"
     ]
    },
    {
     "name": "stdout",
     "output_type": "stream",
     "text": [
      "336 570 500 720\n",
      "85\n",
      "644 5 1277 710\n",
      "83\n",
      "0 7 759 707\n",
      "62\n",
      "327 560 500 720\n",
      "88\n",
      "654 24 1277 712\n",
      "74\n",
      "1 4 753 633\n",
      "48\n"
     ]
    },
    {
     "name": "stderr",
     "output_type": "stream",
     "text": [
      "0: 384x640 2 persons, 1 airplane, 92.1ms\n",
      "Speed: 0.0ms preprocess, 92.1ms inference, 1.9ms postprocess per image at shape (1, 3, 384, 640)\n",
      "\n",
      "0: 384x640 2 persons, 1 airplane, 77.1ms\n",
      "Speed: 3.9ms preprocess, 77.1ms inference, 0.0ms postprocess per image at shape (1, 3, 384, 640)\n",
      "\n"
     ]
    },
    {
     "name": "stdout",
     "output_type": "stream",
     "text": [
      "327 564 499 720\n",
      "88\n",
      "655 14 1276 713\n",
      "78\n",
      "1 5 756 616\n",
      "55\n",
      "318 545 498 720\n",
      "88\n",
      "644 10 1277 714\n",
      "86\n",
      "1 6 755 644\n",
      "27\n"
     ]
    },
    {
     "name": "stderr",
     "output_type": "stream",
     "text": [
      "0: 384x640 2 persons, 91.9ms\n",
      "Speed: 0.0ms preprocess, 91.9ms inference, 2.0ms postprocess per image at shape (1, 3, 384, 640)\n",
      "\n",
      "0: 384x640 2 persons, 1 airplane, 95.6ms\n",
      "Speed: 0.9ms preprocess, 95.6ms inference, 2.0ms postprocess per image at shape (1, 3, 384, 640)\n",
      "\n"
     ]
    },
    {
     "name": "stdout",
     "output_type": "stream",
     "text": [
      "313 549 496 720\n",
      "88\n",
      "650 13 1276 714\n",
      "80\n",
      "308 552 487 720\n",
      "89\n",
      "652 10 1276 713\n",
      "85\n",
      "1 3 770 682\n",
      "45\n"
     ]
    },
    {
     "name": "stderr",
     "output_type": "stream",
     "text": [
      "0: 384x640 2 persons, 1 airplane, 96.0ms\n",
      "Speed: 0.0ms preprocess, 96.0ms inference, 0.7ms postprocess per image at shape (1, 3, 384, 640)\n",
      "\n",
      "0: 384x640 2 persons, 1 airplane, 95.7ms\n",
      "Speed: 3.9ms preprocess, 95.7ms inference, 0.0ms postprocess per image at shape (1, 3, 384, 640)\n",
      "\n"
     ]
    },
    {
     "name": "stdout",
     "output_type": "stream",
     "text": [
      "296 532 481 720\n",
      "89\n",
      "653 10 1276 713\n",
      "84\n",
      "1 3 803 617\n",
      "51\n",
      "295 533 481 720\n",
      "90\n",
      "668 7 1278 713\n",
      "90\n",
      "1 4 801 594\n",
      "44\n"
     ]
    },
    {
     "name": "stderr",
     "output_type": "stream",
     "text": [
      "0: 384x640 2 persons, 1 airplane, 100.4ms\n",
      "Speed: 3.6ms preprocess, 100.4ms inference, 0.0ms postprocess per image at shape (1, 3, 384, 640)\n",
      "\n",
      "0: 384x640 2 persons, 108.0ms\n",
      "Speed: 5.0ms preprocess, 108.0ms inference, 1.0ms postprocess per image at shape (1, 3, 384, 640)\n",
      "\n"
     ]
    },
    {
     "name": "stdout",
     "output_type": "stream",
     "text": [
      "292 549 480 720\n",
      "90\n",
      "756 7 1277 710\n",
      "87\n",
      "2 4 837 673\n",
      "42\n",
      "860 5 1279 712\n",
      "92\n",
      "294 551 479 720\n",
      "89\n"
     ]
    },
    {
     "name": "stderr",
     "output_type": "stream",
     "text": [
      "0: 384x640 2 persons, 1 airplane, 85.8ms\n",
      "Speed: 2.0ms preprocess, 85.8ms inference, 0.0ms postprocess per image at shape (1, 3, 384, 640)\n",
      "\n",
      "0: 384x640 2 persons, 1 airplane, 85.6ms\n",
      "Speed: 1.0ms preprocess, 85.6ms inference, 0.0ms postprocess per image at shape (1, 3, 384, 640)\n",
      "\n"
     ]
    },
    {
     "name": "stdout",
     "output_type": "stream",
     "text": [
      "921 4 1278 709\n",
      "93\n",
      "289 533 484 720\n",
      "90\n",
      "0 3 875 675\n",
      "34\n",
      "289 548 487 720\n",
      "91\n",
      "982 9 1278 708\n",
      "85\n",
      "480 549 620 615\n",
      "27\n"
     ]
    },
    {
     "name": "stderr",
     "output_type": "stream",
     "text": [
      "0: 384x640 2 persons, 1 airplane, 89.5ms\n",
      "Speed: 5.0ms preprocess, 89.5ms inference, 2.0ms postprocess per image at shape (1, 3, 384, 640)\n",
      "\n",
      "0: 384x640 2 persons, 1 airplane, 93.1ms\n",
      "Speed: 0.8ms preprocess, 93.1ms inference, 0.0ms postprocess per image at shape (1, 3, 384, 640)\n",
      "\n"
     ]
    },
    {
     "name": "stdout",
     "output_type": "stream",
     "text": [
      "289 541 491 720\n",
      "92\n",
      "1000 6 1278 710\n",
      "88\n",
      "1 1 1221 715\n",
      "44\n",
      "299 546 504 720\n",
      "91\n",
      "1063 7 1279 709\n",
      "61\n",
      "479 550 619 616\n",
      "30\n"
     ]
    },
    {
     "name": "stderr",
     "output_type": "stream",
     "text": [
      "0: 384x640 2 persons, 88.5ms\n",
      "Speed: 4.3ms preprocess, 88.5ms inference, 0.0ms postprocess per image at shape (1, 3, 384, 640)\n",
      "\n",
      "0: 384x640 2 persons, 1 airplane, 97.1ms\n",
      "Speed: 0.0ms preprocess, 97.1ms inference, 0.0ms postprocess per image at shape (1, 3, 384, 640)\n",
      "\n"
     ]
    },
    {
     "name": "stdout",
     "output_type": "stream",
     "text": [
      "303 535 520 720\n",
      "90\n",
      "1100 1 1279 710\n",
      "83\n",
      "320 530 547 720\n",
      "90\n",
      "1136 3 1279 714\n",
      "78\n",
      "2 1 1266 663\n",
      "28\n"
     ]
    },
    {
     "name": "stderr",
     "output_type": "stream",
     "text": [
      "0: 384x640 2 persons, 84.8ms\n",
      "Speed: 4.3ms preprocess, 84.8ms inference, 1.7ms postprocess per image at shape (1, 3, 384, 640)\n",
      "\n",
      "0: 384x640 2 persons, 92.2ms\n",
      "Speed: 4.7ms preprocess, 92.2ms inference, 0.0ms postprocess per image at shape (1, 3, 384, 640)\n",
      "\n"
     ]
    },
    {
     "name": "stdout",
     "output_type": "stream",
     "text": [
      "343 527 583 719\n",
      "91\n",
      "1159 1 1279 717\n",
      "48\n",
      "346 522 592 720\n",
      "91\n",
      "1163 4 1279 716\n",
      "61\n"
     ]
    },
    {
     "name": "stderr",
     "output_type": "stream",
     "text": [
      "0: 384x640 2 persons, 87.4ms\n",
      "Speed: 5.2ms preprocess, 87.4ms inference, 0.0ms postprocess per image at shape (1, 3, 384, 640)\n",
      "\n",
      "0: 384x640 2 persons, 1 airplane, 90.8ms\n",
      "Speed: 2.1ms preprocess, 90.8ms inference, 0.0ms postprocess per image at shape (1, 3, 384, 640)\n",
      "\n"
     ]
    },
    {
     "name": "stdout",
     "output_type": "stream",
     "text": [
      "375 517 626 720\n",
      "92\n",
      "1169 18 1279 719\n",
      "65\n",
      "377 511 639 720\n",
      "91\n",
      "1169 2 1279 716\n",
      "68\n",
      "1 0 1269 683\n",
      "26\n"
     ]
    },
    {
     "name": "stderr",
     "output_type": "stream",
     "text": [
      "0: 384x640 2 persons, 1 airplane, 85.6ms\n",
      "Speed: 5.4ms preprocess, 85.6ms inference, 2.0ms postprocess per image at shape (1, 3, 384, 640)\n",
      "\n",
      "0: 384x640 2 persons, 88.0ms\n",
      "Speed: 4.4ms preprocess, 88.0ms inference, 0.0ms postprocess per image at shape (1, 3, 384, 640)\n",
      "\n"
     ]
    },
    {
     "name": "stdout",
     "output_type": "stream",
     "text": [
      "384 515 649 720\n",
      "92\n",
      "1161 2 1279 716\n",
      "77\n",
      "1 1 1266 681\n",
      "34\n",
      "382 512 650 720\n",
      "92\n",
      "1159 2 1279 715\n",
      "76\n"
     ]
    },
    {
     "name": "stderr",
     "output_type": "stream",
     "text": [
      "0: 384x640 2 persons, 1 airplane, 82.4ms\n",
      "Speed: 4.5ms preprocess, 82.4ms inference, 0.0ms postprocess per image at shape (1, 3, 384, 640)\n",
      "\n",
      "0: 384x640 2 persons, 89.7ms\n",
      "Speed: 3.9ms preprocess, 89.7ms inference, 2.0ms postprocess per image at shape (1, 3, 384, 640)\n",
      "\n"
     ]
    },
    {
     "name": "stdout",
     "output_type": "stream",
     "text": [
      "384 513 651 720\n",
      "92\n",
      "1145 5 1279 708\n",
      "75\n",
      "2 1 1264 688\n",
      "32\n",
      "390 518 648 720\n",
      "92\n",
      "1127 6 1279 710\n",
      "85\n"
     ]
    },
    {
     "name": "stderr",
     "output_type": "stream",
     "text": [
      "0: 384x640 2 persons, 86.4ms\n",
      "Speed: 4.4ms preprocess, 86.4ms inference, 1.7ms postprocess per image at shape (1, 3, 384, 640)\n",
      "\n",
      "0: 384x640 2 persons, 1 airplane, 95.8ms\n",
      "Speed: 1.9ms preprocess, 95.8ms inference, 0.0ms postprocess per image at shape (1, 3, 384, 640)\n",
      "\n"
     ]
    },
    {
     "name": "stdout",
     "output_type": "stream",
     "text": [
      "376 507 642 720\n",
      "93\n",
      "1100 3 1279 711\n",
      "84\n",
      "352 509 632 720\n",
      "90\n",
      "1071 3 1279 707\n",
      "86\n",
      "1 2 1256 659\n",
      "33\n"
     ]
    },
    {
     "name": "stderr",
     "output_type": "stream",
     "text": [
      "0: 384x640 2 persons, 1 airplane, 93.7ms\n",
      "Speed: 0.0ms preprocess, 93.7ms inference, 2.0ms postprocess per image at shape (1, 3, 384, 640)\n",
      "\n",
      "0: 384x640 2 persons, 86.1ms\n",
      "Speed: 2.6ms preprocess, 86.1ms inference, 0.0ms postprocess per image at shape (1, 3, 384, 640)\n",
      "\n"
     ]
    },
    {
     "name": "stdout",
     "output_type": "stream",
     "text": [
      "345 503 633 720\n",
      "91\n",
      "1057 3 1279 710\n",
      "86\n",
      "2 2 1236 694\n",
      "27\n",
      "344 503 626 720\n",
      "93\n",
      "1039 3 1279 710\n",
      "83\n"
     ]
    },
    {
     "name": "stderr",
     "output_type": "stream",
     "text": [
      "0: 384x640 2 persons, 88.5ms\n",
      "Speed: 0.0ms preprocess, 88.5ms inference, 0.0ms postprocess per image at shape (1, 3, 384, 640)\n",
      "\n",
      "0: 384x640 2 persons, 1 airplane, 106.6ms\n",
      "Speed: 4.0ms preprocess, 106.6ms inference, 2.0ms postprocess per image at shape (1, 3, 384, 640)\n",
      "\n"
     ]
    },
    {
     "name": "stdout",
     "output_type": "stream",
     "text": [
      "339 495 629 719\n",
      "93\n",
      "1032 2 1279 712\n",
      "88\n",
      "345 496 636 719\n",
      "92\n",
      "1011 2 1279 712\n",
      "85\n",
      "0 1 1259 689\n",
      "28\n"
     ]
    },
    {
     "name": "stderr",
     "output_type": "stream",
     "text": [
      "0: 384x640 2 persons, 92.6ms\n",
      "Speed: 0.5ms preprocess, 92.6ms inference, 2.0ms postprocess per image at shape (1, 3, 384, 640)\n",
      "\n",
      "0: 384x640 2 persons, 84.8ms\n",
      "Speed: 2.7ms preprocess, 84.8ms inference, 0.0ms postprocess per image at shape (1, 3, 384, 640)\n",
      "\n"
     ]
    },
    {
     "name": "stdout",
     "output_type": "stream",
     "text": [
      "353 495 644 720\n",
      "91\n",
      "1005 2 1279 710\n",
      "86\n",
      "359 495 650 718\n",
      "91\n",
      "1003 2 1279 712\n",
      "80\n"
     ]
    },
    {
     "name": "stderr",
     "output_type": "stream",
     "text": [
      "0: 384x640 2 persons, 1 airplane, 89.0ms\n",
      "Speed: 0.0ms preprocess, 89.0ms inference, 2.0ms postprocess per image at shape (1, 3, 384, 640)\n",
      "\n",
      "0: 384x640 2 persons, 90.6ms\n",
      "Speed: 1.9ms preprocess, 90.6ms inference, 2.0ms postprocess per image at shape (1, 3, 384, 640)\n",
      "\n"
     ]
    },
    {
     "name": "stdout",
     "output_type": "stream",
     "text": [
      "379 490 670 720\n",
      "92\n",
      "996 3 1279 713\n",
      "86\n",
      "0 2 1251 685\n",
      "28\n",
      "411 489 700 719\n",
      "92\n",
      "980 3 1279 714\n",
      "88\n"
     ]
    },
    {
     "name": "stderr",
     "output_type": "stream",
     "text": [
      "0: 384x640 2 persons, 1 airplane, 91.0ms\n",
      "Speed: 5.3ms preprocess, 91.0ms inference, 2.4ms postprocess per image at shape (1, 3, 384, 640)\n",
      "\n",
      "0: 384x640 2 persons, 1 airplane, 91.6ms\n",
      "Speed: 3.2ms preprocess, 91.6ms inference, 0.0ms postprocess per image at shape (1, 3, 384, 640)\n",
      "\n"
     ]
    },
    {
     "name": "stdout",
     "output_type": "stream",
     "text": [
      "443 493 730 719\n",
      "91\n",
      "975 3 1279 712\n",
      "90\n",
      "1 1 1202 693\n",
      "26\n",
      "468 488 756 720\n",
      "91\n",
      "976 2 1279 714\n",
      "89\n",
      "0 1 1225 713\n",
      "38\n"
     ]
    },
    {
     "name": "stderr",
     "output_type": "stream",
     "text": [
      "0: 384x640 2 persons, 78.3ms\n",
      "Speed: 2.8ms preprocess, 78.3ms inference, 0.0ms postprocess per image at shape (1, 3, 384, 640)\n",
      "\n",
      "0: 384x640 2 persons, 1 airplane, 94.9ms\n",
      "Speed: 0.0ms preprocess, 94.9ms inference, 0.0ms postprocess per image at shape (1, 3, 384, 640)\n",
      "\n"
     ]
    },
    {
     "name": "stdout",
     "output_type": "stream",
     "text": [
      "473 490 764 719\n",
      "92\n",
      "978 3 1279 713\n",
      "91\n",
      "491 486 789 719\n",
      "91\n",
      "987 3 1279 713\n",
      "89\n",
      "1 0 1222 707\n",
      "28\n"
     ]
    },
    {
     "name": "stderr",
     "output_type": "stream",
     "text": [
      "0: 384x640 2 persons, 104.2ms\n",
      "Speed: 0.0ms preprocess, 104.2ms inference, 0.0ms postprocess per image at shape (1, 3, 384, 640)\n",
      "\n",
      "0: 384x640 2 persons, 1 airplane, 89.8ms\n",
      "Speed: 3.9ms preprocess, 89.8ms inference, 0.0ms postprocess per image at shape (1, 3, 384, 640)\n",
      "\n"
     ]
    },
    {
     "name": "stdout",
     "output_type": "stream",
     "text": [
      "503 488 797 719\n",
      "92\n",
      "977 3 1279 712\n",
      "88\n",
      "505 487 800 719\n",
      "90\n",
      "982 3 1279 713\n",
      "90\n",
      "4 2 1186 704\n",
      "31\n"
     ]
    },
    {
     "name": "stderr",
     "output_type": "stream",
     "text": [
      "0: 384x640 2 persons, 1 airplane, 83.2ms\n",
      "Speed: 5.1ms preprocess, 83.2ms inference, 0.0ms postprocess per image at shape (1, 3, 384, 640)\n",
      "\n",
      "0: 384x640 2 persons, 1 airplane, 87.9ms\n",
      "Speed: 3.0ms preprocess, 87.9ms inference, 2.0ms postprocess per image at shape (1, 3, 384, 640)\n",
      "\n"
     ]
    },
    {
     "name": "stdout",
     "output_type": "stream",
     "text": [
      "979 3 1279 712\n",
      "91\n",
      "506 487 799 719\n",
      "91\n",
      "1 2 1211 671\n",
      "28\n",
      "982 2 1279 714\n",
      "90\n",
      "514 488 810 719\n",
      "89\n",
      "2 2 1234 672\n",
      "38\n"
     ]
    },
    {
     "name": "stderr",
     "output_type": "stream",
     "text": [
      "0: 384x640 2 persons, 89.8ms\n",
      "Speed: 4.9ms preprocess, 89.8ms inference, 0.0ms postprocess per image at shape (1, 3, 384, 640)\n",
      "\n",
      "0: 384x640 2 persons, 1 airplane, 85.1ms\n",
      "Speed: 5.1ms preprocess, 85.1ms inference, 2.7ms postprocess per image at shape (1, 3, 384, 640)\n",
      "\n"
     ]
    },
    {
     "name": "stdout",
     "output_type": "stream",
     "text": [
      "981 3 1278 714\n",
      "92\n",
      "516 487 808 719\n",
      "89\n",
      "978 2 1279 713\n",
      "90\n",
      "519 488 809 719\n",
      "89\n",
      "4 1 1196 691\n",
      "28\n"
     ]
    },
    {
     "name": "stderr",
     "output_type": "stream",
     "text": [
      "0: 384x640 2 persons, 86.4ms\n",
      "Speed: 3.9ms preprocess, 86.4ms inference, 0.0ms postprocess per image at shape (1, 3, 384, 640)\n",
      "\n",
      "0: 384x640 2 persons, 1 airplane, 88.8ms\n",
      "Speed: 1.3ms preprocess, 88.8ms inference, 0.0ms postprocess per image at shape (1, 3, 384, 640)\n",
      "\n"
     ]
    },
    {
     "name": "stdout",
     "output_type": "stream",
     "text": [
      "979 2 1279 713\n",
      "91\n",
      "519 489 809 719\n",
      "88\n",
      "981 2 1278 712\n",
      "91\n",
      "516 488 808 719\n",
      "89\n",
      "3 1 1236 655\n",
      "31\n"
     ]
    },
    {
     "name": "stderr",
     "output_type": "stream",
     "text": [
      "0: 384x640 3 persons, 87.9ms\n",
      "Speed: 3.2ms preprocess, 87.9ms inference, 1.8ms postprocess per image at shape (1, 3, 384, 640)\n",
      "\n",
      "0: 384x640 3 persons, 90.0ms\n",
      "Speed: 2.5ms preprocess, 90.0ms inference, 0.0ms postprocess per image at shape (1, 3, 384, 640)\n",
      "\n"
     ]
    },
    {
     "name": "stdout",
     "output_type": "stream",
     "text": [
      "984 3 1279 712\n",
      "91\n",
      "514 487 808 719\n",
      "89\n",
      "0 331 150 714\n",
      "79\n",
      "986 3 1279 711\n",
      "91\n",
      "512 490 797 719\n",
      "90\n",
      "0 360 209 714\n",
      "81\n"
     ]
    },
    {
     "name": "stderr",
     "output_type": "stream",
     "text": [
      "0: 384x640 3 persons, 1 airplane, 94.2ms\n",
      "Speed: 4.0ms preprocess, 94.2ms inference, 4.0ms postprocess per image at shape (1, 3, 384, 640)\n",
      "\n",
      "0: 384x640 3 persons, 112.7ms\n",
      "Speed: 4.6ms preprocess, 112.7ms inference, 0.0ms postprocess per image at shape (1, 3, 384, 640)\n",
      "\n"
     ]
    },
    {
     "name": "stdout",
     "output_type": "stream",
     "text": [
      "984 3 1279 712\n",
      "91\n",
      "511 489 800 719\n",
      "90\n",
      "0 367 223 714\n",
      "81\n",
      "1 1 1235 704\n",
      "35\n",
      "507 491 792 719\n",
      "92\n",
      "980 2 1279 714\n",
      "91\n",
      "0 391 268 715\n",
      "89\n"
     ]
    },
    {
     "name": "stderr",
     "output_type": "stream",
     "text": [
      "0: 384x640 3 persons, 90.7ms\n",
      "Speed: 4.2ms preprocess, 90.7ms inference, 0.0ms postprocess per image at shape (1, 3, 384, 640)\n",
      "\n",
      "0: 384x640 3 persons, 1 airplane, 89.7ms\n",
      "Speed: 1.7ms preprocess, 89.7ms inference, 3.4ms postprocess per image at shape (1, 3, 384, 640)\n",
      "\n"
     ]
    },
    {
     "name": "stdout",
     "output_type": "stream",
     "text": [
      "0 404 290 714\n",
      "93\n",
      "504 489 791 719\n",
      "92\n",
      "992 3 1279 713\n",
      "91\n",
      "500 489 787 719\n",
      "91\n",
      "0 413 292 713\n",
      "86\n",
      "1005 2 1278 711\n",
      "84\n",
      "5 0 1239 713\n",
      "30\n"
     ]
    },
    {
     "name": "stderr",
     "output_type": "stream",
     "text": [
      "0: 384x640 3 persons, 1 airplane, 76.9ms\n",
      "Speed: 4.3ms preprocess, 76.9ms inference, 0.0ms postprocess per image at shape (1, 3, 384, 640)\n",
      "\n",
      "0: 384x640 3 persons, 1 airplane, 94.5ms\n",
      "Speed: 3.6ms preprocess, 94.5ms inference, 0.0ms postprocess per image at shape (1, 3, 384, 640)\n",
      "\n"
     ]
    },
    {
     "name": "stdout",
     "output_type": "stream",
     "text": [
      "494 490 786 720\n",
      "91\n",
      "1024 2 1279 711\n",
      "81\n",
      "0 418 291 713\n",
      "65\n",
      "3 0 1256 714\n",
      "29\n",
      "491 488 784 719\n",
      "90\n",
      "1049 3 1279 713\n",
      "89\n",
      "0 421 289 714\n",
      "75\n",
      "1 0 1254 715\n",
      "38\n"
     ]
    },
    {
     "name": "stderr",
     "output_type": "stream",
     "text": [
      "0: 384x640 3 persons, 1 airplane, 93.8ms\n",
      "Speed: 4.4ms preprocess, 93.8ms inference, 2.2ms postprocess per image at shape (1, 3, 384, 640)\n",
      "\n",
      "0: 384x640 3 persons, 87.0ms\n",
      "Speed: 4.6ms preprocess, 87.0ms inference, 2.0ms postprocess per image at shape (1, 3, 384, 640)\n",
      "\n"
     ]
    },
    {
     "name": "stdout",
     "output_type": "stream",
     "text": [
      "491 489 783 719\n",
      "90\n",
      "1061 4 1279 711\n",
      "86\n",
      "0 423 279 714\n",
      "80\n",
      "3 0 1257 712\n",
      "37\n",
      "490 489 781 719\n",
      "90\n",
      "1072 4 1279 711\n",
      "86\n",
      "0 433 253 715\n",
      "86\n"
     ]
    },
    {
     "name": "stderr",
     "output_type": "stream",
     "text": [
      "0: 384x640 3 persons, 87.3ms\n",
      "Speed: 0.0ms preprocess, 87.3ms inference, 0.0ms postprocess per image at shape (1, 3, 384, 640)\n",
      "\n",
      "0: 384x640 3 persons, 90.4ms\n",
      "Speed: 2.0ms preprocess, 90.4ms inference, 2.1ms postprocess per image at shape (1, 3, 384, 640)\n",
      "\n"
     ]
    },
    {
     "name": "stdout",
     "output_type": "stream",
     "text": [
      "489 490 775 719\n",
      "90\n",
      "0 446 259 715\n",
      "87\n",
      "1085 3 1279 710\n",
      "80\n",
      "487 489 775 718\n",
      "90\n",
      "0 451 265 715\n",
      "90\n",
      "1094 6 1279 712\n",
      "82\n"
     ]
    },
    {
     "name": "stderr",
     "output_type": "stream",
     "text": [
      "0: 384x640 3 persons, 1 airplane, 87.4ms\n",
      "Speed: 4.0ms preprocess, 87.4ms inference, 0.0ms postprocess per image at shape (1, 3, 384, 640)\n",
      "\n",
      "0: 384x640 3 persons, 1 airplane, 85.5ms\n",
      "Speed: 3.3ms preprocess, 85.5ms inference, 8.5ms postprocess per image at shape (1, 3, 384, 640)\n",
      "\n"
     ]
    },
    {
     "name": "stdout",
     "output_type": "stream",
     "text": [
      "489 489 773 719\n",
      "90\n",
      "0 458 263 715\n",
      "89\n",
      "1091 6 1279 713\n",
      "78\n",
      "0 0 1226 713\n",
      "32\n",
      "489 488 773 719\n",
      "91\n",
      "0 458 264 715\n",
      "89\n",
      "1092 5 1279 712\n",
      "76\n",
      "0 0 1220 716\n",
      "42\n"
     ]
    },
    {
     "name": "stderr",
     "output_type": "stream",
     "text": [
      "0: 384x640 3 persons, 1 airplane, 96.1ms\n",
      "Speed: 0.0ms preprocess, 96.1ms inference, 1.0ms postprocess per image at shape (1, 3, 384, 640)\n",
      "\n",
      "0: 384x640 3 persons, 91.4ms\n",
      "Speed: 2.6ms preprocess, 91.4ms inference, 0.9ms postprocess per image at shape (1, 3, 384, 640)\n",
      "\n"
     ]
    },
    {
     "name": "stdout",
     "output_type": "stream",
     "text": [
      "488 490 771 719\n",
      "90\n",
      "8 465 274 716\n",
      "88\n",
      "1089 7 1278 710\n",
      "77\n",
      "0 0 1226 715\n",
      "30\n",
      "488 489 769 719\n",
      "91\n",
      "49 473 295 716\n",
      "87\n",
      "1085 6 1278 711\n",
      "75\n"
     ]
    },
    {
     "name": "stderr",
     "output_type": "stream",
     "text": [
      "0: 384x640 3 persons, 92.0ms\n",
      "Speed: 2.0ms preprocess, 92.0ms inference, 1.0ms postprocess per image at shape (1, 3, 384, 640)\n",
      "\n",
      "0: 384x640 3 persons, 1 airplane, 91.4ms\n",
      "Speed: 4.8ms preprocess, 91.4ms inference, 0.0ms postprocess per image at shape (1, 3, 384, 640)\n",
      "\n"
     ]
    },
    {
     "name": "stdout",
     "output_type": "stream",
     "text": [
      "488 490 769 719\n",
      "91\n",
      "59 475 303 715\n",
      "89\n",
      "1084 6 1278 710\n",
      "74\n",
      "485 491 766 719\n",
      "91\n",
      "132 491 358 717\n",
      "86\n",
      "1080 6 1279 711\n",
      "73\n",
      "0 1 1237 657\n",
      "28\n"
     ]
    },
    {
     "name": "stderr",
     "output_type": "stream",
     "text": [
      "0: 384x640 3 persons, 90.5ms\n",
      "Speed: 4.3ms preprocess, 90.5ms inference, 0.5ms postprocess per image at shape (1, 3, 384, 640)\n",
      "\n",
      "0: 384x640 3 persons, 1 airplane, 95.6ms\n",
      "Speed: 0.0ms preprocess, 95.6ms inference, 2.0ms postprocess per image at shape (1, 3, 384, 640)\n",
      "\n"
     ]
    },
    {
     "name": "stdout",
     "output_type": "stream",
     "text": [
      "485 490 766 719\n",
      "91\n",
      "141 492 367 717\n",
      "87\n",
      "1079 6 1278 710\n",
      "80\n",
      "482 489 765 719\n",
      "91\n",
      "165 495 386 719\n",
      "86\n",
      "1080 6 1278 711\n",
      "79\n",
      "0 1 1229 681\n",
      "41\n"
     ]
    },
    {
     "name": "stderr",
     "output_type": "stream",
     "text": [
      "0: 384x640 3 persons, 1 airplane, 92.3ms\n",
      "Speed: 4.3ms preprocess, 92.3ms inference, 3.6ms postprocess per image at shape (1, 3, 384, 640)\n",
      "\n",
      "0: 384x640 3 persons, 1 airplane, 90.6ms\n",
      "Speed: 0.0ms preprocess, 90.6ms inference, 0.0ms postprocess per image at shape (1, 3, 384, 640)\n",
      "\n"
     ]
    },
    {
     "name": "stdout",
     "output_type": "stream",
     "text": [
      "480 489 759 719\n",
      "91\n",
      "185 495 406 718\n",
      "85\n",
      "1074 5 1278 709\n",
      "80\n",
      "0 0 1243 714\n",
      "48\n",
      "479 489 761 719\n",
      "91\n",
      "190 494 412 718\n",
      "87\n",
      "1062 8 1278 709\n",
      "76\n",
      "0 0 1220 709\n",
      "27\n"
     ]
    },
    {
     "name": "stderr",
     "output_type": "stream",
     "text": [
      "0: 384x640 3 persons, 1 airplane, 87.0ms\n",
      "Speed: 4.5ms preprocess, 87.0ms inference, 2.6ms postprocess per image at shape (1, 3, 384, 640)\n",
      "\n",
      "0: 384x640 3 persons, 1 airplane, 112.2ms\n",
      "Speed: 4.0ms preprocess, 112.2ms inference, 0.0ms postprocess per image at shape (1, 3, 384, 640)\n",
      "\n"
     ]
    },
    {
     "name": "stdout",
     "output_type": "stream",
     "text": [
      "476 488 759 719\n",
      "91\n",
      "191 495 417 719\n",
      "88\n",
      "1083 11 1278 708\n",
      "46\n",
      "0 0 1246 711\n",
      "34\n",
      "475 488 758 719\n",
      "91\n",
      "190 495 418 719\n",
      "89\n",
      "1019 8 1278 708\n",
      "47\n",
      "0 0 1241 712\n",
      "29\n"
     ]
    },
    {
     "name": "stderr",
     "output_type": "stream",
     "text": [
      "0: 384x640 3 persons, 1 airplane, 90.1ms\n",
      "Speed: 3.3ms preprocess, 90.1ms inference, 0.0ms postprocess per image at shape (1, 3, 384, 640)\n",
      "\n",
      "0: 384x640 3 persons, 1 airplane, 91.6ms\n",
      "Speed: 4.3ms preprocess, 91.6ms inference, 0.0ms postprocess per image at shape (1, 3, 384, 640)\n",
      "\n"
     ]
    },
    {
     "name": "stdout",
     "output_type": "stream",
     "text": [
      "473 488 755 720\n",
      "91\n",
      "191 493 417 719\n",
      "88\n",
      "1113 11 1278 709\n",
      "59\n",
      "0 0 1248 713\n",
      "30\n",
      "471 487 754 720\n",
      "91\n",
      "190 492 414 719\n",
      "88\n",
      "1126 13 1279 710\n",
      "50\n",
      "1 1 1255 691\n",
      "30\n"
     ]
    },
    {
     "name": "stderr",
     "output_type": "stream",
     "text": [
      "0: 384x640 3 persons, 89.2ms\n",
      "Speed: 0.0ms preprocess, 89.2ms inference, 0.0ms postprocess per image at shape (1, 3, 384, 640)\n",
      "\n",
      "0: 384x640 4 persons, 92.4ms\n",
      "Speed: 2.0ms preprocess, 92.4ms inference, 2.0ms postprocess per image at shape (1, 3, 384, 640)\n",
      "\n"
     ]
    },
    {
     "name": "stdout",
     "output_type": "stream",
     "text": [
      "470 488 754 720\n",
      "91\n",
      "187 491 411 718\n",
      "87\n",
      "1133 8 1279 710\n",
      "49\n",
      "468 488 754 720\n",
      "91\n",
      "185 491 410 718\n",
      "88\n",
      "1025 4 1279 706\n",
      "42\n",
      "1116 5 1279 709\n",
      "33\n"
     ]
    },
    {
     "name": "stderr",
     "output_type": "stream",
     "text": [
      "0: 384x640 3 persons, 1 airplane, 93.0ms\n",
      "Speed: 4.1ms preprocess, 93.0ms inference, 0.0ms postprocess per image at shape (1, 3, 384, 640)\n",
      "\n",
      "0: 384x640 3 persons, 1 airplane, 94.3ms\n",
      "Speed: 0.0ms preprocess, 94.3ms inference, 0.0ms postprocess per image at shape (1, 3, 384, 640)\n",
      "\n"
     ]
    },
    {
     "name": "stdout",
     "output_type": "stream",
     "text": [
      "468 488 754 720\n",
      "91\n",
      "176 489 408 718\n",
      "88\n",
      "1146 9 1279 712\n",
      "47\n",
      "0 0 1253 714\n",
      "37\n",
      "465 487 754 720\n",
      "92\n",
      "161 489 406 719\n",
      "88\n",
      "1171 9 1279 710\n",
      "46\n",
      "0 0 1252 715\n",
      "40\n"
     ]
    },
    {
     "name": "stderr",
     "output_type": "stream",
     "text": [
      "0: 384x640 3 persons, 1 airplane, 83.3ms\n",
      "Speed: 5.0ms preprocess, 83.3ms inference, 0.0ms postprocess per image at shape (1, 3, 384, 640)\n",
      "\n",
      "0: 384x640 2 persons, 1 airplane, 92.8ms\n",
      "Speed: 2.0ms preprocess, 92.8ms inference, 2.0ms postprocess per image at shape (1, 3, 384, 640)\n",
      "\n"
     ]
    },
    {
     "name": "stdout",
     "output_type": "stream",
     "text": [
      "465 488 753 720\n",
      "92\n",
      "156 485 405 717\n",
      "85\n",
      "1031 4 1278 704\n",
      "42\n",
      "1 0 1248 716\n",
      "29\n",
      "463 487 753 720\n",
      "91\n",
      "145 482 402 719\n",
      "86\n",
      "0 1 1249 714\n",
      "37\n"
     ]
    },
    {
     "name": "stderr",
     "output_type": "stream",
     "text": [
      "0: 384x640 2 persons, 1 airplane, 85.1ms\n",
      "Speed: 2.7ms preprocess, 85.1ms inference, 0.0ms postprocess per image at shape (1, 3, 384, 640)\n",
      "\n",
      "0: 384x640 3 persons, 1 airplane, 88.0ms\n",
      "Speed: 2.0ms preprocess, 88.0ms inference, 0.0ms postprocess per image at shape (1, 3, 384, 640)\n",
      "\n"
     ]
    },
    {
     "name": "stdout",
     "output_type": "stream",
     "text": [
      "463 487 753 720\n",
      "91\n",
      "146 482 401 719\n",
      "86\n",
      "0 1 1251 714\n",
      "29\n",
      "462 487 753 720\n",
      "91\n",
      "149 479 399 720\n",
      "89\n",
      "0 1 1264 717\n",
      "39\n",
      "1043 5 1278 660\n",
      "26\n"
     ]
    },
    {
     "name": "stderr",
     "output_type": "stream",
     "text": [
      "0: 384x640 4 persons, 1 airplane, 79.5ms\n",
      "Speed: 0.0ms preprocess, 79.5ms inference, 0.0ms postprocess per image at shape (1, 3, 384, 640)\n",
      "\n",
      "0: 384x640 3 persons, 1 airplane, 87.0ms\n",
      "Speed: 5.0ms preprocess, 87.0ms inference, 0.0ms postprocess per image at shape (1, 3, 384, 640)\n",
      "\n"
     ]
    },
    {
     "name": "stdout",
     "output_type": "stream",
     "text": [
      "462 487 752 720\n",
      "91\n",
      "141 477 396 719\n",
      "89\n",
      "1147 4 1278 685\n",
      "50\n",
      "0 1 1258 714\n",
      "32\n",
      "1024 4 1279 695\n",
      "26\n",
      "463 487 751 720\n",
      "91\n",
      "138 474 393 719\n",
      "89\n",
      "1021 3 1279 703\n",
      "61\n",
      "1 0 1241 715\n",
      "33\n"
     ]
    },
    {
     "name": "stderr",
     "output_type": "stream",
     "text": [
      "0: 384x640 3 persons, 1 airplane, 89.7ms\n",
      "Speed: 2.0ms preprocess, 89.7ms inference, 0.0ms postprocess per image at shape (1, 3, 384, 640)\n",
      "\n",
      "0: 384x640 3 persons, 1 airplane, 88.9ms\n",
      "Speed: 3.0ms preprocess, 88.9ms inference, 0.9ms postprocess per image at shape (1, 3, 384, 640)\n",
      "\n"
     ]
    },
    {
     "name": "stdout",
     "output_type": "stream",
     "text": [
      "463 487 752 720\n",
      "90\n",
      "137 474 392 719\n",
      "89\n",
      "1024 4 1279 705\n",
      "71\n",
      "1 0 1255 712\n",
      "42\n",
      "465 487 752 719\n",
      "90\n",
      "133 473 388 718\n",
      "89\n",
      "1007 4 1279 709\n",
      "78\n",
      "1 0 1225 712\n",
      "44\n"
     ]
    },
    {
     "name": "stderr",
     "output_type": "stream",
     "text": [
      "0: 384x640 3 persons, 1 airplane, 79.8ms\n",
      "Speed: 5.4ms preprocess, 79.8ms inference, 9.3ms postprocess per image at shape (1, 3, 384, 640)\n",
      "\n",
      "0: 384x640 3 persons, 1 airplane, 90.3ms\n",
      "Speed: 4.4ms preprocess, 90.3ms inference, 2.0ms postprocess per image at shape (1, 3, 384, 640)\n",
      "\n"
     ]
    },
    {
     "name": "stdout",
     "output_type": "stream",
     "text": [
      "466 487 753 719\n",
      "91\n",
      "130 469 388 717\n",
      "90\n",
      "989 2 1279 706\n",
      "69\n",
      "1 1 1235 713\n",
      "30\n",
      "469 487 751 720\n",
      "90\n",
      "129 469 387 717\n",
      "89\n",
      "958 4 1279 706\n",
      "69\n",
      "1 2 1242 710\n",
      "43\n"
     ]
    },
    {
     "name": "stderr",
     "output_type": "stream",
     "text": [
      "0: 384x640 3 persons, 92.1ms\n",
      "Speed: 0.0ms preprocess, 92.1ms inference, 1.7ms postprocess per image at shape (1, 3, 384, 640)\n",
      "\n",
      "0: 384x640 3 persons, 84.7ms\n",
      "Speed: 3.7ms preprocess, 84.7ms inference, 7.0ms postprocess per image at shape (1, 3, 384, 640)\n",
      "\n"
     ]
    },
    {
     "name": "stdout",
     "output_type": "stream",
     "text": [
      "470 487 755 720\n",
      "90\n",
      "126 467 387 717\n",
      "90\n",
      "951 3 1279 707\n",
      "86\n",
      "125 468 387 717\n",
      "90\n",
      "471 487 755 720\n",
      "90\n",
      "944 3 1279 707\n",
      "85\n"
     ]
    },
    {
     "name": "stderr",
     "output_type": "stream",
     "text": [
      "0: 384x640 3 persons, 86.5ms\n",
      "Speed: 4.1ms preprocess, 86.5ms inference, 1.8ms postprocess per image at shape (1, 3, 384, 640)\n",
      "\n",
      "0: 384x640 3 persons, 1 airplane, 109.0ms\n",
      "Speed: 3.4ms preprocess, 109.0ms inference, 0.0ms postprocess per image at shape (1, 3, 384, 640)\n",
      "\n"
     ]
    },
    {
     "name": "stdout",
     "output_type": "stream",
     "text": [
      "940 20 1279 706\n",
      "91\n",
      "472 488 762 720\n",
      "90\n",
      "122 470 385 717\n",
      "90\n",
      "939 23 1279 706\n",
      "91\n",
      "472 488 765 719\n",
      "90\n",
      "124 471 380 716\n",
      "89\n",
      "1 5 1203 704\n",
      "27\n"
     ]
    },
    {
     "name": "stderr",
     "output_type": "stream",
     "text": [
      "0: 384x640 3 persons, 1 airplane, 81.6ms\n",
      "Speed: 4.1ms preprocess, 81.6ms inference, 4.6ms postprocess per image at shape (1, 3, 384, 640)\n",
      "\n",
      "0: 384x640 3 persons, 1 airplane, 88.1ms\n",
      "Speed: 3.3ms preprocess, 88.1ms inference, 0.0ms postprocess per image at shape (1, 3, 384, 640)\n",
      "\n"
     ]
    },
    {
     "name": "stdout",
     "output_type": "stream",
     "text": [
      "936 17 1279 710\n",
      "93\n",
      "473 488 766 720\n",
      "91\n",
      "122 470 374 716\n",
      "89\n",
      "1 1 1261 715\n",
      "39\n",
      "936 13 1279 709\n",
      "94\n",
      "473 487 766 719\n",
      "91\n",
      "119 465 372 715\n",
      "89\n",
      "0 6 1195 698\n",
      "26\n"
     ]
    },
    {
     "name": "stderr",
     "output_type": "stream",
     "text": [
      "0: 384x640 3 persons, 1 airplane, 89.9ms\n",
      "Speed: 0.0ms preprocess, 89.9ms inference, 0.0ms postprocess per image at shape (1, 3, 384, 640)\n",
      "\n",
      "0: 384x640 3 persons, 92.7ms\n",
      "Speed: 2.1ms preprocess, 92.7ms inference, 2.0ms postprocess per image at shape (1, 3, 384, 640)\n",
      "\n"
     ]
    },
    {
     "name": "stdout",
     "output_type": "stream",
     "text": [
      "938 7 1279 709\n",
      "94\n",
      "474 487 766 719\n",
      "90\n",
      "118 465 373 715\n",
      "90\n",
      "2 5 1208 701\n",
      "26\n",
      "939 6 1279 710\n",
      "95\n",
      "473 488 765 719\n",
      "90\n",
      "118 465 373 715\n",
      "90\n"
     ]
    },
    {
     "name": "stderr",
     "output_type": "stream",
     "text": [
      "0: 384x640 3 persons, 1 airplane, 96.2ms\n",
      "Speed: 1.0ms preprocess, 96.2ms inference, 1.3ms postprocess per image at shape (1, 3, 384, 640)\n",
      "\n",
      "0: 384x640 3 persons, 88.5ms\n",
      "Speed: 5.7ms preprocess, 88.5ms inference, 2.0ms postprocess per image at shape (1, 3, 384, 640)\n",
      "\n"
     ]
    },
    {
     "name": "stdout",
     "output_type": "stream",
     "text": [
      "940 3 1279 710\n",
      "94\n",
      "474 487 766 719\n",
      "90\n",
      "113 465 375 718\n",
      "89\n",
      "0 6 1182 682\n",
      "29\n",
      "941 3 1279 709\n",
      "93\n",
      "475 487 767 719\n",
      "90\n",
      "108 465 376 718\n",
      "90\n"
     ]
    },
    {
     "name": "stderr",
     "output_type": "stream",
     "text": [
      "0: 384x640 3 persons, 1 airplane, 86.2ms\n",
      "Speed: 6.2ms preprocess, 86.2ms inference, 2.0ms postprocess per image at shape (1, 3, 384, 640)\n",
      "\n",
      "0: 384x640 3 persons, 95.3ms\n",
      "Speed: 4.0ms preprocess, 95.3ms inference, 0.0ms postprocess per image at shape (1, 3, 384, 640)\n",
      "\n"
     ]
    },
    {
     "name": "stdout",
     "output_type": "stream",
     "text": [
      "940 3 1279 711\n",
      "92\n",
      "107 465 377 718\n",
      "90\n",
      "475 487 767 719\n",
      "90\n",
      "0 4 1116 576\n",
      "30\n",
      "941 3 1279 708\n",
      "93\n",
      "105 464 377 718\n",
      "90\n",
      "475 487 765 719\n",
      "90\n"
     ]
    },
    {
     "name": "stderr",
     "output_type": "stream",
     "text": [
      "0: 384x640 3 persons, 91.4ms\n",
      "Speed: 0.0ms preprocess, 91.4ms inference, 3.3ms postprocess per image at shape (1, 3, 384, 640)\n",
      "\n",
      "0: 384x640 3 persons, 90.5ms\n",
      "Speed: 2.3ms preprocess, 90.5ms inference, 2.0ms postprocess per image at shape (1, 3, 384, 640)\n",
      "\n"
     ]
    },
    {
     "name": "stdout",
     "output_type": "stream",
     "text": [
      "101 464 375 715\n",
      "90\n",
      "475 487 764 719\n",
      "90\n",
      "941 2 1279 710\n",
      "87\n",
      "98 463 372 716\n",
      "90\n",
      "476 487 765 719\n",
      "90\n",
      "951 0 1279 709\n",
      "77\n"
     ]
    },
    {
     "name": "stderr",
     "output_type": "stream",
     "text": [
      "0: 384x640 3 persons, 87.7ms\n",
      "Speed: 3.8ms preprocess, 87.7ms inference, 2.1ms postprocess per image at shape (1, 3, 384, 640)\n",
      "\n",
      "0: 384x640 3 persons, 91.7ms\n",
      "Speed: 3.1ms preprocess, 91.7ms inference, 1.3ms postprocess per image at shape (1, 3, 384, 640)\n",
      "\n"
     ]
    },
    {
     "name": "stdout",
     "output_type": "stream",
     "text": [
      "477 488 770 717\n",
      "91\n",
      "95 464 370 715\n",
      "89\n",
      "942 0 1279 708\n",
      "71\n",
      "477 488 771 717\n",
      "91\n",
      "95 464 369 715\n",
      "90\n",
      "942 0 1279 709\n",
      "70\n"
     ]
    },
    {
     "name": "stderr",
     "output_type": "stream",
     "text": [
      "0: 384x640 3 persons, 1 airplane, 89.8ms\n",
      "Speed: 5.0ms preprocess, 89.8ms inference, 0.0ms postprocess per image at shape (1, 3, 384, 640)\n",
      "\n",
      "0: 384x640 3 persons, 91.1ms\n",
      "Speed: 5.5ms preprocess, 91.1ms inference, 0.0ms postprocess per image at shape (1, 3, 384, 640)\n",
      "\n"
     ]
    },
    {
     "name": "stdout",
     "output_type": "stream",
     "text": [
      "478 488 770 717\n",
      "90\n",
      "91 464 365 718\n",
      "89\n",
      "948 0 1279 708\n",
      "68\n",
      "1 6 1208 680\n",
      "29\n",
      "478 487 767 719\n",
      "89\n",
      "90 464 362 717\n",
      "88\n",
      "957 1 1279 707\n",
      "71\n"
     ]
    },
    {
     "name": "stderr",
     "output_type": "stream",
     "text": [
      "0: 384x640 3 persons, 89.0ms\n",
      "Speed: 3.3ms preprocess, 89.0ms inference, 2.3ms postprocess per image at shape (1, 3, 384, 640)\n",
      "\n",
      "0: 384x640 3 persons, 1 airplane, 84.1ms\n",
      "Speed: 3.2ms preprocess, 84.1ms inference, 0.0ms postprocess per image at shape (1, 3, 384, 640)\n",
      "\n"
     ]
    },
    {
     "name": "stdout",
     "output_type": "stream",
     "text": [
      "89 463 360 717\n",
      "89\n",
      "479 488 755 719\n",
      "83\n",
      "939 0 1279 709\n",
      "54\n",
      "89 463 359 717\n",
      "89\n",
      "479 488 833 717\n",
      "75\n",
      "846 1 1280 712\n",
      "54\n",
      "1 4 1241 686\n",
      "31\n"
     ]
    },
    {
     "name": "stderr",
     "output_type": "stream",
     "text": [
      "0: 384x640 4 persons, 1 airplane, 85.9ms\n",
      "Speed: 3.8ms preprocess, 85.9ms inference, 0.0ms postprocess per image at shape (1, 3, 384, 640)\n",
      "\n",
      "0: 384x640 3 persons, 101.9ms\n",
      "Speed: 2.3ms preprocess, 101.9ms inference, 8.0ms postprocess per image at shape (1, 3, 384, 640)\n",
      "\n"
     ]
    },
    {
     "name": "stdout",
     "output_type": "stream",
     "text": [
      "89 463 359 717\n",
      "89\n",
      "479 489 730 719\n",
      "74\n",
      "814 1 1279 712\n",
      "43\n",
      "597 1 1279 711\n",
      "43\n",
      "3 0 1270 718\n",
      "37\n",
      "88 464 359 717\n",
      "90\n",
      "539 1 1279 714\n",
      "71\n",
      "479 490 714 716\n",
      "59\n"
     ]
    },
    {
     "name": "stderr",
     "output_type": "stream",
     "text": [
      "0: 384x640 3 persons, 1 airplane, 86.9ms\n",
      "Speed: 4.5ms preprocess, 86.9ms inference, 4.1ms postprocess per image at shape (1, 3, 384, 640)\n",
      "\n",
      "0: 384x640 3 persons, 1 airplane, 91.0ms\n",
      "Speed: 4.5ms preprocess, 91.0ms inference, 0.0ms postprocess per image at shape (1, 3, 384, 640)\n",
      "\n"
     ]
    },
    {
     "name": "stdout",
     "output_type": "stream",
     "text": [
      "89 464 359 717\n",
      "90\n",
      "479 489 725 719\n",
      "73\n",
      "602 1 1279 714\n",
      "71\n",
      "4 0 1271 719\n",
      "32\n",
      "89 464 360 717\n",
      "90\n",
      "601 0 1279 710\n",
      "67\n",
      "477 487 758 717\n",
      "65\n",
      "3 2 1276 712\n",
      "43\n"
     ]
    },
    {
     "name": "stderr",
     "output_type": "stream",
     "text": [
      "0: 384x640 4 persons, 1 airplane, 91.5ms\n",
      "Speed: 4.2ms preprocess, 91.5ms inference, 0.0ms postprocess per image at shape (1, 3, 384, 640)\n",
      "\n",
      "0: 384x640 4 persons, 1 airplane, 84.3ms\n",
      "Speed: 4.9ms preprocess, 84.3ms inference, 0.0ms postprocess per image at shape (1, 3, 384, 640)\n",
      "\n"
     ]
    },
    {
     "name": "stdout",
     "output_type": "stream",
     "text": [
      "90 465 361 717\n",
      "90\n",
      "480 490 739 719\n",
      "78\n",
      "661 0 1279 708\n",
      "60\n",
      "3 0 1273 716\n",
      "57\n",
      "969 1 1279 507\n",
      "26\n",
      "481 490 763 720\n",
      "90\n",
      "92 465 361 718\n",
      "89\n",
      "751 0 1279 715\n",
      "57\n",
      "969 1 1279 535\n",
      "34\n",
      "1 0 1243 719\n",
      "31\n"
     ]
    },
    {
     "name": "stderr",
     "output_type": "stream",
     "text": [
      "0: 384x640 3 persons, 1 airplane, 90.3ms\n",
      "Speed: 4.0ms preprocess, 90.3ms inference, 0.0ms postprocess per image at shape (1, 3, 384, 640)\n",
      "\n",
      "0: 384x640 3 persons, 1 airplane, 85.4ms\n",
      "Speed: 1.9ms preprocess, 85.4ms inference, 0.0ms postprocess per image at shape (1, 3, 384, 640)\n",
      "\n"
     ]
    },
    {
     "name": "stdout",
     "output_type": "stream",
     "text": [
      "482 489 760 720\n",
      "90\n",
      "92 466 361 718\n",
      "89\n",
      "0 0 1230 713\n",
      "57\n",
      "971 0 1279 686\n",
      "52\n",
      "479 489 762 719\n",
      "91\n",
      "92 466 362 718\n",
      "89\n",
      "965 3 1278 709\n",
      "88\n",
      "0 5 1203 666\n",
      "31\n"
     ]
    },
    {
     "name": "stderr",
     "output_type": "stream",
     "text": [
      "0: 384x640 3 persons, 1 airplane, 90.7ms\n",
      "Speed: 0.0ms preprocess, 90.7ms inference, 0.7ms postprocess per image at shape (1, 3, 384, 640)\n",
      "\n",
      "0: 384x640 3 persons, 1 airplane, 90.4ms\n",
      "Speed: 3.5ms preprocess, 90.4ms inference, 2.0ms postprocess per image at shape (1, 3, 384, 640)\n",
      "\n"
     ]
    },
    {
     "name": "stdout",
     "output_type": "stream",
     "text": [
      "478 490 763 719\n",
      "91\n",
      "943 2 1279 709\n",
      "90\n",
      "95 467 364 716\n",
      "88\n",
      "1 0 1181 713\n",
      "31\n",
      "477 491 762 720\n",
      "92\n",
      "97 469 369 719\n",
      "91\n",
      "932 4 1279 705\n",
      "88\n",
      "0 6 1184 655\n",
      "30\n"
     ]
    },
    {
     "name": "stderr",
     "output_type": "stream",
     "text": [
      "0: 384x640 3 persons, 1 airplane, 95.3ms\n",
      "Speed: 0.0ms preprocess, 95.3ms inference, 3.1ms postprocess per image at shape (1, 3, 384, 640)\n",
      "\n",
      "0: 384x640 3 persons, 1 airplane, 91.2ms\n",
      "Speed: 2.0ms preprocess, 91.2ms inference, 0.0ms postprocess per image at shape (1, 3, 384, 640)\n",
      "\n"
     ]
    },
    {
     "name": "stdout",
     "output_type": "stream",
     "text": [
      "477 492 753 720\n",
      "92\n",
      "107 470 372 719\n",
      "91\n",
      "914 3 1279 707\n",
      "90\n",
      "0 5 1192 677\n",
      "32\n",
      "476 492 752 720\n",
      "92\n",
      "107 472 373 719\n",
      "91\n",
      "911 3 1279 707\n",
      "90\n",
      "1 5 1184 682\n",
      "34\n"
     ]
    },
    {
     "name": "stderr",
     "output_type": "stream",
     "text": [
      "0: 384x640 3 persons, 1 airplane, 81.8ms\n",
      "Speed: 4.3ms preprocess, 81.8ms inference, 0.0ms postprocess per image at shape (1, 3, 384, 640)\n",
      "\n",
      "0: 384x640 3 persons, 1 airplane, 93.3ms\n",
      "Speed: 3.5ms preprocess, 93.3ms inference, 0.0ms postprocess per image at shape (1, 3, 384, 640)\n",
      "\n"
     ]
    },
    {
     "name": "stdout",
     "output_type": "stream",
     "text": [
      "473 492 765 720\n",
      "92\n",
      "119 476 378 718\n",
      "90\n",
      "908 3 1279 708\n",
      "87\n",
      "1 5 1198 699\n",
      "38\n",
      "472 494 751 720\n",
      "92\n",
      "132 482 388 718\n",
      "90\n",
      "913 3 1279 710\n",
      "88\n",
      "1 5 1175 698\n",
      "30\n"
     ]
    },
    {
     "name": "stderr",
     "output_type": "stream",
     "text": [
      "0: 384x640 3 persons, 91.9ms\n",
      "Speed: 5.2ms preprocess, 91.9ms inference, 2.0ms postprocess per image at shape (1, 3, 384, 640)\n",
      "\n",
      "0: 384x640 3 persons, 1 airplane, 88.7ms\n",
      "Speed: 2.1ms preprocess, 88.7ms inference, 2.8ms postprocess per image at shape (1, 3, 384, 640)\n",
      "\n"
     ]
    },
    {
     "name": "stdout",
     "output_type": "stream",
     "text": [
      "474 496 769 720\n",
      "93\n",
      "141 485 397 720\n",
      "90\n",
      "919 3 1279 712\n",
      "84\n",
      "477 495 767 719\n",
      "93\n",
      "155 488 405 720\n",
      "87\n",
      "923 3 1278 712\n",
      "86\n",
      "0 1 1220 715\n",
      "32\n"
     ]
    },
    {
     "name": "stderr",
     "output_type": "stream",
     "text": [
      "0: 384x640 3 persons, 1 airplane, 83.2ms\n",
      "Speed: 0.0ms preprocess, 83.2ms inference, 0.0ms postprocess per image at shape (1, 3, 384, 640)\n",
      "\n",
      "0: 384x640 3 persons, 1 airplane, 85.3ms\n",
      "Speed: 3.6ms preprocess, 85.3ms inference, 8.4ms postprocess per image at shape (1, 3, 384, 640)\n",
      "\n"
     ]
    },
    {
     "name": "stdout",
     "output_type": "stream",
     "text": [
      "478 495 769 719\n",
      "92\n",
      "155 489 406 719\n",
      "88\n",
      "927 3 1278 712\n",
      "70\n",
      "0 1 1226 714\n",
      "32\n",
      "479 496 753 720\n",
      "93\n",
      "168 494 418 720\n",
      "90\n",
      "932 3 1278 710\n",
      "72\n",
      "0 1 1235 711\n",
      "33\n"
     ]
    },
    {
     "name": "stderr",
     "output_type": "stream",
     "text": [
      "0: 384x640 3 persons, 94.1ms\n",
      "Speed: 0.0ms preprocess, 94.1ms inference, 0.0ms postprocess per image at shape (1, 3, 384, 640)\n",
      "\n",
      "0: 384x640 3 persons, 110.3ms\n",
      "Speed: 5.3ms preprocess, 110.3ms inference, 0.0ms postprocess per image at shape (1, 3, 384, 640)\n",
      "\n"
     ]
    },
    {
     "name": "stdout",
     "output_type": "stream",
     "text": [
      "479 496 745 720\n",
      "92\n",
      "174 497 425 720\n",
      "88\n",
      "919 3 1279 711\n",
      "68\n",
      "475 495 747 720\n",
      "91\n",
      "172 497 424 720\n",
      "88\n",
      "917 3 1279 709\n",
      "70\n"
     ]
    },
    {
     "name": "stderr",
     "output_type": "stream",
     "text": [
      "0: 384x640 3 persons, 1 airplane, 92.1ms\n",
      "Speed: 3.9ms preprocess, 92.1ms inference, 0.0ms postprocess per image at shape (1, 3, 384, 640)\n",
      "\n",
      "0: 384x640 3 persons, 1 airplane, 1 cat, 90.0ms\n",
      "Speed: 3.0ms preprocess, 90.0ms inference, 0.0ms postprocess per image at shape (1, 3, 384, 640)\n",
      "\n"
     ]
    },
    {
     "name": "stdout",
     "output_type": "stream",
     "text": [
      "473 496 753 720\n",
      "93\n",
      "166 496 417 719\n",
      "90\n",
      "910 1 1278 710\n",
      "73\n",
      "1 4 1169 693\n",
      "28\n",
      "473 496 752 720\n",
      "92\n",
      "163 496 413 719\n",
      "90\n",
      "906 3 1279 711\n",
      "54\n",
      "915 0 1279 706\n",
      "29\n",
      "0 1 1220 708\n",
      "28\n"
     ]
    },
    {
     "name": "stderr",
     "output_type": "stream",
     "text": [
      "0: 384x640 3 persons, 1 airplane, 90.1ms\n",
      "Speed: 0.0ms preprocess, 90.1ms inference, 0.0ms postprocess per image at shape (1, 3, 384, 640)\n",
      "\n",
      "0: 384x640 3 persons, 93.2ms\n",
      "Speed: 2.3ms preprocess, 93.2ms inference, 2.1ms postprocess per image at shape (1, 3, 384, 640)\n",
      "\n"
     ]
    },
    {
     "name": "stdout",
     "output_type": "stream",
     "text": [
      "472 496 747 720\n",
      "92\n",
      "150 493 401 720\n",
      "88\n",
      "908 3 1279 707\n",
      "71\n",
      "0 1 1220 714\n",
      "38\n",
      "472 497 747 720\n",
      "91\n",
      "121 488 376 718\n",
      "87\n",
      "911 3 1279 707\n",
      "75\n"
     ]
    },
    {
     "name": "stderr",
     "output_type": "stream",
     "text": [
      "0: 384x640 3 persons, 1 airplane, 1 cat, 91.6ms\n",
      "Speed: 6.0ms preprocess, 91.6ms inference, 2.0ms postprocess per image at shape (1, 3, 384, 640)\n",
      "\n",
      "0: 384x640 3 persons, 87.2ms\n",
      "Speed: 2.3ms preprocess, 87.2ms inference, 0.0ms postprocess per image at shape (1, 3, 384, 640)\n",
      "\n"
     ]
    },
    {
     "name": "stdout",
     "output_type": "stream",
     "text": [
      "470 496 747 720\n",
      "92\n",
      "89 483 352 719\n",
      "90\n",
      "908 2 1279 709\n",
      "46\n",
      "910 1 1279 705\n",
      "38\n",
      "0 5 1200 668\n",
      "27\n",
      "470 496 744 719\n",
      "91\n",
      "63 479 330 718\n",
      "90\n",
      "920 4 1279 707\n",
      "79\n"
     ]
    },
    {
     "name": "stderr",
     "output_type": "stream",
     "text": [
      "0: 384x640 3 persons, 93.0ms\n",
      "Speed: 4.1ms preprocess, 93.0ms inference, 0.0ms postprocess per image at shape (1, 3, 384, 640)\n",
      "\n",
      "0: 384x640 3 persons, 97.1ms\n",
      "Speed: 1.5ms preprocess, 97.1ms inference, 2.0ms postprocess per image at shape (1, 3, 384, 640)\n",
      "\n"
     ]
    },
    {
     "name": "stdout",
     "output_type": "stream",
     "text": [
      "938 3 1278 708\n",
      "91\n",
      "468 497 739 719\n",
      "91\n",
      "40 475 312 718\n",
      "90\n",
      "467 497 740 719\n",
      "91\n",
      "34 475 310 718\n",
      "90\n",
      "943 3 1278 709\n",
      "89\n"
     ]
    },
    {
     "name": "stderr",
     "output_type": "stream",
     "text": [
      "0: 384x640 3 persons, 89.9ms\n",
      "Speed: 4.6ms preprocess, 89.9ms inference, 2.1ms postprocess per image at shape (1, 3, 384, 640)\n",
      "\n",
      "0: 384x640 3 persons, 96.5ms\n",
      "Speed: 3.7ms preprocess, 96.5ms inference, 0.0ms postprocess per image at shape (1, 3, 384, 640)\n",
      "\n"
     ]
    },
    {
     "name": "stdout",
     "output_type": "stream",
     "text": [
      "948 3 1279 708\n",
      "92\n",
      "468 497 740 719\n",
      "92\n",
      "23 472 298 719\n",
      "91\n",
      "465 496 739 719\n",
      "91\n",
      "15 470 294 718\n",
      "90\n",
      "953 4 1279 710\n",
      "85\n"
     ]
    },
    {
     "name": "stderr",
     "output_type": "stream",
     "text": [
      "0: 384x640 3 persons, 96.6ms\n",
      "Speed: 0.0ms preprocess, 96.6ms inference, 0.0ms postprocess per image at shape (1, 3, 384, 640)\n",
      "\n",
      "0: 384x640 3 persons, 103.0ms\n",
      "Speed: 3.3ms preprocess, 103.0ms inference, 2.0ms postprocess per image at shape (1, 3, 384, 640)\n",
      "\n"
     ]
    },
    {
     "name": "stdout",
     "output_type": "stream",
     "text": [
      "463 496 739 719\n",
      "91\n",
      "14 469 294 718\n",
      "90\n",
      "954 5 1279 710\n",
      "61\n",
      "462 496 738 719\n",
      "92\n",
      "16 470 297 719\n",
      "91\n",
      "957 3 1279 709\n",
      "87\n"
     ]
    },
    {
     "name": "stderr",
     "output_type": "stream",
     "text": [
      "0: 384x640 3 persons, 95.5ms\n",
      "Speed: 0.0ms preprocess, 95.5ms inference, 0.0ms postprocess per image at shape (1, 3, 384, 640)\n",
      "\n",
      "0: 384x640 3 persons, 89.2ms\n",
      "Speed: 2.7ms preprocess, 89.2ms inference, 0.0ms postprocess per image at shape (1, 3, 384, 640)\n",
      "\n"
     ]
    },
    {
     "name": "stdout",
     "output_type": "stream",
     "text": [
      "461 496 737 719\n",
      "92\n",
      "30 473 305 719\n",
      "92\n",
      "959 2 1279 706\n",
      "89\n",
      "461 496 737 719\n",
      "92\n",
      "34 476 309 719\n",
      "92\n",
      "956 2 1279 707\n",
      "89\n"
     ]
    },
    {
     "name": "stderr",
     "output_type": "stream",
     "text": [
      "0: 384x640 3 persons, 92.2ms\n",
      "Speed: 4.7ms preprocess, 92.2ms inference, 3.4ms postprocess per image at shape (1, 3, 384, 640)\n",
      "\n",
      "0: 384x640 3 persons, 94.6ms\n",
      "Speed: 0.0ms preprocess, 94.6ms inference, 3.1ms postprocess per image at shape (1, 3, 384, 640)\n",
      "\n"
     ]
    },
    {
     "name": "stdout",
     "output_type": "stream",
     "text": [
      "459 496 737 719\n",
      "92\n",
      "58 478 325 718\n",
      "91\n",
      "957 3 1279 707\n",
      "90\n",
      "82 484 342 718\n",
      "92\n",
      "459 496 737 719\n",
      "91\n",
      "959 2 1279 706\n",
      "89\n"
     ]
    },
    {
     "name": "stderr",
     "output_type": "stream",
     "text": [
      "0: 384x640 3 persons, 93.2ms\n",
      "Speed: 2.1ms preprocess, 93.2ms inference, 0.5ms postprocess per image at shape (1, 3, 384, 640)\n",
      "\n",
      "0: 384x640 3 persons, 115.4ms\n",
      "Speed: 0.0ms preprocess, 115.4ms inference, 2.0ms postprocess per image at shape (1, 3, 384, 640)\n",
      "\n"
     ]
    },
    {
     "name": "stdout",
     "output_type": "stream",
     "text": [
      "105 489 360 719\n",
      "91\n",
      "457 495 736 719\n",
      "91\n",
      "959 2 1279 709\n",
      "91\n",
      "139 496 387 719\n",
      "91\n",
      "457 496 736 718\n",
      "91\n",
      "966 2 1279 708\n",
      "89\n"
     ]
    },
    {
     "name": "stderr",
     "output_type": "stream",
     "text": [
      "0: 384x640 3 persons, 1 airplane, 89.0ms\n",
      "Speed: 6.2ms preprocess, 89.0ms inference, 2.5ms postprocess per image at shape (1, 3, 384, 640)\n",
      "\n",
      "0: 384x640 3 persons, 1 airplane, 96.6ms\n",
      "Speed: 0.0ms preprocess, 96.6ms inference, 0.0ms postprocess per image at shape (1, 3, 384, 640)\n",
      "\n"
     ]
    },
    {
     "name": "stdout",
     "output_type": "stream",
     "text": [
      "458 496 736 718\n",
      "91\n",
      "971 2 1279 706\n",
      "91\n",
      "155 498 397 720\n",
      "91\n",
      "1 2 1251 707\n",
      "36\n",
      "458 497 740 718\n",
      "91\n",
      "973 2 1279 707\n",
      "91\n",
      "168 501 408 719\n",
      "89\n",
      "0 1 1231 706\n",
      "32\n"
     ]
    },
    {
     "name": "stderr",
     "output_type": "stream",
     "text": [
      "0: 384x640 3 persons, 96.9ms\n",
      "Speed: 0.0ms preprocess, 96.9ms inference, 0.0ms postprocess per image at shape (1, 3, 384, 640)\n",
      "\n",
      "0: 384x640 3 persons, 90.8ms\n",
      "Speed: 4.4ms preprocess, 90.8ms inference, 0.0ms postprocess per image at shape (1, 3, 384, 640)\n",
      "\n"
     ]
    },
    {
     "name": "stdout",
     "output_type": "stream",
     "text": [
      "458 496 743 719\n",
      "92\n",
      "169 502 409 719\n",
      "88\n",
      "972 2 1279 709\n",
      "87\n",
      "971 2 1279 709\n",
      "92\n",
      "459 496 741 719\n",
      "91\n",
      "171 504 411 719\n",
      "91\n"
     ]
    },
    {
     "name": "stderr",
     "output_type": "stream",
     "text": [
      "0: 384x640 3 persons, 86.9ms\n",
      "Speed: 4.3ms preprocess, 86.9ms inference, 2.0ms postprocess per image at shape (1, 3, 384, 640)\n",
      "\n",
      "0: 384x640 3 persons, 84.0ms\n",
      "Speed: 1.4ms preprocess, 84.0ms inference, 0.0ms postprocess per image at shape (1, 3, 384, 640)\n",
      "\n"
     ]
    },
    {
     "name": "stdout",
     "output_type": "stream",
     "text": [
      "172 504 413 719\n",
      "92\n",
      "461 495 767 719\n",
      "92\n",
      "972 2 1279 708\n",
      "91\n",
      "170 504 411 720\n",
      "91\n",
      "463 495 768 719\n",
      "91\n",
      "973 3 1279 709\n",
      "89\n"
     ]
    },
    {
     "name": "stderr",
     "output_type": "stream",
     "text": [
      "0: 384x640 3 persons, 1 airplane, 88.7ms\n",
      "Speed: 5.0ms preprocess, 88.7ms inference, 0.0ms postprocess per image at shape (1, 3, 384, 640)\n",
      "\n",
      "0: 384x640 3 persons, 1 airplane, 88.2ms\n",
      "Speed: 4.9ms preprocess, 88.2ms inference, 1.7ms postprocess per image at shape (1, 3, 384, 640)\n",
      "\n"
     ]
    },
    {
     "name": "stdout",
     "output_type": "stream",
     "text": [
      "973 2 1279 708\n",
      "93\n",
      "169 503 410 720\n",
      "90\n",
      "464 495 770 719\n",
      "90\n",
      "0 0 1251 711\n",
      "29\n",
      "975 2 1279 708\n",
      "92\n",
      "468 493 751 719\n",
      "92\n",
      "157 499 404 720\n",
      "89\n",
      "1 1 1249 716\n",
      "38\n"
     ]
    },
    {
     "name": "stderr",
     "output_type": "stream",
     "text": [
      "0: 384x640 3 persons, 1 airplane, 91.7ms\n",
      "Speed: 2.0ms preprocess, 91.7ms inference, 0.0ms postprocess per image at shape (1, 3, 384, 640)\n",
      "\n",
      "0: 384x640 3 persons, 1 airplane, 84.8ms\n",
      "Speed: 4.7ms preprocess, 84.8ms inference, 5.7ms postprocess per image at shape (1, 3, 384, 640)\n",
      "\n"
     ]
    },
    {
     "name": "stdout",
     "output_type": "stream",
     "text": [
      "979 2 1279 707\n",
      "92\n",
      "471 493 750 719\n",
      "92\n",
      "138 495 387 719\n",
      "91\n",
      "1 6 1166 691\n",
      "26\n",
      "982 2 1279 707\n",
      "93\n",
      "473 493 754 720\n",
      "92\n",
      "107 488 367 720\n",
      "91\n",
      "1 5 1194 687\n",
      "26\n"
     ]
    },
    {
     "name": "stderr",
     "output_type": "stream",
     "text": [
      "0: 384x640 3 persons, 92.5ms\n",
      "Speed: 0.0ms preprocess, 92.5ms inference, 0.0ms postprocess per image at shape (1, 3, 384, 640)\n",
      "\n",
      "0: 384x640 3 persons, 92.9ms\n",
      "Speed: 3.8ms preprocess, 92.9ms inference, 2.5ms postprocess per image at shape (1, 3, 384, 640)\n",
      "\n"
     ]
    },
    {
     "name": "stdout",
     "output_type": "stream",
     "text": [
      "984 2 1279 707\n",
      "93\n",
      "473 493 754 720\n",
      "92\n",
      "98 487 360 720\n",
      "91\n",
      "987 2 1279 709\n",
      "93\n",
      "474 493 761 720\n",
      "92\n",
      "75 482 340 719\n",
      "91\n"
     ]
    },
    {
     "name": "stderr",
     "output_type": "stream",
     "text": [
      "0: 384x640 3 persons, 85.3ms\n",
      "Speed: 2.9ms preprocess, 85.3ms inference, 2.0ms postprocess per image at shape (1, 3, 384, 640)\n",
      "\n",
      "0: 384x640 3 persons, 95.2ms\n",
      "Speed: 0.0ms preprocess, 95.2ms inference, 0.0ms postprocess per image at shape (1, 3, 384, 640)\n",
      "\n"
     ]
    },
    {
     "name": "stdout",
     "output_type": "stream",
     "text": [
      "987 2 1279 708\n",
      "92\n",
      "478 493 761 720\n",
      "92\n",
      "47 476 318 718\n",
      "89\n",
      "478 493 761 720\n",
      "92\n",
      "989 2 1279 711\n",
      "88\n",
      "19 469 297 716\n",
      "88\n"
     ]
    },
    {
     "name": "stderr",
     "output_type": "stream",
     "text": [
      "0: 384x640 3 persons, 87.8ms\n",
      "Speed: 5.5ms preprocess, 87.8ms inference, 2.9ms postprocess per image at shape (1, 3, 384, 640)\n",
      "\n",
      "0: 384x640 3 persons, 1 airplane, 94.5ms\n",
      "Speed: 4.0ms preprocess, 94.5ms inference, 0.5ms postprocess per image at shape (1, 3, 384, 640)\n",
      "\n"
     ]
    },
    {
     "name": "stdout",
     "output_type": "stream",
     "text": [
      "0 466 285 716\n",
      "91\n",
      "478 493 771 720\n",
      "91\n",
      "952 1 1278 712\n",
      "87\n",
      "0 468 281 716\n",
      "91\n",
      "478 493 775 719\n",
      "91\n",
      "964 1 1278 702\n",
      "88\n",
      "1 1 1264 687\n",
      "27\n"
     ]
    },
    {
     "name": "stderr",
     "output_type": "stream",
     "text": [
      "0: 384x640 3 persons, 98.6ms\n",
      "Speed: 0.0ms preprocess, 98.6ms inference, 2.9ms postprocess per image at shape (1, 3, 384, 640)\n",
      "\n",
      "0: 384x640 3 persons, 87.7ms\n",
      "Speed: 4.0ms preprocess, 87.7ms inference, 2.0ms postprocess per image at shape (1, 3, 384, 640)\n",
      "\n"
     ]
    },
    {
     "name": "stdout",
     "output_type": "stream",
     "text": [
      "933 2 1279 707\n",
      "93\n",
      "480 493 783 719\n",
      "92\n",
      "0 464 274 715\n",
      "91\n",
      "952 3 1279 709\n",
      "92\n",
      "0 462 272 716\n",
      "91\n",
      "481 492 789 718\n",
      "91\n"
     ]
    },
    {
     "name": "stderr",
     "output_type": "stream",
     "text": [
      "0: 384x640 3 persons, 1 airplane, 92.9ms\n",
      "Speed: 0.0ms preprocess, 92.9ms inference, 0.0ms postprocess per image at shape (1, 3, 384, 640)\n",
      "\n",
      "0: 384x640 3 persons, 104.4ms\n",
      "Speed: 4.0ms preprocess, 104.4ms inference, 0.0ms postprocess per image at shape (1, 3, 384, 640)\n",
      "\n"
     ]
    },
    {
     "name": "stdout",
     "output_type": "stream",
     "text": [
      "0 461 270 716\n",
      "92\n",
      "944 2 1279 707\n",
      "90\n",
      "481 492 778 719\n",
      "86\n",
      "1 4 1153 708\n",
      "31\n",
      "0 460 272 716\n",
      "91\n",
      "941 2 1279 708\n",
      "91\n",
      "485 492 777 720\n",
      "90\n"
     ]
    },
    {
     "name": "stderr",
     "output_type": "stream",
     "text": [
      "0: 384x640 3 persons, 92.3ms\n",
      "Speed: 5.6ms preprocess, 92.3ms inference, 1.4ms postprocess per image at shape (1, 3, 384, 640)\n",
      "\n",
      "0: 384x640 3 persons, 88.3ms\n",
      "Speed: 3.2ms preprocess, 88.3ms inference, 0.0ms postprocess per image at shape (1, 3, 384, 640)\n",
      "\n"
     ]
    },
    {
     "name": "stdout",
     "output_type": "stream",
     "text": [
      "937 2 1279 709\n",
      "92\n",
      "0 459 275 716\n",
      "92\n",
      "489 491 784 719\n",
      "91\n",
      "0 459 276 716\n",
      "92\n",
      "935 2 1279 708\n",
      "92\n",
      "489 492 780 719\n",
      "91\n"
     ]
    },
    {
     "name": "stderr",
     "output_type": "stream",
     "text": [
      "0: 384x640 3 persons, 1 airplane, 86.9ms\n",
      "Speed: 4.4ms preprocess, 86.9ms inference, 2.0ms postprocess per image at shape (1, 3, 384, 640)\n",
      "\n",
      "0: 384x640 3 persons, 93.2ms\n",
      "Speed: 2.0ms preprocess, 93.2ms inference, 2.3ms postprocess per image at shape (1, 3, 384, 640)\n",
      "\n"
     ]
    },
    {
     "name": "stdout",
     "output_type": "stream",
     "text": [
      "933 2 1279 709\n",
      "92\n",
      "488 491 761 720\n",
      "91\n",
      "0 459 281 715\n",
      "91\n",
      "0 0 1181 713\n",
      "26\n",
      "936 3 1279 709\n",
      "93\n",
      "481 490 755 720\n",
      "92\n",
      "0 458 291 715\n",
      "91\n"
     ]
    },
    {
     "name": "stderr",
     "output_type": "stream",
     "text": [
      "0: 384x640 3 persons, 1 airplane, 88.6ms\n",
      "Speed: 2.8ms preprocess, 88.6ms inference, 2.0ms postprocess per image at shape (1, 3, 384, 640)\n",
      "\n",
      "0: 384x640 3 persons, 94.0ms\n",
      "Speed: 3.7ms preprocess, 94.0ms inference, 0.0ms postprocess per image at shape (1, 3, 384, 640)\n",
      "\n"
     ]
    },
    {
     "name": "stdout",
     "output_type": "stream",
     "text": [
      "937 2 1279 709\n",
      "94\n",
      "477 488 756 719\n",
      "92\n",
      "4 457 301 715\n",
      "86\n",
      "0 4 1064 540\n",
      "34\n",
      "942 2 1279 708\n",
      "93\n",
      "472 489 763 720\n",
      "90\n",
      "17 456 312 714\n",
      "88\n"
     ]
    },
    {
     "name": "stderr",
     "output_type": "stream",
     "text": [
      "0: 384x640 3 persons, 92.4ms\n",
      "Speed: 0.0ms preprocess, 92.4ms inference, 3.2ms postprocess per image at shape (1, 3, 384, 640)\n",
      "\n",
      "0: 384x640 3 persons, 90.0ms\n",
      "Speed: 2.4ms preprocess, 90.0ms inference, 2.0ms postprocess per image at shape (1, 3, 384, 640)\n",
      "\n"
     ]
    },
    {
     "name": "stdout",
     "output_type": "stream",
     "text": [
      "947 2 1279 708\n",
      "93\n",
      "469 489 758 719\n",
      "90\n",
      "32 456 326 715\n",
      "89\n",
      "949 3 1279 708\n",
      "92\n",
      "468 488 756 719\n",
      "89\n",
      "34 457 329 715\n",
      "89\n"
     ]
    },
    {
     "name": "stderr",
     "output_type": "stream",
     "text": [
      "0: 384x640 3 persons, 1 airplane, 86.6ms\n",
      "Speed: 2.0ms preprocess, 86.6ms inference, 0.0ms postprocess per image at shape (1, 3, 384, 640)\n",
      "\n",
      "0: 384x640 3 persons, 1 airplane, 88.9ms\n",
      "Speed: 2.2ms preprocess, 88.9ms inference, 2.0ms postprocess per image at shape (1, 3, 384, 640)\n",
      "\n"
     ]
    },
    {
     "name": "stdout",
     "output_type": "stream",
     "text": [
      "945 2 1279 708\n",
      "93\n",
      "464 489 756 716\n",
      "90\n",
      "51 460 342 715\n",
      "88\n",
      "0 4 1040 570\n",
      "33\n",
      "945 3 1279 708\n",
      "93\n",
      "464 488 757 717\n",
      "91\n",
      "53 461 347 715\n",
      "88\n",
      "0 4 1019 573\n",
      "37\n"
     ]
    },
    {
     "name": "stderr",
     "output_type": "stream",
     "text": [
      "0: 384x640 3 persons, 1 airplane, 101.9ms\n",
      "Speed: 0.0ms preprocess, 101.9ms inference, 2.0ms postprocess per image at shape (1, 3, 384, 640)\n",
      "\n",
      "0: 384x640 3 persons, 98.6ms\n",
      "Speed: 0.0ms preprocess, 98.6ms inference, 0.0ms postprocess per image at shape (1, 3, 384, 640)\n",
      "\n"
     ]
    },
    {
     "name": "stdout",
     "output_type": "stream",
     "text": [
      "949 3 1279 708\n",
      "91\n",
      "465 488 756 716\n",
      "90\n",
      "47 458 347 715\n",
      "89\n",
      "1 6 1183 701\n",
      "26\n",
      "464 488 754 716\n",
      "90\n",
      "43 458 343 715\n",
      "88\n",
      "937 2 1279 707\n",
      "86\n"
     ]
    },
    {
     "name": "stderr",
     "output_type": "stream",
     "text": [
      "0: 384x640 3 persons, 86.2ms\n",
      "Speed: 4.2ms preprocess, 86.2ms inference, 2.0ms postprocess per image at shape (1, 3, 384, 640)\n",
      "\n",
      "0: 384x640 3 persons, 87.7ms\n",
      "Speed: 0.0ms preprocess, 87.7ms inference, 0.0ms postprocess per image at shape (1, 3, 384, 640)\n",
      "\n"
     ]
    },
    {
     "name": "stdout",
     "output_type": "stream",
     "text": [
      "466 488 760 717\n",
      "89\n",
      "26 452 333 714\n",
      "88\n",
      "929 2 1279 702\n",
      "70\n",
      "469 487 755 717\n",
      "90\n",
      "908 6 1279 705\n",
      "90\n",
      "3 440 316 715\n",
      "90\n"
     ]
    },
    {
     "name": "stderr",
     "output_type": "stream",
     "text": [
      "0: 384x640 3 persons, 88.0ms\n",
      "Speed: 0.7ms preprocess, 88.0ms inference, 0.0ms postprocess per image at shape (1, 3, 384, 640)\n",
      "\n",
      "0: 384x640 3 persons, 86.5ms\n",
      "Speed: 2.5ms preprocess, 86.5ms inference, 2.8ms postprocess per image at shape (1, 3, 384, 640)\n",
      "\n"
     ]
    },
    {
     "name": "stdout",
     "output_type": "stream",
     "text": [
      "904 5 1279 705\n",
      "90\n",
      "469 487 756 717\n",
      "90\n",
      "0 429 303 714\n",
      "90\n",
      "903 4 1279 708\n",
      "92\n",
      "470 486 755 719\n",
      "90\n",
      "0 424 296 714\n",
      "89\n"
     ]
    },
    {
     "name": "stderr",
     "output_type": "stream",
     "text": [
      "0: 384x640 3 persons, 88.9ms\n",
      "Speed: 0.8ms preprocess, 88.9ms inference, 3.0ms postprocess per image at shape (1, 3, 384, 640)\n",
      "\n",
      "0: 384x640 3 persons, 119.7ms\n",
      "Speed: 4.6ms preprocess, 119.7ms inference, 1.4ms postprocess per image at shape (1, 3, 384, 640)\n",
      "\n"
     ]
    },
    {
     "name": "stdout",
     "output_type": "stream",
     "text": [
      "895 2 1279 710\n",
      "92\n",
      "471 487 754 719\n",
      "89\n",
      "0 413 280 713\n",
      "87\n",
      "888 3 1279 711\n",
      "92\n",
      "0 399 253 714\n",
      "89\n",
      "471 487 759 719\n",
      "87\n"
     ]
    },
    {
     "name": "stderr",
     "output_type": "stream",
     "text": [
      "0: 384x640 3 persons, 92.1ms\n",
      "Speed: 0.0ms preprocess, 92.1ms inference, 2.0ms postprocess per image at shape (1, 3, 384, 640)\n",
      "\n",
      "0: 384x640 3 persons, 95.2ms\n",
      "Speed: 0.0ms preprocess, 95.2ms inference, 2.0ms postprocess per image at shape (1, 3, 384, 640)\n",
      "\n"
     ]
    },
    {
     "name": "stdout",
     "output_type": "stream",
     "text": [
      "879 2 1279 712\n",
      "92\n",
      "472 487 763 720\n",
      "88\n",
      "0 389 251 715\n",
      "87\n",
      "870 2 1279 709\n",
      "91\n",
      "474 487 762 719\n",
      "91\n",
      "0 379 240 714\n",
      "89\n"
     ]
    },
    {
     "name": "stderr",
     "output_type": "stream",
     "text": [
      "0: 384x640 3 persons, 93.1ms\n",
      "Speed: 0.0ms preprocess, 93.1ms inference, 2.1ms postprocess per image at shape (1, 3, 384, 640)\n",
      "\n",
      "0: 384x640 3 persons, 87.4ms\n",
      "Speed: 4.1ms preprocess, 87.4ms inference, 2.0ms postprocess per image at shape (1, 3, 384, 640)\n",
      "\n"
     ]
    },
    {
     "name": "stdout",
     "output_type": "stream",
     "text": [
      "474 488 758 720\n",
      "92\n",
      "0 374 246 715\n",
      "89\n",
      "857 2 1279 706\n",
      "88\n",
      "474 488 759 720\n",
      "92\n",
      "0 374 245 715\n",
      "91\n",
      "855 2 1279 706\n",
      "89\n"
     ]
    },
    {
     "name": "stderr",
     "output_type": "stream",
     "text": [
      "0: 384x640 3 persons, 93.1ms\n",
      "Speed: 0.0ms preprocess, 93.1ms inference, 0.0ms postprocess per image at shape (1, 3, 384, 640)\n",
      "\n",
      "0: 384x640 3 persons, 83.4ms\n",
      "Speed: 2.0ms preprocess, 83.4ms inference, 0.0ms postprocess per image at shape (1, 3, 384, 640)\n",
      "\n"
     ]
    },
    {
     "name": "stdout",
     "output_type": "stream",
     "text": [
      "475 488 759 720\n",
      "91\n",
      "0 372 236 715\n",
      "89\n",
      "836 4 1278 706\n",
      "81\n",
      "475 488 757 720\n",
      "92\n",
      "0 370 236 715\n",
      "89\n",
      "827 4 1278 708\n",
      "85\n"
     ]
    },
    {
     "name": "stderr",
     "output_type": "stream",
     "text": [
      "0: 384x640 3 persons, 101.3ms\n",
      "Speed: 0.0ms preprocess, 101.3ms inference, 1.7ms postprocess per image at shape (1, 3, 384, 640)\n",
      "\n",
      "0: 384x640 3 persons, 95.5ms\n",
      "Speed: 2.7ms preprocess, 95.5ms inference, 1.5ms postprocess per image at shape (1, 3, 384, 640)\n",
      "\n"
     ]
    },
    {
     "name": "stdout",
     "output_type": "stream",
     "text": [
      "475 489 755 720\n",
      "92\n",
      "0 377 235 716\n",
      "89\n",
      "808 4 1278 705\n",
      "84\n",
      "474 490 755 719\n",
      "92\n",
      "0 379 235 715\n",
      "90\n",
      "821 4 1279 706\n",
      "90\n"
     ]
    },
    {
     "name": "stderr",
     "output_type": "stream",
     "text": [
      "0: 384x640 3 persons, 96.4ms\n",
      "Speed: 2.0ms preprocess, 96.4ms inference, 2.9ms postprocess per image at shape (1, 3, 384, 640)\n",
      "\n",
      "0: 384x640 3 persons, 90.5ms\n",
      "Speed: 5.5ms preprocess, 90.5ms inference, 2.0ms postprocess per image at shape (1, 3, 384, 640)\n",
      "\n"
     ]
    },
    {
     "name": "stdout",
     "output_type": "stream",
     "text": [
      "474 490 754 719\n",
      "92\n",
      "818 4 1279 707\n",
      "90\n",
      "0 382 236 715\n",
      "89\n",
      "474 491 752 719\n",
      "91\n",
      "811 4 1278 707\n",
      "91\n",
      "0 393 246 714\n",
      "91\n"
     ]
    },
    {
     "name": "stderr",
     "output_type": "stream",
     "text": [
      "0: 384x640 3 persons, 87.0ms\n",
      "Speed: 0.0ms preprocess, 87.0ms inference, 0.0ms postprocess per image at shape (1, 3, 384, 640)\n",
      "\n",
      "0: 384x640 3 persons, 98.8ms\n",
      "Speed: 3.9ms preprocess, 98.8ms inference, 0.0ms postprocess per image at shape (1, 3, 384, 640)\n",
      "\n"
     ]
    },
    {
     "name": "stdout",
     "output_type": "stream",
     "text": [
      "472 493 750 720\n",
      "91\n",
      "0 404 250 714\n",
      "91\n",
      "809 3 1278 708\n",
      "89\n",
      "470 494 748 719\n",
      "91\n",
      "0 418 266 714\n",
      "89\n",
      "797 4 1278 709\n",
      "88\n"
     ]
    },
    {
     "name": "stderr",
     "output_type": "stream",
     "text": [
      "0: 384x640 3 persons, 99.4ms\n",
      "Speed: 5.8ms preprocess, 99.4ms inference, 4.4ms postprocess per image at shape (1, 3, 384, 640)\n",
      "\n",
      "0: 384x640 3 persons, 97.7ms\n",
      "Speed: 2.9ms preprocess, 97.7ms inference, 0.0ms postprocess per image at shape (1, 3, 384, 640)\n",
      "\n"
     ]
    },
    {
     "name": "stdout",
     "output_type": "stream",
     "text": [
      "730 3 1279 707\n",
      "91\n",
      "467 495 734 719\n",
      "90\n",
      "0 431 287 714\n",
      "88\n",
      "0 439 303 715\n",
      "91\n",
      "551 2 1278 709\n",
      "77\n",
      "466 495 695 717\n",
      "72\n"
     ]
    },
    {
     "name": "stderr",
     "output_type": "stream",
     "text": [
      "0: 384x640 3 persons, 98.0ms\n",
      "Speed: 4.7ms preprocess, 98.0ms inference, 0.0ms postprocess per image at shape (1, 3, 384, 640)\n",
      "\n",
      "0: 384x640 3 persons, 1 airplane, 98.8ms\n",
      "Speed: 2.0ms preprocess, 98.8ms inference, 0.0ms postprocess per image at shape (1, 3, 384, 640)\n",
      "\n"
     ]
    },
    {
     "name": "stdout",
     "output_type": "stream",
     "text": [
      "0 452 314 715\n",
      "90\n",
      "578 2 1278 712\n",
      "84\n",
      "464 495 655 717\n",
      "82\n",
      "0 460 328 715\n",
      "90\n",
      "524 4 1277 713\n",
      "87\n",
      "460 498 633 718\n",
      "86\n",
      "2 4 744 572\n",
      "38\n"
     ]
    },
    {
     "name": "stderr",
     "output_type": "stream",
     "text": [
      "0: 384x640 3 persons, 89.2ms\n",
      "Speed: 0.0ms preprocess, 89.2ms inference, 0.0ms postprocess per image at shape (1, 3, 384, 640)\n",
      "\n",
      "0: 384x640 3 persons, 1 airplane, 89.7ms\n",
      "Speed: 2.7ms preprocess, 89.7ms inference, 0.0ms postprocess per image at shape (1, 3, 384, 640)\n",
      "\n"
     ]
    },
    {
     "name": "stdout",
     "output_type": "stream",
     "text": [
      "511 5 1279 711\n",
      "90\n",
      "0 464 335 715\n",
      "90\n",
      "458 497 624 719\n",
      "85\n",
      "495 6 1278 711\n",
      "92\n",
      "0 466 332 715\n",
      "91\n",
      "456 499 616 719\n",
      "84\n",
      "1 4 732 582\n",
      "31\n"
     ]
    },
    {
     "name": "stderr",
     "output_type": "stream",
     "text": [
      "0: 384x640 3 persons, 118.9ms\n",
      "Speed: 6.3ms preprocess, 118.9ms inference, 0.0ms postprocess per image at shape (1, 3, 384, 640)\n",
      "\n",
      "0: 384x640 3 persons, 96.2ms\n",
      "Speed: 0.0ms preprocess, 96.2ms inference, 0.0ms postprocess per image at shape (1, 3, 384, 640)\n",
      "\n"
     ]
    },
    {
     "name": "stdout",
     "output_type": "stream",
     "text": [
      "478 4 1278 710\n",
      "91\n",
      "0 464 320 714\n",
      "91\n",
      "451 502 611 718\n",
      "81\n",
      "490 8 1278 711\n",
      "92\n",
      "0 466 308 715\n",
      "89\n",
      "451 506 611 718\n",
      "85\n"
     ]
    },
    {
     "name": "stderr",
     "output_type": "stream",
     "text": [
      "0: 384x640 4 persons, 88.4ms\n",
      "Speed: 3.8ms preprocess, 88.4ms inference, 2.0ms postprocess per image at shape (1, 3, 384, 640)\n",
      "\n",
      "0: 384x640 3 persons, 94.1ms\n",
      "Speed: 2.0ms preprocess, 94.1ms inference, 2.1ms postprocess per image at shape (1, 3, 384, 640)\n",
      "\n"
     ]
    },
    {
     "name": "stdout",
     "output_type": "stream",
     "text": [
      "547 3 1277 711\n",
      "92\n",
      "0 508 273 718\n",
      "80\n",
      "474 564 606 720\n",
      "69\n",
      "509 565 604 717\n",
      "30\n",
      "553 3 1277 712\n",
      "93\n",
      "0 520 260 718\n",
      "80\n",
      "508 579 604 718\n",
      "68\n"
     ]
    },
    {
     "name": "stderr",
     "output_type": "stream",
     "text": [
      "0: 384x640 3 persons, 91.6ms\n",
      "Speed: 0.0ms preprocess, 91.6ms inference, 0.7ms postprocess per image at shape (1, 3, 384, 640)\n",
      "\n",
      "0: 384x640 2 persons, 94.0ms\n",
      "Speed: 0.0ms preprocess, 94.0ms inference, 0.0ms postprocess per image at shape (1, 3, 384, 640)\n",
      "\n"
     ]
    },
    {
     "name": "stdout",
     "output_type": "stream",
     "text": [
      "573 3 1278 711\n",
      "94\n",
      "25 562 194 720\n",
      "73\n",
      "491 635 584 720\n",
      "67\n",
      "560 2 1277 711\n",
      "94\n",
      "423 650 539 719\n",
      "51\n"
     ]
    },
    {
     "name": "stderr",
     "output_type": "stream",
     "text": [
      "0: 384x640 1 person, 103.6ms\n",
      "Speed: 3.5ms preprocess, 103.6ms inference, 0.0ms postprocess per image at shape (1, 3, 384, 640)\n",
      "\n",
      "0: 384x640 1 person, 94.5ms\n",
      "Speed: 0.0ms preprocess, 94.5ms inference, 2.8ms postprocess per image at shape (1, 3, 384, 640)\n",
      "\n"
     ]
    },
    {
     "name": "stdout",
     "output_type": "stream",
     "text": [
      "522 3 1278 709\n",
      "94\n",
      "420 2 1276 711\n",
      "94\n"
     ]
    },
    {
     "name": "stderr",
     "output_type": "stream",
     "text": [
      "0: 384x640 1 person, 90.1ms\n",
      "Speed: 0.8ms preprocess, 90.1ms inference, 2.0ms postprocess per image at shape (1, 3, 384, 640)\n",
      "\n",
      "0: 384x640 1 person, 92.8ms\n",
      "Speed: 0.9ms preprocess, 92.8ms inference, 0.0ms postprocess per image at shape (1, 3, 384, 640)\n",
      "\n"
     ]
    },
    {
     "name": "stdout",
     "output_type": "stream",
     "text": [
      "389 2 1256 711\n",
      "92\n",
      "336 6 1272 712\n",
      "93\n"
     ]
    },
    {
     "name": "stderr",
     "output_type": "stream",
     "text": [
      "0: 384x640 1 person, 86.9ms\n",
      "Speed: 2.0ms preprocess, 86.9ms inference, 2.0ms postprocess per image at shape (1, 3, 384, 640)\n",
      "\n",
      "0: 384x640 1 person, 91.8ms\n",
      "Speed: 4.4ms preprocess, 91.8ms inference, 5.0ms postprocess per image at shape (1, 3, 384, 640)\n",
      "\n"
     ]
    },
    {
     "name": "stdout",
     "output_type": "stream",
     "text": [
      "359 4 1274 712\n",
      "94\n",
      "354 4 1272 711\n",
      "92\n"
     ]
    },
    {
     "name": "stderr",
     "output_type": "stream",
     "text": [
      "0: 384x640 1 person, 99.7ms\n",
      "Speed: 4.9ms preprocess, 99.7ms inference, 0.7ms postprocess per image at shape (1, 3, 384, 640)\n",
      "\n",
      "0: 384x640 1 person, 91.5ms\n",
      "Speed: 3.4ms preprocess, 91.5ms inference, 0.0ms postprocess per image at shape (1, 3, 384, 640)\n",
      "\n"
     ]
    },
    {
     "name": "stdout",
     "output_type": "stream",
     "text": [
      "326 6 1199 713\n",
      "91\n",
      "288 5 1266 710\n",
      "91\n"
     ]
    },
    {
     "name": "stderr",
     "output_type": "stream",
     "text": [
      "0: 384x640 1 person, 95.5ms\n",
      "Speed: 4.4ms preprocess, 95.5ms inference, 2.0ms postprocess per image at shape (1, 3, 384, 640)\n",
      "\n",
      "0: 384x640 1 person, 88.6ms\n",
      "Speed: 2.4ms preprocess, 88.6ms inference, 1.4ms postprocess per image at shape (1, 3, 384, 640)\n",
      "\n"
     ]
    },
    {
     "name": "stdout",
     "output_type": "stream",
     "text": [
      "288 1 1258 711\n",
      "90\n",
      "282 5 1265 712\n",
      "92\n"
     ]
    },
    {
     "name": "stderr",
     "output_type": "stream",
     "text": [
      "0: 384x640 1 person, 92.0ms\n",
      "Speed: 4.1ms preprocess, 92.0ms inference, 0.0ms postprocess per image at shape (1, 3, 384, 640)\n",
      "\n",
      "0: 384x640 1 person, 117.0ms\n",
      "Speed: 2.6ms preprocess, 117.0ms inference, 2.0ms postprocess per image at shape (1, 3, 384, 640)\n",
      "\n"
     ]
    },
    {
     "name": "stdout",
     "output_type": "stream",
     "text": [
      "282 5 1262 712\n",
      "91\n",
      "280 6 1274 709\n",
      "92\n"
     ]
    },
    {
     "name": "stderr",
     "output_type": "stream",
     "text": [
      "0: 384x640 1 person, 92.7ms\n",
      "Speed: 4.4ms preprocess, 92.7ms inference, 0.0ms postprocess per image at shape (1, 3, 384, 640)\n",
      "\n",
      "0: 384x640 1 person, 92.8ms\n",
      "Speed: 0.0ms preprocess, 92.8ms inference, 2.0ms postprocess per image at shape (1, 3, 384, 640)\n",
      "\n"
     ]
    },
    {
     "name": "stdout",
     "output_type": "stream",
     "text": [
      "280 4 1272 710\n",
      "91\n",
      "280 6 1277 707\n",
      "93\n"
     ]
    },
    {
     "name": "stderr",
     "output_type": "stream",
     "text": [
      "0: 384x640 1 person, 83.3ms\n",
      "Speed: 2.7ms preprocess, 83.3ms inference, 9.3ms postprocess per image at shape (1, 3, 384, 640)\n",
      "\n",
      "0: 384x640 1 person, 90.9ms\n",
      "Speed: 1.2ms preprocess, 90.9ms inference, 0.0ms postprocess per image at shape (1, 3, 384, 640)\n",
      "\n"
     ]
    },
    {
     "name": "stdout",
     "output_type": "stream",
     "text": [
      "285 7 1273 707\n",
      "92\n",
      "285 6 1276 708\n",
      "93\n"
     ]
    },
    {
     "name": "stderr",
     "output_type": "stream",
     "text": [
      "0: 384x640 1 person, 86.8ms\n",
      "Speed: 4.7ms preprocess, 86.8ms inference, 4.8ms postprocess per image at shape (1, 3, 384, 640)\n",
      "\n",
      "0: 384x640 1 person, 89.0ms\n",
      "Speed: 2.4ms preprocess, 89.0ms inference, 0.0ms postprocess per image at shape (1, 3, 384, 640)\n",
      "\n"
     ]
    },
    {
     "name": "stdout",
     "output_type": "stream",
     "text": [
      "286 7 1274 708\n",
      "92\n",
      "283 6 1268 709\n",
      "91\n"
     ]
    },
    {
     "name": "stderr",
     "output_type": "stream",
     "text": [
      "0: 384x640 2 persons, 95.8ms\n",
      "Speed: 4.8ms preprocess, 95.8ms inference, 0.0ms postprocess per image at shape (1, 3, 384, 640)\n",
      "\n",
      "0: 384x640 3 persons, 91.9ms\n",
      "Speed: 4.5ms preprocess, 91.9ms inference, 3.3ms postprocess per image at shape (1, 3, 384, 640)\n",
      "\n"
     ]
    },
    {
     "name": "stdout",
     "output_type": "stream",
     "text": [
      "307 5 1152 710\n",
      "91\n",
      "1190 648 1279 720\n",
      "41\n",
      "333 4 1053 710\n",
      "94\n",
      "1193 642 1279 720\n",
      "54\n",
      "1071 674 1128 720\n",
      "38\n"
     ]
    },
    {
     "name": "stderr",
     "output_type": "stream",
     "text": [
      "0: 384x640 3 persons, 91.6ms\n",
      "Speed: 4.3ms preprocess, 91.6ms inference, 2.0ms postprocess per image at shape (1, 3, 384, 640)\n",
      "\n",
      "0: 384x640 3 persons, 96.8ms\n",
      "Speed: 0.0ms preprocess, 96.8ms inference, 1.0ms postprocess per image at shape (1, 3, 384, 640)\n",
      "\n"
     ]
    },
    {
     "name": "stdout",
     "output_type": "stream",
     "text": [
      "347 5 1034 710\n",
      "94\n",
      "1071 678 1129 720\n",
      "43\n",
      "1205 648 1279 720\n",
      "40\n",
      "382 3 1001 711\n",
      "95\n",
      "1071 678 1129 720\n",
      "47\n",
      "1215 648 1279 719\n",
      "39\n"
     ]
    },
    {
     "name": "stderr",
     "output_type": "stream",
     "text": [
      "0: 384x640 2 persons, 89.5ms\n",
      "Speed: 0.0ms preprocess, 89.5ms inference, 1.8ms postprocess per image at shape (1, 3, 384, 640)\n",
      "\n",
      "0: 384x640 2 persons, 91.2ms\n",
      "Speed: 0.0ms preprocess, 91.2ms inference, 0.0ms postprocess per image at shape (1, 3, 384, 640)\n",
      "\n"
     ]
    },
    {
     "name": "stdout",
     "output_type": "stream",
     "text": [
      "385 3 994 711\n",
      "95\n",
      "1071 677 1128 720\n",
      "47\n",
      "414 14 967 711\n",
      "95\n",
      "1072 677 1129 720\n",
      "39\n"
     ]
    },
    {
     "name": "stderr",
     "output_type": "stream",
     "text": [
      "0: 384x640 3 persons, 85.0ms\n",
      "Speed: 4.0ms preprocess, 85.0ms inference, 2.0ms postprocess per image at shape (1, 3, 384, 640)\n",
      "\n",
      "0: 384x640 2 persons, 96.9ms\n",
      "Speed: 0.0ms preprocess, 96.9ms inference, 2.5ms postprocess per image at shape (1, 3, 384, 640)\n",
      "\n"
     ]
    },
    {
     "name": "stdout",
     "output_type": "stream",
     "text": [
      "442 79 951 711\n",
      "96\n",
      "1070 675 1128 720\n",
      "57\n",
      "1229 650 1279 720\n",
      "42\n",
      "475 136 956 712\n",
      "95\n",
      "1071 677 1128 720\n",
      "46\n"
     ]
    },
    {
     "name": "stderr",
     "output_type": "stream",
     "text": [
      "0: 384x640 2 persons, 88.0ms\n",
      "Speed: 0.0ms preprocess, 88.0ms inference, 2.0ms postprocess per image at shape (1, 3, 384, 640)\n",
      "\n",
      "0: 384x640 2 persons, 88.8ms\n",
      "Speed: 3.2ms preprocess, 88.8ms inference, 2.0ms postprocess per image at shape (1, 3, 384, 640)\n",
      "\n"
     ]
    },
    {
     "name": "stdout",
     "output_type": "stream",
     "text": [
      "497 157 966 713\n",
      "93\n",
      "1071 675 1128 720\n",
      "49\n",
      "502 163 967 713\n",
      "94\n",
      "1070 676 1127 720\n",
      "51\n"
     ]
    },
    {
     "name": "stderr",
     "output_type": "stream",
     "text": [
      "0: 384x640 3 persons, 95.0ms\n",
      "Speed: 0.0ms preprocess, 95.0ms inference, 2.0ms postprocess per image at shape (1, 3, 384, 640)\n",
      "\n",
      "0: 384x640 2 persons, 105.2ms\n",
      "Speed: 2.0ms preprocess, 105.2ms inference, 0.0ms postprocess per image at shape (1, 3, 384, 640)\n",
      "\n"
     ]
    },
    {
     "name": "stdout",
     "output_type": "stream",
     "text": [
      "516 175 972 713\n",
      "93\n",
      "1069 674 1126 719\n",
      "60\n",
      "1232 667 1279 720\n",
      "27\n",
      "532 183 975 713\n",
      "94\n",
      "1070 676 1126 720\n",
      "41\n"
     ]
    },
    {
     "name": "stderr",
     "output_type": "stream",
     "text": [
      "0: 384x640 2 persons, 106.4ms\n",
      "Speed: 1.9ms preprocess, 106.4ms inference, 0.0ms postprocess per image at shape (1, 3, 384, 640)\n",
      "\n",
      "0: 384x640 3 persons, 93.0ms\n",
      "Speed: 0.0ms preprocess, 93.0ms inference, 6.1ms postprocess per image at shape (1, 3, 384, 640)\n",
      "\n"
     ]
    },
    {
     "name": "stdout",
     "output_type": "stream",
     "text": [
      "557 187 990 713\n",
      "94\n",
      "1070 677 1126 720\n",
      "44\n",
      "578 189 1011 714\n",
      "94\n",
      "1071 675 1127 720\n",
      "58\n",
      "1229 658 1279 720\n",
      "42\n"
     ]
    },
    {
     "name": "stderr",
     "output_type": "stream",
     "text": [
      "0: 384x640 2 persons, 92.5ms\n",
      "Speed: 0.0ms preprocess, 92.5ms inference, 2.0ms postprocess per image at shape (1, 3, 384, 640)\n",
      "\n",
      "0: 384x640 3 persons, 95.0ms\n",
      "Speed: 2.1ms preprocess, 95.0ms inference, 0.0ms postprocess per image at shape (1, 3, 384, 640)\n",
      "\n"
     ]
    },
    {
     "name": "stdout",
     "output_type": "stream",
     "text": [
      "600 198 1040 713\n",
      "95\n",
      "1070 677 1127 720\n",
      "42\n",
      "605 199 1038 713\n",
      "95\n",
      "1069 676 1126 720\n",
      "45\n",
      "1231 652 1279 720\n",
      "33\n"
     ]
    },
    {
     "name": "stderr",
     "output_type": "stream",
     "text": [
      "0: 384x640 3 persons, 92.4ms\n",
      "Speed: 4.7ms preprocess, 92.4ms inference, 0.0ms postprocess per image at shape (1, 3, 384, 640)\n",
      "\n",
      "0: 384x640 3 persons, 96.4ms\n",
      "Speed: 0.0ms preprocess, 96.4ms inference, 0.0ms postprocess per image at shape (1, 3, 384, 640)\n",
      "\n"
     ]
    },
    {
     "name": "stdout",
     "output_type": "stream",
     "text": [
      "626 202 1050 713\n",
      "95\n",
      "1069 677 1127 720\n",
      "36\n",
      "1231 649 1279 720\n",
      "33\n",
      "635 202 1052 713\n",
      "95\n",
      "1227 643 1279 720\n",
      "41\n",
      "1070 675 1127 720\n",
      "29\n"
     ]
    },
    {
     "name": "stderr",
     "output_type": "stream",
     "text": [
      "0: 384x640 3 persons, 93.5ms\n",
      "Speed: 1.2ms preprocess, 93.5ms inference, 2.4ms postprocess per image at shape (1, 3, 384, 640)\n",
      "\n",
      "0: 384x640 1 person, 94.7ms\n",
      "Speed: 2.4ms preprocess, 94.7ms inference, 2.0ms postprocess per image at shape (1, 3, 384, 640)\n",
      "\n"
     ]
    },
    {
     "name": "stdout",
     "output_type": "stream",
     "text": [
      "634 205 1050 713\n",
      "94\n",
      "1229 643 1279 720\n",
      "33\n",
      "1069 676 1127 720\n",
      "27\n",
      "623 200 1057 713\n",
      "94\n"
     ]
    },
    {
     "name": "stderr",
     "output_type": "stream",
     "text": [
      "0: 384x640 1 person, 94.8ms\n",
      "Speed: 0.0ms preprocess, 94.8ms inference, 2.0ms postprocess per image at shape (1, 3, 384, 640)\n",
      "\n",
      "0: 384x640 2 persons, 88.3ms\n",
      "Speed: 4.5ms preprocess, 88.3ms inference, 0.0ms postprocess per image at shape (1, 3, 384, 640)\n",
      "\n"
     ]
    },
    {
     "name": "stdout",
     "output_type": "stream",
     "text": [
      "620 200 1058 713\n",
      "94\n",
      "587 197 1054 714\n",
      "94\n",
      "1069 676 1126 720\n",
      "29\n"
     ]
    },
    {
     "name": "stderr",
     "output_type": "stream",
     "text": [
      "0: 384x640 1 person, 103.0ms\n",
      "Speed: 0.0ms preprocess, 103.0ms inference, 2.0ms postprocess per image at shape (1, 3, 384, 640)\n",
      "\n",
      "0: 384x640 2 persons, 93.1ms\n",
      "Speed: 3.9ms preprocess, 93.1ms inference, 1.9ms postprocess per image at shape (1, 3, 384, 640)\n",
      "\n",
      "0: 384x640 2 persons, 87.0ms\n"
     ]
    },
    {
     "name": "stdout",
     "output_type": "stream",
     "text": [
      "540 199 1042 714\n",
      "95\n",
      "530 198 1029 714\n",
      "95\n",
      "1070 678 1127 720\n",
      "46\n",
      "537 197 1024 714\n",
      "94\n",
      "1069 677 1127 720\n",
      "43\n"
     ]
    },
    {
     "name": "stderr",
     "output_type": "stream",
     "text": [
      "Speed: 4.0ms preprocess, 87.0ms inference, 0.0ms postprocess per image at shape (1, 3, 384, 640)\n",
      "\n",
      "0: 384x640 3 persons, 100.7ms\n",
      "Speed: 0.0ms preprocess, 100.7ms inference, 2.0ms postprocess per image at shape (1, 3, 384, 640)\n",
      "\n",
      "0: 384x640 2 persons, 95.0ms\n",
      "Speed: 4.1ms preprocess, 95.0ms inference, 0.0ms postprocess per image at shape (1, 3, 384, 640)\n",
      "\n"
     ]
    },
    {
     "name": "stdout",
     "output_type": "stream",
     "text": [
      "570 194 989 713\n",
      "93\n",
      "1069 677 1127 720\n",
      "44\n",
      "1235 645 1279 720\n",
      "28\n",
      "556 191 973 713\n",
      "94\n",
      "1069 676 1127 720\n",
      "33\n"
     ]
    },
    {
     "name": "stderr",
     "output_type": "stream",
     "text": [
      "0: 384x640 2 persons, 1 airplane, 90.2ms\n",
      "Speed: 0.0ms preprocess, 90.2ms inference, 0.0ms postprocess per image at shape (1, 3, 384, 640)\n",
      "\n",
      "0: 384x640 2 persons, 93.1ms\n",
      "Speed: 5.0ms preprocess, 93.1ms inference, 2.0ms postprocess per image at shape (1, 3, 384, 640)\n",
      "\n"
     ]
    },
    {
     "name": "stdout",
     "output_type": "stream",
     "text": [
      "535 188 959 713\n",
      "95\n",
      "1070 677 1127 720\n",
      "39\n",
      "3 3 1249 712\n",
      "31\n",
      "528 184 947 713\n",
      "94\n",
      "1070 677 1127 720\n",
      "42\n"
     ]
    },
    {
     "name": "stderr",
     "output_type": "stream",
     "text": [
      "0: 384x640 2 persons, 91.4ms\n",
      "Speed: 0.0ms preprocess, 91.4ms inference, 2.0ms postprocess per image at shape (1, 3, 384, 640)\n",
      "\n",
      "0: 384x640 2 persons, 112.6ms\n",
      "Speed: 5.3ms preprocess, 112.6ms inference, 2.0ms postprocess per image at shape (1, 3, 384, 640)\n",
      "\n"
     ]
    },
    {
     "name": "stdout",
     "output_type": "stream",
     "text": [
      "506 184 944 713\n",
      "93\n",
      "1070 676 1127 720\n",
      "38\n",
      "494 185 938 712\n",
      "94\n",
      "1070 677 1127 720\n",
      "38\n"
     ]
    },
    {
     "name": "stderr",
     "output_type": "stream",
     "text": [
      "0: 384x640 2 persons, 1 airplane, 90.4ms\n",
      "Speed: 2.2ms preprocess, 90.4ms inference, 5.3ms postprocess per image at shape (1, 3, 384, 640)\n",
      "\n",
      "0: 384x640 2 persons, 103.8ms\n",
      "Speed: 2.8ms preprocess, 103.8ms inference, 1.2ms postprocess per image at shape (1, 3, 384, 640)\n",
      "\n"
     ]
    },
    {
     "name": "stdout",
     "output_type": "stream",
     "text": [
      "492 185 934 713\n",
      "94\n",
      "1070 677 1127 720\n",
      "44\n",
      "3 1 1243 709\n",
      "29\n",
      "493 182 920 713\n",
      "95\n",
      "1071 677 1128 720\n",
      "35\n"
     ]
    },
    {
     "name": "stderr",
     "output_type": "stream",
     "text": [
      "0: 384x640 3 persons, 92.5ms\n",
      "Speed: 0.0ms preprocess, 92.5ms inference, 0.0ms postprocess per image at shape (1, 3, 384, 640)\n",
      "\n",
      "0: 384x640 3 persons, 97.6ms\n",
      "Speed: 0.0ms preprocess, 97.6ms inference, 4.5ms postprocess per image at shape (1, 3, 384, 640)\n",
      "\n"
     ]
    },
    {
     "name": "stdout",
     "output_type": "stream",
     "text": [
      "493 170 928 713\n",
      "94\n",
      "1071 677 1127 720\n",
      "44\n",
      "1236 645 1279 719\n",
      "33\n",
      "497 159 949 713\n",
      "94\n",
      "1071 677 1127 720\n",
      "48\n",
      "1236 647 1279 719\n",
      "26\n"
     ]
    },
    {
     "name": "stderr",
     "output_type": "stream",
     "text": [
      "0: 384x640 3 persons, 94.7ms\n",
      "Speed: 0.0ms preprocess, 94.7ms inference, 0.0ms postprocess per image at shape (1, 3, 384, 640)\n",
      "\n",
      "0: 384x640 3 persons, 93.1ms\n",
      "Speed: 3.1ms preprocess, 93.1ms inference, 0.0ms postprocess per image at shape (1, 3, 384, 640)\n",
      "\n"
     ]
    },
    {
     "name": "stdout",
     "output_type": "stream",
     "text": [
      "511 139 981 713\n",
      "94\n",
      "1071 678 1128 720\n",
      "45\n",
      "1236 648 1279 719\n",
      "38\n",
      "523 116 1018 712\n",
      "94\n",
      "1071 677 1128 720\n",
      "46\n",
      "1235 646 1279 720\n",
      "36\n"
     ]
    },
    {
     "name": "stderr",
     "output_type": "stream",
     "text": [
      "0: 384x640 2 persons, 90.9ms\n",
      "Speed: 4.2ms preprocess, 90.9ms inference, 2.0ms postprocess per image at shape (1, 3, 384, 640)\n",
      "\n",
      "0: 384x640 1 person, 90.8ms\n",
      "Speed: 4.0ms preprocess, 90.8ms inference, 0.0ms postprocess per image at shape (1, 3, 384, 640)\n",
      "\n"
     ]
    },
    {
     "name": "stdout",
     "output_type": "stream",
     "text": [
      "527 111 1029 711\n",
      "93\n",
      "1235 646 1279 720\n",
      "27\n",
      "553 89 1061 712\n",
      "91\n"
     ]
    },
    {
     "name": "stderr",
     "output_type": "stream",
     "text": [
      "0: 384x640 1 person, 88.2ms\n",
      "Speed: 2.4ms preprocess, 88.2ms inference, 2.3ms postprocess per image at shape (1, 3, 384, 640)\n",
      "\n",
      "0: 384x640 1 person, 93.9ms\n",
      "Speed: 4.7ms preprocess, 93.9ms inference, 0.0ms postprocess per image at shape (1, 3, 384, 640)\n",
      "\n"
     ]
    },
    {
     "name": "stdout",
     "output_type": "stream",
     "text": [
      "567 71 1113 712\n",
      "94\n",
      "568 57 1122 712\n",
      "95\n"
     ]
    },
    {
     "name": "stderr",
     "output_type": "stream",
     "text": [
      "0: 384x640 1 person, 92.8ms\n",
      "Speed: 0.0ms preprocess, 92.8ms inference, 0.0ms postprocess per image at shape (1, 3, 384, 640)\n",
      "\n",
      "0: 384x640 1 person, 94.4ms\n",
      "Speed: 5.9ms preprocess, 94.4ms inference, 0.0ms postprocess per image at shape (1, 3, 384, 640)\n",
      "\n"
     ]
    },
    {
     "name": "stdout",
     "output_type": "stream",
     "text": [
      "570 51 1123 711\n",
      "94\n",
      "569 50 1122 711\n",
      "94\n"
     ]
    },
    {
     "name": "stderr",
     "output_type": "stream",
     "text": [
      "0: 384x640 1 person, 90.6ms\n",
      "Speed: 0.0ms preprocess, 90.6ms inference, 2.0ms postprocess per image at shape (1, 3, 384, 640)\n",
      "\n",
      "0: 384x640 1 person, 87.8ms\n",
      "Speed: 4.6ms preprocess, 87.8ms inference, 0.0ms postprocess per image at shape (1, 3, 384, 640)\n",
      "\n"
     ]
    },
    {
     "name": "stdout",
     "output_type": "stream",
     "text": [
      "566 48 1118 711\n",
      "94\n",
      "555 47 1114 711\n",
      "93\n"
     ]
    },
    {
     "name": "stderr",
     "output_type": "stream",
     "text": [
      "0: 384x640 2 persons, 93.3ms\n",
      "Speed: 0.0ms preprocess, 93.3ms inference, 2.2ms postprocess per image at shape (1, 3, 384, 640)\n",
      "\n",
      "0: 384x640 2 persons, 87.8ms\n",
      "Speed: 3.6ms preprocess, 87.8ms inference, 4.8ms postprocess per image at shape (1, 3, 384, 640)\n",
      "\n"
     ]
    },
    {
     "name": "stdout",
     "output_type": "stream",
     "text": [
      "518 50 1089 712\n",
      "93\n",
      "1228 641 1279 720\n",
      "38\n",
      "483 48 1070 712\n",
      "93\n",
      "1227 641 1279 720\n",
      "38\n"
     ]
    },
    {
     "name": "stderr",
     "output_type": "stream",
     "text": [
      "0: 384x640 2 persons, 91.3ms\n",
      "Speed: 0.0ms preprocess, 91.3ms inference, 2.0ms postprocess per image at shape (1, 3, 384, 640)\n",
      "\n",
      "0: 384x640 2 persons, 115.7ms\n",
      "Speed: 0.0ms preprocess, 115.7ms inference, 0.0ms postprocess per image at shape (1, 3, 384, 640)\n",
      "\n"
     ]
    },
    {
     "name": "stdout",
     "output_type": "stream",
     "text": [
      "475 48 1068 712\n",
      "94\n",
      "1228 640 1279 720\n",
      "39\n",
      "454 54 1046 712\n",
      "96\n",
      "1228 641 1279 720\n",
      "42\n"
     ]
    },
    {
     "name": "stderr",
     "output_type": "stream",
     "text": [
      "0: 384x640 3 persons, 89.9ms\n",
      "Speed: 0.0ms preprocess, 89.9ms inference, 0.0ms postprocess per image at shape (1, 3, 384, 640)\n",
      "\n",
      "0: 384x640 3 persons, 90.5ms\n",
      "Speed: 2.8ms preprocess, 90.5ms inference, 7.7ms postprocess per image at shape (1, 3, 384, 640)\n",
      "\n"
     ]
    },
    {
     "name": "stdout",
     "output_type": "stream",
     "text": [
      "452 60 1015 712\n",
      "94\n",
      "1227 641 1279 720\n",
      "37\n",
      "1074 681 1128 720\n",
      "30\n",
      "448 68 978 711\n",
      "95\n",
      "1076 682 1130 720\n",
      "39\n",
      "1227 641 1279 720\n",
      "37\n"
     ]
    },
    {
     "name": "stderr",
     "output_type": "stream",
     "text": [
      "0: 384x640 3 persons, 91.9ms\n",
      "Speed: 5.6ms preprocess, 91.9ms inference, 1.8ms postprocess per image at shape (1, 3, 384, 640)\n",
      "\n",
      "0: 384x640 2 persons, 98.7ms\n",
      "Speed: 0.0ms preprocess, 98.7ms inference, 0.0ms postprocess per image at shape (1, 3, 384, 640)\n",
      "\n"
     ]
    },
    {
     "name": "stdout",
     "output_type": "stream",
     "text": [
      "443 74 949 711\n",
      "94\n",
      "1226 640 1279 720\n",
      "44\n",
      "1078 682 1133 720\n",
      "42\n",
      "443 76 945 711\n",
      "94\n",
      "1227 640 1279 720\n",
      "35\n"
     ]
    },
    {
     "name": "stderr",
     "output_type": "stream",
     "text": [
      "0: 384x640 2 persons, 95.5ms\n",
      "Speed: 0.0ms preprocess, 95.5ms inference, 0.0ms postprocess per image at shape (1, 3, 384, 640)\n",
      "\n",
      "0: 384x640 2 persons, 97.7ms\n",
      "Speed: 0.0ms preprocess, 97.7ms inference, 1.4ms postprocess per image at shape (1, 3, 384, 640)\n",
      "\n"
     ]
    },
    {
     "name": "stdout",
     "output_type": "stream",
     "text": [
      "448 96 938 711\n",
      "95\n",
      "1227 641 1279 720\n",
      "40\n",
      "445 110 951 711\n",
      "95\n",
      "1226 640 1279 720\n",
      "40\n"
     ]
    },
    {
     "name": "stderr",
     "output_type": "stream",
     "text": [
      "0: 384x640 2 persons, 88.6ms\n",
      "Speed: 4.7ms preprocess, 88.6ms inference, 0.0ms postprocess per image at shape (1, 3, 384, 640)\n",
      "\n",
      "0: 384x640 2 persons, 94.2ms\n",
      "Speed: 3.5ms preprocess, 94.2ms inference, 0.0ms postprocess per image at shape (1, 3, 384, 640)\n",
      "\n"
     ]
    },
    {
     "name": "stdout",
     "output_type": "stream",
     "text": [
      "445 126 981 711\n",
      "95\n",
      "1227 640 1279 720\n",
      "46\n",
      "464 133 997 712\n",
      "94\n",
      "1226 640 1279 720\n",
      "50\n"
     ]
    },
    {
     "name": "stderr",
     "output_type": "stream",
     "text": [
      "0: 384x640 2 persons, 91.4ms\n",
      "Speed: 3.4ms preprocess, 91.4ms inference, 6.6ms postprocess per image at shape (1, 3, 384, 640)\n",
      "\n",
      "0: 384x640 2 persons, 95.4ms\n",
      "Speed: 5.0ms preprocess, 95.4ms inference, 1.7ms postprocess per image at shape (1, 3, 384, 640)\n",
      "\n"
     ]
    },
    {
     "name": "stdout",
     "output_type": "stream",
     "text": [
      "470 134 997 712\n",
      "94\n",
      "1226 640 1279 720\n",
      "40\n",
      "489 142 956 712\n",
      "94\n",
      "1226 641 1279 720\n",
      "43\n"
     ]
    },
    {
     "name": "stderr",
     "output_type": "stream",
     "text": [
      "0: 384x640 2 persons, 90.9ms\n",
      "Speed: 0.0ms preprocess, 90.9ms inference, 0.0ms postprocess per image at shape (1, 3, 384, 640)\n",
      "\n",
      "0: 384x640 2 persons, 94.0ms\n",
      "Speed: 5.7ms preprocess, 94.0ms inference, 2.0ms postprocess per image at shape (1, 3, 384, 640)\n",
      "\n"
     ]
    },
    {
     "name": "stdout",
     "output_type": "stream",
     "text": [
      "514 148 919 711\n",
      "92\n",
      "1225 640 1279 720\n",
      "32\n",
      "531 158 900 712\n",
      "92\n",
      "1226 640 1279 720\n",
      "43\n"
     ]
    },
    {
     "name": "stderr",
     "output_type": "stream",
     "text": [
      "0: 384x640 2 persons, 95.2ms\n",
      "Speed: 4.3ms preprocess, 95.2ms inference, 0.0ms postprocess per image at shape (1, 3, 384, 640)\n",
      "\n",
      "0: 384x640 2 persons, 104.6ms\n",
      "Speed: 0.0ms preprocess, 104.6ms inference, 0.0ms postprocess per image at shape (1, 3, 384, 640)\n",
      "\n"
     ]
    },
    {
     "name": "stdout",
     "output_type": "stream",
     "text": [
      "560 169 914 712\n",
      "92\n",
      "1226 640 1279 720\n",
      "47\n",
      "567 170 922 712\n",
      "91\n",
      "1227 640 1279 720\n",
      "51\n"
     ]
    },
    {
     "name": "stderr",
     "output_type": "stream",
     "text": [
      "0: 384x640 2 persons, 91.7ms\n",
      "Speed: 2.0ms preprocess, 91.7ms inference, 0.0ms postprocess per image at shape (1, 3, 384, 640)\n",
      "\n",
      "0: 384x640 2 persons, 109.3ms\n",
      "Speed: 4.8ms preprocess, 109.3ms inference, 6.5ms postprocess per image at shape (1, 3, 384, 640)\n",
      "\n"
     ]
    },
    {
     "name": "stdout",
     "output_type": "stream",
     "text": [
      "607 173 971 713\n",
      "93\n",
      "1226 640 1279 720\n",
      "45\n",
      "652 177 1057 713\n",
      "90\n",
      "1227 640 1279 720\n",
      "41\n"
     ]
    },
    {
     "name": "stderr",
     "output_type": "stream",
     "text": [
      "0: 384x640 3 persons, 97.2ms\n",
      "Speed: 2.0ms preprocess, 97.2ms inference, 0.6ms postprocess per image at shape (1, 3, 384, 640)\n",
      "\n",
      "0: 384x640 2 persons, 82.6ms\n",
      "Speed: 3.0ms preprocess, 82.6ms inference, 10.4ms postprocess per image at shape (1, 3, 384, 640)\n",
      "\n"
     ]
    },
    {
     "name": "stdout",
     "output_type": "stream",
     "text": [
      "723 174 1170 712\n",
      "92\n",
      "0 304 122 715\n",
      "35\n",
      "1228 640 1279 720\n",
      "27\n",
      "771 172 1278 712\n",
      "93\n",
      "0 279 156 715\n",
      "61\n"
     ]
    },
    {
     "name": "stderr",
     "output_type": "stream",
     "text": [
      "0: 384x640 2 persons, 87.9ms\n",
      "Speed: 4.7ms preprocess, 87.9ms inference, 0.0ms postprocess per image at shape (1, 3, 384, 640)\n",
      "\n",
      "0: 384x640 2 persons, 93.8ms\n",
      "Speed: 2.8ms preprocess, 93.8ms inference, 0.0ms postprocess per image at shape (1, 3, 384, 640)\n",
      "\n"
     ]
    },
    {
     "name": "stdout",
     "output_type": "stream",
     "text": [
      "815 165 1279 711\n",
      "94\n",
      "0 253 185 714\n",
      "67\n",
      "837 163 1278 713\n",
      "95\n",
      "0 234 191 711\n",
      "83\n"
     ]
    },
    {
     "name": "stderr",
     "output_type": "stream",
     "text": [
      "0: 384x640 2 persons, 90.3ms\n",
      "Speed: 4.8ms preprocess, 90.3ms inference, 0.0ms postprocess per image at shape (1, 3, 384, 640)\n",
      "\n",
      "0: 384x640 2 persons, 99.8ms\n",
      "Speed: 4.9ms preprocess, 99.8ms inference, 0.0ms postprocess per image at shape (1, 3, 384, 640)\n",
      "\n"
     ]
    },
    {
     "name": "stdout",
     "output_type": "stream",
     "text": [
      "839 163 1278 713\n",
      "95\n",
      "0 230 192 712\n",
      "87\n",
      "849 165 1279 712\n",
      "95\n",
      "0 220 240 713\n",
      "91\n"
     ]
    },
    {
     "name": "stderr",
     "output_type": "stream",
     "text": [
      "0: 384x640 2 persons, 92.4ms\n",
      "Speed: 5.0ms preprocess, 92.4ms inference, 1.7ms postprocess per image at shape (1, 3, 384, 640)\n",
      "\n",
      "0: 384x640 2 persons, 95.1ms\n",
      "Speed: 0.0ms preprocess, 95.1ms inference, 0.0ms postprocess per image at shape (1, 3, 384, 640)\n",
      "\n"
     ]
    },
    {
     "name": "stdout",
     "output_type": "stream",
     "text": [
      "847 173 1279 712\n",
      "95\n",
      "0 212 273 714\n",
      "94\n",
      "843 180 1279 712\n",
      "94\n",
      "0 210 317 710\n",
      "92\n"
     ]
    },
    {
     "name": "stderr",
     "output_type": "stream",
     "text": [
      "0: 384x640 2 persons, 84.9ms\n",
      "Speed: 2.0ms preprocess, 84.9ms inference, 0.0ms postprocess per image at shape (1, 3, 384, 640)\n",
      "\n",
      "0: 384x640 2 persons, 92.2ms\n",
      "Speed: 4.6ms preprocess, 92.2ms inference, 0.0ms postprocess per image at shape (1, 3, 384, 640)\n",
      "\n"
     ]
    },
    {
     "name": "stdout",
     "output_type": "stream",
     "text": [
      "836 189 1261 712\n",
      "94\n",
      "5 216 386 705\n",
      "87\n",
      "831 200 1239 713\n",
      "92\n",
      "0 211 459 713\n",
      "91\n"
     ]
    },
    {
     "name": "stderr",
     "output_type": "stream",
     "text": [
      "0: 384x640 2 persons, 93.5ms\n",
      "Speed: 4.5ms preprocess, 93.5ms inference, 2.0ms postprocess per image at shape (1, 3, 384, 640)\n",
      "\n",
      "0: 384x640 3 persons, 92.1ms\n",
      "Speed: 4.5ms preprocess, 92.1ms inference, 0.9ms postprocess per image at shape (1, 3, 384, 640)\n",
      "\n"
     ]
    },
    {
     "name": "stdout",
     "output_type": "stream",
     "text": [
      "830 202 1235 713\n",
      "92\n",
      "0 210 484 713\n",
      "92\n",
      "822 207 1227 713\n",
      "93\n",
      "10 210 549 711\n",
      "92\n",
      "1228 639 1279 720\n",
      "40\n"
     ]
    },
    {
     "name": "stderr",
     "output_type": "stream",
     "text": [
      "0: 384x640 2 persons, 1 dog, 89.7ms\n",
      "Speed: 0.0ms preprocess, 89.7ms inference, 0.0ms postprocess per image at shape (1, 3, 384, 640)\n",
      "\n",
      "0: 384x640 2 persons, 1 dog, 90.7ms\n",
      "Speed: 5.8ms preprocess, 90.7ms inference, 0.0ms postprocess per image at shape (1, 3, 384, 640)\n",
      "\n"
     ]
    },
    {
     "name": "stdout",
     "output_type": "stream",
     "text": [
      "11 204 585 713\n",
      "93\n",
      "811 217 1234 714\n",
      "93\n",
      "217 567 502 719\n",
      "27\n",
      "28 201 597 712\n",
      "93\n",
      "802 223 1256 713\n",
      "92\n",
      "233 567 535 718\n",
      "32\n"
     ]
    },
    {
     "name": "stderr",
     "output_type": "stream",
     "text": [
      "0: 384x640 2 persons, 106.2ms\n",
      "Speed: 0.0ms preprocess, 106.2ms inference, 1.3ms postprocess per image at shape (1, 3, 384, 640)\n",
      "\n",
      "0: 384x640 2 persons, 100.5ms\n",
      "Speed: 0.0ms preprocess, 100.5ms inference, 1.3ms postprocess per image at shape (1, 3, 384, 640)\n",
      "\n"
     ]
    },
    {
     "name": "stdout",
     "output_type": "stream",
     "text": [
      "793 226 1267 712\n",
      "93\n",
      "27 190 611 712\n",
      "92\n",
      "26 183 614 714\n",
      "93\n",
      "791 223 1266 713\n",
      "92\n"
     ]
    },
    {
     "name": "stderr",
     "output_type": "stream",
     "text": [
      "0: 384x640 2 persons, 91.9ms\n",
      "Speed: 2.0ms preprocess, 91.9ms inference, 0.0ms postprocess per image at shape (1, 3, 384, 640)\n",
      "\n",
      "0: 384x640 2 persons, 116.6ms\n",
      "Speed: 6.1ms preprocess, 116.6ms inference, 2.7ms postprocess per image at shape (1, 3, 384, 640)\n",
      "\n"
     ]
    },
    {
     "name": "stdout",
     "output_type": "stream",
     "text": [
      "791 215 1266 712\n",
      "92\n",
      "21 169 612 712\n",
      "91\n",
      "798 206 1274 713\n",
      "94\n",
      "1 159 597 713\n",
      "92\n"
     ]
    },
    {
     "name": "stderr",
     "output_type": "stream",
     "text": [
      "0: 384x640 2 persons, 92.4ms\n",
      "Speed: 2.2ms preprocess, 92.4ms inference, 1.0ms postprocess per image at shape (1, 3, 384, 640)\n",
      "\n",
      "0: 384x640 2 persons, 91.6ms\n",
      "Speed: 2.9ms preprocess, 91.6ms inference, 0.0ms postprocess per image at shape (1, 3, 384, 640)\n",
      "\n"
     ]
    },
    {
     "name": "stdout",
     "output_type": "stream",
     "text": [
      "819 185 1280 713\n",
      "95\n",
      "0 135 583 713\n",
      "93\n",
      "0 125 578 714\n",
      "95\n",
      "844 164 1279 712\n",
      "93\n"
     ]
    },
    {
     "name": "stderr",
     "output_type": "stream",
     "text": [
      "0: 384x640 2 persons, 91.9ms\n",
      "Speed: 0.0ms preprocess, 91.9ms inference, 0.0ms postprocess per image at shape (1, 3, 384, 640)\n",
      "\n",
      "0: 384x640 2 persons, 1 cup, 93.6ms\n",
      "Speed: 2.8ms preprocess, 93.6ms inference, 0.0ms postprocess per image at shape (1, 3, 384, 640)\n",
      "\n"
     ]
    },
    {
     "name": "stdout",
     "output_type": "stream",
     "text": [
      "0 108 569 714\n",
      "93\n",
      "868 143 1279 712\n",
      "93\n",
      "876 138 1279 712\n",
      "93\n",
      "0 91 567 714\n",
      "92\n",
      "412 557 524 706\n",
      "31\n"
     ]
    },
    {
     "name": "stderr",
     "output_type": "stream",
     "text": [
      "0: 384x640 2 persons, 99.1ms\n",
      "Speed: 6.0ms preprocess, 99.1ms inference, 0.0ms postprocess per image at shape (1, 3, 384, 640)\n",
      "\n",
      "0: 384x640 2 persons, 100.3ms\n",
      "Speed: 0.0ms preprocess, 100.3ms inference, 0.7ms postprocess per image at shape (1, 3, 384, 640)\n",
      "\n"
     ]
    },
    {
     "name": "stdout",
     "output_type": "stream",
     "text": [
      "896 117 1279 712\n",
      "95\n",
      "0 102 561 714\n",
      "94\n",
      "0 98 560 715\n",
      "95\n",
      "912 103 1279 713\n",
      "94\n"
     ]
    },
    {
     "name": "stderr",
     "output_type": "stream",
     "text": [
      "0: 384x640 2 persons, 89.3ms\n",
      "Speed: 0.0ms preprocess, 89.3ms inference, 0.0ms postprocess per image at shape (1, 3, 384, 640)\n",
      "\n",
      "0: 384x640 2 persons, 98.7ms\n",
      "Speed: 4.6ms preprocess, 98.7ms inference, 0.0ms postprocess per image at shape (1, 3, 384, 640)\n",
      "\n"
     ]
    },
    {
     "name": "stdout",
     "output_type": "stream",
     "text": [
      "916 89 1279 712\n",
      "95\n",
      "0 103 564 713\n",
      "90\n",
      "908 77 1279 713\n",
      "94\n",
      "1 104 587 710\n",
      "89\n"
     ]
    },
    {
     "name": "stderr",
     "output_type": "stream",
     "text": [
      "0: 384x640 2 persons, 1 dog, 91.6ms\n",
      "Speed: 3.3ms preprocess, 91.6ms inference, 2.0ms postprocess per image at shape (1, 3, 384, 640)\n",
      "\n",
      "0: 384x640 3 persons, 96.9ms\n",
      "Speed: 2.9ms preprocess, 96.9ms inference, 1.0ms postprocess per image at shape (1, 3, 384, 640)\n",
      "\n"
     ]
    },
    {
     "name": "stdout",
     "output_type": "stream",
     "text": [
      "905 75 1279 713\n",
      "95\n",
      "2 106 599 711\n",
      "89\n",
      "124 560 523 719\n",
      "48\n",
      "891 61 1279 713\n",
      "96\n",
      "13 124 636 711\n",
      "90\n",
      "84 606 383 717\n",
      "43\n"
     ]
    },
    {
     "name": "stderr",
     "output_type": "stream",
     "text": [
      "0: 384x640 2 persons, 100.4ms\n",
      "Speed: 0.0ms preprocess, 100.4ms inference, 0.0ms postprocess per image at shape (1, 3, 384, 640)\n",
      "\n",
      "0: 384x640 2 persons, 93.0ms\n",
      "Speed: 6.1ms preprocess, 93.0ms inference, 2.0ms postprocess per image at shape (1, 3, 384, 640)\n",
      "\n"
     ]
    },
    {
     "name": "stdout",
     "output_type": "stream",
     "text": [
      "877 48 1279 712\n",
      "95\n",
      "53 143 673 710\n",
      "93\n",
      "870 28 1279 713\n",
      "95\n",
      "43 156 672 710\n",
      "93\n"
     ]
    },
    {
     "name": "stderr",
     "output_type": "stream",
     "text": [
      "0: 384x640 2 persons, 99.5ms\n",
      "Speed: 4.3ms preprocess, 99.5ms inference, 2.0ms postprocess per image at shape (1, 3, 384, 640)\n",
      "\n",
      "0: 384x640 2 persons, 97.4ms\n",
      "Speed: 0.0ms preprocess, 97.4ms inference, 2.0ms postprocess per image at shape (1, 3, 384, 640)\n",
      "\n"
     ]
    },
    {
     "name": "stdout",
     "output_type": "stream",
     "text": [
      "852 10 1279 712\n",
      "95\n",
      "19 164 646 710\n",
      "94\n",
      "795 4 1279 713\n",
      "95\n",
      "3 166 617 709\n",
      "94\n"
     ]
    },
    {
     "name": "stderr",
     "output_type": "stream",
     "text": [
      "0: 384x640 2 persons, 93.8ms\n",
      "Speed: 0.0ms preprocess, 93.8ms inference, 0.0ms postprocess per image at shape (1, 3, 384, 640)\n",
      "\n",
      "0: 384x640 2 persons, 102.8ms\n",
      "Speed: 0.0ms preprocess, 102.8ms inference, 2.0ms postprocess per image at shape (1, 3, 384, 640)\n",
      "\n"
     ]
    },
    {
     "name": "stdout",
     "output_type": "stream",
     "text": [
      "0 156 562 710\n",
      "96\n",
      "709 2 1279 713\n",
      "95\n",
      "0 152 551 711\n",
      "96\n",
      "681 2 1278 713\n",
      "94\n"
     ]
    },
    {
     "name": "stderr",
     "output_type": "stream",
     "text": [
      "0: 384x640 2 persons, 94.6ms\n",
      "Speed: 4.1ms preprocess, 94.6ms inference, 0.0ms postprocess per image at shape (1, 3, 384, 640)\n",
      "\n",
      "0: 384x640 2 persons, 125.7ms\n",
      "Speed: 0.0ms preprocess, 125.7ms inference, 1.0ms postprocess per image at shape (1, 3, 384, 640)\n",
      "\n"
     ]
    },
    {
     "name": "stdout",
     "output_type": "stream",
     "text": [
      "0 145 504 711\n",
      "96\n",
      "591 6 1280 711\n",
      "94\n",
      "0 135 471 711\n",
      "95\n",
      "527 7 1245 713\n",
      "94\n"
     ]
    },
    {
     "name": "stderr",
     "output_type": "stream",
     "text": [
      "0: 384x640 2 persons, 95.0ms\n",
      "Speed: 2.0ms preprocess, 95.0ms inference, 0.0ms postprocess per image at shape (1, 3, 384, 640)\n",
      "\n",
      "0: 384x640 2 persons, 104.9ms\n",
      "Speed: 3.2ms preprocess, 104.9ms inference, 0.0ms postprocess per image at shape (1, 3, 384, 640)\n",
      "\n"
     ]
    },
    {
     "name": "stdout",
     "output_type": "stream",
     "text": [
      "496 13 1225 712\n",
      "95\n",
      "0 131 437 710\n",
      "92\n",
      "487 7 1228 712\n",
      "95\n",
      "0 134 413 712\n",
      "92\n"
     ]
    },
    {
     "name": "stderr",
     "output_type": "stream",
     "text": [
      "0: 384x640 2 persons, 102.8ms\n",
      "Speed: 0.0ms preprocess, 102.8ms inference, 3.2ms postprocess per image at shape (1, 3, 384, 640)\n",
      "\n",
      "0: 384x640 2 persons, 107.7ms\n",
      "Speed: 3.7ms preprocess, 107.7ms inference, 0.0ms postprocess per image at shape (1, 3, 384, 640)\n",
      "\n"
     ]
    },
    {
     "name": "stdout",
     "output_type": "stream",
     "text": [
      "482 7 1229 712\n",
      "95\n",
      "0 142 397 710\n",
      "90\n",
      "486 9 1228 712\n",
      "95\n",
      "0 151 385 711\n",
      "91\n"
     ]
    },
    {
     "name": "stderr",
     "output_type": "stream",
     "text": [
      "0: 384x640 2 persons, 91.9ms\n",
      "Speed: 4.2ms preprocess, 91.9ms inference, 2.0ms postprocess per image at shape (1, 3, 384, 640)\n",
      "\n",
      "0: 384x640 2 persons, 94.6ms\n",
      "Speed: 4.5ms preprocess, 94.6ms inference, 0.0ms postprocess per image at shape (1, 3, 384, 640)\n",
      "\n"
     ]
    },
    {
     "name": "stdout",
     "output_type": "stream",
     "text": [
      "487 13 1231 712\n",
      "95\n",
      "0 162 380 710\n",
      "90\n",
      "487 11 1228 712\n",
      "94\n",
      "0 177 377 711\n",
      "66\n"
     ]
    },
    {
     "name": "stderr",
     "output_type": "stream",
     "text": [
      "0: 384x640 2 persons, 97.1ms\n",
      "Speed: 0.0ms preprocess, 97.1ms inference, 0.0ms postprocess per image at shape (1, 3, 384, 640)\n",
      "\n",
      "0: 384x640 2 persons, 97.7ms\n",
      "Speed: 0.0ms preprocess, 97.7ms inference, 0.0ms postprocess per image at shape (1, 3, 384, 640)\n",
      "\n"
     ]
    },
    {
     "name": "stdout",
     "output_type": "stream",
     "text": [
      "489 13 1229 711\n",
      "95\n",
      "0 183 377 711\n",
      "88\n",
      "492 14 1228 712\n",
      "95\n",
      "0 185 377 711\n",
      "86\n"
     ]
    },
    {
     "name": "stderr",
     "output_type": "stream",
     "text": [
      "0: 384x640 2 persons, 86.3ms\n",
      "Speed: 5.0ms preprocess, 86.3ms inference, 0.0ms postprocess per image at shape (1, 3, 384, 640)\n",
      "\n",
      "0: 384x640 2 persons, 97.3ms\n",
      "Speed: 0.0ms preprocess, 97.3ms inference, 0.0ms postprocess per image at shape (1, 3, 384, 640)\n",
      "\n"
     ]
    },
    {
     "name": "stdout",
     "output_type": "stream",
     "text": [
      "494 15 1226 710\n",
      "95\n",
      "0 175 375 711\n",
      "87\n",
      "496 26 1238 711\n",
      "96\n",
      "0 164 379 712\n",
      "90\n"
     ]
    },
    {
     "name": "stderr",
     "output_type": "stream",
     "text": [
      "0: 384x640 2 persons, 95.2ms\n",
      "Speed: 3.0ms preprocess, 95.2ms inference, 1.5ms postprocess per image at shape (1, 3, 384, 640)\n",
      "\n"
     ]
    },
    {
     "name": "stdout",
     "output_type": "stream",
     "text": [
      "496 26 1237 711\n",
      "96\n",
      "0 163 380 712\n",
      "92\n"
     ]
    },
    {
     "name": "stderr",
     "output_type": "stream",
     "text": [
      "0: 384x640 2 persons, 100.2ms\n",
      "Speed: 3.0ms preprocess, 100.2ms inference, 2.0ms postprocess per image at shape (1, 3, 384, 640)\n",
      "\n",
      "0: 384x640 2 persons, 90.5ms\n",
      "Speed: 4.8ms preprocess, 90.5ms inference, 0.0ms postprocess per image at shape (1, 3, 384, 640)\n",
      "\n"
     ]
    },
    {
     "name": "stdout",
     "output_type": "stream",
     "text": [
      "494 25 1227 711\n",
      "95\n",
      "0 156 407 711\n",
      "92\n",
      "495 26 1228 711\n",
      "94\n",
      "0 156 415 711\n",
      "91\n"
     ]
    },
    {
     "name": "stderr",
     "output_type": "stream",
     "text": [
      "0: 384x640 2 persons, 96.7ms\n",
      "Speed: 0.0ms preprocess, 96.7ms inference, 2.3ms postprocess per image at shape (1, 3, 384, 640)\n",
      "\n",
      "0: 384x640 2 persons, 104.6ms\n",
      "Speed: 3.7ms preprocess, 104.6ms inference, 0.0ms postprocess per image at shape (1, 3, 384, 640)\n",
      "\n"
     ]
    },
    {
     "name": "stdout",
     "output_type": "stream",
     "text": [
      "494 17 1229 711\n",
      "96\n",
      "0 151 437 713\n",
      "95\n",
      "0 147 462 713\n",
      "96\n",
      "487 14 1224 711\n",
      "95\n"
     ]
    },
    {
     "name": "stderr",
     "output_type": "stream",
     "text": [
      "0: 384x640 2 persons, 105.2ms\n",
      "Speed: 4.6ms preprocess, 105.2ms inference, 0.9ms postprocess per image at shape (1, 3, 384, 640)\n",
      "\n",
      "0: 384x640 2 persons, 96.2ms\n",
      "Speed: 3.0ms preprocess, 96.2ms inference, 0.0ms postprocess per image at shape (1, 3, 384, 640)\n",
      "\n"
     ]
    },
    {
     "name": "stdout",
     "output_type": "stream",
     "text": [
      "484 16 1221 711\n",
      "95\n",
      "0 145 482 711\n",
      "95\n",
      "0 138 494 711\n",
      "95\n",
      "484 20 1221 711\n",
      "93\n"
     ]
    },
    {
     "name": "stderr",
     "output_type": "stream",
     "text": [
      "0: 384x640 2 persons, 1 wine glass, 99.7ms\n",
      "Speed: 0.0ms preprocess, 99.7ms inference, 2.0ms postprocess per image at shape (1, 3, 384, 640)\n",
      "\n",
      "0: 384x640 2 persons, 112.6ms\n",
      "Speed: 2.1ms preprocess, 112.6ms inference, 0.0ms postprocess per image at shape (1, 3, 384, 640)\n",
      "\n"
     ]
    },
    {
     "name": "stdout",
     "output_type": "stream",
     "text": [
      "0 132 499 711\n",
      "96\n",
      "492 20 1227 711\n",
      "94\n",
      "306 401 494 714\n",
      "65\n",
      "0 127 504 711\n",
      "96\n",
      "504 22 1241 711\n",
      "95\n"
     ]
    },
    {
     "name": "stderr",
     "output_type": "stream",
     "text": [
      "0: 384x640 2 persons, 111.1ms\n",
      "Speed: 0.0ms preprocess, 111.1ms inference, 0.0ms postprocess per image at shape (1, 3, 384, 640)\n",
      "\n",
      "0: 384x640 2 persons, 98.4ms\n",
      "Speed: 0.0ms preprocess, 98.4ms inference, 2.7ms postprocess per image at shape (1, 3, 384, 640)\n",
      "\n"
     ]
    },
    {
     "name": "stdout",
     "output_type": "stream",
     "text": [
      "0 119 528 710\n",
      "96\n",
      "515 26 1246 712\n",
      "95\n",
      "0 115 537 710\n",
      "97\n",
      "524 34 1251 712\n",
      "96\n"
     ]
    },
    {
     "name": "stderr",
     "output_type": "stream",
     "text": [
      "0: 384x640 2 persons, 95.2ms\n",
      "Speed: 5.3ms preprocess, 95.2ms inference, 1.6ms postprocess per image at shape (1, 3, 384, 640)\n",
      "\n",
      "0: 384x640 2 persons, 104.1ms\n",
      "Speed: 0.0ms preprocess, 104.1ms inference, 3.6ms postprocess per image at shape (1, 3, 384, 640)\n",
      "\n"
     ]
    },
    {
     "name": "stdout",
     "output_type": "stream",
     "text": [
      "0 113 536 709\n",
      "97\n",
      "525 38 1250 712\n",
      "95\n",
      "0 110 532 708\n",
      "97\n",
      "525 39 1251 712\n",
      "94\n"
     ]
    },
    {
     "name": "stderr",
     "output_type": "stream",
     "text": [
      "0: 384x640 2 persons, 98.0ms\n",
      "Speed: 4.7ms preprocess, 98.0ms inference, 2.0ms postprocess per image at shape (1, 3, 384, 640)\n",
      "\n",
      "0: 384x640 2 persons, 113.5ms\n",
      "Speed: 5.5ms preprocess, 113.5ms inference, 2.1ms postprocess per image at shape (1, 3, 384, 640)\n",
      "\n"
     ]
    },
    {
     "name": "stdout",
     "output_type": "stream",
     "text": [
      "0 110 532 708\n",
      "96\n",
      "524 38 1250 712\n",
      "95\n",
      "0 111 530 709\n",
      "96\n",
      "522 41 1249 712\n",
      "95\n"
     ]
    },
    {
     "name": "stderr",
     "output_type": "stream",
     "text": [
      "0: 384x640 2 persons, 114.5ms\n",
      "Speed: 0.0ms preprocess, 114.5ms inference, 3.7ms postprocess per image at shape (1, 3, 384, 640)\n",
      "\n",
      "0: 384x640 2 persons, 107.6ms\n",
      "Speed: 5.2ms preprocess, 107.6ms inference, 2.0ms postprocess per image at shape (1, 3, 384, 640)\n",
      "\n"
     ]
    },
    {
     "name": "stdout",
     "output_type": "stream",
     "text": [
      "0 110 522 708\n",
      "96\n",
      "519 40 1249 712\n",
      "95\n",
      "0 111 521 708\n",
      "96\n",
      "517 42 1248 712\n",
      "95\n"
     ]
    },
    {
     "name": "stderr",
     "output_type": "stream",
     "text": [
      "0: 384x640 2 persons, 100.5ms\n",
      "Speed: 4.5ms preprocess, 100.5ms inference, 2.0ms postprocess per image at shape (1, 3, 384, 640)\n",
      "\n",
      "0: 384x640 2 persons, 134.2ms\n",
      "Speed: 4.7ms preprocess, 134.2ms inference, 2.0ms postprocess per image at shape (1, 3, 384, 640)\n",
      "\n"
     ]
    },
    {
     "name": "stdout",
     "output_type": "stream",
     "text": [
      "0 111 519 708\n",
      "96\n",
      "515 40 1248 712\n",
      "95\n",
      "0 111 520 708\n",
      "96\n",
      "512 39 1247 712\n",
      "95\n"
     ]
    },
    {
     "name": "stderr",
     "output_type": "stream",
     "text": [
      "0: 384x640 2 persons, 100.8ms\n",
      "Speed: 0.0ms preprocess, 100.8ms inference, 0.0ms postprocess per image at shape (1, 3, 384, 640)\n",
      "\n",
      "0: 384x640 2 persons, 105.1ms\n",
      "Speed: 0.0ms preprocess, 105.1ms inference, 0.0ms postprocess per image at shape (1, 3, 384, 640)\n",
      "\n"
     ]
    },
    {
     "name": "stdout",
     "output_type": "stream",
     "text": [
      "0 112 519 708\n",
      "96\n",
      "510 41 1248 712\n",
      "95\n",
      "0 113 516 709\n",
      "95\n",
      "505 42 1245 712\n",
      "95\n"
     ]
    },
    {
     "name": "stderr",
     "output_type": "stream",
     "text": [
      "0: 384x640 2 persons, 92.7ms\n",
      "Speed: 2.1ms preprocess, 92.7ms inference, 1.8ms postprocess per image at shape (1, 3, 384, 640)\n",
      "\n",
      "0: 384x640 2 persons, 101.6ms\n",
      "Speed: 2.0ms preprocess, 101.6ms inference, 0.0ms postprocess per image at shape (1, 3, 384, 640)\n",
      "\n"
     ]
    },
    {
     "name": "stdout",
     "output_type": "stream",
     "text": [
      "505 42 1245 712\n",
      "95\n",
      "0 113 517 708\n",
      "93\n",
      "0 112 513 709\n",
      "96\n",
      "501 44 1245 713\n",
      "95\n"
     ]
    },
    {
     "name": "stderr",
     "output_type": "stream",
     "text": [
      "0: 384x640 2 persons, 93.7ms\n",
      "Speed: 4.8ms preprocess, 93.7ms inference, 5.3ms postprocess per image at shape (1, 3, 384, 640)\n",
      "\n",
      "0: 384x640 2 persons, 92.9ms\n",
      "Speed: 4.4ms preprocess, 92.9ms inference, 2.5ms postprocess per image at shape (1, 3, 384, 640)\n",
      "\n"
     ]
    },
    {
     "name": "stdout",
     "output_type": "stream",
     "text": [
      "0 111 510 709\n",
      "96\n",
      "493 41 1242 712\n",
      "94\n",
      "0 110 509 709\n",
      "96\n",
      "489 41 1238 712\n",
      "94\n"
     ]
    },
    {
     "name": "stderr",
     "output_type": "stream",
     "text": [
      "0: 384x640 2 persons, 103.0ms\n",
      "Speed: 0.0ms preprocess, 103.0ms inference, 2.0ms postprocess per image at shape (1, 3, 384, 640)\n",
      "\n",
      "0: 384x640 2 persons, 106.2ms\n",
      "Speed: 4.8ms preprocess, 106.2ms inference, 2.0ms postprocess per image at shape (1, 3, 384, 640)\n",
      "\n"
     ]
    },
    {
     "name": "stdout",
     "output_type": "stream",
     "text": [
      "0 110 507 708\n",
      "97\n",
      "468 37 1234 712\n",
      "93\n",
      "0 109 504 709\n",
      "97\n",
      "466 31 1218 712\n",
      "93\n"
     ]
    },
    {
     "name": "stderr",
     "output_type": "stream",
     "text": [
      "0: 384x640 2 persons, 117.4ms\n",
      "Speed: 5.4ms preprocess, 117.4ms inference, 0.0ms postprocess per image at shape (1, 3, 384, 640)\n",
      "\n",
      "0: 384x640 2 persons, 103.2ms\n",
      "Speed: 3.6ms preprocess, 103.2ms inference, 0.0ms postprocess per image at shape (1, 3, 384, 640)\n",
      "\n"
     ]
    },
    {
     "name": "stdout",
     "output_type": "stream",
     "text": [
      "0 110 503 707\n",
      "96\n",
      "457 25 1214 712\n",
      "94\n",
      "0 109 504 708\n",
      "97\n",
      "451 25 1214 712\n",
      "93\n"
     ]
    },
    {
     "name": "stderr",
     "output_type": "stream",
     "text": [
      "0: 384x640 3 persons, 102.8ms\n",
      "Speed: 4.6ms preprocess, 102.8ms inference, 4.0ms postprocess per image at shape (1, 3, 384, 640)\n",
      "\n",
      "0: 384x640 3 persons, 100.7ms\n",
      "Speed: 0.0ms preprocess, 100.7ms inference, 0.0ms postprocess per image at shape (1, 3, 384, 640)\n",
      "\n"
     ]
    },
    {
     "name": "stdout",
     "output_type": "stream",
     "text": [
      "0 109 503 708\n",
      "97\n",
      "455 22 1221 712\n",
      "94\n",
      "471 387 582 517\n",
      "62\n",
      "0 109 503 708\n",
      "97\n",
      "452 19 1222 712\n",
      "94\n",
      "499 384 631 512\n",
      "69\n"
     ]
    },
    {
     "name": "stderr",
     "output_type": "stream",
     "text": [
      "0: 384x640 3 persons, 95.1ms\n",
      "Speed: 2.4ms preprocess, 95.1ms inference, 1.8ms postprocess per image at shape (1, 3, 384, 640)\n",
      "\n",
      "0: 384x640 2 persons, 152.0ms\n"
     ]
    },
    {
     "name": "stdout",
     "output_type": "stream",
     "text": [
      "0 109 499 708\n",
      "97\n",
      "456 18 1230 712\n",
      "94\n",
      "544 369 670 463\n",
      "52\n",
      "0 110 499 708\n",
      "97\n",
      "460 21 1227 712\n",
      "94\n"
     ]
    },
    {
     "name": "stderr",
     "output_type": "stream",
     "text": [
      "Speed: 6.2ms preprocess, 152.0ms inference, 2.0ms postprocess per image at shape (1, 3, 384, 640)\n",
      "\n",
      "0: 384x640 2 persons, 87.6ms\n",
      "Speed: 1.8ms preprocess, 87.6ms inference, 10.4ms postprocess per image at shape (1, 3, 384, 640)\n",
      "\n",
      "0: 384x640 2 persons, 77.3ms\n",
      "Speed: 3.6ms preprocess, 77.3ms inference, 13.0ms postprocess per image at shape (1, 3, 384, 640)\n",
      "\n"
     ]
    },
    {
     "name": "stdout",
     "output_type": "stream",
     "text": [
      "0 109 501 708\n",
      "97\n",
      "461 22 1229 711\n",
      "94\n",
      "0 111 501 708\n",
      "97\n",
      "462 20 1228 712\n",
      "94\n"
     ]
    },
    {
     "name": "stderr",
     "output_type": "stream",
     "text": [
      "0: 384x640 2 persons, 96.1ms\n",
      "Speed: 0.0ms preprocess, 96.1ms inference, 0.0ms postprocess per image at shape (1, 3, 384, 640)\n",
      "\n",
      "0: 384x640 2 persons, 92.4ms\n",
      "Speed: 3.1ms preprocess, 92.4ms inference, 0.0ms postprocess per image at shape (1, 3, 384, 640)\n",
      "\n"
     ]
    },
    {
     "name": "stdout",
     "output_type": "stream",
     "text": [
      "0 111 501 708\n",
      "97\n",
      "462 21 1231 712\n",
      "94\n",
      "0 112 501 708\n",
      "97\n",
      "461 20 1235 712\n",
      "94\n"
     ]
    },
    {
     "name": "stderr",
     "output_type": "stream",
     "text": [
      "0: 384x640 2 persons, 104.6ms\n",
      "Speed: 3.4ms preprocess, 104.6ms inference, 1.0ms postprocess per image at shape (1, 3, 384, 640)\n",
      "\n",
      "0: 384x640 2 persons, 99.1ms\n",
      "Speed: 4.3ms preprocess, 99.1ms inference, 1.2ms postprocess per image at shape (1, 3, 384, 640)\n",
      "\n"
     ]
    },
    {
     "name": "stdout",
     "output_type": "stream",
     "text": [
      "0 114 500 708\n",
      "97\n",
      "459 23 1225 712\n",
      "94\n",
      "0 115 500 708\n",
      "96\n",
      "460 22 1225 712\n",
      "94\n"
     ]
    },
    {
     "name": "stderr",
     "output_type": "stream",
     "text": [
      "0: 384x640 3 persons, 158.9ms\n",
      "Speed: 2.3ms preprocess, 158.9ms inference, 4.0ms postprocess per image at shape (1, 3, 384, 640)\n",
      "\n"
     ]
    },
    {
     "name": "stdout",
     "output_type": "stream",
     "text": [
      "0 118 498 708\n",
      "96\n",
      "460 25 1207 713\n",
      "94\n",
      "979 304 1128 425\n",
      "31\n"
     ]
    },
    {
     "name": "stderr",
     "output_type": "stream",
     "text": [
      "0: 384x640 3 persons, 205.5ms\n",
      "Speed: 0.0ms preprocess, 205.5ms inference, 5.3ms postprocess per image at shape (1, 3, 384, 640)\n",
      "\n"
     ]
    },
    {
     "name": "stdout",
     "output_type": "stream",
     "text": [
      "0 119 496 708\n",
      "97\n",
      "460 29 1214 713\n",
      "92\n",
      "1041 274 1274 714\n",
      "76\n"
     ]
    },
    {
     "name": "stderr",
     "output_type": "stream",
     "text": [
      "0: 384x640 3 persons, 207.7ms\n",
      "Speed: 5.0ms preprocess, 207.7ms inference, 4.6ms postprocess per image at shape (1, 3, 384, 640)\n",
      "\n"
     ]
    },
    {
     "name": "stdout",
     "output_type": "stream",
     "text": [
      "0 120 495 709\n",
      "97\n",
      "458 30 1206 713\n",
      "93\n",
      "1139 178 1279 712\n",
      "87\n"
     ]
    },
    {
     "name": "stderr",
     "output_type": "stream",
     "text": [
      "0: 384x640 3 persons, 204.8ms\n",
      "Speed: 0.0ms preprocess, 204.8ms inference, 0.0ms postprocess per image at shape (1, 3, 384, 640)\n",
      "\n"
     ]
    },
    {
     "name": "stdout",
     "output_type": "stream",
     "text": [
      "0 119 493 709\n",
      "97\n",
      "455 28 1200 712\n",
      "94\n",
      "1189 124 1279 711\n",
      "79\n"
     ]
    },
    {
     "name": "stderr",
     "output_type": "stream",
     "text": [
      "0: 384x640 2 persons, 199.5ms\n",
      "Speed: 6.0ms preprocess, 199.5ms inference, 0.0ms postprocess per image at shape (1, 3, 384, 640)\n",
      "\n"
     ]
    },
    {
     "name": "stdout",
     "output_type": "stream",
     "text": [
      "0 120 493 709\n",
      "97\n",
      "460 28 1212 712\n",
      "93\n"
     ]
    },
    {
     "name": "stderr",
     "output_type": "stream",
     "text": [
      "0: 384x640 2 persons, 193.5ms\n",
      "Speed: 8.0ms preprocess, 193.5ms inference, 5.8ms postprocess per image at shape (1, 3, 384, 640)\n",
      "\n"
     ]
    },
    {
     "name": "stdout",
     "output_type": "stream",
     "text": [
      "0 121 494 709\n",
      "97\n",
      "457 29 1206 712\n",
      "92\n"
     ]
    },
    {
     "name": "stderr",
     "output_type": "stream",
     "text": [
      "0: 384x640 2 persons, 193.4ms\n",
      "Speed: 8.4ms preprocess, 193.4ms inference, 11.7ms postprocess per image at shape (1, 3, 384, 640)\n",
      "\n"
     ]
    },
    {
     "name": "stdout",
     "output_type": "stream",
     "text": [
      "0 123 493 708\n",
      "96\n",
      "454 31 1206 713\n",
      "91\n"
     ]
    },
    {
     "name": "stderr",
     "output_type": "stream",
     "text": [
      "0: 384x640 2 persons, 205.0ms\n",
      "Speed: 0.0ms preprocess, 205.0ms inference, 0.0ms postprocess per image at shape (1, 3, 384, 640)\n",
      "\n"
     ]
    },
    {
     "name": "stdout",
     "output_type": "stream",
     "text": [
      "0 123 493 708\n",
      "97\n",
      "459 33 1206 713\n",
      "93\n"
     ]
    },
    {
     "name": "stderr",
     "output_type": "stream",
     "text": [
      "0: 384x640 2 persons, 213.1ms\n",
      "Speed: 0.0ms preprocess, 213.1ms inference, 3.0ms postprocess per image at shape (1, 3, 384, 640)\n",
      "\n"
     ]
    },
    {
     "name": "stdout",
     "output_type": "stream",
     "text": [
      "0 124 493 708\n",
      "97\n",
      "462 34 1213 712\n",
      "93\n"
     ]
    },
    {
     "name": "stderr",
     "output_type": "stream",
     "text": [
      "0: 384x640 2 persons, 202.7ms\n",
      "Speed: 6.1ms preprocess, 202.7ms inference, 0.0ms postprocess per image at shape (1, 3, 384, 640)\n",
      "\n"
     ]
    },
    {
     "name": "stdout",
     "output_type": "stream",
     "text": [
      "0 123 491 708\n",
      "97\n",
      "465 36 1211 712\n",
      "92\n"
     ]
    },
    {
     "name": "stderr",
     "output_type": "stream",
     "text": [
      "0: 384x640 3 persons, 210.3ms\n",
      "Speed: 1.7ms preprocess, 210.3ms inference, 0.0ms postprocess per image at shape (1, 3, 384, 640)\n",
      "\n"
     ]
    },
    {
     "name": "stdout",
     "output_type": "stream",
     "text": [
      "0 122 490 709\n",
      "97\n",
      "470 38 1199 712\n",
      "92\n",
      "1039 6 1279 705\n",
      "57\n"
     ]
    },
    {
     "name": "stderr",
     "output_type": "stream",
     "text": [
      "0: 384x640 3 persons, 1 dog, 194.2ms\n",
      "Speed: 4.1ms preprocess, 194.2ms inference, 4.6ms postprocess per image at shape (1, 3, 384, 640)\n",
      "\n"
     ]
    },
    {
     "name": "stdout",
     "output_type": "stream",
     "text": [
      "0 123 488 709\n",
      "97\n",
      "471 42 1204 712\n",
      "92\n",
      "1023 2 1279 703\n",
      "41\n",
      "1027 2 1279 560\n",
      "27\n"
     ]
    },
    {
     "name": "stderr",
     "output_type": "stream",
     "text": [
      "0: 384x640 3 persons, 193.5ms\n",
      "Speed: 7.2ms preprocess, 193.5ms inference, 8.8ms postprocess per image at shape (1, 3, 384, 640)\n",
      "\n"
     ]
    },
    {
     "name": "stdout",
     "output_type": "stream",
     "text": [
      "0 124 488 710\n",
      "97\n",
      "469 42 1202 713\n",
      "91\n",
      "1016 3 1279 705\n",
      "49\n"
     ]
    },
    {
     "name": "stderr",
     "output_type": "stream",
     "text": [
      "0: 384x640 3 persons, 1 dog, 200.7ms\n",
      "Speed: 6.6ms preprocess, 200.7ms inference, 0.0ms postprocess per image at shape (1, 3, 384, 640)\n",
      "\n"
     ]
    },
    {
     "name": "stdout",
     "output_type": "stream",
     "text": [
      "0 127 486 710\n",
      "97\n",
      "472 43 1203 713\n",
      "93\n",
      "1003 3 1279 704\n",
      "51\n",
      "1007 3 1279 590\n",
      "27\n"
     ]
    },
    {
     "name": "stderr",
     "output_type": "stream",
     "text": [
      "0: 384x640 3 persons, 204.6ms\n",
      "Speed: 3.0ms preprocess, 204.6ms inference, 5.6ms postprocess per image at shape (1, 3, 384, 640)\n",
      "\n"
     ]
    },
    {
     "name": "stdout",
     "output_type": "stream",
     "text": [
      "0 128 487 709\n",
      "96\n",
      "470 45 1203 713\n",
      "93\n",
      "1004 3 1279 702\n",
      "49\n"
     ]
    },
    {
     "name": "stderr",
     "output_type": "stream",
     "text": [
      "0: 384x640 3 persons, 205.9ms\n",
      "Speed: 0.0ms preprocess, 205.9ms inference, 6.7ms postprocess per image at shape (1, 3, 384, 640)\n",
      "\n"
     ]
    },
    {
     "name": "stdout",
     "output_type": "stream",
     "text": [
      "0 128 489 709\n",
      "97\n",
      "471 45 1204 712\n",
      "93\n",
      "1007 4 1279 698\n",
      "48\n"
     ]
    },
    {
     "name": "stderr",
     "output_type": "stream",
     "text": [
      "0: 384x640 3 persons, 195.6ms\n",
      "Speed: 4.5ms preprocess, 195.6ms inference, 10.2ms postprocess per image at shape (1, 3, 384, 640)\n",
      "\n"
     ]
    },
    {
     "name": "stdout",
     "output_type": "stream",
     "text": [
      "0 128 491 709\n",
      "97\n",
      "469 46 1207 712\n",
      "91\n",
      "1007 2 1279 701\n",
      "49\n"
     ]
    },
    {
     "name": "stderr",
     "output_type": "stream",
     "text": [
      "0: 384x640 3 persons, 205.0ms\n",
      "Speed: 2.7ms preprocess, 205.0ms inference, 2.0ms postprocess per image at shape (1, 3, 384, 640)\n",
      "\n"
     ]
    },
    {
     "name": "stdout",
     "output_type": "stream",
     "text": [
      "0 128 490 709\n",
      "96\n",
      "471 45 1207 712\n",
      "93\n",
      "1007 2 1279 704\n",
      "50\n"
     ]
    },
    {
     "name": "stderr",
     "output_type": "stream",
     "text": [
      "0: 384x640 3 persons, 206.5ms\n",
      "Speed: 0.0ms preprocess, 206.5ms inference, 2.3ms postprocess per image at shape (1, 3, 384, 640)\n",
      "\n"
     ]
    },
    {
     "name": "stdout",
     "output_type": "stream",
     "text": [
      "0 128 491 709\n",
      "97\n",
      "475 46 1209 712\n",
      "93\n",
      "1004 1 1279 701\n",
      "53\n"
     ]
    },
    {
     "name": "stderr",
     "output_type": "stream",
     "text": [
      "0: 384x640 3 persons, 200.3ms\n",
      "Speed: 5.0ms preprocess, 200.3ms inference, 0.0ms postprocess per image at shape (1, 3, 384, 640)\n",
      "\n"
     ]
    },
    {
     "name": "stdout",
     "output_type": "stream",
     "text": [
      "0 128 491 709\n",
      "97\n",
      "474 48 1208 712\n",
      "92\n",
      "1002 2 1279 703\n",
      "46\n"
     ]
    },
    {
     "name": "stderr",
     "output_type": "stream",
     "text": [
      "0: 384x640 3 persons, 200.5ms\n",
      "Speed: 6.1ms preprocess, 200.5ms inference, 7.5ms postprocess per image at shape (1, 3, 384, 640)\n",
      "\n"
     ]
    },
    {
     "name": "stdout",
     "output_type": "stream",
     "text": [
      "0 130 490 709\n",
      "97\n",
      "476 49 1208 712\n",
      "93\n",
      "1001 3 1279 700\n",
      "52\n"
     ]
    },
    {
     "name": "stderr",
     "output_type": "stream",
     "text": [
      "0: 384x640 3 persons, 206.4ms\n",
      "Speed: 7.4ms preprocess, 206.4ms inference, 2.7ms postprocess per image at shape (1, 3, 384, 640)\n",
      "\n"
     ]
    },
    {
     "name": "stdout",
     "output_type": "stream",
     "text": [
      "0 130 490 709\n",
      "97\n",
      "475 49 1208 712\n",
      "93\n",
      "1000 1 1279 701\n",
      "38\n"
     ]
    },
    {
     "name": "stderr",
     "output_type": "stream",
     "text": [
      "0: 384x640 3 persons, 194.2ms\n",
      "Speed: 0.0ms preprocess, 194.2ms inference, 14.7ms postprocess per image at shape (1, 3, 384, 640)\n",
      "\n"
     ]
    },
    {
     "name": "stdout",
     "output_type": "stream",
     "text": [
      "0 132 491 709\n",
      "97\n",
      "476 49 1209 712\n",
      "94\n",
      "999 1 1279 700\n",
      "41\n"
     ]
    },
    {
     "name": "stderr",
     "output_type": "stream",
     "text": [
      "0: 384x640 3 persons, 194.3ms\n",
      "Speed: 0.0ms preprocess, 194.3ms inference, 0.0ms postprocess per image at shape (1, 3, 384, 640)\n",
      "\n"
     ]
    },
    {
     "name": "stdout",
     "output_type": "stream",
     "text": [
      "0 132 490 709\n",
      "96\n",
      "474 50 1207 712\n",
      "93\n",
      "1001 2 1279 701\n",
      "40\n"
     ]
    },
    {
     "name": "stderr",
     "output_type": "stream",
     "text": [
      "0: 384x640 3 persons, 203.4ms\n",
      "Speed: 0.0ms preprocess, 203.4ms inference, 8.2ms postprocess per image at shape (1, 3, 384, 640)\n",
      "\n"
     ]
    },
    {
     "name": "stdout",
     "output_type": "stream",
     "text": [
      "0 132 490 709\n",
      "97\n",
      "476 53 1208 712\n",
      "94\n",
      "1004 1 1279 700\n",
      "44\n"
     ]
    },
    {
     "name": "stderr",
     "output_type": "stream",
     "text": [
      "0: 384x640 3 persons, 202.9ms\n",
      "Speed: 0.0ms preprocess, 202.9ms inference, 0.0ms postprocess per image at shape (1, 3, 384, 640)\n",
      "\n"
     ]
    },
    {
     "name": "stdout",
     "output_type": "stream",
     "text": [
      "0 132 491 709\n",
      "97\n",
      "476 54 1211 712\n",
      "94\n",
      "1003 1 1279 701\n",
      "36\n"
     ]
    },
    {
     "name": "stderr",
     "output_type": "stream",
     "text": [
      "0: 384x640 2 persons, 196.7ms\n",
      "Speed: 0.0ms preprocess, 196.7ms inference, 0.0ms postprocess per image at shape (1, 3, 384, 640)\n",
      "\n"
     ]
    },
    {
     "name": "stdout",
     "output_type": "stream",
     "text": [
      "0 131 492 709\n",
      "97\n",
      "478 56 1209 712\n",
      "94\n"
     ]
    },
    {
     "name": "stderr",
     "output_type": "stream",
     "text": [
      "0: 384x640 3 persons, 199.1ms\n",
      "Speed: 0.0ms preprocess, 199.1ms inference, 0.0ms postprocess per image at shape (1, 3, 384, 640)\n",
      "\n"
     ]
    },
    {
     "name": "stdout",
     "output_type": "stream",
     "text": [
      "0 131 492 709\n",
      "97\n",
      "478 58 1209 712\n",
      "94\n",
      "1005 2 1279 704\n",
      "39\n"
     ]
    },
    {
     "name": "stderr",
     "output_type": "stream",
     "text": [
      "0: 384x640 3 persons, 203.3ms\n",
      "Speed: 4.8ms preprocess, 203.3ms inference, 5.6ms postprocess per image at shape (1, 3, 384, 640)\n",
      "\n",
      "0: 384x640 3 persons, 100.4ms\n",
      "Speed: 3.1ms preprocess, 100.4ms inference, 0.0ms postprocess per image at shape (1, 3, 384, 640)\n"
     ]
    },
    {
     "name": "stdout",
     "output_type": "stream",
     "text": [
      "0 131 491 709\n",
      "97\n",
      "479 60 1207 712\n",
      "94\n",
      "1004 2 1279 702\n",
      "42\n",
      "0 131 490 709\n",
      "97\n",
      "476 60 1207 712\n",
      "93\n",
      "1002 1 1279 704\n",
      "50\n"
     ]
    },
    {
     "name": "stderr",
     "output_type": "stream",
     "text": [
      "\n",
      "0: 384x640 2 persons, 83.6ms\n",
      "Speed: 5.9ms preprocess, 83.6ms inference, 0.0ms postprocess per image at shape (1, 3, 384, 640)\n",
      "\n",
      "0: 384x640 3 persons, 104.5ms\n",
      "Speed: 3.7ms preprocess, 104.5ms inference, 0.0ms postprocess per image at shape (1, 3, 384, 640)\n",
      "\n"
     ]
    },
    {
     "name": "stdout",
     "output_type": "stream",
     "text": [
      "0 131 489 709\n",
      "97\n",
      "478 60 1205 712\n",
      "94\n",
      "0 132 489 709\n",
      "97\n",
      "476 58 1209 712\n",
      "94\n",
      "998 1 1279 703\n",
      "54\n"
     ]
    },
    {
     "name": "stderr",
     "output_type": "stream",
     "text": [
      "0: 384x640 3 persons, 1 cat, 90.5ms\n",
      "Speed: 2.2ms preprocess, 90.5ms inference, 0.0ms postprocess per image at shape (1, 3, 384, 640)\n",
      "\n",
      "0: 384x640 3 persons, 78.3ms\n",
      "Speed: 3.9ms preprocess, 78.3ms inference, 0.0ms postprocess per image at shape (1, 3, 384, 640)\n",
      "\n"
     ]
    },
    {
     "name": "stdout",
     "output_type": "stream",
     "text": [
      "0 131 488 708\n",
      "97\n",
      "471 56 1213 712\n",
      "92\n",
      "998 3 1279 259\n",
      "28\n",
      "999 2 1279 698\n",
      "27\n",
      "0 132 486 709\n",
      "97\n",
      "469 53 1212 712\n",
      "92\n",
      "997 3 1279 702\n",
      "51\n"
     ]
    },
    {
     "name": "stderr",
     "output_type": "stream",
     "text": [
      "0: 384x640 3 persons, 81.7ms\n",
      "Speed: 3.3ms preprocess, 81.7ms inference, 0.0ms postprocess per image at shape (1, 3, 384, 640)\n",
      "\n",
      "0: 384x640 3 persons, 80.9ms\n",
      "Speed: 0.0ms preprocess, 80.9ms inference, 0.0ms postprocess per image at shape (1, 3, 384, 640)\n",
      "\n"
     ]
    },
    {
     "name": "stdout",
     "output_type": "stream",
     "text": [
      "0 132 484 709\n",
      "97\n",
      "469 52 1210 712\n",
      "92\n",
      "996 2 1279 702\n",
      "45\n",
      "0 132 485 709\n",
      "97\n",
      "468 48 1201 712\n",
      "93\n",
      "995 2 1279 701\n",
      "44\n"
     ]
    },
    {
     "name": "stderr",
     "output_type": "stream",
     "text": [
      "0: 384x640 3 persons, 79.4ms\n",
      "Speed: 5.4ms preprocess, 79.4ms inference, 2.0ms postprocess per image at shape (1, 3, 384, 640)\n",
      "\n",
      "0: 384x640 3 persons, 83.1ms\n",
      "Speed: 2.3ms preprocess, 83.1ms inference, 2.0ms postprocess per image at shape (1, 3, 384, 640)\n",
      "\n"
     ]
    },
    {
     "name": "stdout",
     "output_type": "stream",
     "text": [
      "0 132 483 708\n",
      "97\n",
      "468 48 1204 713\n",
      "94\n",
      "995 1 1279 704\n",
      "47\n",
      "0 132 483 709\n",
      "97\n",
      "467 46 1204 712\n",
      "94\n",
      "996 2 1279 702\n",
      "47\n"
     ]
    },
    {
     "name": "stderr",
     "output_type": "stream",
     "text": [
      "0: 384x640 3 persons, 82.8ms\n",
      "Speed: 5.0ms preprocess, 82.8ms inference, 2.5ms postprocess per image at shape (1, 3, 384, 640)\n"
     ]
    },
    {
     "name": "stdout",
     "output_type": "stream",
     "text": [
      "0 132 481 709\n",
      "97\n",
      "466 46 1201 712\n",
      "94\n",
      "995 3 1279 696\n",
      "53\n"
     ]
    }
   ],
   "source": [
    "# YOLO model works on images so we have to break the video into images \n",
    "while True:# Loop captures the images in each iteration \n",
    "    success, img = cap.read() # Success is a boolean parameter which checks if open cv is able to read the image or not\n",
    "    if not success: # Error if not captured\n",
    "        print(\"Failed to capture frame\")\n",
    "        break\n",
    "    results = model(img, stream = True) # Now we integrate the model on the image| Stream to get real-time or memory-efficient results one by one\n",
    "    for r in results:\n",
    "        boxes = r.boxes # Box means a rectangular box over the detected objects in the captured frame \n",
    "        for box in boxes:\n",
    "            x1,y1, x2, y2 = box.xyxy[0] # coordinates of the detected box/object with respect to original complete frame (Diagonal corners)\n",
    "            x1,y1, x2, y2 = int(x1),int (y1), int(x2), int(y2)\n",
    "            bbox = int(x1),int (y1), int(x2)- int(x1), int(y2)- int(y1) #bounding box\n",
    "            print(x1, y1, x2, y2)\n",
    "            # cv2.rectangle(img, (x1,y1), (x2,y2), (255,0,255),3)\n",
    "            cvzone.cornerRect(img, bbox) #box using cvzone it creates the box aroud the detected object \n",
    "            \n",
    "            conf_value = math.ceil(box.conf[0]*100) # Confidense value [0:1] converted to percentage (It also means probability of the object being detected)\n",
    "            print(conf_value)\n",
    "\n",
    "            # display the confidance value and class name\n",
    "            cvzone.putTextRect(img, f'{conf_value}', (max(x1,0), max(y1-20,0)))# It will put a legend on the box that what it has detected\n",
    "    cv2.imshow(\"Image\", img) # It will open a webcam window where it captures the imaged and detects the object\n",
    "    if cv2.waitKey(1) & 0xFF == ord('q'):  # Press 'q' to quit the window\n",
    "        break\n",
    "\n",
    "cap.release() # closes the video stream or file associated with the capture object\n",
    "cv2.destroyAllWindows() # Closes all webcam windows for this program"
   ]
  },
  {
   "cell_type": "code",
   "execution_count": 8,
   "metadata": {},
   "outputs": [
    {
     "name": "stderr",
     "output_type": "stream",
     "text": [
      "\n",
      "0: 384x640 1 person, 166.0ms\n",
      "Speed: 6.9ms preprocess, 166.0ms inference, 2.2ms postprocess per image at shape (1, 3, 384, 640)\n",
      "\n",
      "0: 384x640 1 person, 122.9ms\n",
      "Speed: 2.3ms preprocess, 122.9ms inference, 2.6ms postprocess per image at shape (1, 3, 384, 640)\n"
     ]
    },
    {
     "name": "stdout",
     "output_type": "stream",
     "text": [
      "254 63 967 712\n",
      "Left Distance: 254, Right Distance: 313\n",
      "Decision: Right\n",
      "244 39 922 712\n",
      "Left Distance: 244, Right Distance: 358\n",
      "Decision: Right\n"
     ]
    },
    {
     "name": "stderr",
     "output_type": "stream",
     "text": [
      "\n",
      "0: 384x640 1 person, 105.1ms\n",
      "Speed: 1.6ms preprocess, 105.1ms inference, 0.0ms postprocess per image at shape (1, 3, 384, 640)\n",
      "\n",
      "0: 384x640 1 person, 96.4ms\n",
      "Speed: 5.8ms preprocess, 96.4ms inference, 2.0ms postprocess per image at shape (1, 3, 384, 640)\n",
      "\n"
     ]
    },
    {
     "name": "stdout",
     "output_type": "stream",
     "text": [
      "242 39 920 712\n",
      "Left Distance: 242, Right Distance: 360\n",
      "Decision: Right\n",
      "242 40 919 712\n",
      "Left Distance: 242, Right Distance: 361\n",
      "Decision: Right\n"
     ]
    },
    {
     "name": "stderr",
     "output_type": "stream",
     "text": [
      "0: 384x640 1 person, 98.6ms\n",
      "Speed: 3.8ms preprocess, 98.6ms inference, 0.0ms postprocess per image at shape (1, 3, 384, 640)\n",
      "\n",
      "0: 384x640 1 person, 96.4ms\n",
      "Speed: 2.0ms preprocess, 96.4ms inference, 3.2ms postprocess per image at shape (1, 3, 384, 640)\n",
      "\n"
     ]
    },
    {
     "name": "stdout",
     "output_type": "stream",
     "text": [
      "241 42 917 712\n",
      "Left Distance: 241, Right Distance: 363\n",
      "Decision: Right\n",
      "243 43 917 712\n",
      "Left Distance: 243, Right Distance: 363\n",
      "Decision: Right\n"
     ]
    },
    {
     "name": "stderr",
     "output_type": "stream",
     "text": [
      "0: 384x640 1 person, 100.1ms\n",
      "Speed: 2.8ms preprocess, 100.1ms inference, 0.0ms postprocess per image at shape (1, 3, 384, 640)\n",
      "\n",
      "0: 384x640 1 person, 100.4ms\n",
      "Speed: 2.9ms preprocess, 100.4ms inference, 2.1ms postprocess per image at shape (1, 3, 384, 640)\n",
      "\n"
     ]
    },
    {
     "name": "stdout",
     "output_type": "stream",
     "text": [
      "243 45 917 712\n",
      "Left Distance: 243, Right Distance: 363\n",
      "Decision: Right\n",
      "244 46 917 712\n",
      "Left Distance: 244, Right Distance: 363\n",
      "Decision: Right\n"
     ]
    },
    {
     "name": "stderr",
     "output_type": "stream",
     "text": [
      "0: 384x640 1 person, 95.7ms\n",
      "Speed: 5.3ms preprocess, 95.7ms inference, 1.8ms postprocess per image at shape (1, 3, 384, 640)\n",
      "\n",
      "0: 384x640 1 person, 92.7ms\n",
      "Speed: 4.0ms preprocess, 92.7ms inference, 2.0ms postprocess per image at shape (1, 3, 384, 640)\n",
      "\n"
     ]
    },
    {
     "name": "stdout",
     "output_type": "stream",
     "text": [
      "244 48 917 712\n",
      "Left Distance: 244, Right Distance: 363\n",
      "Decision: Right\n",
      "245 49 917 712\n",
      "Left Distance: 245, Right Distance: 363\n",
      "Decision: Right\n"
     ]
    },
    {
     "name": "stderr",
     "output_type": "stream",
     "text": [
      "0: 384x640 1 person, 99.1ms\n",
      "Speed: 4.7ms preprocess, 99.1ms inference, 2.0ms postprocess per image at shape (1, 3, 384, 640)\n",
      "\n",
      "0: 384x640 1 person, 98.4ms\n",
      "Speed: 5.4ms preprocess, 98.4ms inference, 2.0ms postprocess per image at shape (1, 3, 384, 640)\n",
      "\n"
     ]
    },
    {
     "name": "stdout",
     "output_type": "stream",
     "text": [
      "246 51 913 712\n",
      "Left Distance: 246, Right Distance: 367\n",
      "Decision: Right\n",
      "247 53 911 712\n",
      "Left Distance: 247, Right Distance: 369\n",
      "Decision: Right\n"
     ]
    },
    {
     "name": "stderr",
     "output_type": "stream",
     "text": [
      "0: 384x640 1 person, 125.5ms\n",
      "Speed: 0.0ms preprocess, 125.5ms inference, 2.0ms postprocess per image at shape (1, 3, 384, 640)\n",
      "\n",
      "0: 384x640 1 person, 97.8ms\n",
      "Speed: 2.0ms preprocess, 97.8ms inference, 0.0ms postprocess per image at shape (1, 3, 384, 640)\n",
      "\n"
     ]
    },
    {
     "name": "stdout",
     "output_type": "stream",
     "text": [
      "246 55 910 712\n",
      "Left Distance: 246, Right Distance: 370\n",
      "Decision: Right\n",
      "246 58 908 712\n",
      "Left Distance: 246, Right Distance: 372\n",
      "Decision: Right\n"
     ]
    },
    {
     "name": "stderr",
     "output_type": "stream",
     "text": [
      "0: 384x640 1 person, 107.0ms\n",
      "Speed: 0.0ms preprocess, 107.0ms inference, 0.0ms postprocess per image at shape (1, 3, 384, 640)\n",
      "\n",
      "0: 384x640 1 person, 108.4ms\n",
      "Speed: 0.0ms preprocess, 108.4ms inference, 1.5ms postprocess per image at shape (1, 3, 384, 640)\n",
      "\n"
     ]
    },
    {
     "name": "stdout",
     "output_type": "stream",
     "text": [
      "245 58 908 712\n",
      "Left Distance: 245, Right Distance: 372\n",
      "Decision: Right\n",
      "245 60 908 712\n",
      "Left Distance: 245, Right Distance: 372\n",
      "Decision: Right\n"
     ]
    },
    {
     "name": "stderr",
     "output_type": "stream",
     "text": [
      "0: 384x640 1 person, 99.0ms\n",
      "Speed: 2.8ms preprocess, 99.0ms inference, 0.0ms postprocess per image at shape (1, 3, 384, 640)\n",
      "\n",
      "0: 384x640 1 person, 93.2ms\n",
      "Speed: 4.6ms preprocess, 93.2ms inference, 0.0ms postprocess per image at shape (1, 3, 384, 640)\n",
      "\n"
     ]
    },
    {
     "name": "stdout",
     "output_type": "stream",
     "text": [
      "244 59 909 712\n",
      "Left Distance: 244, Right Distance: 371\n",
      "Decision: Right\n",
      "244 58 908 712\n",
      "Left Distance: 244, Right Distance: 372\n",
      "Decision: Right\n"
     ]
    },
    {
     "name": "stderr",
     "output_type": "stream",
     "text": [
      "0: 384x640 1 person, 96.2ms\n",
      "Speed: 4.8ms preprocess, 96.2ms inference, 0.0ms postprocess per image at shape (1, 3, 384, 640)\n",
      "\n",
      "0: 384x640 1 person, 95.5ms\n",
      "Speed: 2.1ms preprocess, 95.5ms inference, 2.0ms postprocess per image at shape (1, 3, 384, 640)\n",
      "\n"
     ]
    },
    {
     "name": "stdout",
     "output_type": "stream",
     "text": [
      "243 58 910 712\n",
      "Left Distance: 243, Right Distance: 370\n",
      "Decision: Right\n",
      "237 57 910 712\n",
      "Left Distance: 237, Right Distance: 370\n",
      "Decision: Right\n"
     ]
    },
    {
     "name": "stderr",
     "output_type": "stream",
     "text": [
      "0: 384x640 1 person, 93.8ms\n",
      "Speed: 2.7ms preprocess, 93.8ms inference, 4.0ms postprocess per image at shape (1, 3, 384, 640)\n",
      "\n",
      "0: 384x640 1 person, 95.1ms\n",
      "Speed: 1.9ms preprocess, 95.1ms inference, 0.0ms postprocess per image at shape (1, 3, 384, 640)\n",
      "\n"
     ]
    },
    {
     "name": "stdout",
     "output_type": "stream",
     "text": [
      "236 57 908 712\n",
      "Left Distance: 236, Right Distance: 372\n",
      "Decision: Right\n",
      "236 56 908 712\n",
      "Left Distance: 236, Right Distance: 372\n",
      "Decision: Right\n"
     ]
    },
    {
     "name": "stderr",
     "output_type": "stream",
     "text": [
      "0: 384x640 1 person, 99.0ms\n",
      "Speed: 2.1ms preprocess, 99.0ms inference, 0.5ms postprocess per image at shape (1, 3, 384, 640)\n",
      "\n",
      "0: 384x640 1 person, 99.9ms\n",
      "Speed: 0.0ms preprocess, 99.9ms inference, 0.0ms postprocess per image at shape (1, 3, 384, 640)\n",
      "\n"
     ]
    },
    {
     "name": "stdout",
     "output_type": "stream",
     "text": [
      "237 55 912 712\n",
      "Left Distance: 237, Right Distance: 368\n",
      "Decision: Right\n",
      "241 56 915 712\n",
      "Left Distance: 241, Right Distance: 365\n",
      "Decision: Right\n"
     ]
    },
    {
     "name": "stderr",
     "output_type": "stream",
     "text": [
      "0: 384x640 1 person, 89.6ms\n",
      "Speed: 3.1ms preprocess, 89.6ms inference, 2.7ms postprocess per image at shape (1, 3, 384, 640)\n",
      "\n",
      "0: 384x640 1 person, 100.7ms\n",
      "Speed: 0.0ms preprocess, 100.7ms inference, 0.0ms postprocess per image at shape (1, 3, 384, 640)\n",
      "\n"
     ]
    },
    {
     "name": "stdout",
     "output_type": "stream",
     "text": [
      "242 66 919 712\n",
      "Left Distance: 242, Right Distance: 361\n",
      "Decision: Right\n",
      "242 74 925 712\n",
      "Left Distance: 242, Right Distance: 355\n",
      "Decision: Right\n"
     ]
    },
    {
     "name": "stderr",
     "output_type": "stream",
     "text": [
      "0: 384x640 1 person, 88.5ms\n",
      "Speed: 0.0ms preprocess, 88.5ms inference, 8.4ms postprocess per image at shape (1, 3, 384, 640)\n",
      "\n",
      "0: 384x640 1 person, 95.6ms\n",
      "Speed: 6.7ms preprocess, 95.6ms inference, 1.0ms postprocess per image at shape (1, 3, 384, 640)\n",
      "\n"
     ]
    },
    {
     "name": "stdout",
     "output_type": "stream",
     "text": [
      "245 78 929 712\n",
      "Left Distance: 245, Right Distance: 351\n",
      "Decision: Right\n",
      "244 80 932 712\n",
      "Left Distance: 244, Right Distance: 348\n",
      "Decision: Right\n"
     ]
    },
    {
     "name": "stderr",
     "output_type": "stream",
     "text": [
      "0: 384x640 1 person, 104.4ms\n",
      "Speed: 2.5ms preprocess, 104.4ms inference, 0.0ms postprocess per image at shape (1, 3, 384, 640)\n",
      "\n",
      "0: 384x640 1 person, 98.1ms\n",
      "Speed: 5.4ms preprocess, 98.1ms inference, 0.0ms postprocess per image at shape (1, 3, 384, 640)\n",
      "\n"
     ]
    },
    {
     "name": "stdout",
     "output_type": "stream",
     "text": [
      "250 83 936 713\n",
      "Left Distance: 250, Right Distance: 344\n",
      "Decision: Right\n",
      "251 85 939 713\n",
      "Left Distance: 251, Right Distance: 341\n",
      "Decision: Right\n"
     ]
    },
    {
     "name": "stderr",
     "output_type": "stream",
     "text": [
      "0: 384x640 1 person, 97.9ms\n",
      "Speed: 2.9ms preprocess, 97.9ms inference, 2.1ms postprocess per image at shape (1, 3, 384, 640)\n",
      "\n",
      "0: 384x640 1 person, 116.1ms\n",
      "Speed: 2.0ms preprocess, 116.1ms inference, 2.1ms postprocess per image at shape (1, 3, 384, 640)\n",
      "\n"
     ]
    },
    {
     "name": "stdout",
     "output_type": "stream",
     "text": [
      "260 89 951 713\n",
      "Left Distance: 260, Right Distance: 329\n",
      "Decision: Right\n",
      "268 92 957 713\n",
      "Left Distance: 268, Right Distance: 323\n",
      "Decision: Right\n"
     ]
    },
    {
     "name": "stderr",
     "output_type": "stream",
     "text": [
      "0: 384x640 1 person, 93.7ms\n",
      "Speed: 5.3ms preprocess, 93.7ms inference, 3.2ms postprocess per image at shape (1, 3, 384, 640)\n",
      "\n",
      "0: 384x640 1 person, 93.5ms\n",
      "Speed: 2.0ms preprocess, 93.5ms inference, 0.0ms postprocess per image at shape (1, 3, 384, 640)\n",
      "\n"
     ]
    },
    {
     "name": "stdout",
     "output_type": "stream",
     "text": [
      "280 105 984 712\n",
      "Left Distance: 280, Right Distance: 296\n",
      "Decision: Right\n",
      "290 111 1000 712\n",
      "Left Distance: 290, Right Distance: 280\n",
      "Decision: Left\n"
     ]
    },
    {
     "name": "stderr",
     "output_type": "stream",
     "text": [
      "0: 384x640 1 person, 1 laptop, 99.2ms\n",
      "Speed: 2.0ms preprocess, 99.2ms inference, 1.8ms postprocess per image at shape (1, 3, 384, 640)\n",
      "\n",
      "0: 384x640 1 person, 1 sink, 92.2ms\n",
      "Speed: 4.0ms preprocess, 92.2ms inference, 0.0ms postprocess per image at shape (1, 3, 384, 640)\n",
      "\n"
     ]
    },
    {
     "name": "stdout",
     "output_type": "stream",
     "text": [
      "307 117 1024 712\n",
      "Left Distance: 307, Right Distance: 256\n",
      "Decision: Left\n",
      "1087 56 1279 554\n",
      "Left Distance: 1087, Right Distance: 1\n",
      "Decision: Left\n",
      "325 122 1039 712\n",
      "Left Distance: 325, Right Distance: 241\n",
      "Decision: Left\n",
      "0 572 349 717\n",
      "Left Distance: 0, Right Distance: 931\n",
      "Decision: Right\n"
     ]
    },
    {
     "name": "stderr",
     "output_type": "stream",
     "text": [
      "0: 384x640 1 person, 1 sink, 100.2ms\n",
      "Speed: 4.0ms preprocess, 100.2ms inference, 0.0ms postprocess per image at shape (1, 3, 384, 640)\n",
      "\n",
      "0: 384x640 1 person, 1 sink, 92.6ms\n",
      "Speed: 2.0ms preprocess, 92.6ms inference, 2.0ms postprocess per image at shape (1, 3, 384, 640)\n",
      "\n"
     ]
    },
    {
     "name": "stdout",
     "output_type": "stream",
     "text": [
      "342 123 1055 712\n",
      "Left Distance: 342, Right Distance: 225\n",
      "Decision: Left\n",
      "0 571 377 716\n",
      "Left Distance: 0, Right Distance: 903\n",
      "Decision: Right\n",
      "356 122 1065 712\n",
      "Left Distance: 356, Right Distance: 215\n",
      "Decision: Left\n",
      "0 574 392 716\n",
      "Left Distance: 0, Right Distance: 888\n",
      "Decision: Right\n"
     ]
    },
    {
     "name": "stderr",
     "output_type": "stream",
     "text": [
      "0: 384x640 1 person, 92.4ms\n",
      "Speed: 3.0ms preprocess, 92.4ms inference, 2.0ms postprocess per image at shape (1, 3, 384, 640)\n",
      "\n",
      "0: 384x640 1 person, 1 sink, 94.1ms\n",
      "Speed: 4.7ms preprocess, 94.1ms inference, 2.0ms postprocess per image at shape (1, 3, 384, 640)\n",
      "\n"
     ]
    },
    {
     "name": "stdout",
     "output_type": "stream",
     "text": [
      "365 122 1076 713\n",
      "Left Distance: 365, Right Distance: 204\n",
      "Decision: Left\n",
      "380 124 1081 713\n",
      "Left Distance: 380, Right Distance: 199\n",
      "Decision: Left\n",
      "0 576 404 716\n",
      "Left Distance: 0, Right Distance: 876\n",
      "Decision: Right\n"
     ]
    },
    {
     "name": "stderr",
     "output_type": "stream",
     "text": [
      "0: 384x640 1 person, 94.4ms\n",
      "Speed: 5.0ms preprocess, 94.4ms inference, 0.0ms postprocess per image at shape (1, 3, 384, 640)\n",
      "\n",
      "0: 384x640 1 person, 97.0ms\n",
      "Speed: 3.3ms preprocess, 97.0ms inference, 0.0ms postprocess per image at shape (1, 3, 384, 640)\n",
      "\n"
     ]
    },
    {
     "name": "stdout",
     "output_type": "stream",
     "text": [
      "388 124 1076 713\n",
      "Left Distance: 388, Right Distance: 204\n",
      "Decision: Left\n",
      "394 126 1074 712\n",
      "Left Distance: 394, Right Distance: 206\n",
      "Decision: Left\n"
     ]
    },
    {
     "name": "stderr",
     "output_type": "stream",
     "text": [
      "0: 384x640 1 person, 107.2ms\n",
      "Speed: 2.9ms preprocess, 107.2ms inference, 2.8ms postprocess per image at shape (1, 3, 384, 640)\n",
      "\n",
      "0: 384x640 1 person, 91.6ms\n",
      "Speed: 4.1ms preprocess, 91.6ms inference, 2.0ms postprocess per image at shape (1, 3, 384, 640)\n",
      "\n"
     ]
    },
    {
     "name": "stdout",
     "output_type": "stream",
     "text": [
      "388 129 1067 712\n",
      "Left Distance: 388, Right Distance: 213\n",
      "Decision: Left\n",
      "378 140 1054 712\n",
      "Left Distance: 378, Right Distance: 226\n",
      "Decision: Left\n"
     ]
    },
    {
     "name": "stderr",
     "output_type": "stream",
     "text": [
      "0: 384x640 1 person, 91.4ms\n",
      "Speed: 2.6ms preprocess, 91.4ms inference, 2.0ms postprocess per image at shape (1, 3, 384, 640)\n",
      "\n",
      "0: 384x640 1 person, 92.2ms\n",
      "Speed: 4.0ms preprocess, 92.2ms inference, 2.0ms postprocess per image at shape (1, 3, 384, 640)\n",
      "\n"
     ]
    },
    {
     "name": "stdout",
     "output_type": "stream",
     "text": [
      "373 142 1050 712\n",
      "Left Distance: 373, Right Distance: 230\n",
      "Decision: Left\n",
      "334 152 993 712\n",
      "Left Distance: 334, Right Distance: 287\n",
      "Decision: Left\n"
     ]
    },
    {
     "name": "stderr",
     "output_type": "stream",
     "text": [
      "0: 384x640 1 person, 1 laptop, 95.1ms\n",
      "Speed: 0.0ms preprocess, 95.1ms inference, 0.0ms postprocess per image at shape (1, 3, 384, 640)\n",
      "\n",
      "0: 384x640 1 person, 93.5ms\n",
      "Speed: 5.1ms preprocess, 93.5ms inference, 2.0ms postprocess per image at shape (1, 3, 384, 640)\n",
      "\n"
     ]
    },
    {
     "name": "stdout",
     "output_type": "stream",
     "text": [
      "328 152 985 712\n",
      "Left Distance: 328, Right Distance: 295\n",
      "Decision: Left\n",
      "1087 87 1279 559\n",
      "Left Distance: 1087, Right Distance: 1\n",
      "Decision: Left\n",
      "279 152 928 712\n",
      "Left Distance: 279, Right Distance: 352\n",
      "Decision: Right\n"
     ]
    },
    {
     "name": "stderr",
     "output_type": "stream",
     "text": [
      "0: 384x640 1 person, 87.7ms\n",
      "Speed: 2.0ms preprocess, 87.7ms inference, 0.0ms postprocess per image at shape (1, 3, 384, 640)\n",
      "\n",
      "0: 384x640 1 person, 94.1ms\n",
      "Speed: 3.0ms preprocess, 94.1ms inference, 2.3ms postprocess per image at shape (1, 3, 384, 640)\n",
      "\n"
     ]
    },
    {
     "name": "stdout",
     "output_type": "stream",
     "text": [
      "250 152 882 711\n",
      "Left Distance: 250, Right Distance: 398\n",
      "Decision: Right\n",
      "221 154 847 712\n",
      "Left Distance: 221, Right Distance: 433\n",
      "Decision: Right\n"
     ]
    },
    {
     "name": "stderr",
     "output_type": "stream",
     "text": [
      "0: 384x640 1 person, 106.8ms\n",
      "Speed: 0.0ms preprocess, 106.8ms inference, 2.4ms postprocess per image at shape (1, 3, 384, 640)\n",
      "\n",
      "0: 384x640 1 person, 103.6ms\n",
      "Speed: 2.3ms preprocess, 103.6ms inference, 0.0ms postprocess per image at shape (1, 3, 384, 640)\n",
      "\n"
     ]
    },
    {
     "name": "stdout",
     "output_type": "stream",
     "text": [
      "188 160 814 712\n",
      "Left Distance: 188, Right Distance: 466\n",
      "Decision: Right\n",
      "162 167 800 712\n",
      "Left Distance: 162, Right Distance: 480\n",
      "Decision: Right\n"
     ]
    },
    {
     "name": "stderr",
     "output_type": "stream",
     "text": [
      "0: 384x640 2 persons, 93.9ms\n",
      "Speed: 0.0ms preprocess, 93.9ms inference, 2.3ms postprocess per image at shape (1, 3, 384, 640)\n",
      "\n",
      "0: 384x640 1 person, 86.2ms\n",
      "Speed: 2.7ms preprocess, 86.2ms inference, 0.0ms postprocess per image at shape (1, 3, 384, 640)\n",
      "\n"
     ]
    },
    {
     "name": "stdout",
     "output_type": "stream",
     "text": [
      "165 178 794 712\n",
      "Left Distance: 165, Right Distance: 486\n",
      "Decision: Right\n",
      "133 177 1032 712\n",
      "Left Distance: 133, Right Distance: 248\n",
      "Decision: Right\n",
      "170 182 794 712\n",
      "Left Distance: 170, Right Distance: 486\n",
      "Decision: Right\n"
     ]
    },
    {
     "name": "stderr",
     "output_type": "stream",
     "text": [
      "0: 384x640 2 persons, 94.8ms\n",
      "Speed: 3.1ms preprocess, 94.8ms inference, 1.5ms postprocess per image at shape (1, 3, 384, 640)\n",
      "\n",
      "0: 384x640 2 persons, 94.8ms\n",
      "Speed: 2.6ms preprocess, 94.8ms inference, 2.0ms postprocess per image at shape (1, 3, 384, 640)\n",
      "\n"
     ]
    },
    {
     "name": "stdout",
     "output_type": "stream",
     "text": [
      "191 183 797 713\n",
      "Left Distance: 191, Right Distance: 483\n",
      "Decision: Right\n",
      "146 178 1058 713\n",
      "Left Distance: 146, Right Distance: 222\n",
      "Decision: Right\n",
      "204 180 804 713\n",
      "Left Distance: 204, Right Distance: 476\n",
      "Decision: Right\n",
      "196 180 1090 714\n",
      "Left Distance: 196, Right Distance: 190\n",
      "Decision: Left\n"
     ]
    },
    {
     "name": "stderr",
     "output_type": "stream",
     "text": [
      "0: 384x640 2 persons, 1 laptop, 91.3ms\n",
      "Speed: 5.0ms preprocess, 91.3ms inference, 1.4ms postprocess per image at shape (1, 3, 384, 640)\n",
      "\n",
      "0: 384x640 2 persons, 96.2ms\n",
      "Speed: 2.2ms preprocess, 96.2ms inference, 2.0ms postprocess per image at shape (1, 3, 384, 640)\n",
      "\n"
     ]
    },
    {
     "name": "stdout",
     "output_type": "stream",
     "text": [
      "216 175 1095 713\n",
      "Left Distance: 216, Right Distance: 185\n",
      "Decision: Left\n",
      "211 175 817 713\n",
      "Left Distance: 211, Right Distance: 463\n",
      "Decision: Right\n",
      "1087 61 1279 556\n",
      "Left Distance: 1087, Right Distance: 1\n",
      "Decision: Left\n",
      "219 173 820 713\n",
      "Left Distance: 219, Right Distance: 460\n",
      "Decision: Right\n",
      "85 152 1110 712\n",
      "Left Distance: 85, Right Distance: 170\n",
      "Decision: Right\n"
     ]
    },
    {
     "name": "stderr",
     "output_type": "stream",
     "text": [
      "0: 384x640 1 person, 94.3ms\n",
      "Speed: 2.2ms preprocess, 94.3ms inference, 0.0ms postprocess per image at shape (1, 3, 384, 640)\n",
      "\n",
      "0: 384x640 1 person, 90.3ms\n",
      "Speed: 0.0ms preprocess, 90.3ms inference, 0.0ms postprocess per image at shape (1, 3, 384, 640)\n",
      "\n"
     ]
    },
    {
     "name": "stdout",
     "output_type": "stream",
     "text": [
      "215 170 829 712\n",
      "Left Distance: 215, Right Distance: 451\n",
      "Decision: Right\n",
      "218 168 834 712\n",
      "Left Distance: 218, Right Distance: 446\n",
      "Decision: Right\n"
     ]
    },
    {
     "name": "stderr",
     "output_type": "stream",
     "text": [
      "0: 384x640 1 person, 93.0ms\n",
      "Speed: 4.7ms preprocess, 93.0ms inference, 2.0ms postprocess per image at shape (1, 3, 384, 640)\n",
      "\n",
      "0: 384x640 1 person, 96.7ms\n",
      "Speed: 0.0ms preprocess, 96.7ms inference, 1.5ms postprocess per image at shape (1, 3, 384, 640)\n",
      "\n"
     ]
    },
    {
     "name": "stdout",
     "output_type": "stream",
     "text": [
      "221 169 838 712\n",
      "Left Distance: 221, Right Distance: 442\n",
      "Decision: Right\n",
      "224 169 838 712\n",
      "Left Distance: 224, Right Distance: 442\n",
      "Decision: Right\n"
     ]
    },
    {
     "name": "stderr",
     "output_type": "stream",
     "text": [
      "0: 384x640 1 person, 88.8ms\n",
      "Speed: 0.0ms preprocess, 88.8ms inference, 5.2ms postprocess per image at shape (1, 3, 384, 640)\n",
      "\n",
      "0: 384x640 1 person, 96.0ms\n",
      "Speed: 0.0ms preprocess, 96.0ms inference, 0.0ms postprocess per image at shape (1, 3, 384, 640)\n",
      "\n"
     ]
    },
    {
     "name": "stdout",
     "output_type": "stream",
     "text": [
      "225 168 840 712\n",
      "Left Distance: 225, Right Distance: 440\n",
      "Decision: Right\n",
      "226 168 841 712\n",
      "Left Distance: 226, Right Distance: 439\n",
      "Decision: Right\n"
     ]
    },
    {
     "name": "stderr",
     "output_type": "stream",
     "text": [
      "0: 384x640 1 person, 91.7ms\n",
      "Speed: 3.9ms preprocess, 91.7ms inference, 2.0ms postprocess per image at shape (1, 3, 384, 640)\n",
      "\n",
      "0: 384x640 1 person, 1 toilet, 101.2ms\n",
      "Speed: 2.5ms preprocess, 101.2ms inference, 0.0ms postprocess per image at shape (1, 3, 384, 640)\n",
      "\n"
     ]
    },
    {
     "name": "stdout",
     "output_type": "stream",
     "text": [
      "228 169 850 712\n",
      "Left Distance: 228, Right Distance: 430\n",
      "Decision: Right\n",
      "227 169 903 712\n",
      "Left Distance: 227, Right Distance: 377\n",
      "Decision: Right\n",
      "0 379 281 712\n",
      "Left Distance: 0, Right Distance: 999\n",
      "Decision: Right\n"
     ]
    },
    {
     "name": "stderr",
     "output_type": "stream",
     "text": [
      "0: 384x640 1 person, 92.8ms\n",
      "Speed: 5.2ms preprocess, 92.8ms inference, 0.0ms postprocess per image at shape (1, 3, 384, 640)\n",
      "\n",
      "0: 384x640 1 person, 95.9ms\n",
      "Speed: 0.0ms preprocess, 95.9ms inference, 1.0ms postprocess per image at shape (1, 3, 384, 640)\n",
      "\n"
     ]
    },
    {
     "name": "stdout",
     "output_type": "stream",
     "text": [
      "227 170 842 712\n",
      "Left Distance: 227, Right Distance: 438\n",
      "Decision: Right\n",
      "224 172 848 711\n",
      "Left Distance: 224, Right Distance: 432\n",
      "Decision: Right\n"
     ]
    },
    {
     "name": "stderr",
     "output_type": "stream",
     "text": [
      "0: 384x640 1 person, 95.0ms\n",
      "Speed: 4.0ms preprocess, 95.0ms inference, 2.0ms postprocess per image at shape (1, 3, 384, 640)\n",
      "\n",
      "0: 384x640 1 person, 89.9ms\n",
      "Speed: 3.2ms preprocess, 89.9ms inference, 0.0ms postprocess per image at shape (1, 3, 384, 640)\n",
      "\n"
     ]
    },
    {
     "name": "stdout",
     "output_type": "stream",
     "text": [
      "219 176 844 711\n",
      "Left Distance: 219, Right Distance: 436\n",
      "Decision: Right\n",
      "216 177 842 711\n",
      "Left Distance: 216, Right Distance: 438\n",
      "Decision: Right\n"
     ]
    },
    {
     "name": "stderr",
     "output_type": "stream",
     "text": [
      "0: 384x640 1 person, 112.6ms\n",
      "Speed: 2.5ms preprocess, 112.6ms inference, 2.0ms postprocess per image at shape (1, 3, 384, 640)\n",
      "\n",
      "0: 384x640 1 person, 93.2ms\n",
      "Speed: 2.8ms preprocess, 93.2ms inference, 0.0ms postprocess per image at shape (1, 3, 384, 640)\n",
      "\n"
     ]
    },
    {
     "name": "stdout",
     "output_type": "stream",
     "text": [
      "217 183 831 711\n",
      "Left Distance: 217, Right Distance: 449\n",
      "Decision: Right\n",
      "216 184 823 711\n",
      "Left Distance: 216, Right Distance: 457\n",
      "Decision: Right\n"
     ]
    },
    {
     "name": "stderr",
     "output_type": "stream",
     "text": [
      "0: 384x640 1 person, 89.6ms\n",
      "Speed: 2.2ms preprocess, 89.6ms inference, 1.0ms postprocess per image at shape (1, 3, 384, 640)\n",
      "\n",
      "0: 384x640 1 person, 90.9ms\n",
      "Speed: 5.5ms preprocess, 90.9ms inference, 2.0ms postprocess per image at shape (1, 3, 384, 640)\n",
      "\n"
     ]
    },
    {
     "name": "stdout",
     "output_type": "stream",
     "text": [
      "215 185 819 711\n",
      "Left Distance: 215, Right Distance: 461\n",
      "Decision: Right\n",
      "209 190 799 711\n",
      "Left Distance: 209, Right Distance: 481\n",
      "Decision: Right\n"
     ]
    },
    {
     "name": "stderr",
     "output_type": "stream",
     "text": [
      "0: 384x640 1 person, 90.6ms\n",
      "Speed: 0.0ms preprocess, 90.6ms inference, 3.8ms postprocess per image at shape (1, 3, 384, 640)\n",
      "\n",
      "0: 384x640 1 person, 89.5ms\n",
      "Speed: 2.6ms preprocess, 89.5ms inference, 2.0ms postprocess per image at shape (1, 3, 384, 640)\n",
      "\n"
     ]
    },
    {
     "name": "stdout",
     "output_type": "stream",
     "text": [
      "198 192 782 713\n",
      "Left Distance: 198, Right Distance: 498\n",
      "Decision: Right\n",
      "187 194 769 712\n",
      "Left Distance: 187, Right Distance: 511\n",
      "Decision: Right\n"
     ]
    },
    {
     "name": "stderr",
     "output_type": "stream",
     "text": [
      "0: 384x640 1 person, 84.7ms\n",
      "Speed: 3.3ms preprocess, 84.7ms inference, 2.0ms postprocess per image at shape (1, 3, 384, 640)\n",
      "\n",
      "0: 384x640 1 person, 91.0ms\n",
      "Speed: 5.4ms preprocess, 91.0ms inference, 2.0ms postprocess per image at shape (1, 3, 384, 640)\n",
      "\n"
     ]
    },
    {
     "name": "stdout",
     "output_type": "stream",
     "text": [
      "162 197 750 711\n",
      "Left Distance: 162, Right Distance: 530\n",
      "Decision: Right\n",
      "147 204 738 713\n",
      "Left Distance: 147, Right Distance: 542\n",
      "Decision: Right\n"
     ]
    },
    {
     "name": "stderr",
     "output_type": "stream",
     "text": [
      "0: 384x640 1 person, 86.1ms\n",
      "Speed: 3.2ms preprocess, 86.1ms inference, 1.0ms postprocess per image at shape (1, 3, 384, 640)\n",
      "\n",
      "0: 384x640 1 person, 91.8ms\n",
      "Speed: 2.8ms preprocess, 91.8ms inference, 0.0ms postprocess per image at shape (1, 3, 384, 640)\n",
      "\n"
     ]
    },
    {
     "name": "stdout",
     "output_type": "stream",
     "text": [
      "141 210 734 712\n",
      "Left Distance: 141, Right Distance: 546\n",
      "Decision: Right\n",
      "150 219 736 713\n",
      "Left Distance: 150, Right Distance: 544\n",
      "Decision: Right\n"
     ]
    },
    {
     "name": "stderr",
     "output_type": "stream",
     "text": [
      "0: 384x640 1 person, 88.3ms\n",
      "Speed: 0.0ms preprocess, 88.3ms inference, 2.0ms postprocess per image at shape (1, 3, 384, 640)\n",
      "\n",
      "0: 384x640 1 person, 92.0ms\n",
      "Speed: 2.8ms preprocess, 92.0ms inference, 1.0ms postprocess per image at shape (1, 3, 384, 640)\n",
      "\n"
     ]
    },
    {
     "name": "stdout",
     "output_type": "stream",
     "text": [
      "153 220 738 713\n",
      "Left Distance: 153, Right Distance: 542\n",
      "Decision: Right\n",
      "186 233 751 713\n",
      "Left Distance: 186, Right Distance: 529\n",
      "Decision: Right\n"
     ]
    },
    {
     "name": "stderr",
     "output_type": "stream",
     "text": [
      "0: 384x640 1 person, 86.9ms\n",
      "Speed: 0.0ms preprocess, 86.9ms inference, 3.0ms postprocess per image at shape (1, 3, 384, 640)\n",
      "\n",
      "0: 384x640 1 person, 89.3ms\n",
      "Speed: 3.8ms preprocess, 89.3ms inference, 1.0ms postprocess per image at shape (1, 3, 384, 640)\n",
      "\n"
     ]
    },
    {
     "name": "stdout",
     "output_type": "stream",
     "text": [
      "228 237 769 715\n",
      "Left Distance: 228, Right Distance: 511\n",
      "Decision: Right\n",
      "255 238 791 715\n",
      "Left Distance: 255, Right Distance: 489\n",
      "Decision: Right\n"
     ]
    },
    {
     "name": "stderr",
     "output_type": "stream",
     "text": [
      "0: 384x640 1 person, 1 sink, 85.5ms\n",
      "Speed: 4.1ms preprocess, 85.5ms inference, 1.7ms postprocess per image at shape (1, 3, 384, 640)\n",
      "\n",
      "0: 384x640 1 person, 1 sink, 96.2ms\n",
      "Speed: 0.0ms preprocess, 96.2ms inference, 0.0ms postprocess per image at shape (1, 3, 384, 640)\n",
      "\n"
     ]
    },
    {
     "name": "stdout",
     "output_type": "stream",
     "text": [
      "285 240 815 713\n",
      "Left Distance: 285, Right Distance: 465\n",
      "Decision: Right\n",
      "0 580 317 717\n",
      "Left Distance: 0, Right Distance: 963\n",
      "Decision: Right\n",
      "318 246 830 714\n",
      "Left Distance: 318, Right Distance: 450\n",
      "Decision: Right\n",
      "0 582 342 716\n",
      "Left Distance: 0, Right Distance: 938\n",
      "Decision: Right\n"
     ]
    },
    {
     "name": "stderr",
     "output_type": "stream",
     "text": [
      "0: 384x640 1 person, 1 sink, 93.6ms\n",
      "Speed: 2.5ms preprocess, 93.6ms inference, 0.0ms postprocess per image at shape (1, 3, 384, 640)\n",
      "\n",
      "0: 384x640 1 person, 95.9ms\n",
      "Speed: 2.8ms preprocess, 95.9ms inference, 0.9ms postprocess per image at shape (1, 3, 384, 640)\n",
      "\n"
     ]
    },
    {
     "name": "stdout",
     "output_type": "stream",
     "text": [
      "341 254 844 714\n",
      "Left Distance: 341, Right Distance: 436\n",
      "Decision: Right\n",
      "0 578 369 716\n",
      "Left Distance: 0, Right Distance: 911\n",
      "Decision: Right\n",
      "365 260 855 714\n",
      "Left Distance: 365, Right Distance: 425\n",
      "Decision: Right\n"
     ]
    },
    {
     "name": "stderr",
     "output_type": "stream",
     "text": [
      "0: 384x640 1 person, 112.2ms\n",
      "Speed: 4.2ms preprocess, 112.2ms inference, 3.2ms postprocess per image at shape (1, 3, 384, 640)\n",
      "\n",
      "0: 384x640 3 persons, 96.7ms\n",
      "Speed: 2.6ms preprocess, 96.7ms inference, 0.0ms postprocess per image at shape (1, 3, 384, 640)\n",
      "\n"
     ]
    },
    {
     "name": "stdout",
     "output_type": "stream",
     "text": [
      "378 263 857 714\n",
      "Left Distance: 378, Right Distance: 423\n",
      "Decision: Right\n",
      "383 271 852 715\n",
      "Left Distance: 383, Right Distance: 428\n",
      "Decision: Right\n",
      "0 282 262 660\n",
      "Left Distance: 0, Right Distance: 1018\n",
      "Decision: Right\n",
      "0 278 396 663\n",
      "Left Distance: 0, Right Distance: 884\n",
      "Decision: Right\n"
     ]
    },
    {
     "name": "stderr",
     "output_type": "stream",
     "text": [
      "0: 384x640 2 persons, 1 tie, 91.7ms\n",
      "Speed: 3.8ms preprocess, 91.7ms inference, 2.0ms postprocess per image at shape (1, 3, 384, 640)\n",
      "\n",
      "0: 384x640 2 persons, 1 tie, 90.2ms\n",
      "Speed: 2.8ms preprocess, 90.2ms inference, 0.0ms postprocess per image at shape (1, 3, 384, 640)\n",
      "\n"
     ]
    },
    {
     "name": "stdout",
     "output_type": "stream",
     "text": [
      "475 290 843 713\n",
      "Left Distance: 475, Right Distance: 437\n",
      "Decision: Left\n",
      "281 287 402 714\n",
      "Left Distance: 281, Right Distance: 878\n",
      "Decision: Right\n",
      "6 265 845 713\n",
      "Left Distance: 6, Right Distance: 435\n",
      "Decision: Right\n",
      "495 295 838 713\n",
      "Left Distance: 495, Right Distance: 442\n",
      "Decision: Left\n",
      "0 284 841 713\n",
      "Left Distance: 0, Right Distance: 439\n",
      "Decision: Right\n",
      "300 296 408 713\n",
      "Left Distance: 300, Right Distance: 872\n",
      "Decision: Right\n"
     ]
    },
    {
     "name": "stderr",
     "output_type": "stream",
     "text": [
      "0: 384x640 2 persons, 1 bottle, 84.0ms\n",
      "Speed: 5.4ms preprocess, 84.0ms inference, 2.0ms postprocess per image at shape (1, 3, 384, 640)\n",
      "\n",
      "0: 384x640 2 persons, 1 laptop, 84.4ms\n",
      "Speed: 4.2ms preprocess, 84.4ms inference, 7.5ms postprocess per image at shape (1, 3, 384, 640)\n",
      "\n"
     ]
    },
    {
     "name": "stdout",
     "output_type": "stream",
     "text": [
      "245 310 478 720\n",
      "Left Distance: 245, Right Distance: 802\n",
      "Decision: Right\n",
      "465 319 808 713\n",
      "Left Distance: 465, Right Distance: 472\n",
      "Decision: Right\n",
      "0 318 810 713\n",
      "Left Distance: 0, Right Distance: 470\n",
      "Decision: Right\n",
      "387 331 780 713\n",
      "Left Distance: 387, Right Distance: 500\n",
      "Decision: Right\n",
      "1087 72 1279 553\n",
      "Left Distance: 1087, Right Distance: 1\n",
      "Decision: Left\n",
      "3 321 781 713\n",
      "Left Distance: 3, Right Distance: 499\n",
      "Decision: Right\n"
     ]
    },
    {
     "name": "stderr",
     "output_type": "stream",
     "text": [
      "0: 384x640 2 persons, 1 laptop, 1 toothbrush, 91.7ms\n",
      "Speed: 0.0ms preprocess, 91.7ms inference, 2.0ms postprocess per image at shape (1, 3, 384, 640)\n",
      "\n",
      "0: 384x640 3 persons, 1 bottle, 1 laptop, 89.3ms\n",
      "Speed: 3.6ms preprocess, 89.3ms inference, 0.0ms postprocess per image at shape (1, 3, 384, 640)\n",
      "\n"
     ]
    },
    {
     "name": "stdout",
     "output_type": "stream",
     "text": [
      "311 344 733 713\n",
      "Left Distance: 311, Right Distance: 547\n",
      "Decision: Right\n",
      "88 250 367 712\n",
      "Left Distance: 88, Right Distance: 913\n",
      "Decision: Right\n",
      "1086 62 1279 560\n",
      "Left Distance: 1086, Right Distance: 1\n",
      "Decision: Left\n",
      "0 291 444 713\n",
      "Left Distance: 0, Right Distance: 836\n",
      "Decision: Right\n",
      "294 348 673 714\n",
      "Left Distance: 294, Right Distance: 607\n",
      "Decision: Right\n",
      "57 232 343 713\n",
      "Left Distance: 57, Right Distance: 937\n",
      "Decision: Right\n",
      "1088 56 1279 557\n",
      "Left Distance: 1088, Right Distance: 1\n",
      "Decision: Left\n",
      "0 256 371 712\n",
      "Left Distance: 0, Right Distance: 909\n",
      "Decision: Right\n",
      "0 265 176 636\n",
      "Left Distance: 0, Right Distance: 1104\n",
      "Decision: Right\n"
     ]
    },
    {
     "name": "stderr",
     "output_type": "stream",
     "text": [
      "0: 384x640 2 persons, 1 bottle, 1 laptop, 90.0ms\n",
      "Speed: 1.2ms preprocess, 90.0ms inference, 0.7ms postprocess per image at shape (1, 3, 384, 640)\n",
      "\n",
      "0: 384x640 3 persons, 1 bottle, 98.7ms\n",
      "Speed: 6.0ms preprocess, 98.7ms inference, 0.0ms postprocess per image at shape (1, 3, 384, 640)\n",
      "\n"
     ]
    },
    {
     "name": "stdout",
     "output_type": "stream",
     "text": [
      "275 330 631 713\n",
      "Left Distance: 275, Right Distance: 649\n",
      "Decision: Right\n",
      "70 218 344 711\n",
      "Left Distance: 70, Right Distance: 936\n",
      "Decision: Right\n",
      "0 249 180 631\n",
      "Left Distance: 0, Right Distance: 1100\n",
      "Decision: Right\n",
      "1088 55 1279 559\n",
      "Left Distance: 1088, Right Distance: 1\n",
      "Decision: Left\n",
      "87 230 352 713\n",
      "Left Distance: 87, Right Distance: 928\n",
      "Decision: Right\n",
      "0 265 186 625\n",
      "Left Distance: 0, Right Distance: 1094\n",
      "Decision: Right\n",
      "1 314 610 715\n",
      "Left Distance: 1, Right Distance: 670\n",
      "Decision: Right\n",
      "302 336 609 713\n",
      "Left Distance: 302, Right Distance: 671\n",
      "Decision: Right\n"
     ]
    },
    {
     "name": "stderr",
     "output_type": "stream",
     "text": [
      "0: 384x640 3 persons, 1 bottle, 93.8ms\n",
      "Speed: 2.3ms preprocess, 93.8ms inference, 3.5ms postprocess per image at shape (1, 3, 384, 640)\n",
      "\n",
      "0: 384x640 2 persons, 1 tv, 1 laptop, 1 remote, 1 toothbrush, 92.9ms\n",
      "Speed: 3.9ms preprocess, 92.9ms inference, 2.0ms postprocess per image at shape (1, 3, 384, 640)\n",
      "\n"
     ]
    },
    {
     "name": "stdout",
     "output_type": "stream",
     "text": [
      "7 304 591 716\n",
      "Left Distance: 7, Right Distance: 689\n",
      "Decision: Right\n",
      "125 216 364 690\n",
      "Left Distance: 125, Right Distance: 916\n",
      "Decision: Right\n",
      "223 312 591 715\n",
      "Left Distance: 223, Right Distance: 689\n",
      "Decision: Right\n",
      "0 250 210 603\n",
      "Left Distance: 0, Right Distance: 1070\n",
      "Decision: Right\n",
      "224 288 580 716\n",
      "Left Distance: 224, Right Distance: 700\n",
      "Decision: Right\n",
      "0 206 213 570\n",
      "Left Distance: 0, Right Distance: 1067\n",
      "Decision: Right\n",
      "100 184 371 661\n",
      "Left Distance: 100, Right Distance: 909\n",
      "Decision: Right\n",
      "1087 48 1279 564\n",
      "Left Distance: 1087, Right Distance: 1\n",
      "Decision: Left\n",
      "96 183 370 659\n",
      "Left Distance: 96, Right Distance: 910\n",
      "Decision: Right\n",
      "1089 39 1279 552\n",
      "Left Distance: 1089, Right Distance: 1\n",
      "Decision: Left\n"
     ]
    },
    {
     "name": "stderr",
     "output_type": "stream",
     "text": [
      "0: 384x640 4 persons, 1 laptop, 1 remote, 101.5ms\n",
      "Speed: 0.0ms preprocess, 101.5ms inference, 0.7ms postprocess per image at shape (1, 3, 384, 640)\n",
      "\n",
      "0: 384x640 5 persons, 1 laptop, 1 remote, 96.8ms\n",
      "Speed: 0.0ms preprocess, 96.8ms inference, 0.0ms postprocess per image at shape (1, 3, 384, 640)\n",
      "\n"
     ]
    },
    {
     "name": "stdout",
     "output_type": "stream",
     "text": [
      "117 156 381 631\n",
      "Left Distance: 117, Right Distance: 899\n",
      "Decision: Right\n",
      "228 229 579 716\n",
      "Left Distance: 228, Right Distance: 701\n",
      "Decision: Right\n",
      "0 182 222 561\n",
      "Left Distance: 0, Right Distance: 1058\n",
      "Decision: Right\n",
      "1088 54 1279 557\n",
      "Left Distance: 1088, Right Distance: 1\n",
      "Decision: Left\n",
      "0 179 470 564\n",
      "Left Distance: 0, Right Distance: 810\n",
      "Decision: Right\n",
      "12 199 579 718\n",
      "Left Distance: 12, Right Distance: 701\n",
      "Decision: Right\n",
      "232 212 585 716\n",
      "Left Distance: 232, Right Distance: 695\n",
      "Decision: Right\n",
      "23 204 584 718\n",
      "Left Distance: 23, Right Distance: 696\n",
      "Decision: Right\n",
      "0 167 491 565\n",
      "Left Distance: 0, Right Distance: 789\n",
      "Decision: Right\n",
      "1088 46 1279 692\n",
      "Left Distance: 1088, Right Distance: 1\n",
      "Decision: Left\n",
      "114 145 387 630\n",
      "Left Distance: 114, Right Distance: 893\n",
      "Decision: Right\n",
      "0 168 217 560\n",
      "Left Distance: 0, Right Distance: 1063\n",
      "Decision: Right\n",
      "234 502 584 719\n",
      "Left Distance: 234, Right Distance: 696\n",
      "Decision: Right\n"
     ]
    },
    {
     "name": "stderr",
     "output_type": "stream",
     "text": [
      "0: 384x640 4 persons, 1 tv, 1 remote, 93.4ms\n",
      "Speed: 2.1ms preprocess, 93.4ms inference, 3.0ms postprocess per image at shape (1, 3, 384, 640)\n",
      "\n",
      "0: 384x640 4 persons, 1 bottle, 91.3ms\n",
      "Speed: 4.2ms preprocess, 91.3ms inference, 0.0ms postprocess per image at shape (1, 3, 384, 640)\n",
      "\n"
     ]
    },
    {
     "name": "stdout",
     "output_type": "stream",
     "text": [
      "236 233 595 717\n",
      "Left Distance: 236, Right Distance: 685\n",
      "Decision: Right\n",
      "89 225 596 717\n",
      "Left Distance: 89, Right Distance: 684\n",
      "Decision: Right\n",
      "242 514 593 718\n",
      "Left Distance: 242, Right Distance: 687\n",
      "Decision: Right\n",
      "0 171 502 572\n",
      "Left Distance: 0, Right Distance: 778\n",
      "Decision: Right\n",
      "97 146 384 662\n",
      "Left Distance: 97, Right Distance: 896\n",
      "Decision: Right\n",
      "1089 41 1279 549\n",
      "Left Distance: 1089, Right Distance: 1\n",
      "Decision: Left\n",
      "78 158 372 696\n",
      "Left Distance: 78, Right Distance: 908\n",
      "Decision: Right\n",
      "243 270 602 715\n",
      "Left Distance: 243, Right Distance: 678\n",
      "Decision: Right\n",
      "19 258 601 714\n",
      "Left Distance: 19, Right Distance: 679\n",
      "Decision: Right\n",
      "0 187 195 568\n",
      "Left Distance: 0, Right Distance: 1085\n",
      "Decision: Right\n",
      "266 492 606 718\n",
      "Left Distance: 266, Right Distance: 674\n",
      "Decision: Right\n"
     ]
    },
    {
     "name": "stderr",
     "output_type": "stream",
     "text": [
      "0: 384x640 3 persons, 1 bottle, 90.5ms\n",
      "Speed: 1.3ms preprocess, 90.5ms inference, 0.0ms postprocess per image at shape (1, 3, 384, 640)\n",
      "\n",
      "0: 384x640 3 persons, 1 bottle, 92.9ms\n",
      "Speed: 0.0ms preprocess, 92.9ms inference, 1.0ms postprocess per image at shape (1, 3, 384, 640)\n",
      "\n"
     ]
    },
    {
     "name": "stdout",
     "output_type": "stream",
     "text": [
      "47 149 370 709\n",
      "Left Distance: 47, Right Distance: 910\n",
      "Decision: Right\n",
      "3 20 614 714\n",
      "Left Distance: 3, Right Distance: 666\n",
      "Decision: Right\n",
      "229 253 615 715\n",
      "Left Distance: 229, Right Distance: 665\n",
      "Decision: Right\n",
      "0 185 178 572\n",
      "Left Distance: 0, Right Distance: 1102\n",
      "Decision: Right\n",
      "16 145 363 698\n",
      "Left Distance: 16, Right Distance: 917\n",
      "Decision: Right\n",
      "0 165 167 558\n",
      "Left Distance: 0, Right Distance: 1113\n",
      "Decision: Right\n",
      "2 165 630 715\n",
      "Left Distance: 2, Right Distance: 650\n",
      "Decision: Right\n",
      "261 337 629 715\n",
      "Left Distance: 261, Right Distance: 651\n",
      "Decision: Right\n"
     ]
    },
    {
     "name": "stderr",
     "output_type": "stream",
     "text": [
      "0: 384x640 3 persons, 1 bottle, 1 tv, 1 laptop, 120.8ms\n",
      "Speed: 4.7ms preprocess, 120.8ms inference, 2.0ms postprocess per image at shape (1, 3, 384, 640)\n",
      "\n",
      "0: 384x640 3 persons, 1 bottle, 1 tv, 1 laptop, 100.3ms\n",
      "Speed: 4.1ms preprocess, 100.3ms inference, 0.0ms postprocess per image at shape (1, 3, 384, 640)\n",
      "\n"
     ]
    },
    {
     "name": "stdout",
     "output_type": "stream",
     "text": [
      "22 133 367 689\n",
      "Left Distance: 22, Right Distance: 913\n",
      "Decision: Right\n",
      "277 259 638 716\n",
      "Left Distance: 277, Right Distance: 642\n",
      "Decision: Right\n",
      "8 164 637 715\n",
      "Left Distance: 8, Right Distance: 643\n",
      "Decision: Right\n",
      "0 152 169 549\n",
      "Left Distance: 0, Right Distance: 1111\n",
      "Decision: Right\n",
      "1088 47 1279 567\n",
      "Left Distance: 1088, Right Distance: 1\n",
      "Decision: Left\n",
      "1089 40 1279 554\n",
      "Left Distance: 1089, Right Distance: 1\n",
      "Decision: Left\n",
      "34 137 369 687\n",
      "Left Distance: 34, Right Distance: 911\n",
      "Decision: Right\n",
      "284 284 649 716\n",
      "Left Distance: 284, Right Distance: 631\n",
      "Decision: Right\n",
      "0 153 177 555\n",
      "Left Distance: 0, Right Distance: 1103\n",
      "Decision: Right\n",
      "10 198 649 715\n",
      "Left Distance: 10, Right Distance: 631\n",
      "Decision: Right\n",
      "1089 42 1279 554\n",
      "Left Distance: 1089, Right Distance: 1\n",
      "Decision: Left\n",
      "1090 35 1279 549\n",
      "Left Distance: 1090, Right Distance: 1\n",
      "Decision: Left\n"
     ]
    },
    {
     "name": "stderr",
     "output_type": "stream",
     "text": [
      "0: 384x640 3 persons, 1 bottle, 89.0ms\n",
      "Speed: 4.6ms preprocess, 89.0ms inference, 0.0ms postprocess per image at shape (1, 3, 384, 640)\n",
      "\n",
      "0: 384x640 3 persons, 1 bottle, 87.2ms\n",
      "Speed: 2.0ms preprocess, 87.2ms inference, 2.0ms postprocess per image at shape (1, 3, 384, 640)\n",
      "\n"
     ]
    },
    {
     "name": "stdout",
     "output_type": "stream",
     "text": [
      "46 139 376 699\n",
      "Left Distance: 46, Right Distance: 904\n",
      "Decision: Right\n",
      "45 248 659 715\n",
      "Left Distance: 45, Right Distance: 621\n",
      "Decision: Right\n",
      "292 259 659 716\n",
      "Left Distance: 292, Right Distance: 621\n",
      "Decision: Right\n",
      "0 173 182 561\n",
      "Left Distance: 0, Right Distance: 1098\n",
      "Decision: Right\n",
      "49 160 379 713\n",
      "Left Distance: 49, Right Distance: 901\n",
      "Decision: Right\n",
      "5 268 667 714\n",
      "Left Distance: 5, Right Distance: 613\n",
      "Decision: Right\n",
      "288 276 667 714\n",
      "Left Distance: 288, Right Distance: 613\n",
      "Decision: Right\n",
      "0 191 183 571\n",
      "Left Distance: 0, Right Distance: 1097\n",
      "Decision: Right\n"
     ]
    },
    {
     "name": "stderr",
     "output_type": "stream",
     "text": [
      "0: 384x640 3 persons, 1 bottle, 92.0ms\n",
      "Speed: 6.4ms preprocess, 92.0ms inference, 2.0ms postprocess per image at shape (1, 3, 384, 640)\n",
      "\n",
      "0: 384x640 3 persons, 1 bottle, 1 tv, 1 laptop, 91.8ms\n",
      "Speed: 4.1ms preprocess, 91.8ms inference, 2.0ms postprocess per image at shape (1, 3, 384, 640)\n",
      "\n"
     ]
    },
    {
     "name": "stdout",
     "output_type": "stream",
     "text": [
      "47 169 376 712\n",
      "Left Distance: 47, Right Distance: 904\n",
      "Decision: Right\n",
      "303 293 676 714\n",
      "Left Distance: 303, Right Distance: 604\n",
      "Decision: Right\n",
      "0 202 181 573\n",
      "Left Distance: 0, Right Distance: 1099\n",
      "Decision: Right\n",
      "5 236 677 714\n",
      "Left Distance: 5, Right Distance: 603\n",
      "Decision: Right\n",
      "38 170 378 712\n",
      "Left Distance: 38, Right Distance: 902\n",
      "Decision: Right\n",
      "312 290 686 714\n",
      "Left Distance: 312, Right Distance: 594\n",
      "Decision: Right\n",
      "1088 44 1279 560\n",
      "Left Distance: 1088, Right Distance: 1\n",
      "Decision: Left\n",
      "0 206 177 580\n",
      "Left Distance: 0, Right Distance: 1103\n",
      "Decision: Right\n",
      "1089 36 1279 549\n",
      "Left Distance: 1089, Right Distance: 1\n",
      "Decision: Left\n",
      "8 258 689 714\n",
      "Left Distance: 8, Right Distance: 591\n",
      "Decision: Right\n"
     ]
    },
    {
     "name": "stderr",
     "output_type": "stream",
     "text": [
      "0: 384x640 3 persons, 1 bottle, 1 tv, 1 laptop, 94.7ms\n",
      "Speed: 2.2ms preprocess, 94.7ms inference, 2.1ms postprocess per image at shape (1, 3, 384, 640)\n",
      "\n",
      "0: 384x640 3 persons, 1 bottle, 1 tv, 1 laptop, 83.9ms\n",
      "Speed: 5.7ms preprocess, 83.9ms inference, 0.0ms postprocess per image at shape (1, 3, 384, 640)\n",
      "\n"
     ]
    },
    {
     "name": "stdout",
     "output_type": "stream",
     "text": [
      "30 178 371 712\n",
      "Left Distance: 30, Right Distance: 909\n",
      "Decision: Right\n",
      "319 290 698 713\n",
      "Left Distance: 319, Right Distance: 582\n",
      "Decision: Right\n",
      "1088 48 1279 558\n",
      "Left Distance: 1088, Right Distance: 1\n",
      "Decision: Left\n",
      "1089 41 1279 555\n",
      "Left Distance: 1089, Right Distance: 1\n",
      "Decision: Left\n",
      "0 209 175 578\n",
      "Left Distance: 0, Right Distance: 1105\n",
      "Decision: Right\n",
      "9 288 700 714\n",
      "Left Distance: 9, Right Distance: 580\n",
      "Decision: Right\n",
      "38 170 375 709\n",
      "Left Distance: 38, Right Distance: 905\n",
      "Decision: Right\n",
      "320 292 709 713\n",
      "Left Distance: 320, Right Distance: 571\n",
      "Decision: Right\n",
      "0 213 179 582\n",
      "Left Distance: 0, Right Distance: 1101\n",
      "Decision: Right\n",
      "1088 53 1279 556\n",
      "Left Distance: 1088, Right Distance: 1\n",
      "Decision: Left\n",
      "1089 44 1279 551\n",
      "Left Distance: 1089, Right Distance: 1\n",
      "Decision: Left\n",
      "7 274 713 714\n",
      "Left Distance: 7, Right Distance: 567\n",
      "Decision: Right\n"
     ]
    },
    {
     "name": "stderr",
     "output_type": "stream",
     "text": [
      "0: 384x640 3 persons, 1 bottle, 1 tv, 1 laptop, 89.0ms\n",
      "Speed: 3.0ms preprocess, 89.0ms inference, 1.5ms postprocess per image at shape (1, 3, 384, 640)\n",
      "\n",
      "0: 384x640 2 persons, 1 bottle, 1 tv, 1 laptop, 93.1ms\n",
      "Speed: 4.5ms preprocess, 93.1ms inference, 0.0ms postprocess per image at shape (1, 3, 384, 640)\n",
      "\n"
     ]
    },
    {
     "name": "stdout",
     "output_type": "stream",
     "text": [
      "38 170 378 711\n",
      "Left Distance: 38, Right Distance: 902\n",
      "Decision: Right\n",
      "324 291 712 713\n",
      "Left Distance: 324, Right Distance: 568\n",
      "Decision: Right\n",
      "0 209 177 576\n",
      "Left Distance: 0, Right Distance: 1103\n",
      "Decision: Right\n",
      "1089 42 1279 549\n",
      "Left Distance: 1089, Right Distance: 1\n",
      "Decision: Left\n",
      "1088 49 1279 559\n",
      "Left Distance: 1088, Right Distance: 1\n",
      "Decision: Left\n",
      "9 280 714 715\n",
      "Left Distance: 9, Right Distance: 566\n",
      "Decision: Right\n",
      "324 288 721 713\n",
      "Left Distance: 324, Right Distance: 559\n",
      "Decision: Right\n",
      "32 168 378 711\n",
      "Left Distance: 32, Right Distance: 902\n",
      "Decision: Right\n",
      "0 207 176 576\n",
      "Left Distance: 0, Right Distance: 1104\n",
      "Decision: Right\n",
      "1089 39 1279 550\n",
      "Left Distance: 1089, Right Distance: 1\n",
      "Decision: Left\n",
      "1088 46 1279 556\n",
      "Left Distance: 1088, Right Distance: 1\n",
      "Decision: Left\n"
     ]
    },
    {
     "name": "stderr",
     "output_type": "stream",
     "text": [
      "0: 384x640 2 persons, 1 bottle, 1 tv, 1 laptop, 84.1ms\n",
      "Speed: 4.7ms preprocess, 84.1ms inference, 0.0ms postprocess per image at shape (1, 3, 384, 640)\n",
      "\n",
      "0: 384x640 3 persons, 1 bottle, 1 tv, 1 laptop, 90.7ms\n",
      "Speed: 5.6ms preprocess, 90.7ms inference, 2.0ms postprocess per image at shape (1, 3, 384, 640)\n",
      "\n"
     ]
    },
    {
     "name": "stdout",
     "output_type": "stream",
     "text": [
      "319 290 731 715\n",
      "Left Distance: 319, Right Distance: 549\n",
      "Decision: Right\n",
      "31 164 381 709\n",
      "Left Distance: 31, Right Distance: 899\n",
      "Decision: Right\n",
      "0 207 175 579\n",
      "Left Distance: 0, Right Distance: 1105\n",
      "Decision: Right\n",
      "1088 33 1279 554\n",
      "Left Distance: 1088, Right Distance: 1\n",
      "Decision: Left\n",
      "1087 39 1279 563\n",
      "Left Distance: 1087, Right Distance: 1\n",
      "Decision: Left\n",
      "329 401 744 715\n",
      "Left Distance: 329, Right Distance: 536\n",
      "Decision: Right\n",
      "35 175 379 711\n",
      "Left Distance: 35, Right Distance: 901\n",
      "Decision: Right\n",
      "1088 37 1279 554\n",
      "Left Distance: 1088, Right Distance: 1\n",
      "Decision: Left\n",
      "0 219 179 589\n",
      "Left Distance: 0, Right Distance: 1101\n",
      "Decision: Right\n",
      "335 296 528 709\n",
      "Left Distance: 335, Right Distance: 752\n",
      "Decision: Right\n",
      "1087 46 1279 559\n",
      "Left Distance: 1087, Right Distance: 1\n",
      "Decision: Left\n"
     ]
    },
    {
     "name": "stderr",
     "output_type": "stream",
     "text": [
      "0: 384x640 3 persons, 1 bottle, 93.9ms\n",
      "Speed: 3.3ms preprocess, 93.9ms inference, 2.0ms postprocess per image at shape (1, 3, 384, 640)\n",
      "\n",
      "0: 384x640 3 persons, 1 bottle, 85.9ms\n",
      "Speed: 4.3ms preprocess, 85.9ms inference, 0.0ms postprocess per image at shape (1, 3, 384, 640)\n",
      "\n"
     ]
    },
    {
     "name": "stdout",
     "output_type": "stream",
     "text": [
      "325 402 749 715\n",
      "Left Distance: 325, Right Distance: 531\n",
      "Decision: Right\n",
      "40 177 384 712\n",
      "Left Distance: 40, Right Distance: 896\n",
      "Decision: Right\n",
      "0 223 179 593\n",
      "Left Distance: 0, Right Distance: 1101\n",
      "Decision: Right\n",
      "0 220 424 710\n",
      "Left Distance: 0, Right Distance: 856\n",
      "Decision: Right\n",
      "334 403 750 716\n",
      "Left Distance: 334, Right Distance: 530\n",
      "Decision: Right\n",
      "38 182 382 712\n",
      "Left Distance: 38, Right Distance: 898\n",
      "Decision: Right\n",
      "0 230 181 602\n",
      "Left Distance: 0, Right Distance: 1099\n",
      "Decision: Right\n",
      "329 311 529 711\n",
      "Left Distance: 329, Right Distance: 751\n",
      "Decision: Right\n"
     ]
    },
    {
     "name": "stderr",
     "output_type": "stream",
     "text": [
      "0: 384x640 2 persons, 1 bottle, 1 tv, 90.6ms\n",
      "Speed: 2.5ms preprocess, 90.6ms inference, 1.1ms postprocess per image at shape (1, 3, 384, 640)\n",
      "\n",
      "0: 384x640 2 persons, 1 bottle, 1 tv, 98.0ms\n",
      "Speed: 1.8ms preprocess, 98.0ms inference, 2.0ms postprocess per image at shape (1, 3, 384, 640)\n",
      "\n"
     ]
    },
    {
     "name": "stdout",
     "output_type": "stream",
     "text": [
      "331 389 744 716\n",
      "Left Distance: 331, Right Distance: 536\n",
      "Decision: Right\n",
      "41 180 382 712\n",
      "Left Distance: 41, Right Distance: 898\n",
      "Decision: Right\n",
      "0 227 180 599\n",
      "Left Distance: 0, Right Distance: 1100\n",
      "Decision: Right\n",
      "1089 35 1279 549\n",
      "Left Distance: 1089, Right Distance: 1\n",
      "Decision: Left\n",
      "320 400 729 715\n",
      "Left Distance: 320, Right Distance: 551\n",
      "Decision: Right\n",
      "12 178 384 712\n",
      "Left Distance: 12, Right Distance: 896\n",
      "Decision: Right\n",
      "0 223 172 599\n",
      "Left Distance: 0, Right Distance: 1108\n",
      "Decision: Right\n",
      "1089 40 1279 552\n",
      "Left Distance: 1089, Right Distance: 1\n",
      "Decision: Left\n"
     ]
    },
    {
     "name": "stderr",
     "output_type": "stream",
     "text": [
      "0: 384x640 1 person, 1 bottle, 86.4ms\n",
      "Speed: 0.0ms preprocess, 86.4ms inference, 0.0ms postprocess per image at shape (1, 3, 384, 640)\n",
      "\n",
      "0: 384x640 1 person, 1 bottle, 1 tv, 126.9ms\n",
      "Speed: 4.5ms preprocess, 126.9ms inference, 0.0ms postprocess per image at shape (1, 3, 384, 640)\n",
      "\n"
     ]
    },
    {
     "name": "stdout",
     "output_type": "stream",
     "text": [
      "321 299 716 713\n",
      "Left Distance: 321, Right Distance: 564\n",
      "Decision: Right\n",
      "10 175 387 712\n",
      "Left Distance: 10, Right Distance: 893\n",
      "Decision: Right\n",
      "321 302 711 714\n",
      "Left Distance: 321, Right Distance: 569\n",
      "Decision: Right\n",
      "14 175 385 712\n",
      "Left Distance: 14, Right Distance: 895\n",
      "Decision: Right\n",
      "1089 44 1279 549\n",
      "Left Distance: 1089, Right Distance: 1\n",
      "Decision: Left\n"
     ]
    },
    {
     "name": "stderr",
     "output_type": "stream",
     "text": [
      "0: 384x640 1 person, 85.9ms\n",
      "Speed: 4.5ms preprocess, 85.9ms inference, 8.3ms postprocess per image at shape (1, 3, 384, 640)\n",
      "\n",
      "0: 384x640 2 persons, 1 bottle, 86.9ms\n",
      "Speed: 4.5ms preprocess, 86.9ms inference, 2.0ms postprocess per image at shape (1, 3, 384, 640)\n",
      "\n"
     ]
    },
    {
     "name": "stdout",
     "output_type": "stream",
     "text": [
      "306 406 666 715\n",
      "Left Distance: 306, Right Distance: 614\n",
      "Decision: Right\n",
      "277 294 639 713\n",
      "Left Distance: 277, Right Distance: 641\n",
      "Decision: Right\n",
      "0 249 638 713\n",
      "Left Distance: 0, Right Distance: 642\n",
      "Decision: Right\n",
      "0 169 354 713\n",
      "Left Distance: 0, Right Distance: 926\n",
      "Decision: Right\n"
     ]
    },
    {
     "name": "stderr",
     "output_type": "stream",
     "text": [
      "0: 384x640 1 person, 1 bottle, 99.6ms\n",
      "Speed: 0.7ms preprocess, 99.6ms inference, 0.0ms postprocess per image at shape (1, 3, 384, 640)\n",
      "\n",
      "0: 384x640 3 persons, 1 bottle, 93.6ms\n",
      "Speed: 4.8ms preprocess, 93.6ms inference, 2.0ms postprocess per image at shape (1, 3, 384, 640)\n",
      "\n"
     ]
    },
    {
     "name": "stdout",
     "output_type": "stream",
     "text": [
      "0 208 630 712\n",
      "Left Distance: 0, Right Distance: 650\n",
      "Decision: Right\n",
      "0 170 347 710\n",
      "Left Distance: 0, Right Distance: 933\n",
      "Decision: Right\n",
      "1 170 371 712\n",
      "Left Distance: 1, Right Distance: 909\n",
      "Decision: Right\n",
      "0 213 153 572\n",
      "Left Distance: 0, Right Distance: 1127\n",
      "Decision: Right\n",
      "1 251 603 713\n",
      "Left Distance: 1, Right Distance: 677\n",
      "Decision: Right\n",
      "313 291 602 714\n",
      "Left Distance: 313, Right Distance: 678\n",
      "Decision: Right\n"
     ]
    },
    {
     "name": "stderr",
     "output_type": "stream",
     "text": [
      "0: 384x640 1 person, 1 bottle, 1 tv, 1 laptop, 96.6ms\n",
      "Speed: 0.0ms preprocess, 96.6ms inference, 2.0ms postprocess per image at shape (1, 3, 384, 640)\n",
      "\n",
      "0: 384x640 1 person, 1 bottle, 92.1ms\n",
      "Speed: 5.4ms preprocess, 92.1ms inference, 2.5ms postprocess per image at shape (1, 3, 384, 640)\n",
      "\n"
     ]
    },
    {
     "name": "stdout",
     "output_type": "stream",
     "text": [
      "89 200 415 713\n",
      "Left Distance: 89, Right Distance: 865\n",
      "Decision: Right\n",
      "6 320 561 713\n",
      "Left Distance: 6, Right Distance: 719\n",
      "Decision: Right\n",
      "1089 58 1279 550\n",
      "Left Distance: 1089, Right Distance: 1\n",
      "Decision: Left\n",
      "1088 59 1279 690\n",
      "Left Distance: 1088, Right Distance: 1\n",
      "Decision: Left\n",
      "86 202 407 712\n",
      "Left Distance: 86, Right Distance: 873\n",
      "Decision: Right\n",
      "1 320 566 713\n",
      "Left Distance: 1, Right Distance: 714\n",
      "Decision: Right\n"
     ]
    },
    {
     "name": "stderr",
     "output_type": "stream",
     "text": [
      "0: 384x640 1 person, 1 bottle, 96.5ms\n",
      "Speed: 5.7ms preprocess, 96.5ms inference, 0.0ms postprocess per image at shape (1, 3, 384, 640)\n",
      "\n",
      "0: 384x640 1 person, 1 tv, 94.1ms\n",
      "Speed: 2.5ms preprocess, 94.1ms inference, 0.0ms postprocess per image at shape (1, 3, 384, 640)\n",
      "\n"
     ]
    },
    {
     "name": "stdout",
     "output_type": "stream",
     "text": [
      "109 212 437 712\n",
      "Left Distance: 109, Right Distance: 843\n",
      "Decision: Right\n",
      "0 335 584 714\n",
      "Left Distance: 0, Right Distance: 696\n",
      "Decision: Right\n",
      "3 251 578 711\n",
      "Left Distance: 3, Right Distance: 702\n",
      "Decision: Right\n",
      "1088 45 1279 550\n",
      "Left Distance: 1088, Right Distance: 1\n",
      "Decision: Left\n"
     ]
    },
    {
     "name": "stderr",
     "output_type": "stream",
     "text": [
      "0: 384x640 2 persons, 1 bottle, 97.1ms\n",
      "Speed: 0.0ms preprocess, 97.1ms inference, 2.0ms postprocess per image at shape (1, 3, 384, 640)\n",
      "\n",
      "0: 384x640 2 persons, 1 bottle, 1 laptop, 93.8ms\n",
      "Speed: 3.2ms preprocess, 93.8ms inference, 2.2ms postprocess per image at shape (1, 3, 384, 640)\n",
      "\n"
     ]
    },
    {
     "name": "stdout",
     "output_type": "stream",
     "text": [
      "199 244 488 711\n",
      "Left Distance: 199, Right Distance: 792\n",
      "Decision: Right\n",
      "0 336 258 684\n",
      "Left Distance: 0, Right Distance: 1022\n",
      "Decision: Right\n",
      "14 363 636 712\n",
      "Left Distance: 14, Right Distance: 644\n",
      "Decision: Right\n",
      "209 252 499 712\n",
      "Left Distance: 209, Right Distance: 781\n",
      "Decision: Right\n",
      "11 376 647 714\n",
      "Left Distance: 11, Right Distance: 633\n",
      "Decision: Right\n",
      "0 353 268 696\n",
      "Left Distance: 0, Right Distance: 1012\n",
      "Decision: Right\n",
      "1087 53 1279 561\n",
      "Left Distance: 1087, Right Distance: 1\n",
      "Decision: Left\n"
     ]
    },
    {
     "name": "stderr",
     "output_type": "stream",
     "text": [
      "0: 384x640 2 persons, 1 bottle, 1 tv, 1 laptop, 90.9ms\n",
      "Speed: 0.0ms preprocess, 90.9ms inference, 0.0ms postprocess per image at shape (1, 3, 384, 640)\n",
      "\n",
      "0: 384x640 1 person, 1 laptop, 92.0ms\n",
      "Speed: 4.6ms preprocess, 92.0ms inference, 0.0ms postprocess per image at shape (1, 3, 384, 640)\n",
      "\n"
     ]
    },
    {
     "name": "stdout",
     "output_type": "stream",
     "text": [
      "3 377 649 714\n",
      "Left Distance: 3, Right Distance: 631\n",
      "Decision: Right\n",
      "210 267 503 713\n",
      "Left Distance: 210, Right Distance: 777\n",
      "Decision: Right\n",
      "1088 49 1279 550\n",
      "Left Distance: 1088, Right Distance: 1\n",
      "Decision: Left\n",
      "0 373 274 707\n",
      "Left Distance: 0, Right Distance: 1006\n",
      "Decision: Right\n",
      "1088 51 1279 558\n",
      "Left Distance: 1088, Right Distance: 1\n",
      "Decision: Left\n",
      "1088 51 1279 556\n",
      "Left Distance: 1088, Right Distance: 1\n",
      "Decision: Left\n",
      "2 357 634 714\n",
      "Left Distance: 2, Right Distance: 646\n",
      "Decision: Right\n"
     ]
    },
    {
     "name": "stderr",
     "output_type": "stream",
     "text": [
      "0: 384x640 1 person, 1 bottle, 89.8ms\n",
      "Speed: 2.5ms preprocess, 89.8ms inference, 1.1ms postprocess per image at shape (1, 3, 384, 640)\n",
      "\n",
      "0: 384x640 1 person, 91.3ms\n",
      "Speed: 4.1ms preprocess, 91.3ms inference, 0.0ms postprocess per image at shape (1, 3, 384, 640)\n",
      "\n"
     ]
    },
    {
     "name": "stdout",
     "output_type": "stream",
     "text": [
      "171 268 476 714\n",
      "Left Distance: 171, Right Distance: 804\n",
      "Decision: Right\n",
      "11 274 636 715\n",
      "Left Distance: 11, Right Distance: 644\n",
      "Decision: Right\n",
      "2 305 626 716\n",
      "Left Distance: 2, Right Distance: 654\n",
      "Decision: Right\n"
     ]
    },
    {
     "name": "stderr",
     "output_type": "stream",
     "text": [
      "0: 384x640 1 person, 1 bottle, 87.0ms\n",
      "Speed: 3.8ms preprocess, 87.0ms inference, 0.0ms postprocess per image at shape (1, 3, 384, 640)\n",
      "\n",
      "0: 384x640 1 person, 89.2ms\n",
      "Speed: 2.2ms preprocess, 89.2ms inference, 4.8ms postprocess per image at shape (1, 3, 384, 640)\n",
      "\n"
     ]
    },
    {
     "name": "stdout",
     "output_type": "stream",
     "text": [
      "152 241 474 713\n",
      "Left Distance: 152, Right Distance: 806\n",
      "Decision: Right\n",
      "12 242 633 714\n",
      "Left Distance: 12, Right Distance: 647\n",
      "Decision: Right\n",
      "13 222 623 713\n",
      "Left Distance: 13, Right Distance: 657\n",
      "Decision: Right\n"
     ]
    },
    {
     "name": "stderr",
     "output_type": "stream",
     "text": [
      "0: 384x640 1 person, 1 laptop, 94.4ms\n",
      "Speed: 3.5ms preprocess, 94.4ms inference, 0.7ms postprocess per image at shape (1, 3, 384, 640)\n",
      "\n",
      "0: 384x640 1 person, 1 laptop, 99.7ms\n",
      "Speed: 4.6ms preprocess, 99.7ms inference, 2.0ms postprocess per image at shape (1, 3, 384, 640)\n",
      "\n"
     ]
    },
    {
     "name": "stdout",
     "output_type": "stream",
     "text": [
      "0 203 616 713\n",
      "Left Distance: 0, Right Distance: 664\n",
      "Decision: Right\n",
      "1087 49 1279 555\n",
      "Left Distance: 1087, Right Distance: 1\n",
      "Decision: Left\n",
      "2 197 611 713\n",
      "Left Distance: 2, Right Distance: 669\n",
      "Decision: Right\n",
      "1088 48 1279 564\n",
      "Left Distance: 1088, Right Distance: 1\n",
      "Decision: Left\n"
     ]
    },
    {
     "name": "stderr",
     "output_type": "stream",
     "text": [
      "0: 384x640 1 person, 1 tv, 1 laptop, 86.9ms\n",
      "Speed: 0.5ms preprocess, 86.9ms inference, 0.0ms postprocess per image at shape (1, 3, 384, 640)\n",
      "\n",
      "0: 384x640 1 person, 1 bottle, 103.2ms\n",
      "Speed: 3.1ms preprocess, 103.2ms inference, 3.4ms postprocess per image at shape (1, 3, 384, 640)\n",
      "\n"
     ]
    },
    {
     "name": "stdout",
     "output_type": "stream",
     "text": [
      "5 210 614 714\n",
      "Left Distance: 5, Right Distance: 666\n",
      "Decision: Right\n",
      "1087 61 1279 562\n",
      "Left Distance: 1087, Right Distance: 1\n",
      "Decision: Left\n",
      "1089 54 1279 553\n",
      "Left Distance: 1089, Right Distance: 1\n",
      "Decision: Left\n",
      "11 247 628 713\n",
      "Left Distance: 11, Right Distance: 652\n",
      "Decision: Right\n",
      "161 251 460 713\n",
      "Left Distance: 161, Right Distance: 820\n",
      "Decision: Right\n"
     ]
    },
    {
     "name": "stderr",
     "output_type": "stream",
     "text": [
      "0: 384x640 1 person, 1 bottle, 1 tv, 1 laptop, 91.7ms\n",
      "Speed: 2.0ms preprocess, 91.7ms inference, 2.0ms postprocess per image at shape (1, 3, 384, 640)\n",
      "\n",
      "0: 384x640 1 person, 1 tv, 93.3ms\n",
      "Speed: 3.0ms preprocess, 93.3ms inference, 0.0ms postprocess per image at shape (1, 3, 384, 640)\n",
      "\n"
     ]
    },
    {
     "name": "stdout",
     "output_type": "stream",
     "text": [
      "162 254 456 713\n",
      "Left Distance: 162, Right Distance: 824\n",
      "Decision: Right\n",
      "12 280 633 714\n",
      "Left Distance: 12, Right Distance: 647\n",
      "Decision: Right\n",
      "1089 42 1279 551\n",
      "Left Distance: 1089, Right Distance: 1\n",
      "Decision: Left\n",
      "1088 51 1279 572\n",
      "Left Distance: 1088, Right Distance: 1\n",
      "Decision: Left\n",
      "15 260 631 714\n",
      "Left Distance: 15, Right Distance: 649\n",
      "Decision: Right\n",
      "1089 41 1279 550\n",
      "Left Distance: 1089, Right Distance: 1\n",
      "Decision: Left\n"
     ]
    },
    {
     "name": "stderr",
     "output_type": "stream",
     "text": [
      "0: 384x640 1 person, 91.8ms\n",
      "Speed: 2.5ms preprocess, 91.8ms inference, 2.0ms postprocess per image at shape (1, 3, 384, 640)\n",
      "\n",
      "0: 384x640 1 person, 1 bottle, 1 laptop, 93.7ms\n",
      "Speed: 5.3ms preprocess, 93.7ms inference, 0.0ms postprocess per image at shape (1, 3, 384, 640)\n",
      "\n"
     ]
    },
    {
     "name": "stdout",
     "output_type": "stream",
     "text": [
      "16 255 633 714\n",
      "Left Distance: 16, Right Distance: 647\n",
      "Decision: Right\n",
      "192 251 468 714\n",
      "Left Distance: 192, Right Distance: 812\n",
      "Decision: Right\n",
      "17 280 640 714\n",
      "Left Distance: 17, Right Distance: 640\n",
      "Decision: Right\n",
      "1087 54 1279 581\n",
      "Left Distance: 1087, Right Distance: 1\n",
      "Decision: Left\n"
     ]
    },
    {
     "name": "stderr",
     "output_type": "stream",
     "text": [
      "0: 384x640 1 person, 1 bottle, 92.6ms\n",
      "Speed: 0.0ms preprocess, 92.6ms inference, 2.0ms postprocess per image at shape (1, 3, 384, 640)\n",
      "\n",
      "0: 384x640 1 bottle, 1 laptop, 96.4ms\n",
      "Speed: 0.0ms preprocess, 96.4ms inference, 2.0ms postprocess per image at shape (1, 3, 384, 640)\n",
      "\n"
     ]
    },
    {
     "name": "stdout",
     "output_type": "stream",
     "text": [
      "204 242 498 713\n",
      "Left Distance: 204, Right Distance: 782\n",
      "Decision: Right\n",
      "49 239 646 713\n",
      "Left Distance: 49, Right Distance: 634\n",
      "Decision: Right\n",
      "193 240 481 713\n",
      "Left Distance: 193, Right Distance: 799\n",
      "Decision: Right\n",
      "1088 50 1279 565\n",
      "Left Distance: 1088, Right Distance: 1\n",
      "Decision: Left\n"
     ]
    },
    {
     "name": "stderr",
     "output_type": "stream",
     "text": [
      "0: 384x640 1 person, 1 bottle, 88.9ms\n",
      "Speed: 3.3ms preprocess, 88.9ms inference, 0.0ms postprocess per image at shape (1, 3, 384, 640)\n",
      "\n",
      "0: 384x640 1 bottle, 88.3ms\n",
      "Speed: 4.4ms preprocess, 88.3ms inference, 2.0ms postprocess per image at shape (1, 3, 384, 640)\n",
      "\n"
     ]
    },
    {
     "name": "stdout",
     "output_type": "stream",
     "text": [
      "169 221 466 712\n",
      "Left Distance: 169, Right Distance: 814\n",
      "Decision: Right\n",
      "7 221 643 712\n",
      "Left Distance: 7, Right Distance: 637\n",
      "Decision: Right\n",
      "169 184 478 713\n",
      "Left Distance: 169, Right Distance: 802\n",
      "Decision: Right\n"
     ]
    },
    {
     "name": "stderr",
     "output_type": "stream",
     "text": [
      "0: 384x640 1 person, 1 bottle, 87.6ms\n",
      "Speed: 5.7ms preprocess, 87.6ms inference, 0.0ms postprocess per image at shape (1, 3, 384, 640)\n",
      "\n",
      "0: 384x640 1 person, 2 bottles, 87.5ms\n",
      "Speed: 2.4ms preprocess, 87.5ms inference, 0.0ms postprocess per image at shape (1, 3, 384, 640)\n",
      "\n"
     ]
    },
    {
     "name": "stdout",
     "output_type": "stream",
     "text": [
      "154 158 484 713\n",
      "Left Distance: 154, Right Distance: 796\n",
      "Decision: Right\n",
      "30 162 650 712\n",
      "Left Distance: 30, Right Distance: 630\n",
      "Decision: Right\n",
      "157 151 473 713\n",
      "Left Distance: 157, Right Distance: 807\n",
      "Decision: Right\n",
      "48 153 650 712\n",
      "Left Distance: 48, Right Distance: 630\n",
      "Decision: Right\n",
      "154 151 643 711\n",
      "Left Distance: 154, Right Distance: 637\n",
      "Decision: Right\n"
     ]
    },
    {
     "name": "stderr",
     "output_type": "stream",
     "text": [
      "0: 384x640 1 person, 1 bottle, 85.6ms\n",
      "Speed: 4.3ms preprocess, 85.6ms inference, 0.0ms postprocess per image at shape (1, 3, 384, 640)\n",
      "\n",
      "0: 384x640 1 bottle, 83.5ms\n",
      "Speed: 2.5ms preprocess, 83.5ms inference, 8.2ms postprocess per image at shape (1, 3, 384, 640)\n",
      "\n"
     ]
    },
    {
     "name": "stdout",
     "output_type": "stream",
     "text": [
      "154 138 478 712\n",
      "Left Distance: 154, Right Distance: 802\n",
      "Decision: Right\n",
      "9 195 649 713\n",
      "Left Distance: 9, Right Distance: 631\n",
      "Decision: Right\n",
      "159 139 474 712\n",
      "Left Distance: 159, Right Distance: 806\n",
      "Decision: Right\n"
     ]
    },
    {
     "name": "stderr",
     "output_type": "stream",
     "text": [
      "0: 384x640 1 person, 1 bottle, 83.0ms\n",
      "Speed: 2.3ms preprocess, 83.0ms inference, 5.2ms postprocess per image at shape (1, 3, 384, 640)\n",
      "\n",
      "0: 384x640 1 bottle, 109.9ms\n",
      "Speed: 4.6ms preprocess, 109.9ms inference, 10.5ms postprocess per image at shape (1, 3, 384, 640)\n",
      "\n"
     ]
    },
    {
     "name": "stdout",
     "output_type": "stream",
     "text": [
      "161 143 472 713\n",
      "Left Distance: 161, Right Distance: 808\n",
      "Decision: Right\n",
      "458 273 649 712\n",
      "Left Distance: 458, Right Distance: 631\n",
      "Decision: Right\n",
      "165 146 479 712\n",
      "Left Distance: 165, Right Distance: 801\n",
      "Decision: Right\n"
     ]
    },
    {
     "name": "stderr",
     "output_type": "stream",
     "text": [
      "0: 384x640 1 bottle, 91.5ms\n",
      "Speed: 0.0ms preprocess, 91.5ms inference, 2.0ms postprocess per image at shape (1, 3, 384, 640)\n",
      "\n",
      "0: 384x640 1 person, 1 bottle, 107.3ms\n",
      "Speed: 4.5ms preprocess, 107.3ms inference, 3.0ms postprocess per image at shape (1, 3, 384, 640)\n",
      "\n"
     ]
    },
    {
     "name": "stdout",
     "output_type": "stream",
     "text": [
      "166 152 491 713\n",
      "Left Distance: 166, Right Distance: 789\n",
      "Decision: Right\n",
      "170 157 498 712\n",
      "Left Distance: 170, Right Distance: 782\n",
      "Decision: Right\n",
      "0 240 258 612\n",
      "Left Distance: 0, Right Distance: 1022\n",
      "Decision: Right\n"
     ]
    },
    {
     "name": "stderr",
     "output_type": "stream",
     "text": [
      "0: 384x640 1 person, 1 bottle, 96.3ms\n",
      "Speed: 0.0ms preprocess, 96.3ms inference, 2.0ms postprocess per image at shape (1, 3, 384, 640)\n",
      "\n",
      "0: 384x640 1 person, 1 bottle, 90.5ms\n",
      "Speed: 2.0ms preprocess, 90.5ms inference, 3.3ms postprocess per image at shape (1, 3, 384, 640)\n",
      "\n"
     ]
    },
    {
     "name": "stdout",
     "output_type": "stream",
     "text": [
      "177 162 489 712\n",
      "Left Distance: 177, Right Distance: 791\n",
      "Decision: Right\n",
      "0 244 262 606\n",
      "Left Distance: 0, Right Distance: 1018\n",
      "Decision: Right\n",
      "172 161 489 712\n",
      "Left Distance: 172, Right Distance: 791\n",
      "Decision: Right\n",
      "0 245 255 595\n",
      "Left Distance: 0, Right Distance: 1025\n",
      "Decision: Right\n"
     ]
    },
    {
     "name": "stderr",
     "output_type": "stream",
     "text": [
      "0: 384x640 (no detections), 98.2ms\n",
      "Speed: 4.1ms preprocess, 98.2ms inference, 0.0ms postprocess per image at shape (1, 3, 384, 640)\n",
      "\n",
      "0: 384x640 1 sink, 101.9ms\n",
      "Speed: 0.0ms preprocess, 101.9ms inference, 2.0ms postprocess per image at shape (1, 3, 384, 640)\n",
      "\n",
      "0: 384x640 1 sink, 88.8ms\n",
      "Speed: 4.4ms preprocess, 88.8ms inference, 1.4ms postprocess per image at shape (1, 3, 384, 640)\n",
      "\n"
     ]
    },
    {
     "name": "stdout",
     "output_type": "stream",
     "text": [
      "1 565 557 712\n",
      "Left Distance: 1, Right Distance: 723\n",
      "Decision: Right\n",
      "2 563 557 712\n",
      "Left Distance: 2, Right Distance: 723\n",
      "Decision: Right\n"
     ]
    },
    {
     "name": "stderr",
     "output_type": "stream",
     "text": [
      "0: 384x640 1 sink, 90.3ms\n",
      "Speed: 4.3ms preprocess, 90.3ms inference, 2.1ms postprocess per image at shape (1, 3, 384, 640)\n",
      "\n",
      "0: 384x640 1 sink, 92.7ms\n",
      "Speed: 1.6ms preprocess, 92.7ms inference, 0.0ms postprocess per image at shape (1, 3, 384, 640)\n",
      "\n"
     ]
    },
    {
     "name": "stdout",
     "output_type": "stream",
     "text": [
      "4 562 555 712\n",
      "Left Distance: 4, Right Distance: 725\n",
      "Decision: Right\n",
      "2 564 556 712\n",
      "Left Distance: 2, Right Distance: 724\n",
      "Decision: Right\n"
     ]
    },
    {
     "name": "stderr",
     "output_type": "stream",
     "text": [
      "0: 384x640 1 sink, 90.7ms\n",
      "Speed: 4.2ms preprocess, 90.7ms inference, 3.5ms postprocess per image at shape (1, 3, 384, 640)\n",
      "\n",
      "0: 384x640 1 sink, 92.0ms\n",
      "Speed: 4.3ms preprocess, 92.0ms inference, 2.0ms postprocess per image at shape (1, 3, 384, 640)\n",
      "\n"
     ]
    },
    {
     "name": "stdout",
     "output_type": "stream",
     "text": [
      "2 564 556 713\n",
      "Left Distance: 2, Right Distance: 724\n",
      "Decision: Right\n",
      "4 564 556 712\n",
      "Left Distance: 4, Right Distance: 724\n",
      "Decision: Right\n"
     ]
    },
    {
     "name": "stderr",
     "output_type": "stream",
     "text": [
      "0: 384x640 1 sink, 95.2ms\n",
      "Speed: 4.1ms preprocess, 95.2ms inference, 0.0ms postprocess per image at shape (1, 3, 384, 640)\n",
      "\n",
      "0: 384x640 1 sink, 90.4ms\n",
      "Speed: 2.6ms preprocess, 90.4ms inference, 1.0ms postprocess per image at shape (1, 3, 384, 640)\n",
      "\n"
     ]
    },
    {
     "name": "stdout",
     "output_type": "stream",
     "text": [
      "2 563 556 712\n",
      "Left Distance: 2, Right Distance: 724\n",
      "Decision: Right\n",
      "2 566 556 712\n",
      "Left Distance: 2, Right Distance: 724\n",
      "Decision: Right\n"
     ]
    },
    {
     "name": "stderr",
     "output_type": "stream",
     "text": [
      "0: 384x640 1 sink, 101.4ms\n",
      "Speed: 0.0ms preprocess, 101.4ms inference, 1.8ms postprocess per image at shape (1, 3, 384, 640)\n",
      "\n",
      "0: 384x640 1 sink, 90.3ms\n",
      "Speed: 2.0ms preprocess, 90.3ms inference, 2.0ms postprocess per image at shape (1, 3, 384, 640)\n",
      "\n"
     ]
    },
    {
     "name": "stdout",
     "output_type": "stream",
     "text": [
      "3 565 556 712\n",
      "Left Distance: 3, Right Distance: 724\n",
      "Decision: Right\n",
      "5 563 553 712\n",
      "Left Distance: 5, Right Distance: 727\n",
      "Decision: Right\n"
     ]
    },
    {
     "name": "stderr",
     "output_type": "stream",
     "text": [
      "0: 384x640 1 sink, 89.7ms\n",
      "Speed: 4.9ms preprocess, 89.7ms inference, 1.4ms postprocess per image at shape (1, 3, 384, 640)\n",
      "\n",
      "0: 384x640 1 sink, 87.3ms\n",
      "Speed: 1.1ms preprocess, 87.3ms inference, 0.0ms postprocess per image at shape (1, 3, 384, 640)\n",
      "\n"
     ]
    },
    {
     "name": "stdout",
     "output_type": "stream",
     "text": [
      "2 564 556 712\n",
      "Left Distance: 2, Right Distance: 724\n",
      "Decision: Right\n",
      "2 566 555 712\n",
      "Left Distance: 2, Right Distance: 725\n",
      "Decision: Right\n"
     ]
    },
    {
     "name": "stderr",
     "output_type": "stream",
     "text": [
      "0: 384x640 (no detections), 120.3ms\n",
      "Speed: 2.6ms preprocess, 120.3ms inference, 2.0ms postprocess per image at shape (1, 3, 384, 640)\n",
      "\n",
      "0: 384x640 (no detections), 83.6ms\n",
      "Speed: 2.9ms preprocess, 83.6ms inference, 8.1ms postprocess per image at shape (1, 3, 384, 640)\n",
      "\n",
      "0: 384x640 1 sink, 92.1ms\n",
      "Speed: 2.7ms preprocess, 92.1ms inference, 1.0ms postprocess per image at shape (1, 3, 384, 640)\n",
      "\n",
      "0: 384x640 1 toilet, 92.7ms\n",
      "Speed: 0.0ms preprocess, 92.7ms inference, 2.0ms postprocess per image at shape (1, 3, 384, 640)\n",
      "\n"
     ]
    },
    {
     "name": "stdout",
     "output_type": "stream",
     "text": [
      "0 568 557 714\n",
      "Left Distance: 0, Right Distance: 723\n",
      "Decision: Right\n",
      "1 304 261 658\n",
      "Left Distance: 1, Right Distance: 1019\n",
      "Decision: Right\n"
     ]
    },
    {
     "name": "stderr",
     "output_type": "stream",
     "text": [
      "0: 384x640 (no detections), 88.0ms\n",
      "Speed: 4.9ms preprocess, 88.0ms inference, 0.0ms postprocess per image at shape (1, 3, 384, 640)\n",
      "\n",
      "0: 384x640 1 toilet, 1 remote, 92.3ms\n",
      "Speed: 2.7ms preprocess, 92.3ms inference, 2.0ms postprocess per image at shape (1, 3, 384, 640)\n",
      "\n",
      "0: 384x640 1 person, 90.9ms\n",
      "Speed: 4.2ms preprocess, 90.9ms inference, 2.0ms postprocess per image at shape (1, 3, 384, 640)\n",
      "\n"
     ]
    },
    {
     "name": "stdout",
     "output_type": "stream",
     "text": [
      "6 376 261 636\n",
      "Left Distance: 6, Right Distance: 1019\n",
      "Decision: Right\n",
      "187 265 467 712\n",
      "Left Distance: 187, Right Distance: 813\n",
      "Decision: Right\n",
      "0 531 416 713\n",
      "Left Distance: 0, Right Distance: 864\n",
      "Decision: Right\n"
     ]
    },
    {
     "name": "stderr",
     "output_type": "stream",
     "text": [
      "0: 384x640 2 persons, 1 cell phone, 94.4ms\n",
      "Speed: 0.0ms preprocess, 94.4ms inference, 1.5ms postprocess per image at shape (1, 3, 384, 640)\n",
      "\n",
      "0: 384x640 1 person, 1 cell phone, 97.5ms\n",
      "Speed: 2.0ms preprocess, 97.5ms inference, 1.0ms postprocess per image at shape (1, 3, 384, 640)\n",
      "\n"
     ]
    },
    {
     "name": "stdout",
     "output_type": "stream",
     "text": [
      "153 217 434 705\n",
      "Left Distance: 153, Right Distance: 846\n",
      "Decision: Right\n",
      "0 520 418 714\n",
      "Left Distance: 0, Right Distance: 862\n",
      "Decision: Right\n",
      "1 600 416 715\n",
      "Left Distance: 1, Right Distance: 864\n",
      "Decision: Right\n",
      "152 193 438 714\n",
      "Left Distance: 152, Right Distance: 842\n",
      "Decision: Right\n",
      "5 590 429 716\n",
      "Left Distance: 5, Right Distance: 851\n",
      "Decision: Right\n"
     ]
    },
    {
     "name": "stderr",
     "output_type": "stream",
     "text": [
      "0: 384x640 2 persons, 1 cell phone, 89.3ms\n",
      "Speed: 2.9ms preprocess, 89.3ms inference, 0.0ms postprocess per image at shape (1, 3, 384, 640)\n",
      "\n",
      "0: 384x640 1 person, 1 cell phone, 91.8ms\n",
      "Speed: 3.7ms preprocess, 91.8ms inference, 2.0ms postprocess per image at shape (1, 3, 384, 640)\n",
      "\n"
     ]
    },
    {
     "name": "stdout",
     "output_type": "stream",
     "text": [
      "159 188 444 713\n",
      "Left Distance: 159, Right Distance: 836\n",
      "Decision: Right\n",
      "5 589 434 716\n",
      "Left Distance: 5, Right Distance: 846\n",
      "Decision: Right\n",
      "4 342 441 712\n",
      "Left Distance: 4, Right Distance: 839\n",
      "Decision: Right\n",
      "149 178 444 713\n",
      "Left Distance: 149, Right Distance: 836\n",
      "Decision: Right\n",
      "4 586 433 717\n",
      "Left Distance: 4, Right Distance: 847\n",
      "Decision: Right\n"
     ]
    },
    {
     "name": "stderr",
     "output_type": "stream",
     "text": [
      "0: 384x640 1 person, 1 cell phone, 89.2ms\n",
      "Speed: 3.1ms preprocess, 89.2ms inference, 1.3ms postprocess per image at shape (1, 3, 384, 640)\n",
      "\n",
      "0: 384x640 1 person, 1 laptop, 1 cell phone, 89.1ms\n",
      "Speed: 3.4ms preprocess, 89.1ms inference, 0.0ms postprocess per image at shape (1, 3, 384, 640)\n",
      "\n"
     ]
    },
    {
     "name": "stdout",
     "output_type": "stream",
     "text": [
      "135 162 433 715\n",
      "Left Distance: 135, Right Distance: 847\n",
      "Decision: Right\n",
      "19 581 429 718\n",
      "Left Distance: 19, Right Distance: 851\n",
      "Decision: Right\n",
      "131 156 432 714\n",
      "Left Distance: 131, Right Distance: 848\n",
      "Decision: Right\n",
      "3 577 428 716\n",
      "Left Distance: 3, Right Distance: 852\n",
      "Decision: Right\n",
      "1087 56 1279 555\n",
      "Left Distance: 1087, Right Distance: 1\n",
      "Decision: Left\n"
     ]
    },
    {
     "name": "stderr",
     "output_type": "stream",
     "text": [
      "0: 384x640 1 person, 1 cell phone, 99.7ms\n",
      "Speed: 0.0ms preprocess, 99.7ms inference, 1.6ms postprocess per image at shape (1, 3, 384, 640)\n",
      "\n",
      "0: 384x640 1 person, 1 cell phone, 87.3ms\n",
      "Speed: 2.7ms preprocess, 87.3ms inference, 0.0ms postprocess per image at shape (1, 3, 384, 640)\n",
      "\n"
     ]
    },
    {
     "name": "stdout",
     "output_type": "stream",
     "text": [
      "133 155 432 714\n",
      "Left Distance: 133, Right Distance: 848\n",
      "Decision: Right\n",
      "2 574 434 716\n",
      "Left Distance: 2, Right Distance: 846\n",
      "Decision: Right\n",
      "137 154 434 714\n",
      "Left Distance: 137, Right Distance: 846\n",
      "Decision: Right\n",
      "2 572 433 717\n",
      "Left Distance: 2, Right Distance: 847\n",
      "Decision: Right\n"
     ]
    },
    {
     "name": "stderr",
     "output_type": "stream",
     "text": [
      "0: 384x640 1 person, 1 cell phone, 93.2ms\n",
      "Speed: 2.4ms preprocess, 93.2ms inference, 2.1ms postprocess per image at shape (1, 3, 384, 640)\n",
      "\n",
      "0: 384x640 1 person, 1 cell phone, 87.0ms\n",
      "Speed: 4.2ms preprocess, 87.0ms inference, 0.0ms postprocess per image at shape (1, 3, 384, 640)\n",
      "\n"
     ]
    },
    {
     "name": "stdout",
     "output_type": "stream",
     "text": [
      "139 156 436 715\n",
      "Left Distance: 139, Right Distance: 844\n",
      "Decision: Right\n",
      "3 573 433 718\n",
      "Left Distance: 3, Right Distance: 847\n",
      "Decision: Right\n",
      "136 157 436 715\n",
      "Left Distance: 136, Right Distance: 844\n",
      "Decision: Right\n",
      "2 579 433 717\n",
      "Left Distance: 2, Right Distance: 847\n",
      "Decision: Right\n"
     ]
    },
    {
     "name": "stderr",
     "output_type": "stream",
     "text": [
      "0: 384x640 1 person, 1 cell phone, 110.6ms\n",
      "Speed: 3.6ms preprocess, 110.6ms inference, 0.0ms postprocess per image at shape (1, 3, 384, 640)\n",
      "\n",
      "0: 384x640 (no detections), 103.4ms\n",
      "Speed: 0.0ms preprocess, 103.4ms inference, 2.1ms postprocess per image at shape (1, 3, 384, 640)\n",
      "\n"
     ]
    },
    {
     "name": "stdout",
     "output_type": "stream",
     "text": [
      "136 158 434 714\n",
      "Left Distance: 136, Right Distance: 846\n",
      "Decision: Right\n",
      "1 577 431 718\n",
      "Left Distance: 1, Right Distance: 849\n",
      "Decision: Right\n"
     ]
    },
    {
     "name": "stderr",
     "output_type": "stream",
     "text": [
      "0: 384x640 1 sink, 99.1ms\n",
      "Speed: 5.0ms preprocess, 99.1ms inference, 0.0ms postprocess per image at shape (1, 3, 384, 640)\n",
      "\n",
      "0: 384x640 1 toilet, 1 sink, 126.6ms\n",
      "Speed: 0.0ms preprocess, 126.6ms inference, 0.0ms postprocess per image at shape (1, 3, 384, 640)\n",
      "\n"
     ]
    },
    {
     "name": "stdout",
     "output_type": "stream",
     "text": [
      "1 563 554 713\n",
      "Left Distance: 1, Right Distance: 726\n",
      "Decision: Right\n",
      "0 357 75 718\n",
      "Left Distance: 0, Right Distance: 1205\n",
      "Decision: Right\n",
      "2 564 564 712\n",
      "Left Distance: 2, Right Distance: 716\n",
      "Decision: Right\n"
     ]
    },
    {
     "name": "stderr",
     "output_type": "stream",
     "text": [
      "0: 384x640 1 toilet, 1 sink, 94.5ms\n",
      "Speed: 4.4ms preprocess, 94.5ms inference, 0.0ms postprocess per image at shape (1, 3, 384, 640)\n",
      "\n",
      "0: 384x640 1 toilet, 1 sink, 90.1ms\n",
      "Speed: 4.5ms preprocess, 90.1ms inference, 0.0ms postprocess per image at shape (1, 3, 384, 640)\n",
      "\n"
     ]
    },
    {
     "name": "stdout",
     "output_type": "stream",
     "text": [
      "0 341 73 714\n",
      "Left Distance: 0, Right Distance: 1207\n",
      "Decision: Right\n",
      "3 563 553 713\n",
      "Left Distance: 3, Right Distance: 727\n",
      "Decision: Right\n",
      "0 322 74 714\n",
      "Left Distance: 0, Right Distance: 1206\n",
      "Decision: Right\n",
      "3 569 557 712\n",
      "Left Distance: 3, Right Distance: 723\n",
      "Decision: Right\n"
     ]
    },
    {
     "name": "stderr",
     "output_type": "stream",
     "text": [
      "0: 384x640 1 toilet, 1 sink, 91.8ms\n",
      "Speed: 0.0ms preprocess, 91.8ms inference, 0.0ms postprocess per image at shape (1, 3, 384, 640)\n",
      "\n",
      "0: 384x640 1 sink, 92.1ms\n",
      "Speed: 2.0ms preprocess, 92.1ms inference, 2.0ms postprocess per image at shape (1, 3, 384, 640)\n",
      "\n"
     ]
    },
    {
     "name": "stdout",
     "output_type": "stream",
     "text": [
      "0 314 78 711\n",
      "Left Distance: 0, Right Distance: 1202\n",
      "Decision: Right\n",
      "1 570 556 712\n",
      "Left Distance: 1, Right Distance: 724\n",
      "Decision: Right\n",
      "0 566 559 712\n",
      "Left Distance: 0, Right Distance: 721\n",
      "Decision: Right\n"
     ]
    },
    {
     "name": "stderr",
     "output_type": "stream",
     "text": [
      "0: 384x640 (no detections), 89.9ms\n",
      "Speed: 3.1ms preprocess, 89.9ms inference, 2.0ms postprocess per image at shape (1, 3, 384, 640)\n",
      "\n",
      "0: 384x640 (no detections), 93.4ms\n",
      "Speed: 3.9ms preprocess, 93.4ms inference, 0.0ms postprocess per image at shape (1, 3, 384, 640)\n",
      "\n",
      "0: 384x640 (no detections), 87.0ms\n",
      "Speed: 1.3ms preprocess, 87.0ms inference, 1.8ms postprocess per image at shape (1, 3, 384, 640)\n",
      "\n",
      "0: 384x640 (no detections), 88.9ms\n",
      "Speed: 4.7ms preprocess, 88.9ms inference, 2.0ms postprocess per image at shape (1, 3, 384, 640)\n",
      "\n",
      "0: 384x640 (no detections), 87.1ms\n",
      "Speed: 3.5ms preprocess, 87.1ms inference, 0.0ms postprocess per image at shape (1, 3, 384, 640)\n",
      "\n",
      "0: 384x640 (no detections), 93.3ms\n",
      "Speed: 0.0ms preprocess, 93.3ms inference, 0.0ms postprocess per image at shape (1, 3, 384, 640)\n",
      "\n",
      "0: 384x640 (no detections), 92.1ms\n",
      "Speed: 0.0ms preprocess, 92.1ms inference, 0.0ms postprocess per image at shape (1, 3, 384, 640)\n",
      "\n",
      "0: 384x640 (no detections), 90.3ms\n",
      "Speed: 0.0ms preprocess, 90.3ms inference, 2.9ms postprocess per image at shape (1, 3, 384, 640)\n",
      "\n",
      "0: 384x640 (no detections), 91.6ms\n",
      "Speed: 4.4ms preprocess, 91.6ms inference, 0.0ms postprocess per image at shape (1, 3, 384, 640)\n",
      "\n",
      "0: 384x640 (no detections), 85.2ms\n",
      "Speed: 4.4ms preprocess, 85.2ms inference, 0.0ms postprocess per image at shape (1, 3, 384, 640)\n",
      "\n",
      "0: 384x640 (no detections), 83.2ms\n",
      "Speed: 1.6ms preprocess, 83.2ms inference, 5.8ms postprocess per image at shape (1, 3, 384, 640)\n",
      "\n",
      "0: 384x640 (no detections), 80.3ms\n",
      "Speed: 3.0ms preprocess, 80.3ms inference, 8.1ms postprocess per image at shape (1, 3, 384, 640)\n",
      "\n",
      "0: 384x640 (no detections), 85.6ms\n",
      "Speed: 4.6ms preprocess, 85.6ms inference, 2.7ms postprocess per image at shape (1, 3, 384, 640)\n",
      "\n",
      "0: 384x640 (no detections), 93.3ms\n",
      "Speed: 0.0ms preprocess, 93.3ms inference, 2.0ms postprocess per image at shape (1, 3, 384, 640)\n",
      "\n",
      "0: 384x640 (no detections), 87.3ms\n",
      "Speed: 3.7ms preprocess, 87.3ms inference, 2.0ms postprocess per image at shape (1, 3, 384, 640)\n",
      "\n",
      "0: 384x640 (no detections), 85.3ms\n",
      "Speed: 5.1ms preprocess, 85.3ms inference, 0.0ms postprocess per image at shape (1, 3, 384, 640)\n",
      "\n",
      "0: 384x640 1 sink, 89.9ms\n",
      "Speed: 0.0ms preprocess, 89.9ms inference, 0.4ms postprocess per image at shape (1, 3, 384, 640)\n",
      "\n",
      "0: 384x640 (no detections), 81.2ms\n",
      "Speed: 0.0ms preprocess, 81.2ms inference, 0.0ms postprocess per image at shape (1, 3, 384, 640)\n",
      "\n"
     ]
    },
    {
     "name": "stdout",
     "output_type": "stream",
     "text": [
      "1 570 558 712\n",
      "Left Distance: 1, Right Distance: 722\n",
      "Decision: Right\n"
     ]
    },
    {
     "name": "stderr",
     "output_type": "stream",
     "text": [
      "0: 384x640 1 sink, 86.5ms\n",
      "Speed: 0.0ms preprocess, 86.5ms inference, 1.9ms postprocess per image at shape (1, 3, 384, 640)\n",
      "\n",
      "0: 384x640 (no detections), 94.1ms\n",
      "Speed: 4.6ms preprocess, 94.1ms inference, 1.0ms postprocess per image at shape (1, 3, 384, 640)\n",
      "\n"
     ]
    },
    {
     "name": "stdout",
     "output_type": "stream",
     "text": [
      "1 571 556 712\n",
      "Left Distance: 1, Right Distance: 724\n",
      "Decision: Right\n"
     ]
    },
    {
     "name": "stderr",
     "output_type": "stream",
     "text": [
      "0: 384x640 (no detections), 91.1ms\n",
      "Speed: 3.1ms preprocess, 91.1ms inference, 0.0ms postprocess per image at shape (1, 3, 384, 640)\n",
      "\n",
      "0: 384x640 (no detections), 91.8ms\n",
      "Speed: 2.0ms preprocess, 91.8ms inference, 0.0ms postprocess per image at shape (1, 3, 384, 640)\n",
      "\n",
      "0: 384x640 (no detections), 89.8ms\n",
      "Speed: 2.8ms preprocess, 89.8ms inference, 0.0ms postprocess per image at shape (1, 3, 384, 640)\n",
      "\n",
      "0: 384x640 (no detections), 85.4ms\n",
      "Speed: 2.4ms preprocess, 85.4ms inference, 0.0ms postprocess per image at shape (1, 3, 384, 640)\n",
      "\n",
      "0: 384x640 (no detections), 96.3ms\n",
      "Speed: 0.0ms preprocess, 96.3ms inference, 1.0ms postprocess per image at shape (1, 3, 384, 640)\n",
      "\n",
      "0: 384x640 (no detections), 87.1ms\n",
      "Speed: 3.4ms preprocess, 87.1ms inference, 8.2ms postprocess per image at shape (1, 3, 384, 640)\n",
      "\n",
      "0: 384x640 (no detections), 93.7ms\n",
      "Speed: 2.1ms preprocess, 93.7ms inference, 1.0ms postprocess per image at shape (1, 3, 384, 640)\n",
      "\n",
      "0: 384x640 1 sink, 92.3ms\n",
      "Speed: 3.2ms preprocess, 92.3ms inference, 3.2ms postprocess per image at shape (1, 3, 384, 640)\n",
      "\n",
      "0: 384x640 (no detections), 93.3ms\n",
      "Speed: 2.2ms preprocess, 93.3ms inference, 0.0ms postprocess per image at shape (1, 3, 384, 640)\n",
      "\n"
     ]
    },
    {
     "name": "stdout",
     "output_type": "stream",
     "text": [
      "6 582 558 712\n",
      "Left Distance: 6, Right Distance: 722\n",
      "Decision: Right\n"
     ]
    },
    {
     "name": "stderr",
     "output_type": "stream",
     "text": [
      "0: 384x640 1 cell phone, 107.7ms\n",
      "Speed: 1.0ms preprocess, 107.7ms inference, 1.0ms postprocess per image at shape (1, 3, 384, 640)\n",
      "\n",
      "0: 384x640 1 person, 1 cell phone, 95.0ms\n",
      "Speed: 0.0ms preprocess, 95.0ms inference, 2.0ms postprocess per image at shape (1, 3, 384, 640)\n",
      "\n"
     ]
    },
    {
     "name": "stdout",
     "output_type": "stream",
     "text": [
      "131 163 530 709\n",
      "Left Distance: 131, Right Distance: 750\n",
      "Decision: Right\n",
      "142 59 681 705\n",
      "Left Distance: 142, Right Distance: 599\n",
      "Decision: Right\n",
      "0 289 216 553\n",
      "Left Distance: 0, Right Distance: 1064\n",
      "Decision: Right\n"
     ]
    },
    {
     "name": "stderr",
     "output_type": "stream",
     "text": [
      "0: 384x640 2 persons, 1 suitcase, 1 cell phone, 90.9ms\n",
      "Speed: 4.6ms preprocess, 90.9ms inference, 0.0ms postprocess per image at shape (1, 3, 384, 640)\n",
      "\n",
      "0: 384x640 2 persons, 1 suitcase, 1 cell phone, 110.5ms\n",
      "Speed: 2.6ms preprocess, 110.5ms inference, 0.0ms postprocess per image at shape (1, 3, 384, 640)\n",
      "\n"
     ]
    },
    {
     "name": "stdout",
     "output_type": "stream",
     "text": [
      "638 231 752 706\n",
      "Left Distance: 638, Right Distance: 528\n",
      "Decision: Left\n",
      "149 3 696 705\n",
      "Left Distance: 149, Right Distance: 584\n",
      "Decision: Right\n",
      "0 259 191 532\n",
      "Left Distance: 0, Right Distance: 1089\n",
      "Decision: Right\n",
      "146 7 749 708\n",
      "Left Distance: 146, Right Distance: 531\n",
      "Decision: Right\n",
      "175 3 723 708\n",
      "Left Distance: 175, Right Distance: 557\n",
      "Decision: Right\n",
      "0 247 206 572\n",
      "Left Distance: 0, Right Distance: 1074\n",
      "Decision: Right\n",
      "672 243 793 713\n",
      "Left Distance: 672, Right Distance: 487\n",
      "Decision: Left\n",
      "168 0 731 708\n",
      "Left Distance: 168, Right Distance: 549\n",
      "Decision: Right\n"
     ]
    },
    {
     "name": "stderr",
     "output_type": "stream",
     "text": [
      "0: 384x640 2 persons, 1 suitcase, 1 cell phone, 97.7ms\n",
      "Speed: 0.0ms preprocess, 97.7ms inference, 2.0ms postprocess per image at shape (1, 3, 384, 640)\n",
      "\n",
      "0: 384x640 2 persons, 1 suitcase, 1 laptop, 1 cell phone, 89.1ms\n",
      "Speed: 4.1ms preprocess, 89.1ms inference, 2.0ms postprocess per image at shape (1, 3, 384, 640)\n",
      "\n"
     ]
    },
    {
     "name": "stdout",
     "output_type": "stream",
     "text": [
      "183 7 754 712\n",
      "Left Distance: 183, Right Distance: 526\n",
      "Decision: Right\n",
      "0 238 234 580\n",
      "Left Distance: 0, Right Distance: 1046\n",
      "Decision: Right\n",
      "185 16 789 710\n",
      "Left Distance: 185, Right Distance: 491\n",
      "Decision: Right\n",
      "691 270 820 710\n",
      "Left Distance: 691, Right Distance: 460\n",
      "Decision: Left\n",
      "200 11 764 711\n",
      "Left Distance: 200, Right Distance: 516\n",
      "Decision: Right\n",
      "0 231 258 579\n",
      "Left Distance: 0, Right Distance: 1022\n",
      "Decision: Right\n",
      "1087 49 1279 554\n",
      "Left Distance: 1087, Right Distance: 1\n",
      "Decision: Left\n",
      "198 17 798 710\n",
      "Left Distance: 198, Right Distance: 482\n",
      "Decision: Right\n",
      "710 271 833 711\n",
      "Left Distance: 710, Right Distance: 447\n",
      "Decision: Left\n"
     ]
    },
    {
     "name": "stderr",
     "output_type": "stream",
     "text": [
      "0: 384x640 2 persons, 1 suitcase, 1 laptop, 1 cell phone, 86.1ms\n",
      "Speed: 5.3ms preprocess, 86.1ms inference, 0.0ms postprocess per image at shape (1, 3, 384, 640)\n",
      "\n",
      "0: 384x640 1 person, 1 suitcase, 1 laptop, 1 cell phone, 93.7ms\n",
      "Speed: 3.5ms preprocess, 93.7ms inference, 0.0ms postprocess per image at shape (1, 3, 384, 640)\n",
      "\n"
     ]
    },
    {
     "name": "stdout",
     "output_type": "stream",
     "text": [
      "188 50 760 712\n",
      "Left Distance: 188, Right Distance: 520\n",
      "Decision: Right\n",
      "0 234 249 604\n",
      "Left Distance: 0, Right Distance: 1031\n",
      "Decision: Right\n",
      "184 25 777 710\n",
      "Left Distance: 184, Right Distance: 503\n",
      "Decision: Right\n",
      "1088 43 1279 560\n",
      "Left Distance: 1088, Right Distance: 1\n",
      "Decision: Left\n",
      "0 4 1068 706\n",
      "Left Distance: 0, Right Distance: 212\n",
      "Decision: Right\n",
      "177 114 750 715\n",
      "Left Distance: 177, Right Distance: 530\n",
      "Decision: Right\n",
      "175 109 777 709\n",
      "Left Distance: 175, Right Distance: 503\n",
      "Decision: Right\n",
      "653 384 791 712\n",
      "Left Distance: 653, Right Distance: 489\n",
      "Decision: Left\n",
      "1087 42 1279 557\n",
      "Left Distance: 1087, Right Distance: 1\n",
      "Decision: Left\n"
     ]
    },
    {
     "name": "stderr",
     "output_type": "stream",
     "text": [
      "0: 384x640 1 person, 1 laptop, 1 cell phone, 91.8ms\n",
      "Speed: 0.0ms preprocess, 91.8ms inference, 1.6ms postprocess per image at shape (1, 3, 384, 640)\n",
      "\n",
      "0: 384x640 1 person, 1 laptop, 1 cell phone, 100.2ms\n",
      "Speed: 2.0ms preprocess, 100.2ms inference, 0.0ms postprocess per image at shape (1, 3, 384, 640)\n",
      "\n"
     ]
    },
    {
     "name": "stdout",
     "output_type": "stream",
     "text": [
      "166 179 729 712\n",
      "Left Distance: 166, Right Distance: 551\n",
      "Decision: Right\n",
      "1087 43 1279 557\n",
      "Left Distance: 1087, Right Distance: 1\n",
      "Decision: Left\n",
      "671 459 773 716\n",
      "Left Distance: 671, Right Distance: 507\n",
      "Decision: Left\n",
      "168 183 728 711\n",
      "Left Distance: 168, Right Distance: 552\n",
      "Decision: Right\n",
      "671 469 770 717\n",
      "Left Distance: 671, Right Distance: 510\n",
      "Decision: Left\n",
      "1087 39 1279 550\n",
      "Left Distance: 1087, Right Distance: 1\n",
      "Decision: Left\n"
     ]
    },
    {
     "name": "stderr",
     "output_type": "stream",
     "text": [
      "0: 384x640 1 person, 1 cell phone, 90.3ms\n",
      "Speed: 3.2ms preprocess, 90.3ms inference, 7.2ms postprocess per image at shape (1, 3, 384, 640)\n",
      "\n",
      "0: 384x640 1 person, 1 cell phone, 89.5ms\n",
      "Speed: 0.0ms preprocess, 89.5ms inference, 0.0ms postprocess per image at shape (1, 3, 384, 640)\n",
      "\n"
     ]
    },
    {
     "name": "stdout",
     "output_type": "stream",
     "text": [
      "174 196 716 711\n",
      "Left Distance: 174, Right Distance: 564\n",
      "Decision: Right\n",
      "654 469 757 717\n",
      "Left Distance: 654, Right Distance: 523\n",
      "Decision: Left\n",
      "153 190 705 711\n",
      "Left Distance: 153, Right Distance: 575\n",
      "Decision: Right\n",
      "643 461 749 716\n",
      "Left Distance: 643, Right Distance: 531\n",
      "Decision: Left\n"
     ]
    },
    {
     "name": "stderr",
     "output_type": "stream",
     "text": [
      "0: 384x640 1 person, 1 cell phone, 104.3ms\n",
      "Speed: 3.2ms preprocess, 104.3ms inference, 0.0ms postprocess per image at shape (1, 3, 384, 640)\n",
      "\n",
      "0: 384x640 1 person, 1 cell phone, 88.2ms\n",
      "Speed: 3.1ms preprocess, 88.2ms inference, 0.0ms postprocess per image at shape (1, 3, 384, 640)\n",
      "\n"
     ]
    },
    {
     "name": "stdout",
     "output_type": "stream",
     "text": [
      "151 187 702 712\n",
      "Left Distance: 151, Right Distance: 578\n",
      "Decision: Right\n",
      "639 459 746 716\n",
      "Left Distance: 639, Right Distance: 534\n",
      "Decision: Left\n",
      "139 177 700 711\n",
      "Left Distance: 139, Right Distance: 580\n",
      "Decision: Right\n",
      "624 448 738 715\n",
      "Left Distance: 624, Right Distance: 542\n",
      "Decision: Left\n"
     ]
    },
    {
     "name": "stderr",
     "output_type": "stream",
     "text": [
      "0: 384x640 1 cell phone, 88.6ms\n",
      "Speed: 3.5ms preprocess, 88.6ms inference, 0.0ms postprocess per image at shape (1, 3, 384, 640)\n",
      "\n",
      "0: 384x640 1 person, 1 cell phone, 96.4ms\n",
      "Speed: 0.0ms preprocess, 96.4ms inference, 2.0ms postprocess per image at shape (1, 3, 384, 640)\n",
      "\n"
     ]
    },
    {
     "name": "stdout",
     "output_type": "stream",
     "text": [
      "147 175 707 712\n",
      "Left Distance: 147, Right Distance: 573\n",
      "Decision: Right\n",
      "635 455 744 715\n",
      "Left Distance: 635, Right Distance: 536\n",
      "Decision: Left\n",
      "161 187 701 712\n",
      "Left Distance: 161, Right Distance: 579\n",
      "Decision: Right\n"
     ]
    },
    {
     "name": "stderr",
     "output_type": "stream",
     "text": [
      "0: 384x640 1 person, 1 cell phone, 91.7ms\n",
      "Speed: 0.0ms preprocess, 91.7ms inference, 1.0ms postprocess per image at shape (1, 3, 384, 640)\n",
      "\n",
      "0: 384x640 1 person, 1 cell phone, 88.7ms\n",
      "Speed: 2.8ms preprocess, 88.7ms inference, 0.0ms postprocess per image at shape (1, 3, 384, 640)\n",
      "\n"
     ]
    },
    {
     "name": "stdout",
     "output_type": "stream",
     "text": [
      "169 198 704 711\n",
      "Left Distance: 169, Right Distance: 576\n",
      "Decision: Right\n",
      "642 461 745 716\n",
      "Left Distance: 642, Right Distance: 535\n",
      "Decision: Left\n",
      "176 202 706 712\n",
      "Left Distance: 176, Right Distance: 574\n",
      "Decision: Right\n",
      "648 463 748 715\n",
      "Left Distance: 648, Right Distance: 532\n",
      "Decision: Left\n"
     ]
    },
    {
     "name": "stderr",
     "output_type": "stream",
     "text": [
      "0: 384x640 1 person, 1 cell phone, 90.9ms\n",
      "Speed: 5.7ms preprocess, 90.9ms inference, 0.0ms postprocess per image at shape (1, 3, 384, 640)\n",
      "\n",
      "0: 384x640 1 person, 1 cell phone, 94.1ms\n",
      "Speed: 4.4ms preprocess, 94.1ms inference, 2.0ms postprocess per image at shape (1, 3, 384, 640)\n",
      "\n"
     ]
    },
    {
     "name": "stdout",
     "output_type": "stream",
     "text": [
      "173 196 711 712\n",
      "Left Distance: 173, Right Distance: 569\n",
      "Decision: Right\n",
      "649 457 755 712\n",
      "Left Distance: 649, Right Distance: 525\n",
      "Decision: Left\n",
      "175 189 717 712\n",
      "Left Distance: 175, Right Distance: 563\n",
      "Decision: Right\n",
      "652 456 760 715\n",
      "Left Distance: 652, Right Distance: 520\n",
      "Decision: Left\n"
     ]
    },
    {
     "name": "stderr",
     "output_type": "stream",
     "text": [
      "0: 384x640 1 cell phone, 99.7ms\n",
      "Speed: 4.5ms preprocess, 99.7ms inference, 2.3ms postprocess per image at shape (1, 3, 384, 640)\n",
      "\n",
      "0: 384x640 1 person, 1 cell phone, 99.1ms\n",
      "Speed: 2.8ms preprocess, 99.1ms inference, 0.0ms postprocess per image at shape (1, 3, 384, 640)\n",
      "\n"
     ]
    },
    {
     "name": "stdout",
     "output_type": "stream",
     "text": [
      "175 184 736 713\n",
      "Left Distance: 175, Right Distance: 544\n",
      "Decision: Right\n",
      "184 179 748 714\n",
      "Left Distance: 184, Right Distance: 532\n",
      "Decision: Right\n",
      "668 459 775 716\n",
      "Left Distance: 668, Right Distance: 505\n",
      "Decision: Left\n"
     ]
    },
    {
     "name": "stderr",
     "output_type": "stream",
     "text": [
      "0: 384x640 1 person, 1 cell phone, 96.3ms\n",
      "Speed: 4.4ms preprocess, 96.3ms inference, 1.7ms postprocess per image at shape (1, 3, 384, 640)\n",
      "\n",
      "0: 384x640 2 persons, 1 cell phone, 92.6ms\n",
      "Speed: 0.0ms preprocess, 92.6ms inference, 0.0ms postprocess per image at shape (1, 3, 384, 640)\n",
      "\n"
     ]
    },
    {
     "name": "stdout",
     "output_type": "stream",
     "text": [
      "195 192 755 712\n",
      "Left Distance: 195, Right Distance: 525\n",
      "Decision: Right\n",
      "0 253 264 695\n",
      "Left Distance: 0, Right Distance: 1016\n",
      "Decision: Right\n",
      "207 216 757 712\n",
      "Left Distance: 207, Right Distance: 523\n",
      "Decision: Right\n",
      "703 487 790 717\n",
      "Left Distance: 703, Right Distance: 490\n",
      "Decision: Left\n",
      "0 252 274 696\n",
      "Left Distance: 0, Right Distance: 1006\n",
      "Decision: Right\n"
     ]
    },
    {
     "name": "stderr",
     "output_type": "stream",
     "text": [
      "0: 384x640 2 persons, 1 cell phone, 98.8ms\n",
      "Speed: 4.8ms preprocess, 98.8ms inference, 1.6ms postprocess per image at shape (1, 3, 384, 640)\n",
      "\n",
      "0: 384x640 2 persons, 1 cell phone, 95.0ms\n",
      "Speed: 1.7ms preprocess, 95.0ms inference, 2.6ms postprocess per image at shape (1, 3, 384, 640)\n",
      "\n"
     ]
    },
    {
     "name": "stdout",
     "output_type": "stream",
     "text": [
      "212 230 751 713\n",
      "Left Distance: 212, Right Distance: 529\n",
      "Decision: Right\n",
      "0 249 273 710\n",
      "Left Distance: 0, Right Distance: 1007\n",
      "Decision: Right\n",
      "706 492 790 717\n",
      "Left Distance: 706, Right Distance: 490\n",
      "Decision: Left\n",
      "217 232 751 713\n",
      "Left Distance: 217, Right Distance: 529\n",
      "Decision: Right\n",
      "0 250 275 710\n",
      "Left Distance: 0, Right Distance: 1005\n",
      "Decision: Right\n",
      "707 493 791 717\n",
      "Left Distance: 707, Right Distance: 489\n",
      "Decision: Left\n"
     ]
    },
    {
     "name": "stderr",
     "output_type": "stream",
     "text": [
      "0: 384x640 1 person, 1 cell phone, 99.7ms\n",
      "Speed: 0.0ms preprocess, 99.7ms inference, 0.0ms postprocess per image at shape (1, 3, 384, 640)\n",
      "\n",
      "0: 384x640 1 person, 1 cell phone, 101.0ms\n",
      "Speed: 0.0ms preprocess, 101.0ms inference, 0.0ms postprocess per image at shape (1, 3, 384, 640)\n",
      "\n"
     ]
    },
    {
     "name": "stdout",
     "output_type": "stream",
     "text": [
      "211 233 749 714\n",
      "Left Distance: 211, Right Distance: 531\n",
      "Decision: Right\n",
      "0 247 270 712\n",
      "Left Distance: 0, Right Distance: 1010\n",
      "Decision: Right\n",
      "213 233 745 712\n",
      "Left Distance: 213, Right Distance: 535\n",
      "Decision: Right\n",
      "704 490 788 716\n",
      "Left Distance: 704, Right Distance: 492\n",
      "Decision: Left\n"
     ]
    },
    {
     "name": "stderr",
     "output_type": "stream",
     "text": [
      "0: 384x640 2 persons, 1 cell phone, 99.7ms\n",
      "Speed: 4.3ms preprocess, 99.7ms inference, 0.0ms postprocess per image at shape (1, 3, 384, 640)\n",
      "\n",
      "0: 384x640 3 persons, 1 cell phone, 93.5ms\n",
      "Speed: 0.0ms preprocess, 93.5ms inference, 0.0ms postprocess per image at shape (1, 3, 384, 640)\n",
      "\n"
     ]
    },
    {
     "name": "stdout",
     "output_type": "stream",
     "text": [
      "229 230 753 712\n",
      "Left Distance: 229, Right Distance: 527\n",
      "Decision: Right\n",
      "706 489 792 716\n",
      "Left Distance: 706, Right Distance: 488\n",
      "Decision: Left\n",
      "0 245 281 711\n",
      "Left Distance: 0, Right Distance: 999\n",
      "Decision: Right\n",
      "253 221 768 712\n",
      "Left Distance: 253, Right Distance: 512\n",
      "Decision: Right\n",
      "0 248 298 710\n",
      "Left Distance: 0, Right Distance: 982\n",
      "Decision: Right\n",
      "1 213 814 710\n",
      "Left Distance: 1, Right Distance: 466\n",
      "Decision: Right\n",
      "707 492 794 716\n",
      "Left Distance: 707, Right Distance: 486\n",
      "Decision: Left\n"
     ]
    },
    {
     "name": "stderr",
     "output_type": "stream",
     "text": [
      "0: 384x640 3 persons, 1 cell phone, 102.0ms\n",
      "Speed: 3.4ms preprocess, 102.0ms inference, 1.0ms postprocess per image at shape (1, 3, 384, 640)\n",
      "\n",
      "0: 384x640 2 persons, 1 cell phone, 89.1ms\n",
      "Speed: 3.8ms preprocess, 89.1ms inference, 0.0ms postprocess per image at shape (1, 3, 384, 640)\n",
      "\n"
     ]
    },
    {
     "name": "stdout",
     "output_type": "stream",
     "text": [
      "317 210 783 711\n",
      "Left Distance: 317, Right Distance: 497\n",
      "Decision: Right\n",
      "0 218 820 709\n",
      "Left Distance: 0, Right Distance: 460\n",
      "Decision: Right\n",
      "0 252 346 711\n",
      "Left Distance: 0, Right Distance: 934\n",
      "Decision: Right\n",
      "699 497 794 717\n",
      "Left Distance: 699, Right Distance: 486\n",
      "Decision: Left\n",
      "365 215 791 712\n",
      "Left Distance: 365, Right Distance: 489\n",
      "Decision: Right\n",
      "0 247 812 712\n",
      "Left Distance: 0, Right Distance: 468\n",
      "Decision: Right\n",
      "679 505 788 714\n",
      "Left Distance: 679, Right Distance: 492\n",
      "Decision: Left\n"
     ]
    },
    {
     "name": "stderr",
     "output_type": "stream",
     "text": [
      "0: 384x640 1 person, 1 laptop, 1 cell phone, 88.6ms\n",
      "Speed: 3.5ms preprocess, 88.6ms inference, 2.9ms postprocess per image at shape (1, 3, 384, 640)\n",
      "\n",
      "0: 384x640 1 person, 1 cell phone, 83.7ms\n",
      "Speed: 3.6ms preprocess, 83.7ms inference, 0.0ms postprocess per image at shape (1, 3, 384, 640)\n",
      "\n"
     ]
    },
    {
     "name": "stdout",
     "output_type": "stream",
     "text": [
      "382 210 791 710\n",
      "Left Distance: 382, Right Distance: 489\n",
      "Decision: Right\n",
      "0 263 833 713\n",
      "Left Distance: 0, Right Distance: 447\n",
      "Decision: Right\n",
      "1087 63 1279 554\n",
      "Left Distance: 1087, Right Distance: 1\n",
      "Decision: Left\n",
      "360 200 778 698\n",
      "Left Distance: 360, Right Distance: 502\n",
      "Decision: Right\n",
      "0 23 830 715\n",
      "Left Distance: 0, Right Distance: 450\n",
      "Decision: Right\n"
     ]
    },
    {
     "name": "stderr",
     "output_type": "stream",
     "text": [
      "0: 384x640 2 persons, 1 cell phone, 94.9ms\n",
      "Speed: 0.0ms preprocess, 94.9ms inference, 2.0ms postprocess per image at shape (1, 3, 384, 640)\n",
      "\n",
      "0: 384x640 2 persons, 1 cell phone, 89.6ms\n",
      "Speed: 5.5ms preprocess, 89.6ms inference, 0.0ms postprocess per image at shape (1, 3, 384, 640)\n",
      "\n"
     ]
    },
    {
     "name": "stdout",
     "output_type": "stream",
     "text": [
      "361 200 771 698\n",
      "Left Distance: 361, Right Distance: 509\n",
      "Decision: Right\n",
      "1 14 830 715\n",
      "Left Distance: 1, Right Distance: 450\n",
      "Decision: Right\n",
      "0 289 403 713\n",
      "Left Distance: 0, Right Distance: 877\n",
      "Decision: Right\n",
      "351 318 735 711\n",
      "Left Distance: 351, Right Distance: 545\n",
      "Decision: Right\n",
      "725 548 791 715\n",
      "Left Distance: 725, Right Distance: 489\n",
      "Decision: Left\n",
      "0 274 371 710\n",
      "Left Distance: 0, Right Distance: 909\n",
      "Decision: Right\n"
     ]
    },
    {
     "name": "stderr",
     "output_type": "stream",
     "text": [
      "0: 384x640 2 persons, 1 cell phone, 96.9ms\n",
      "Speed: 1.9ms preprocess, 96.9ms inference, 0.0ms postprocess per image at shape (1, 3, 384, 640)\n",
      "\n",
      "0: 384x640 2 persons, 1 cell phone, 119.1ms\n",
      "Speed: 4.0ms preprocess, 119.1ms inference, 2.6ms postprocess per image at shape (1, 3, 384, 640)\n",
      "\n"
     ]
    },
    {
     "name": "stdout",
     "output_type": "stream",
     "text": [
      "396 487 738 711\n",
      "Left Distance: 396, Right Distance: 542\n",
      "Decision: Right\n",
      "0 347 747 712\n",
      "Left Distance: 0, Right Distance: 533\n",
      "Decision: Right\n",
      "0 273 399 711\n",
      "Left Distance: 0, Right Distance: 881\n",
      "Decision: Right\n",
      "405 495 744 714\n",
      "Left Distance: 405, Right Distance: 536\n",
      "Decision: Right\n",
      "0 270 408 709\n",
      "Left Distance: 0, Right Distance: 872\n",
      "Decision: Right\n",
      "2 367 764 711\n",
      "Left Distance: 2, Right Distance: 516\n",
      "Decision: Right\n"
     ]
    },
    {
     "name": "stderr",
     "output_type": "stream",
     "text": [
      "0: 384x640 2 persons, 1 laptop, 1 cell phone, 97.5ms\n",
      "Speed: 4.8ms preprocess, 97.5ms inference, 0.0ms postprocess per image at shape (1, 3, 384, 640)\n",
      "\n",
      "0: 384x640 1 person, 1 laptop, 1 cell phone, 86.8ms\n",
      "Speed: 2.0ms preprocess, 86.8ms inference, 0.0ms postprocess per image at shape (1, 3, 384, 640)\n",
      "\n"
     ]
    },
    {
     "name": "stdout",
     "output_type": "stream",
     "text": [
      "456 480 762 712\n",
      "Left Distance: 456, Right Distance: 518\n",
      "Decision: Right\n",
      "0 263 476 708\n",
      "Left Distance: 0, Right Distance: 804\n",
      "Decision: Right\n",
      "1087 63 1279 554\n",
      "Left Distance: 1087, Right Distance: 1\n",
      "Decision: Left\n",
      "451 477 794 717\n",
      "Left Distance: 451, Right Distance: 486\n",
      "Decision: Right\n",
      "435 454 732 712\n",
      "Left Distance: 435, Right Distance: 548\n",
      "Decision: Right\n",
      "0 267 448 708\n",
      "Left Distance: 0, Right Distance: 832\n",
      "Decision: Right\n",
      "1088 60 1279 690\n",
      "Left Distance: 1088, Right Distance: 1\n",
      "Decision: Left\n"
     ]
    },
    {
     "name": "stderr",
     "output_type": "stream",
     "text": [
      "0: 384x640 1 person, 1 laptop, 1 cell phone, 95.6ms\n",
      "Speed: 2.3ms preprocess, 95.6ms inference, 2.0ms postprocess per image at shape (1, 3, 384, 640)\n",
      "\n",
      "0: 384x640 3 persons, 1 cell phone, 94.5ms\n",
      "Speed: 2.9ms preprocess, 94.5ms inference, 0.0ms postprocess per image at shape (1, 3, 384, 640)\n",
      "\n"
     ]
    },
    {
     "name": "stdout",
     "output_type": "stream",
     "text": [
      "422 445 723 712\n",
      "Left Distance: 422, Right Distance: 557\n",
      "Decision: Right\n",
      "0 269 441 709\n",
      "Left Distance: 0, Right Distance: 839\n",
      "Decision: Right\n",
      "1087 66 1279 558\n",
      "Left Distance: 1087, Right Distance: 1\n",
      "Decision: Left\n",
      "389 416 696 713\n",
      "Left Distance: 389, Right Distance: 584\n",
      "Decision: Right\n",
      "0 272 423 711\n",
      "Left Distance: 0, Right Distance: 857\n",
      "Decision: Right\n",
      "111 531 733 717\n",
      "Left Distance: 111, Right Distance: 547\n",
      "Decision: Right\n",
      "0 277 741 712\n",
      "Left Distance: 0, Right Distance: 539\n",
      "Decision: Right\n"
     ]
    },
    {
     "name": "stderr",
     "output_type": "stream",
     "text": [
      "0: 384x640 4 persons, 1 cell phone, 96.1ms\n",
      "Speed: 1.7ms preprocess, 96.1ms inference, 0.0ms postprocess per image at shape (1, 3, 384, 640)\n",
      "\n",
      "0: 384x640 3 persons, 1 cell phone, 88.9ms\n",
      "Speed: 4.0ms preprocess, 88.9ms inference, 2.3ms postprocess per image at shape (1, 3, 384, 640)\n",
      "\n"
     ]
    },
    {
     "name": "stdout",
     "output_type": "stream",
     "text": [
      "385 389 697 714\n",
      "Left Distance: 385, Right Distance: 583\n",
      "Decision: Right\n",
      "0 273 429 711\n",
      "Left Distance: 0, Right Distance: 851\n",
      "Decision: Right\n",
      "358 523 731 714\n",
      "Left Distance: 358, Right Distance: 549\n",
      "Decision: Right\n",
      "164 534 737 717\n",
      "Left Distance: 164, Right Distance: 543\n",
      "Decision: Right\n",
      "1 283 741 713\n",
      "Left Distance: 1, Right Distance: 539\n",
      "Decision: Right\n",
      "389 371 708 713\n",
      "Left Distance: 389, Right Distance: 572\n",
      "Decision: Right\n",
      "0 278 444 711\n",
      "Left Distance: 0, Right Distance: 836\n",
      "Decision: Right\n",
      "206 499 745 717\n",
      "Left Distance: 206, Right Distance: 535\n",
      "Decision: Right\n",
      "365 475 737 715\n",
      "Left Distance: 365, Right Distance: 543\n",
      "Decision: Right\n"
     ]
    },
    {
     "name": "stderr",
     "output_type": "stream",
     "text": [
      "0: 384x640 3 persons, 1 tv, 1 remote, 1 cell phone, 88.6ms\n",
      "Speed: 3.8ms preprocess, 88.6ms inference, 1.4ms postprocess per image at shape (1, 3, 384, 640)\n",
      "\n",
      "0: 384x640 2 persons, 1 remote, 1 cell phone, 90.8ms\n",
      "Speed: 4.0ms preprocess, 90.8ms inference, 2.0ms postprocess per image at shape (1, 3, 384, 640)\n",
      "\n"
     ]
    },
    {
     "name": "stdout",
     "output_type": "stream",
     "text": [
      "72 488 755 715\n",
      "Left Distance: 72, Right Distance: 525\n",
      "Decision: Right\n",
      "405 363 717 712\n",
      "Left Distance: 405, Right Distance: 563\n",
      "Decision: Right\n",
      "0 283 466 709\n",
      "Left Distance: 0, Right Distance: 814\n",
      "Decision: Right\n",
      "402 363 718 712\n",
      "Left Distance: 402, Right Distance: 562\n",
      "Decision: Right\n",
      "0 287 740 712\n",
      "Left Distance: 0, Right Distance: 540\n",
      "Decision: Right\n",
      "1089 47 1279 551\n",
      "Left Distance: 1089, Right Distance: 1\n",
      "Decision: Left\n",
      "34 481 749 714\n",
      "Left Distance: 34, Right Distance: 531\n",
      "Decision: Right\n",
      "407 364 713 712\n",
      "Left Distance: 407, Right Distance: 567\n",
      "Decision: Right\n",
      "406 364 714 712\n",
      "Left Distance: 406, Right Distance: 566\n",
      "Decision: Right\n",
      "0 279 468 709\n",
      "Left Distance: 0, Right Distance: 812\n",
      "Decision: Right\n"
     ]
    },
    {
     "name": "stderr",
     "output_type": "stream",
     "text": [
      "0: 384x640 1 laptop, 1 cell phone, 92.0ms\n",
      "Speed: 4.6ms preprocess, 92.0ms inference, 0.0ms postprocess per image at shape (1, 3, 384, 640)\n",
      "\n",
      "0: 384x640 2 persons, 1 cell phone, 87.2ms\n",
      "Speed: 2.8ms preprocess, 87.2ms inference, 0.0ms postprocess per image at shape (1, 3, 384, 640)\n",
      "\n"
     ]
    },
    {
     "name": "stdout",
     "output_type": "stream",
     "text": [
      "403 363 704 711\n",
      "Left Distance: 403, Right Distance: 576\n",
      "Decision: Right\n",
      "1088 68 1279 558\n",
      "Left Distance: 1088, Right Distance: 1\n",
      "Decision: Left\n",
      "419 368 708 711\n",
      "Left Distance: 419, Right Distance: 572\n",
      "Decision: Right\n",
      "26 475 746 714\n",
      "Left Distance: 26, Right Distance: 534\n",
      "Decision: Right\n",
      "0 289 745 711\n",
      "Left Distance: 0, Right Distance: 535\n",
      "Decision: Right\n"
     ]
    },
    {
     "name": "stderr",
     "output_type": "stream",
     "text": [
      "0: 384x640 1 person, 1 laptop, 1 cell phone, 96.1ms\n",
      "Speed: 0.0ms preprocess, 96.1ms inference, 2.0ms postprocess per image at shape (1, 3, 384, 640)\n",
      "\n",
      "0: 384x640 2 persons, 1 remote, 1 cell phone, 101.8ms\n",
      "Speed: 2.0ms preprocess, 101.8ms inference, 0.0ms postprocess per image at shape (1, 3, 384, 640)\n",
      "\n"
     ]
    },
    {
     "name": "stdout",
     "output_type": "stream",
     "text": [
      "436 373 705 715\n",
      "Left Distance: 436, Right Distance: 575\n",
      "Decision: Right\n",
      "0 291 741 712\n",
      "Left Distance: 0, Right Distance: 539\n",
      "Decision: Right\n",
      "1088 59 1279 555\n",
      "Left Distance: 1088, Right Distance: 1\n",
      "Decision: Left\n",
      "436 376 706 710\n",
      "Left Distance: 436, Right Distance: 574\n",
      "Decision: Right\n",
      "39 471 734 714\n",
      "Left Distance: 39, Right Distance: 546\n",
      "Decision: Right\n",
      "0 291 743 711\n",
      "Left Distance: 0, Right Distance: 537\n",
      "Decision: Right\n",
      "427 377 705 712\n",
      "Left Distance: 427, Right Distance: 575\n",
      "Decision: Right\n"
     ]
    },
    {
     "name": "stderr",
     "output_type": "stream",
     "text": [
      "0: 384x640 2 persons, 1 remote, 1 cell phone, 100.2ms\n",
      "Speed: 0.0ms preprocess, 100.2ms inference, 3.0ms postprocess per image at shape (1, 3, 384, 640)\n",
      "\n",
      "0: 384x640 2 persons, 1 cell phone, 95.5ms\n",
      "Speed: 4.1ms preprocess, 95.5ms inference, 1.0ms postprocess per image at shape (1, 3, 384, 640)\n",
      "\n"
     ]
    },
    {
     "name": "stdout",
     "output_type": "stream",
     "text": [
      "446 376 702 711\n",
      "Left Distance: 446, Right Distance: 578\n",
      "Decision: Right\n",
      "465 378 701 713\n",
      "Left Distance: 465, Right Distance: 579\n",
      "Decision: Right\n",
      "56 467 727 713\n",
      "Left Distance: 56, Right Distance: 553\n",
      "Decision: Right\n",
      "0 285 498 709\n",
      "Left Distance: 0, Right Distance: 782\n",
      "Decision: Right\n",
      "441 373 701 711\n",
      "Left Distance: 441, Right Distance: 579\n",
      "Decision: Right\n",
      "0 285 494 710\n",
      "Left Distance: 0, Right Distance: 786\n",
      "Decision: Right\n",
      "9 469 724 713\n",
      "Left Distance: 9, Right Distance: 556\n",
      "Decision: Right\n"
     ]
    },
    {
     "name": "stderr",
     "output_type": "stream",
     "text": [
      "0: 384x640 1 person, 1 cell phone, 96.3ms\n",
      "Speed: 0.0ms preprocess, 96.3ms inference, 2.0ms postprocess per image at shape (1, 3, 384, 640)\n",
      "\n",
      "0: 384x640 2 persons, 1 remote, 1 cell phone, 90.9ms\n",
      "Speed: 5.4ms preprocess, 90.9ms inference, 0.0ms postprocess per image at shape (1, 3, 384, 640)\n",
      "\n"
     ]
    },
    {
     "name": "stdout",
     "output_type": "stream",
     "text": [
      "434 370 685 712\n",
      "Left Distance: 434, Right Distance: 595\n",
      "Decision: Right\n",
      "1 286 489 710\n",
      "Left Distance: 1, Right Distance: 791\n",
      "Decision: Right\n",
      "433 368 672 713\n",
      "Left Distance: 433, Right Distance: 608\n",
      "Decision: Right\n",
      "430 370 674 714\n",
      "Left Distance: 430, Right Distance: 606\n",
      "Decision: Right\n",
      "0 0 489 711\n",
      "Left Distance: 0, Right Distance: 791\n",
      "Decision: Right\n",
      "1 284 486 711\n",
      "Left Distance: 1, Right Distance: 794\n",
      "Decision: Right\n"
     ]
    },
    {
     "name": "stderr",
     "output_type": "stream",
     "text": [
      "0: 384x640 2 persons, 1 remote, 1 cell phone, 123.1ms\n",
      "Speed: 0.0ms preprocess, 123.1ms inference, 1.6ms postprocess per image at shape (1, 3, 384, 640)\n",
      "\n",
      "0: 384x640 2 persons, 1 remote, 1 cell phone, 92.7ms\n",
      "Speed: 0.0ms preprocess, 92.7ms inference, 2.0ms postprocess per image at shape (1, 3, 384, 640)\n",
      "\n"
     ]
    },
    {
     "name": "stdout",
     "output_type": "stream",
     "text": [
      "432 373 664 714\n",
      "Left Distance: 432, Right Distance: 616\n",
      "Decision: Right\n",
      "436 374 661 712\n",
      "Left Distance: 436, Right Distance: 619\n",
      "Decision: Right\n",
      "0 0 486 711\n",
      "Left Distance: 0, Right Distance: 794\n",
      "Decision: Right\n",
      "1 288 484 710\n",
      "Left Distance: 1, Right Distance: 796\n",
      "Decision: Right\n",
      "438 377 660 711\n",
      "Left Distance: 438, Right Distance: 620\n",
      "Decision: Right\n",
      "434 379 662 715\n",
      "Left Distance: 434, Right Distance: 618\n",
      "Decision: Right\n",
      "0 0 487 711\n",
      "Left Distance: 0, Right Distance: 793\n",
      "Decision: Right\n",
      "0 292 486 711\n",
      "Left Distance: 0, Right Distance: 794\n",
      "Decision: Right\n"
     ]
    },
    {
     "name": "stderr",
     "output_type": "stream",
     "text": [
      "0: 384x640 2 persons, 1 laptop, 1 remote, 1 cell phone, 86.9ms\n",
      "Speed: 2.0ms preprocess, 86.9ms inference, 2.0ms postprocess per image at shape (1, 3, 384, 640)\n",
      "\n",
      "0: 384x640 1 person, 1 remote, 1 cell phone, 96.8ms\n",
      "Speed: 3.7ms preprocess, 96.8ms inference, 0.0ms postprocess per image at shape (1, 3, 384, 640)\n",
      "\n"
     ]
    },
    {
     "name": "stdout",
     "output_type": "stream",
     "text": [
      "434 382 653 713\n",
      "Left Distance: 434, Right Distance: 627\n",
      "Decision: Right\n",
      "0 0 480 712\n",
      "Left Distance: 0, Right Distance: 800\n",
      "Decision: Right\n",
      "0 298 478 711\n",
      "Left Distance: 0, Right Distance: 802\n",
      "Decision: Right\n",
      "431 381 654 717\n",
      "Left Distance: 431, Right Distance: 626\n",
      "Decision: Right\n",
      "1088 58 1279 554\n",
      "Left Distance: 1088, Right Distance: 1\n",
      "Decision: Left\n",
      "429 382 650 714\n",
      "Left Distance: 429, Right Distance: 630\n",
      "Decision: Right\n",
      "1 0 479 712\n",
      "Left Distance: 1, Right Distance: 801\n",
      "Decision: Right\n",
      "430 385 644 710\n",
      "Left Distance: 430, Right Distance: 636\n",
      "Decision: Right\n"
     ]
    },
    {
     "name": "stderr",
     "output_type": "stream",
     "text": [
      "0: 384x640 1 person, 1 remote, 1 cell phone, 101.5ms\n",
      "Speed: 2.0ms preprocess, 101.5ms inference, 0.0ms postprocess per image at shape (1, 3, 384, 640)\n",
      "\n",
      "0: 384x640 1 person, 1 remote, 1 cell phone, 100.7ms\n",
      "Speed: 0.0ms preprocess, 100.7ms inference, 1.3ms postprocess per image at shape (1, 3, 384, 640)\n",
      "\n"
     ]
    },
    {
     "name": "stdout",
     "output_type": "stream",
     "text": [
      "425 382 637 708\n",
      "Left Distance: 425, Right Distance: 643\n",
      "Decision: Right\n",
      "425 382 636 704\n",
      "Left Distance: 425, Right Distance: 644\n",
      "Decision: Right\n",
      "0 0 471 711\n",
      "Left Distance: 0, Right Distance: 809\n",
      "Decision: Right\n",
      "416 381 630 701\n",
      "Left Distance: 416, Right Distance: 650\n",
      "Decision: Right\n",
      "415 380 630 702\n",
      "Left Distance: 415, Right Distance: 650\n",
      "Decision: Right\n",
      "0 0 465 711\n",
      "Left Distance: 0, Right Distance: 815\n",
      "Decision: Right\n"
     ]
    },
    {
     "name": "stderr",
     "output_type": "stream",
     "text": [
      "0: 384x640 3 persons, 1 remote, 111.0ms\n",
      "Speed: 3.4ms preprocess, 111.0ms inference, 1.0ms postprocess per image at shape (1, 3, 384, 640)\n",
      "\n",
      "0: 384x640 2 persons, 1 remote, 123.8ms\n",
      "Speed: 3.1ms preprocess, 123.8ms inference, 2.0ms postprocess per image at shape (1, 3, 384, 640)\n"
     ]
    },
    {
     "name": "stdout",
     "output_type": "stream",
     "text": [
      "406 378 626 700\n",
      "Left Distance: 406, Right Distance: 654\n",
      "Decision: Right\n",
      "0 0 458 711\n",
      "Left Distance: 0, Right Distance: 822\n",
      "Decision: Right\n",
      "0 310 461 711\n",
      "Left Distance: 0, Right Distance: 819\n",
      "Decision: Right\n",
      "12 449 646 710\n",
      "Left Distance: 12, Right Distance: 634\n",
      "Decision: Right\n",
      "1 0 456 712\n",
      "Left Distance: 1, Right Distance: 824\n",
      "Decision: Right\n",
      "408 376 623 699\n",
      "Left Distance: 408, Right Distance: 657\n",
      "Decision: Right\n",
      "0 309 456 712\n",
      "Left Distance: 0, Right Distance: 824\n",
      "Decision: Right\n"
     ]
    },
    {
     "name": "stderr",
     "output_type": "stream",
     "text": [
      "\n",
      "0: 384x640 2 persons, 1 remote, 1 cell phone, 112.7ms\n",
      "Speed: 0.0ms preprocess, 112.7ms inference, 0.0ms postprocess per image at shape (1, 3, 384, 640)\n",
      "\n",
      "0: 384x640 1 person, 1 laptop, 1 remote, 1 cell phone, 94.0ms\n",
      "Speed: 0.0ms preprocess, 94.0ms inference, 3.1ms postprocess per image at shape (1, 3, 384, 640)\n",
      "\n"
     ]
    },
    {
     "name": "stdout",
     "output_type": "stream",
     "text": [
      "0 312 448 711\n",
      "Left Distance: 0, Right Distance: 832\n",
      "Decision: Right\n",
      "398 369 618 695\n",
      "Left Distance: 398, Right Distance: 662\n",
      "Decision: Right\n",
      "399 369 623 694\n",
      "Left Distance: 399, Right Distance: 657\n",
      "Decision: Right\n",
      "0 0 449 712\n",
      "Left Distance: 0, Right Distance: 831\n",
      "Decision: Right\n",
      "393 367 615 697\n",
      "Left Distance: 393, Right Distance: 665\n",
      "Decision: Right\n",
      "0 313 437 712\n",
      "Left Distance: 0, Right Distance: 843\n",
      "Decision: Right\n",
      "391 367 620 696\n",
      "Left Distance: 391, Right Distance: 660\n",
      "Decision: Right\n",
      "1088 72 1279 559\n",
      "Left Distance: 1088, Right Distance: 1\n",
      "Decision: Left\n"
     ]
    },
    {
     "name": "stderr",
     "output_type": "stream",
     "text": [
      "0: 384x640 1 person, 1 remote, 1 cell phone, 96.1ms\n",
      "Speed: 4.6ms preprocess, 96.1ms inference, 2.0ms postprocess per image at shape (1, 3, 384, 640)\n",
      "\n",
      "0: 384x640 2 persons, 1 remote, 1 cell phone, 95.1ms\n",
      "Speed: 3.0ms preprocess, 95.1ms inference, 2.0ms postprocess per image at shape (1, 3, 384, 640)\n",
      "\n"
     ]
    },
    {
     "name": "stdout",
     "output_type": "stream",
     "text": [
      "382 362 612 696\n",
      "Left Distance: 382, Right Distance: 668\n",
      "Decision: Right\n",
      "0 313 434 711\n",
      "Left Distance: 0, Right Distance: 846\n",
      "Decision: Right\n",
      "387 363 607 694\n",
      "Left Distance: 387, Right Distance: 673\n",
      "Decision: Right\n",
      "376 360 601 689\n",
      "Left Distance: 376, Right Distance: 679\n",
      "Decision: Right\n",
      "1 0 430 712\n",
      "Left Distance: 1, Right Distance: 850\n",
      "Decision: Right\n",
      "0 300 429 712\n",
      "Left Distance: 0, Right Distance: 851\n",
      "Decision: Right\n",
      "377 359 602 691\n",
      "Left Distance: 377, Right Distance: 678\n",
      "Decision: Right\n"
     ]
    },
    {
     "name": "stderr",
     "output_type": "stream",
     "text": [
      "0: 384x640 1 person, 1 remote, 1 cell phone, 105.1ms\n",
      "Speed: 2.0ms preprocess, 105.1ms inference, 1.7ms postprocess per image at shape (1, 3, 384, 640)\n",
      "\n",
      "0: 384x640 1 person, 1 remote, 93.4ms\n",
      "Speed: 3.2ms preprocess, 93.4ms inference, 0.0ms postprocess per image at shape (1, 3, 384, 640)\n",
      "\n"
     ]
    },
    {
     "name": "stdout",
     "output_type": "stream",
     "text": [
      "1 0 429 712\n",
      "Left Distance: 1, Right Distance: 851\n",
      "Decision: Right\n",
      "377 361 604 692\n",
      "Left Distance: 377, Right Distance: 676\n",
      "Decision: Right\n",
      "376 362 604 692\n",
      "Left Distance: 376, Right Distance: 676\n",
      "Decision: Right\n",
      "1 0 431 712\n",
      "Left Distance: 1, Right Distance: 849\n",
      "Decision: Right\n",
      "378 363 606 694\n",
      "Left Distance: 378, Right Distance: 674\n",
      "Decision: Right\n"
     ]
    },
    {
     "name": "stderr",
     "output_type": "stream",
     "text": [
      "0: 384x640 2 persons, 1 remote, 89.5ms\n",
      "Speed: 4.2ms preprocess, 89.5ms inference, 4.8ms postprocess per image at shape (1, 3, 384, 640)\n",
      "\n",
      "0: 384x640 2 persons, 1 remote, 1 cell phone, 97.6ms\n",
      "Speed: 0.0ms preprocess, 97.6ms inference, 0.0ms postprocess per image at shape (1, 3, 384, 640)\n",
      "\n"
     ]
    },
    {
     "name": "stdout",
     "output_type": "stream",
     "text": [
      "382 362 607 696\n",
      "Left Distance: 382, Right Distance: 673\n",
      "Decision: Right\n",
      "1 0 433 711\n",
      "Left Distance: 1, Right Distance: 847\n",
      "Decision: Right\n",
      "1 0 667 712\n",
      "Left Distance: 1, Right Distance: 613\n",
      "Decision: Right\n",
      "379 364 609 694\n",
      "Left Distance: 379, Right Distance: 671\n",
      "Decision: Right\n",
      "384 363 606 695\n",
      "Left Distance: 384, Right Distance: 674\n",
      "Decision: Right\n",
      "1 0 438 712\n",
      "Left Distance: 1, Right Distance: 842\n",
      "Decision: Right\n",
      "1 0 660 713\n",
      "Left Distance: 1, Right Distance: 620\n",
      "Decision: Right\n"
     ]
    },
    {
     "name": "stderr",
     "output_type": "stream",
     "text": [
      "0: 384x640 1 person, 1 remote, 1 cell phone, 108.9ms\n",
      "Speed: 3.4ms preprocess, 108.9ms inference, 0.8ms postprocess per image at shape (1, 3, 384, 640)\n",
      "\n",
      "0: 384x640 2 persons, 106.2ms\n",
      "Speed: 4.0ms preprocess, 106.2ms inference, 0.0ms postprocess per image at shape (1, 3, 384, 640)\n",
      "\n"
     ]
    },
    {
     "name": "stdout",
     "output_type": "stream",
     "text": [
      "345 360 592 692\n",
      "Left Distance: 345, Right Distance: 688\n",
      "Decision: Right\n",
      "1 0 397 713\n",
      "Left Distance: 1, Right Distance: 883\n",
      "Decision: Right\n",
      "342 361 592 689\n",
      "Left Distance: 342, Right Distance: 688\n",
      "Decision: Right\n",
      "1 0 532 713\n",
      "Left Distance: 1, Right Distance: 748\n",
      "Decision: Right\n",
      "0 3 97 698\n",
      "Left Distance: 0, Right Distance: 1183\n",
      "Decision: Right\n"
     ]
    },
    {
     "name": "stderr",
     "output_type": "stream",
     "text": [
      "0: 384x640 (no detections), 92.9ms\n",
      "Speed: 5.3ms preprocess, 92.9ms inference, 0.0ms postprocess per image at shape (1, 3, 384, 640)\n",
      "\n",
      "0: 384x640 2 persons, 95.6ms\n",
      "Speed: 0.0ms preprocess, 95.6ms inference, 0.0ms postprocess per image at shape (1, 3, 384, 640)\n",
      "\n",
      "0: 384x640 (no detections), 89.4ms\n",
      "Speed: 5.9ms preprocess, 89.4ms inference, 2.0ms postprocess per image at shape (1, 3, 384, 640)\n",
      "\n"
     ]
    },
    {
     "name": "stdout",
     "output_type": "stream",
     "text": [
      "0 4 90 717\n",
      "Left Distance: 0, Right Distance: 1190\n",
      "Decision: Right\n",
      "0 265 89 713\n",
      "Left Distance: 0, Right Distance: 1191\n",
      "Decision: Right\n"
     ]
    },
    {
     "name": "stderr",
     "output_type": "stream",
     "text": [
      "0: 384x640 (no detections), 93.0ms\n",
      "Speed: 5.1ms preprocess, 93.0ms inference, 0.0ms postprocess per image at shape (1, 3, 384, 640)\n",
      "\n",
      "0: 384x640 (no detections), 90.6ms\n",
      "Speed: 1.5ms preprocess, 90.6ms inference, 1.0ms postprocess per image at shape (1, 3, 384, 640)\n",
      "\n",
      "0: 384x640 (no detections), 89.9ms\n",
      "Speed: 4.0ms preprocess, 89.9ms inference, 0.0ms postprocess per image at shape (1, 3, 384, 640)\n",
      "\n",
      "0: 384x640 (no detections), 89.0ms\n",
      "Speed: 3.7ms preprocess, 89.0ms inference, 0.0ms postprocess per image at shape (1, 3, 384, 640)\n",
      "\n",
      "0: 384x640 (no detections), 86.8ms\n",
      "Speed: 2.8ms preprocess, 86.8ms inference, 1.7ms postprocess per image at shape (1, 3, 384, 640)\n",
      "\n",
      "0: 384x640 (no detections), 87.2ms\n",
      "Speed: 4.5ms preprocess, 87.2ms inference, 2.0ms postprocess per image at shape (1, 3, 384, 640)\n",
      "\n",
      "0: 384x640 (no detections), 88.2ms\n",
      "Speed: 3.7ms preprocess, 88.2ms inference, 2.0ms postprocess per image at shape (1, 3, 384, 640)\n",
      "\n",
      "0: 384x640 (no detections), 84.1ms\n",
      "Speed: 1.1ms preprocess, 84.1ms inference, 0.0ms postprocess per image at shape (1, 3, 384, 640)\n",
      "\n",
      "0: 384x640 (no detections), 88.6ms\n",
      "Speed: 4.6ms preprocess, 88.6ms inference, 2.0ms postprocess per image at shape (1, 3, 384, 640)\n",
      "\n",
      "0: 384x640 (no detections), 98.1ms\n",
      "Speed: 4.0ms preprocess, 98.1ms inference, 0.0ms postprocess per image at shape (1, 3, 384, 640)\n",
      "\n",
      "0: 384x640 (no detections), 90.1ms\n",
      "Speed: 5.1ms preprocess, 90.1ms inference, 0.6ms postprocess per image at shape (1, 3, 384, 640)\n",
      "\n",
      "0: 384x640 (no detections), 86.2ms\n",
      "Speed: 2.2ms preprocess, 86.2ms inference, 0.0ms postprocess per image at shape (1, 3, 384, 640)\n",
      "\n",
      "0: 384x640 (no detections), 88.1ms\n",
      "Speed: 4.7ms preprocess, 88.1ms inference, 0.7ms postprocess per image at shape (1, 3, 384, 640)\n",
      "\n",
      "0: 384x640 (no detections), 90.8ms\n",
      "Speed: 2.8ms preprocess, 90.8ms inference, 0.0ms postprocess per image at shape (1, 3, 384, 640)\n",
      "\n",
      "0: 384x640 (no detections), 95.9ms\n",
      "Speed: 2.0ms preprocess, 95.9ms inference, 0.0ms postprocess per image at shape (1, 3, 384, 640)\n",
      "\n",
      "0: 384x640 (no detections), 92.4ms\n",
      "Speed: 1.5ms preprocess, 92.4ms inference, 1.6ms postprocess per image at shape (1, 3, 384, 640)\n",
      "\n",
      "0: 384x640 (no detections), 95.4ms\n",
      "Speed: 4.7ms preprocess, 95.4ms inference, 0.0ms postprocess per image at shape (1, 3, 384, 640)\n",
      "\n",
      "0: 384x640 (no detections), 92.3ms\n",
      "Speed: 4.5ms preprocess, 92.3ms inference, 2.0ms postprocess per image at shape (1, 3, 384, 640)\n",
      "\n",
      "0: 384x640 1 sink, 81.3ms\n",
      "Speed: 4.6ms preprocess, 81.3ms inference, 0.0ms postprocess per image at shape (1, 3, 384, 640)\n",
      "\n",
      "0: 384x640 (no detections), 79.4ms\n",
      "Speed: 0.0ms preprocess, 79.4ms inference, 0.0ms postprocess per image at shape (1, 3, 384, 640)\n",
      "\n"
     ]
    },
    {
     "name": "stdout",
     "output_type": "stream",
     "text": [
      "1 571 555 712\n",
      "Left Distance: 1, Right Distance: 725\n",
      "Decision: Right\n"
     ]
    },
    {
     "name": "stderr",
     "output_type": "stream",
     "text": [
      "0: 384x640 1 sink, 92.6ms\n",
      "Speed: 3.2ms preprocess, 92.6ms inference, 3.9ms postprocess per image at shape (1, 3, 384, 640)\n",
      "\n",
      "0: 384x640 (no detections), 98.8ms\n",
      "Speed: 2.0ms preprocess, 98.8ms inference, 2.0ms postprocess per image at shape (1, 3, 384, 640)\n",
      "\n"
     ]
    },
    {
     "name": "stdout",
     "output_type": "stream",
     "text": [
      "1 570 556 712\n",
      "Left Distance: 1, Right Distance: 724\n",
      "Decision: Right\n"
     ]
    },
    {
     "name": "stderr",
     "output_type": "stream",
     "text": [
      "0: 384x640 (no detections), 97.4ms\n",
      "Speed: 0.0ms preprocess, 97.4ms inference, 1.0ms postprocess per image at shape (1, 3, 384, 640)\n",
      "\n",
      "0: 384x640 (no detections), 92.4ms\n",
      "Speed: 4.5ms preprocess, 92.4ms inference, 0.0ms postprocess per image at shape (1, 3, 384, 640)\n",
      "\n",
      "0: 384x640 (no detections), 82.2ms\n",
      "Speed: 4.6ms preprocess, 82.2ms inference, 0.0ms postprocess per image at shape (1, 3, 384, 640)\n",
      "\n",
      "0: 384x640 (no detections), 102.2ms\n",
      "Speed: 2.0ms preprocess, 102.2ms inference, 0.0ms postprocess per image at shape (1, 3, 384, 640)\n",
      "\n",
      "0: 384x640 (no detections), 91.0ms\n",
      "Speed: 0.6ms preprocess, 91.0ms inference, 1.6ms postprocess per image at shape (1, 3, 384, 640)\n",
      "\n",
      "0: 384x640 (no detections), 91.8ms\n",
      "Speed: 5.2ms preprocess, 91.8ms inference, 1.0ms postprocess per image at shape (1, 3, 384, 640)\n",
      "\n",
      "0: 384x640 (no detections), 83.4ms\n",
      "Speed: 0.0ms preprocess, 83.4ms inference, 0.0ms postprocess per image at shape (1, 3, 384, 640)\n",
      "\n",
      "0: 384x640 1 sink, 100.4ms\n",
      "Speed: 2.0ms preprocess, 100.4ms inference, 0.0ms postprocess per image at shape (1, 3, 384, 640)\n",
      "\n",
      "0: 384x640 (no detections), 83.9ms\n",
      "Speed: 4.9ms preprocess, 83.9ms inference, 0.0ms postprocess per image at shape (1, 3, 384, 640)\n",
      "\n"
     ]
    },
    {
     "name": "stdout",
     "output_type": "stream",
     "text": [
      "0 568 554 712\n",
      "Left Distance: 0, Right Distance: 726\n",
      "Decision: Right\n"
     ]
    },
    {
     "name": "stderr",
     "output_type": "stream",
     "text": [
      "0: 384x640 (no detections), 89.9ms\n",
      "Speed: 0.0ms preprocess, 89.9ms inference, 4.2ms postprocess per image at shape (1, 3, 384, 640)\n",
      "\n",
      "0: 384x640 (no detections), 99.7ms\n",
      "Speed: 3.2ms preprocess, 99.7ms inference, 1.5ms postprocess per image at shape (1, 3, 384, 640)\n",
      "\n",
      "0: 384x640 (no detections), 88.1ms\n",
      "Speed: 0.0ms preprocess, 88.1ms inference, 0.0ms postprocess per image at shape (1, 3, 384, 640)\n",
      "\n",
      "0: 384x640 (no detections), 103.6ms\n",
      "Speed: 4.2ms preprocess, 103.6ms inference, 0.0ms postprocess per image at shape (1, 3, 384, 640)\n",
      "\n",
      "0: 384x640 (no detections), 87.3ms\n",
      "Speed: 4.3ms preprocess, 87.3ms inference, 0.0ms postprocess per image at shape (1, 3, 384, 640)\n",
      "\n",
      "0: 384x640 (no detections), 108.8ms\n",
      "Speed: 3.4ms preprocess, 108.8ms inference, 1.0ms postprocess per image at shape (1, 3, 384, 640)\n",
      "\n",
      "0: 384x640 (no detections), 90.0ms\n",
      "Speed: 1.2ms preprocess, 90.0ms inference, 0.0ms postprocess per image at shape (1, 3, 384, 640)\n",
      "\n",
      "0: 384x640 (no detections), 92.3ms\n",
      "Speed: 2.6ms preprocess, 92.3ms inference, 2.5ms postprocess per image at shape (1, 3, 384, 640)\n",
      "\n",
      "0: 384x640 (no detections), 94.3ms\n",
      "Speed: 0.0ms preprocess, 94.3ms inference, 0.0ms postprocess per image at shape (1, 3, 384, 640)\n",
      "\n",
      "0: 384x640 (no detections), 91.4ms\n",
      "Speed: 3.0ms preprocess, 91.4ms inference, 0.0ms postprocess per image at shape (1, 3, 384, 640)\n",
      "\n",
      "0: 384x640 (no detections), 88.6ms\n",
      "Speed: 3.7ms preprocess, 88.6ms inference, 1.3ms postprocess per image at shape (1, 3, 384, 640)\n",
      "\n",
      "0: 384x640 (no detections), 86.3ms\n",
      "Speed: 0.0ms preprocess, 86.3ms inference, 2.2ms postprocess per image at shape (1, 3, 384, 640)\n",
      "\n",
      "0: 384x640 (no detections), 91.8ms\n",
      "Speed: 0.0ms preprocess, 91.8ms inference, 0.0ms postprocess per image at shape (1, 3, 384, 640)\n",
      "\n",
      "0: 384x640 (no detections), 98.0ms\n",
      "Speed: 3.9ms preprocess, 98.0ms inference, 0.0ms postprocess per image at shape (1, 3, 384, 640)\n",
      "\n",
      "0: 384x640 (no detections), 76.8ms\n",
      "Speed: 4.7ms preprocess, 76.8ms inference, 0.0ms postprocess per image at shape (1, 3, 384, 640)\n",
      "\n",
      "0: 384x640 (no detections), 91.2ms\n",
      "Speed: 2.0ms preprocess, 91.2ms inference, 1.0ms postprocess per image at shape (1, 3, 384, 640)\n",
      "\n",
      "0: 384x640 (no detections), 91.3ms\n",
      "Speed: 4.2ms preprocess, 91.3ms inference, 0.0ms postprocess per image at shape (1, 3, 384, 640)\n",
      "\n",
      "0: 384x640 (no detections), 90.0ms\n",
      "Speed: 4.2ms preprocess, 90.0ms inference, 0.5ms postprocess per image at shape (1, 3, 384, 640)\n",
      "\n",
      "0: 384x640 (no detections), 91.3ms\n",
      "Speed: 0.0ms preprocess, 91.3ms inference, 0.0ms postprocess per image at shape (1, 3, 384, 640)\n",
      "\n",
      "0: 384x640 (no detections), 89.8ms\n",
      "Speed: 3.9ms preprocess, 89.8ms inference, 1.7ms postprocess per image at shape (1, 3, 384, 640)\n",
      "\n",
      "0: 384x640 (no detections), 83.1ms\n",
      "Speed: 4.4ms preprocess, 83.1ms inference, 0.0ms postprocess per image at shape (1, 3, 384, 640)\n",
      "\n",
      "0: 384x640 (no detections), 90.2ms\n",
      "Speed: 0.0ms preprocess, 90.2ms inference, 2.0ms postprocess per image at shape (1, 3, 384, 640)\n",
      "\n",
      "0: 384x640 (no detections), 84.4ms\n",
      "Speed: 4.0ms preprocess, 84.4ms inference, 0.0ms postprocess per image at shape (1, 3, 384, 640)\n",
      "\n",
      "0: 384x640 (no detections), 85.4ms\n",
      "Speed: 4.6ms preprocess, 85.4ms inference, 0.0ms postprocess per image at shape (1, 3, 384, 640)\n",
      "\n",
      "0: 384x640 (no detections), 87.6ms\n",
      "Speed: 4.9ms preprocess, 87.6ms inference, 1.0ms postprocess per image at shape (1, 3, 384, 640)\n",
      "\n",
      "0: 384x640 (no detections), 94.6ms\n",
      "Speed: 2.0ms preprocess, 94.6ms inference, 0.0ms postprocess per image at shape (1, 3, 384, 640)\n",
      "\n",
      "0: 384x640 (no detections), 85.0ms\n",
      "Speed: 2.3ms preprocess, 85.0ms inference, 0.0ms postprocess per image at shape (1, 3, 384, 640)\n",
      "\n",
      "0: 384x640 (no detections), 87.0ms\n",
      "Speed: 3.9ms preprocess, 87.0ms inference, 0.0ms postprocess per image at shape (1, 3, 384, 640)\n",
      "\n",
      "0: 384x640 (no detections), 89.6ms\n",
      "Speed: 2.7ms preprocess, 89.6ms inference, 0.9ms postprocess per image at shape (1, 3, 384, 640)\n",
      "\n",
      "0: 384x640 (no detections), 82.7ms\n",
      "Speed: 2.0ms preprocess, 82.7ms inference, 0.0ms postprocess per image at shape (1, 3, 384, 640)\n",
      "\n",
      "0: 384x640 (no detections), 88.5ms\n",
      "Speed: 2.0ms preprocess, 88.5ms inference, 0.0ms postprocess per image at shape (1, 3, 384, 640)\n",
      "\n",
      "0: 384x640 (no detections), 87.1ms\n",
      "Speed: 1.9ms preprocess, 87.1ms inference, 0.0ms postprocess per image at shape (1, 3, 384, 640)\n",
      "\n",
      "0: 384x640 (no detections), 79.5ms\n",
      "Speed: 3.6ms preprocess, 79.5ms inference, 0.0ms postprocess per image at shape (1, 3, 384, 640)\n",
      "\n",
      "0: 384x640 (no detections), 91.3ms\n",
      "Speed: 0.0ms preprocess, 91.3ms inference, 1.0ms postprocess per image at shape (1, 3, 384, 640)\n",
      "\n",
      "0: 384x640 (no detections), 85.0ms\n",
      "Speed: 2.0ms preprocess, 85.0ms inference, 2.0ms postprocess per image at shape (1, 3, 384, 640)\n",
      "\n",
      "0: 384x640 (no detections), 79.4ms\n",
      "Speed: 3.4ms preprocess, 79.4ms inference, 0.0ms postprocess per image at shape (1, 3, 384, 640)\n",
      "\n",
      "0: 384x640 (no detections), 88.0ms\n",
      "Speed: 3.4ms preprocess, 88.0ms inference, 2.0ms postprocess per image at shape (1, 3, 384, 640)\n",
      "\n",
      "0: 384x640 (no detections), 78.6ms\n",
      "Speed: 2.0ms preprocess, 78.6ms inference, 0.0ms postprocess per image at shape (1, 3, 384, 640)\n",
      "\n",
      "0: 384x640 1 sink, 86.6ms\n",
      "Speed: 2.0ms preprocess, 86.6ms inference, 0.0ms postprocess per image at shape (1, 3, 384, 640)\n",
      "\n",
      "0: 384x640 (no detections), 76.5ms\n",
      "Speed: 2.8ms preprocess, 76.5ms inference, 0.0ms postprocess per image at shape (1, 3, 384, 640)\n",
      "\n"
     ]
    },
    {
     "name": "stdout",
     "output_type": "stream",
     "text": [
      "0 570 552 712\n",
      "Left Distance: 0, Right Distance: 728\n",
      "Decision: Right\n"
     ]
    },
    {
     "name": "stderr",
     "output_type": "stream",
     "text": [
      "0: 384x640 (no detections), 92.3ms\n",
      "Speed: 2.0ms preprocess, 92.3ms inference, 2.1ms postprocess per image at shape (1, 3, 384, 640)\n",
      "\n",
      "0: 384x640 (no detections), 90.9ms\n",
      "Speed: 2.5ms preprocess, 90.9ms inference, 0.0ms postprocess per image at shape (1, 3, 384, 640)\n",
      "\n",
      "0: 384x640 (no detections), 90.6ms\n",
      "Speed: 2.1ms preprocess, 90.6ms inference, 0.0ms postprocess per image at shape (1, 3, 384, 640)\n",
      "\n",
      "0: 384x640 (no detections), 86.5ms\n",
      "Speed: 2.1ms preprocess, 86.5ms inference, 0.0ms postprocess per image at shape (1, 3, 384, 640)\n",
      "\n",
      "0: 384x640 (no detections), 94.6ms\n",
      "Speed: 4.3ms preprocess, 94.6ms inference, 0.0ms postprocess per image at shape (1, 3, 384, 640)\n",
      "\n",
      "0: 384x640 (no detections), 83.1ms\n",
      "Speed: 5.2ms preprocess, 83.1ms inference, 0.0ms postprocess per image at shape (1, 3, 384, 640)\n",
      "\n",
      "0: 384x640 (no detections), 88.7ms\n",
      "Speed: 5.3ms preprocess, 88.7ms inference, 0.0ms postprocess per image at shape (1, 3, 384, 640)\n",
      "\n",
      "0: 384x640 (no detections), 86.8ms\n",
      "Speed: 6.1ms preprocess, 86.8ms inference, 0.0ms postprocess per image at shape (1, 3, 384, 640)\n",
      "\n",
      "0: 384x640 (no detections), 86.7ms\n",
      "Speed: 4.5ms preprocess, 86.7ms inference, 0.8ms postprocess per image at shape (1, 3, 384, 640)\n",
      "\n",
      "0: 384x640 (no detections), 109.0ms\n",
      "Speed: 0.0ms preprocess, 109.0ms inference, 2.8ms postprocess per image at shape (1, 3, 384, 640)\n",
      "\n",
      "0: 384x640 (no detections), 90.0ms\n",
      "Speed: 4.5ms preprocess, 90.0ms inference, 0.0ms postprocess per image at shape (1, 3, 384, 640)\n",
      "\n",
      "0: 384x640 (no detections), 93.8ms\n",
      "Speed: 2.5ms preprocess, 93.8ms inference, 0.0ms postprocess per image at shape (1, 3, 384, 640)\n",
      "\n",
      "0: 384x640 (no detections), 88.0ms\n",
      "Speed: 3.8ms preprocess, 88.0ms inference, 0.0ms postprocess per image at shape (1, 3, 384, 640)\n",
      "\n",
      "0: 384x640 (no detections), 92.5ms\n",
      "Speed: 2.8ms preprocess, 92.5ms inference, 1.3ms postprocess per image at shape (1, 3, 384, 640)\n",
      "\n",
      "0: 384x640 (no detections), 89.2ms\n",
      "Speed: 0.0ms preprocess, 89.2ms inference, 0.0ms postprocess per image at shape (1, 3, 384, 640)\n",
      "\n",
      "0: 384x640 (no detections), 82.9ms\n",
      "Speed: 2.6ms preprocess, 82.9ms inference, 1.0ms postprocess per image at shape (1, 3, 384, 640)\n",
      "\n",
      "0: 384x640 (no detections), 79.7ms\n",
      "Speed: 6.4ms preprocess, 79.7ms inference, 0.0ms postprocess per image at shape (1, 3, 384, 640)\n",
      "\n",
      "0: 384x640 (no detections), 88.2ms\n",
      "Speed: 3.3ms preprocess, 88.2ms inference, 0.0ms postprocess per image at shape (1, 3, 384, 640)\n",
      "\n",
      "0: 384x640 (no detections), 88.7ms\n",
      "Speed: 1.2ms preprocess, 88.7ms inference, 0.0ms postprocess per image at shape (1, 3, 384, 640)\n",
      "\n",
      "0: 384x640 (no detections), 89.2ms\n",
      "Speed: 0.0ms preprocess, 89.2ms inference, 0.0ms postprocess per image at shape (1, 3, 384, 640)\n",
      "\n",
      "0: 384x640 (no detections), 85.8ms\n",
      "Speed: 5.4ms preprocess, 85.8ms inference, 2.1ms postprocess per image at shape (1, 3, 384, 640)\n",
      "\n",
      "0: 384x640 (no detections), 84.6ms\n",
      "Speed: 2.0ms preprocess, 84.6ms inference, 0.0ms postprocess per image at shape (1, 3, 384, 640)\n",
      "\n",
      "0: 384x640 (no detections), 83.2ms\n",
      "Speed: 4.6ms preprocess, 83.2ms inference, 0.0ms postprocess per image at shape (1, 3, 384, 640)\n",
      "\n",
      "0: 384x640 (no detections), 75.1ms\n",
      "Speed: 2.9ms preprocess, 75.1ms inference, 0.0ms postprocess per image at shape (1, 3, 384, 640)\n",
      "\n",
      "0: 384x640 1 person, 1 sink, 85.9ms\n",
      "Speed: 3.6ms preprocess, 85.9ms inference, 0.0ms postprocess per image at shape (1, 3, 384, 640)\n",
      "\n",
      "0: 384x640 1 person, 1 sink, 77.3ms\n",
      "Speed: 4.0ms preprocess, 77.3ms inference, 0.0ms postprocess per image at shape (1, 3, 384, 640)\n",
      "\n"
     ]
    },
    {
     "name": "stdout",
     "output_type": "stream",
     "text": [
      "0 106 58 678\n",
      "Left Distance: 0, Right Distance: 1222\n",
      "Decision: Right\n",
      "0 571 558 711\n",
      "Left Distance: 0, Right Distance: 722\n",
      "Decision: Right\n",
      "0 105 60 687\n",
      "Left Distance: 0, Right Distance: 1220\n",
      "Decision: Right\n",
      "0 570 553 712\n",
      "Left Distance: 0, Right Distance: 727\n",
      "Decision: Right\n"
     ]
    },
    {
     "name": "stderr",
     "output_type": "stream",
     "text": [
      "0: 384x640 1 person, 1 sink, 90.1ms\n",
      "Speed: 2.0ms preprocess, 90.1ms inference, 2.1ms postprocess per image at shape (1, 3, 384, 640)\n",
      "\n",
      "0: 384x640 (no detections), 96.0ms\n",
      "Speed: 2.7ms preprocess, 96.0ms inference, 0.0ms postprocess per image at shape (1, 3, 384, 640)\n",
      "\n"
     ]
    },
    {
     "name": "stdout",
     "output_type": "stream",
     "text": [
      "0 119 54 678\n",
      "Left Distance: 0, Right Distance: 1226\n",
      "Decision: Right\n",
      "0 570 558 712\n",
      "Left Distance: 0, Right Distance: 722\n",
      "Decision: Right\n"
     ]
    },
    {
     "name": "stderr",
     "output_type": "stream",
     "text": [
      "0: 384x640 (no detections), 89.1ms\n",
      "Speed: 2.4ms preprocess, 89.1ms inference, 2.0ms postprocess per image at shape (1, 3, 384, 640)\n",
      "\n",
      "0: 384x640 (no detections), 118.3ms\n",
      "Speed: 4.1ms preprocess, 118.3ms inference, 7.5ms postprocess per image at shape (1, 3, 384, 640)\n",
      "\n",
      "0: 384x640 (no detections), 88.7ms\n",
      "Speed: 4.0ms preprocess, 88.7ms inference, 2.0ms postprocess per image at shape (1, 3, 384, 640)\n",
      "\n",
      "0: 384x640 (no detections), 90.6ms\n",
      "Speed: 5.2ms preprocess, 90.6ms inference, 0.0ms postprocess per image at shape (1, 3, 384, 640)\n",
      "\n",
      "0: 384x640 (no detections), 89.6ms\n",
      "Speed: 5.2ms preprocess, 89.6ms inference, 2.0ms postprocess per image at shape (1, 3, 384, 640)\n",
      "\n",
      "0: 384x640 1 sink, 89.2ms\n",
      "Speed: 3.1ms preprocess, 89.2ms inference, 2.1ms postprocess per image at shape (1, 3, 384, 640)\n",
      "\n",
      "0: 384x640 (no detections), 94.6ms\n",
      "Speed: 4.6ms preprocess, 94.6ms inference, 1.0ms postprocess per image at shape (1, 3, 384, 640)\n",
      "\n"
     ]
    },
    {
     "name": "stdout",
     "output_type": "stream",
     "text": [
      "0 570 558 712\n",
      "Left Distance: 0, Right Distance: 722\n",
      "Decision: Right\n"
     ]
    },
    {
     "name": "stderr",
     "output_type": "stream",
     "text": [
      "0: 384x640 (no detections), 92.3ms\n",
      "Speed: 2.0ms preprocess, 92.3ms inference, 2.0ms postprocess per image at shape (1, 3, 384, 640)\n",
      "\n",
      "0: 384x640 (no detections), 94.8ms\n",
      "Speed: 5.2ms preprocess, 94.8ms inference, 2.0ms postprocess per image at shape (1, 3, 384, 640)\n",
      "\n",
      "0: 384x640 (no detections), 88.3ms\n",
      "Speed: 3.0ms preprocess, 88.3ms inference, 0.0ms postprocess per image at shape (1, 3, 384, 640)\n",
      "\n",
      "0: 384x640 (no detections), 97.4ms\n",
      "Speed: 0.0ms preprocess, 97.4ms inference, 0.0ms postprocess per image at shape (1, 3, 384, 640)\n",
      "\n",
      "0: 384x640 (no detections), 100.4ms\n",
      "Speed: 2.0ms preprocess, 100.4ms inference, 0.0ms postprocess per image at shape (1, 3, 384, 640)\n",
      "\n",
      "0: 384x640 1 sink, 112.7ms\n",
      "Speed: 2.4ms preprocess, 112.7ms inference, 2.0ms postprocess per image at shape (1, 3, 384, 640)\n",
      "\n",
      "0: 384x640 (no detections), 135.0ms\n",
      "Speed: 4.0ms preprocess, 135.0ms inference, 2.8ms postprocess per image at shape (1, 3, 384, 640)\n",
      "\n"
     ]
    },
    {
     "name": "stdout",
     "output_type": "stream",
     "text": [
      "0 574 552 712\n",
      "Left Distance: 0, Right Distance: 728\n",
      "Decision: Right\n"
     ]
    },
    {
     "name": "stderr",
     "output_type": "stream",
     "text": [
      "0: 384x640 (no detections), 137.5ms\n",
      "Speed: 4.0ms preprocess, 137.5ms inference, 0.5ms postprocess per image at shape (1, 3, 384, 640)\n",
      "\n",
      "0: 384x640 (no detections), 103.2ms\n",
      "Speed: 2.4ms preprocess, 103.2ms inference, 1.0ms postprocess per image at shape (1, 3, 384, 640)\n",
      "\n",
      "0: 384x640 1 sink, 99.7ms\n",
      "Speed: 3.8ms preprocess, 99.7ms inference, 1.5ms postprocess per image at shape (1, 3, 384, 640)\n",
      "\n",
      "0: 384x640 (no detections), 110.0ms\n",
      "Speed: 2.2ms preprocess, 110.0ms inference, 0.0ms postprocess per image at shape (1, 3, 384, 640)\n",
      "\n"
     ]
    },
    {
     "name": "stdout",
     "output_type": "stream",
     "text": [
      "0 570 555 712\n",
      "Left Distance: 0, Right Distance: 725\n",
      "Decision: Right\n"
     ]
    },
    {
     "name": "stderr",
     "output_type": "stream",
     "text": [
      "0: 384x640 (no detections), 97.8ms\n",
      "Speed: 2.7ms preprocess, 97.8ms inference, 1.0ms postprocess per image at shape (1, 3, 384, 640)\n",
      "\n",
      "0: 384x640 (no detections), 93.3ms\n",
      "Speed: 4.2ms preprocess, 93.3ms inference, 0.0ms postprocess per image at shape (1, 3, 384, 640)\n",
      "\n",
      "0: 384x640 (no detections), 92.9ms\n",
      "Speed: 2.0ms preprocess, 92.9ms inference, 0.0ms postprocess per image at shape (1, 3, 384, 640)\n",
      "\n",
      "0: 384x640 (no detections), 93.8ms\n",
      "Speed: 4.4ms preprocess, 93.8ms inference, 0.0ms postprocess per image at shape (1, 3, 384, 640)\n",
      "\n",
      "0: 384x640 (no detections), 94.6ms\n",
      "Speed: 1.8ms preprocess, 94.6ms inference, 0.7ms postprocess per image at shape (1, 3, 384, 640)\n",
      "\n",
      "0: 384x640 1 sink, 103.2ms\n",
      "Speed: 3.1ms preprocess, 103.2ms inference, 1.3ms postprocess per image at shape (1, 3, 384, 640)\n",
      "\n",
      "0: 384x640 (no detections), 104.9ms\n",
      "Speed: 4.5ms preprocess, 104.9ms inference, 0.0ms postprocess per image at shape (1, 3, 384, 640)\n",
      "\n"
     ]
    },
    {
     "name": "stdout",
     "output_type": "stream",
     "text": [
      "1 572 553 712\n",
      "Left Distance: 1, Right Distance: 727\n",
      "Decision: Right\n"
     ]
    },
    {
     "name": "stderr",
     "output_type": "stream",
     "text": [
      "0: 384x640 (no detections), 110.2ms\n",
      "Speed: 5.5ms preprocess, 110.2ms inference, 2.0ms postprocess per image at shape (1, 3, 384, 640)\n",
      "\n",
      "0: 384x640 (no detections), 104.0ms\n",
      "Speed: 2.1ms preprocess, 104.0ms inference, 0.0ms postprocess per image at shape (1, 3, 384, 640)\n",
      "\n",
      "0: 384x640 (no detections), 92.2ms\n",
      "Speed: 2.8ms preprocess, 92.2ms inference, 0.0ms postprocess per image at shape (1, 3, 384, 640)\n",
      "\n",
      "0: 384x640 (no detections), 91.9ms\n",
      "Speed: 4.5ms preprocess, 91.9ms inference, 0.0ms postprocess per image at shape (1, 3, 384, 640)\n",
      "\n",
      "0: 384x640 (no detections), 103.1ms\n",
      "Speed: 2.0ms preprocess, 103.1ms inference, 2.0ms postprocess per image at shape (1, 3, 384, 640)\n",
      "\n",
      "0: 384x640 (no detections), 121.7ms\n",
      "Speed: 4.4ms preprocess, 121.7ms inference, 2.0ms postprocess per image at shape (1, 3, 384, 640)\n",
      "\n",
      "0: 384x640 (no detections), 96.9ms\n",
      "Speed: 3.6ms preprocess, 96.9ms inference, 0.0ms postprocess per image at shape (1, 3, 384, 640)\n",
      "\n",
      "0: 384x640 (no detections), 91.3ms\n",
      "Speed: 3.3ms preprocess, 91.3ms inference, 0.0ms postprocess per image at shape (1, 3, 384, 640)\n",
      "\n",
      "0: 384x640 (no detections), 99.4ms\n",
      "Speed: 5.3ms preprocess, 99.4ms inference, 0.0ms postprocess per image at shape (1, 3, 384, 640)\n",
      "\n",
      "0: 384x640 (no detections), 91.3ms\n",
      "Speed: 2.2ms preprocess, 91.3ms inference, 0.0ms postprocess per image at shape (1, 3, 384, 640)\n",
      "\n",
      "0: 384x640 (no detections), 92.9ms\n",
      "Speed: 0.0ms preprocess, 92.9ms inference, 1.8ms postprocess per image at shape (1, 3, 384, 640)\n",
      "\n",
      "0: 384x640 (no detections), 79.1ms\n",
      "Speed: 3.8ms preprocess, 79.1ms inference, 0.0ms postprocess per image at shape (1, 3, 384, 640)\n",
      "\n",
      "0: 384x640 (no detections), 96.1ms\n",
      "Speed: 0.0ms preprocess, 96.1ms inference, 0.0ms postprocess per image at shape (1, 3, 384, 640)\n",
      "\n",
      "0: 384x640 (no detections), 82.7ms\n",
      "Speed: 3.7ms preprocess, 82.7ms inference, 0.0ms postprocess per image at shape (1, 3, 384, 640)\n",
      "\n",
      "0: 384x640 (no detections), 86.1ms\n",
      "Speed: 2.3ms preprocess, 86.1ms inference, 0.0ms postprocess per image at shape (1, 3, 384, 640)\n",
      "\n",
      "0: 384x640 (no detections), 83.3ms\n",
      "Speed: 4.8ms preprocess, 83.3ms inference, 0.0ms postprocess per image at shape (1, 3, 384, 640)\n",
      "\n",
      "0: 384x640 (no detections), 88.4ms\n",
      "Speed: 0.0ms preprocess, 88.4ms inference, 2.0ms postprocess per image at shape (1, 3, 384, 640)\n",
      "\n",
      "0: 384x640 (no detections), 87.8ms\n",
      "Speed: 0.0ms preprocess, 87.8ms inference, 2.0ms postprocess per image at shape (1, 3, 384, 640)\n",
      "\n",
      "0: 384x640 (no detections), 88.2ms\n",
      "Speed: 4.0ms preprocess, 88.2ms inference, 0.0ms postprocess per image at shape (1, 3, 384, 640)\n",
      "\n",
      "0: 384x640 (no detections), 80.2ms\n",
      "Speed: 2.0ms preprocess, 80.2ms inference, 0.0ms postprocess per image at shape (1, 3, 384, 640)\n",
      "\n",
      "0: 384x640 (no detections), 93.5ms\n",
      "Speed: 3.8ms preprocess, 93.5ms inference, 0.5ms postprocess per image at shape (1, 3, 384, 640)\n",
      "\n",
      "0: 384x640 1 toilet, 96.2ms\n",
      "Speed: 0.0ms preprocess, 96.2ms inference, 0.0ms postprocess per image at shape (1, 3, 384, 640)\n",
      "\n",
      "0: 384x640 1 refrigerator, 99.9ms\n",
      "Speed: 0.0ms preprocess, 99.9ms inference, 0.0ms postprocess per image at shape (1, 3, 384, 640)\n",
      "\n"
     ]
    },
    {
     "name": "stdout",
     "output_type": "stream",
     "text": [
      "0 371 372 711\n",
      "Left Distance: 0, Right Distance: 908\n",
      "Decision: Right\n",
      "0 382 403 711\n",
      "Left Distance: 0, Right Distance: 877\n",
      "Decision: Right\n"
     ]
    },
    {
     "name": "stderr",
     "output_type": "stream",
     "text": [
      "0: 384x640 1 toilet, 1 sink, 102.1ms\n",
      "Speed: 0.0ms preprocess, 102.1ms inference, 2.2ms postprocess per image at shape (1, 3, 384, 640)\n",
      "\n",
      "0: 384x640 1 sink, 102.2ms\n",
      "Speed: 3.5ms preprocess, 102.2ms inference, 1.0ms postprocess per image at shape (1, 3, 384, 640)\n",
      "\n"
     ]
    },
    {
     "name": "stdout",
     "output_type": "stream",
     "text": [
      "0 374 582 713\n",
      "Left Distance: 0, Right Distance: 698\n",
      "Decision: Right\n",
      "0 374 582 714\n",
      "Left Distance: 0, Right Distance: 698\n",
      "Decision: Right\n",
      "1 357 647 713\n",
      "Left Distance: 1, Right Distance: 633\n",
      "Decision: Right\n"
     ]
    },
    {
     "name": "stderr",
     "output_type": "stream",
     "text": [
      "0: 384x640 1 toilet, 2 sinks, 95.4ms\n",
      "Speed: 5.4ms preprocess, 95.4ms inference, 0.0ms postprocess per image at shape (1, 3, 384, 640)\n",
      "\n",
      "0: 384x640 1 toilet, 1 sink, 93.4ms\n",
      "Speed: 2.0ms preprocess, 93.4ms inference, 0.0ms postprocess per image at shape (1, 3, 384, 640)\n",
      "\n"
     ]
    },
    {
     "name": "stdout",
     "output_type": "stream",
     "text": [
      "3 364 662 713\n",
      "Left Distance: 3, Right Distance: 618\n",
      "Decision: Right\n",
      "161 598 499 718\n",
      "Left Distance: 161, Right Distance: 781\n",
      "Decision: Right\n",
      "1 356 660 712\n",
      "Left Distance: 1, Right Distance: 620\n",
      "Decision: Right\n",
      "25 351 716 713\n",
      "Left Distance: 25, Right Distance: 564\n",
      "Decision: Right\n",
      "35 348 716 711\n",
      "Left Distance: 35, Right Distance: 564\n",
      "Decision: Right\n"
     ]
    },
    {
     "name": "stderr",
     "output_type": "stream",
     "text": [
      "0: 384x640 1 toilet, 2 sinks, 94.6ms\n",
      "Speed: 1.6ms preprocess, 94.6ms inference, 1.9ms postprocess per image at shape (1, 3, 384, 640)\n",
      "\n",
      "0: 384x640 1 toilet, 2 sinks, 97.2ms\n",
      "Speed: 2.0ms preprocess, 97.2ms inference, 2.0ms postprocess per image at shape (1, 3, 384, 640)\n",
      "\n"
     ]
    },
    {
     "name": "stdout",
     "output_type": "stream",
     "text": [
      "46 351 733 714\n",
      "Left Distance: 46, Right Distance: 547\n",
      "Decision: Right\n",
      "48 348 731 712\n",
      "Left Distance: 48, Right Distance: 549\n",
      "Decision: Right\n",
      "231 595 573 718\n",
      "Left Distance: 231, Right Distance: 707\n",
      "Decision: Right\n",
      "52 351 739 713\n",
      "Left Distance: 52, Right Distance: 541\n",
      "Decision: Right\n",
      "53 347 736 712\n",
      "Left Distance: 53, Right Distance: 544\n",
      "Decision: Right\n",
      "233 596 577 718\n",
      "Left Distance: 233, Right Distance: 703\n",
      "Decision: Right\n"
     ]
    },
    {
     "name": "stderr",
     "output_type": "stream",
     "text": [
      "0: 384x640 1 toilet, 2 sinks, 91.9ms\n",
      "Speed: 5.2ms preprocess, 91.9ms inference, 2.0ms postprocess per image at shape (1, 3, 384, 640)\n",
      "\n",
      "0: 384x640 2 sinks, 91.4ms\n",
      "Speed: 4.2ms preprocess, 91.4ms inference, 3.1ms postprocess per image at shape (1, 3, 384, 640)\n",
      "\n"
     ]
    },
    {
     "name": "stdout",
     "output_type": "stream",
     "text": [
      "59 349 755 712\n",
      "Left Distance: 59, Right Distance: 525\n",
      "Decision: Right\n",
      "61 347 752 712\n",
      "Left Distance: 61, Right Distance: 528\n",
      "Decision: Right\n",
      "238 596 595 718\n",
      "Left Distance: 238, Right Distance: 685\n",
      "Decision: Right\n",
      "233 597 594 718\n",
      "Left Distance: 233, Right Distance: 686\n",
      "Decision: Right\n",
      "55 352 761 715\n",
      "Left Distance: 55, Right Distance: 519\n",
      "Decision: Right\n"
     ]
    },
    {
     "name": "stderr",
     "output_type": "stream",
     "text": [
      "0: 384x640 2 sinks, 90.3ms\n",
      "Speed: 5.7ms preprocess, 90.3ms inference, 1.9ms postprocess per image at shape (1, 3, 384, 640)\n",
      "\n",
      "0: 384x640 2 sinks, 94.9ms\n",
      "Speed: 0.0ms preprocess, 94.9ms inference, 0.0ms postprocess per image at shape (1, 3, 384, 640)\n",
      "\n"
     ]
    },
    {
     "name": "stdout",
     "output_type": "stream",
     "text": [
      "232 596 597 718\n",
      "Left Distance: 232, Right Distance: 683\n",
      "Decision: Right\n",
      "53 345 759 714\n",
      "Left Distance: 53, Right Distance: 521\n",
      "Decision: Right\n",
      "244 597 584 717\n",
      "Left Distance: 244, Right Distance: 696\n",
      "Decision: Right\n",
      "59 349 765 714\n",
      "Left Distance: 59, Right Distance: 515\n",
      "Decision: Right\n"
     ]
    },
    {
     "name": "stderr",
     "output_type": "stream",
     "text": [
      "0: 384x640 1 toilet, 2 sinks, 93.2ms\n",
      "Speed: 2.0ms preprocess, 93.2ms inference, 1.7ms postprocess per image at shape (1, 3, 384, 640)\n",
      "\n",
      "0: 384x640 1 toilet, 2 sinks, 126.4ms\n",
      "Speed: 4.0ms preprocess, 126.4ms inference, 0.0ms postprocess per image at shape (1, 3, 384, 640)\n",
      "\n"
     ]
    },
    {
     "name": "stdout",
     "output_type": "stream",
     "text": [
      "57 348 760 714\n",
      "Left Distance: 57, Right Distance: 520\n",
      "Decision: Right\n",
      "234 597 594 719\n",
      "Left Distance: 234, Right Distance: 686\n",
      "Decision: Right\n",
      "59 342 755 713\n",
      "Left Distance: 59, Right Distance: 525\n",
      "Decision: Right\n",
      "230 599 585 718\n",
      "Left Distance: 230, Right Distance: 695\n",
      "Decision: Right\n",
      "56 346 751 714\n",
      "Left Distance: 56, Right Distance: 529\n",
      "Decision: Right\n",
      "53 341 750 713\n",
      "Left Distance: 53, Right Distance: 530\n",
      "Decision: Right\n"
     ]
    },
    {
     "name": "stderr",
     "output_type": "stream",
     "text": [
      "0: 384x640 1 toilet, 2 sinks, 90.7ms\n",
      "Speed: 4.4ms preprocess, 90.7ms inference, 2.0ms postprocess per image at shape (1, 3, 384, 640)\n",
      "\n",
      "0: 384x640 1 toilet, 2 sinks, 91.3ms\n",
      "Speed: 2.8ms preprocess, 91.3ms inference, 5.5ms postprocess per image at shape (1, 3, 384, 640)\n",
      "\n"
     ]
    },
    {
     "name": "stdout",
     "output_type": "stream",
     "text": [
      "40 355 745 714\n",
      "Left Distance: 40, Right Distance: 535\n",
      "Decision: Right\n",
      "42 344 743 712\n",
      "Left Distance: 42, Right Distance: 537\n",
      "Decision: Right\n",
      "228 600 570 718\n",
      "Left Distance: 228, Right Distance: 710\n",
      "Decision: Right\n",
      "212 596 563 718\n",
      "Left Distance: 212, Right Distance: 717\n",
      "Decision: Right\n",
      "25 350 749 714\n",
      "Left Distance: 25, Right Distance: 531\n",
      "Decision: Right\n",
      "29 340 737 712\n",
      "Left Distance: 29, Right Distance: 543\n",
      "Decision: Right\n"
     ]
    },
    {
     "name": "stderr",
     "output_type": "stream",
     "text": [
      "0: 384x640 1 toilet, 2 sinks, 95.5ms\n",
      "Speed: 0.0ms preprocess, 95.5ms inference, 2.0ms postprocess per image at shape (1, 3, 384, 640)\n",
      "\n",
      "0: 384x640 2 sinks, 97.2ms\n",
      "Speed: 2.0ms preprocess, 97.2ms inference, 2.0ms postprocess per image at shape (1, 3, 384, 640)\n",
      "\n"
     ]
    },
    {
     "name": "stdout",
     "output_type": "stream",
     "text": [
      "197 589 554 720\n",
      "Left Distance: 197, Right Distance: 726\n",
      "Decision: Right\n",
      "10 336 731 714\n",
      "Left Distance: 10, Right Distance: 549\n",
      "Decision: Right\n",
      "9 329 732 712\n",
      "Left Distance: 9, Right Distance: 548\n",
      "Decision: Right\n",
      "193 583 546 720\n",
      "Left Distance: 193, Right Distance: 734\n",
      "Decision: Right\n",
      "6 336 726 715\n",
      "Left Distance: 6, Right Distance: 554\n",
      "Decision: Right\n"
     ]
    },
    {
     "name": "stderr",
     "output_type": "stream",
     "text": [
      "0: 384x640 2 sinks, 90.2ms\n",
      "Speed: 2.6ms preprocess, 90.2ms inference, 2.0ms postprocess per image at shape (1, 3, 384, 640)\n",
      "\n",
      "0: 384x640 2 sinks, 92.1ms\n",
      "Speed: 4.9ms preprocess, 92.1ms inference, 2.6ms postprocess per image at shape (1, 3, 384, 640)\n",
      "\n"
     ]
    },
    {
     "name": "stdout",
     "output_type": "stream",
     "text": [
      "190 583 542 718\n",
      "Left Distance: 190, Right Distance: 738\n",
      "Decision: Right\n",
      "7 338 718 715\n",
      "Left Distance: 7, Right Distance: 562\n",
      "Decision: Right\n",
      "172 576 538 720\n",
      "Left Distance: 172, Right Distance: 742\n",
      "Decision: Right\n",
      "3 336 708 716\n",
      "Left Distance: 3, Right Distance: 572\n",
      "Decision: Right\n"
     ]
    },
    {
     "name": "stderr",
     "output_type": "stream",
     "text": [
      "0: 384x640 1 sink, 90.6ms\n",
      "Speed: 4.5ms preprocess, 90.6ms inference, 0.0ms postprocess per image at shape (1, 3, 384, 640)\n",
      "\n",
      "0: 384x640 2 sinks, 93.7ms\n",
      "Speed: 3.4ms preprocess, 93.7ms inference, 2.0ms postprocess per image at shape (1, 3, 384, 640)\n",
      "\n"
     ]
    },
    {
     "name": "stdout",
     "output_type": "stream",
     "text": [
      "161 573 517 720\n",
      "Left Distance: 161, Right Distance: 763\n",
      "Decision: Right\n",
      "148 573 514 720\n",
      "Left Distance: 148, Right Distance: 766\n",
      "Decision: Right\n",
      "0 336 683 714\n",
      "Left Distance: 0, Right Distance: 597\n",
      "Decision: Right\n"
     ]
    },
    {
     "name": "stderr",
     "output_type": "stream",
     "text": [
      "0: 384x640 1 toilet, 1 laptop, 1 sink, 96.0ms\n",
      "Speed: 0.0ms preprocess, 96.0ms inference, 0.0ms postprocess per image at shape (1, 3, 384, 640)\n",
      "\n",
      "0: 384x640 (no detections), 88.8ms\n",
      "Speed: 3.2ms preprocess, 88.8ms inference, 0.0ms postprocess per image at shape (1, 3, 384, 640)\n",
      "\n"
     ]
    },
    {
     "name": "stdout",
     "output_type": "stream",
     "text": [
      "0 348 625 714\n",
      "Left Distance: 0, Right Distance: 655\n",
      "Decision: Right\n",
      "0 334 622 711\n",
      "Left Distance: 0, Right Distance: 658\n",
      "Decision: Right\n",
      "1089 58 1279 551\n",
      "Left Distance: 1089, Right Distance: 1\n",
      "Decision: Left\n"
     ]
    },
    {
     "name": "stderr",
     "output_type": "stream",
     "text": [
      "0: 384x640 1 toilet, 1 sink, 93.8ms\n",
      "Speed: 4.7ms preprocess, 93.8ms inference, 2.0ms postprocess per image at shape (1, 3, 384, 640)\n",
      "\n",
      "0: 384x640 (no detections), 100.2ms\n",
      "Speed: 3.8ms preprocess, 100.2ms inference, 0.0ms postprocess per image at shape (1, 3, 384, 640)\n",
      "\n"
     ]
    },
    {
     "name": "stdout",
     "output_type": "stream",
     "text": [
      "0 441 393 713\n",
      "Left Distance: 0, Right Distance: 887\n",
      "Decision: Right\n",
      "0 438 392 716\n",
      "Left Distance: 0, Right Distance: 888\n",
      "Decision: Right\n"
     ]
    },
    {
     "name": "stderr",
     "output_type": "stream",
     "text": [
      "0: 384x640 (no detections), 90.7ms\n",
      "Speed: 3.7ms preprocess, 90.7ms inference, 2.1ms postprocess per image at shape (1, 3, 384, 640)\n",
      "\n",
      "0: 384x640 1 sink, 91.9ms\n",
      "Speed: 5.4ms preprocess, 91.9ms inference, 0.0ms postprocess per image at shape (1, 3, 384, 640)\n",
      "\n",
      "0: 384x640 (no detections), 91.5ms\n",
      "Speed: 4.7ms preprocess, 91.5ms inference, 0.0ms postprocess per image at shape (1, 3, 384, 640)\n",
      "\n"
     ]
    },
    {
     "name": "stdout",
     "output_type": "stream",
     "text": [
      "0 569 556 712\n",
      "Left Distance: 0, Right Distance: 724\n",
      "Decision: Right\n"
     ]
    },
    {
     "name": "stderr",
     "output_type": "stream",
     "text": [
      "0: 384x640 1 sink, 103.8ms\n",
      "Speed: 5.1ms preprocess, 103.8ms inference, 2.0ms postprocess per image at shape (1, 3, 384, 640)\n",
      "\n",
      "0: 384x640 (no detections), 99.4ms\n",
      "Speed: 1.7ms preprocess, 99.4ms inference, 0.0ms postprocess per image at shape (1, 3, 384, 640)\n",
      "\n"
     ]
    },
    {
     "name": "stdout",
     "output_type": "stream",
     "text": [
      "0 571 561 712\n",
      "Left Distance: 0, Right Distance: 719\n",
      "Decision: Right\n"
     ]
    },
    {
     "name": "stderr",
     "output_type": "stream",
     "text": [
      "0: 384x640 (no detections), 103.3ms\n",
      "Speed: 4.8ms preprocess, 103.3ms inference, 2.0ms postprocess per image at shape (1, 3, 384, 640)\n",
      "\n",
      "0: 384x640 (no detections), 115.5ms\n",
      "Speed: 2.5ms preprocess, 115.5ms inference, 0.0ms postprocess per image at shape (1, 3, 384, 640)\n",
      "\n",
      "0: 384x640 (no detections), 99.8ms\n",
      "Speed: 0.0ms preprocess, 99.8ms inference, 0.0ms postprocess per image at shape (1, 3, 384, 640)\n",
      "\n",
      "0: 384x640 1 sink, 91.3ms\n",
      "Speed: 0.0ms preprocess, 91.3ms inference, 0.0ms postprocess per image at shape (1, 3, 384, 640)\n",
      "\n",
      "0: 384x640 (no detections), 95.4ms\n",
      "Speed: 2.6ms preprocess, 95.4ms inference, 2.0ms postprocess per image at shape (1, 3, 384, 640)\n",
      "\n"
     ]
    },
    {
     "name": "stdout",
     "output_type": "stream",
     "text": [
      "1 572 555 712\n",
      "Left Distance: 1, Right Distance: 725\n",
      "Decision: Right\n"
     ]
    },
    {
     "name": "stderr",
     "output_type": "stream",
     "text": [
      "0: 384x640 1 sink, 95.4ms\n",
      "Speed: 2.0ms preprocess, 95.4ms inference, 0.0ms postprocess per image at shape (1, 3, 384, 640)\n",
      "\n",
      "0: 384x640 1 sink, 94.8ms\n",
      "Speed: 4.3ms preprocess, 94.8ms inference, 2.0ms postprocess per image at shape (1, 3, 384, 640)\n",
      "\n"
     ]
    },
    {
     "name": "stdout",
     "output_type": "stream",
     "text": [
      "0 571 557 712\n",
      "Left Distance: 0, Right Distance: 723\n",
      "Decision: Right\n",
      "0 571 557 712\n",
      "Left Distance: 0, Right Distance: 723\n",
      "Decision: Right\n"
     ]
    },
    {
     "name": "stderr",
     "output_type": "stream",
     "text": [
      "0: 384x640 (no detections), 86.5ms\n",
      "Speed: 3.5ms preprocess, 86.5ms inference, 0.0ms postprocess per image at shape (1, 3, 384, 640)\n",
      "\n",
      "0: 384x640 (no detections), 95.6ms\n",
      "Speed: 4.2ms preprocess, 95.6ms inference, 1.1ms postprocess per image at shape (1, 3, 384, 640)\n",
      "\n",
      "0: 384x640 (no detections), 101.5ms\n",
      "Speed: 0.0ms preprocess, 101.5ms inference, 0.5ms postprocess per image at shape (1, 3, 384, 640)\n",
      "\n",
      "0: 384x640 (no detections), 90.1ms\n",
      "Speed: 3.2ms preprocess, 90.1ms inference, 3.0ms postprocess per image at shape (1, 3, 384, 640)\n",
      "\n",
      "0: 384x640 (no detections), 87.7ms\n",
      "Speed: 4.0ms preprocess, 87.7ms inference, 1.2ms postprocess per image at shape (1, 3, 384, 640)\n",
      "\n",
      "0: 384x640 (no detections), 73.9ms\n",
      "Speed: 5.5ms preprocess, 73.9ms inference, 0.0ms postprocess per image at shape (1, 3, 384, 640)\n",
      "\n",
      "0: 384x640 (no detections), 88.1ms\n",
      "Speed: 3.8ms preprocess, 88.1ms inference, 1.1ms postprocess per image at shape (1, 3, 384, 640)\n",
      "\n",
      "0: 384x640 (no detections), 83.9ms\n",
      "Speed: 0.0ms preprocess, 83.9ms inference, 13.1ms postprocess per image at shape (1, 3, 384, 640)\n",
      "\n",
      "0: 384x640 (no detections), 97.2ms\n",
      "Speed: 2.0ms preprocess, 97.2ms inference, 0.0ms postprocess per image at shape (1, 3, 384, 640)\n",
      "\n",
      "0: 384x640 (no detections), 89.0ms\n",
      "Speed: 2.8ms preprocess, 89.0ms inference, 1.4ms postprocess per image at shape (1, 3, 384, 640)\n",
      "\n",
      "0: 384x640 (no detections), 85.9ms\n",
      "Speed: 2.4ms preprocess, 85.9ms inference, 1.0ms postprocess per image at shape (1, 3, 384, 640)\n",
      "\n",
      "0: 384x640 (no detections), 92.3ms\n",
      "Speed: 5.1ms preprocess, 92.3ms inference, 0.0ms postprocess per image at shape (1, 3, 384, 640)\n",
      "\n",
      "0: 384x640 (no detections), 85.4ms\n",
      "Speed: 2.0ms preprocess, 85.4ms inference, 0.0ms postprocess per image at shape (1, 3, 384, 640)\n",
      "\n",
      "0: 384x640 (no detections), 78.0ms\n",
      "Speed: 3.9ms preprocess, 78.0ms inference, 0.0ms postprocess per image at shape (1, 3, 384, 640)\n",
      "\n",
      "0: 384x640 (no detections), 74.2ms\n",
      "Speed: 2.2ms preprocess, 74.2ms inference, 0.0ms postprocess per image at shape (1, 3, 384, 640)\n",
      "\n",
      "0: 384x640 (no detections), 88.7ms\n",
      "Speed: 0.0ms preprocess, 88.7ms inference, 0.0ms postprocess per image at shape (1, 3, 384, 640)\n",
      "\n",
      "0: 384x640 (no detections), 90.0ms\n",
      "Speed: 2.0ms preprocess, 90.0ms inference, 1.0ms postprocess per image at shape (1, 3, 384, 640)\n",
      "\n",
      "0: 384x640 (no detections), 92.2ms\n",
      "Speed: 5.4ms preprocess, 92.2ms inference, 0.0ms postprocess per image at shape (1, 3, 384, 640)\n",
      "\n",
      "0: 384x640 (no detections), 94.1ms\n",
      "Speed: 4.9ms preprocess, 94.1ms inference, 1.0ms postprocess per image at shape (1, 3, 384, 640)\n",
      "\n",
      "0: 384x640 (no detections), 93.1ms\n",
      "Speed: 4.8ms preprocess, 93.1ms inference, 0.0ms postprocess per image at shape (1, 3, 384, 640)\n",
      "\n",
      "0: 384x640 (no detections), 86.8ms\n",
      "Speed: 4.0ms preprocess, 86.8ms inference, 0.0ms postprocess per image at shape (1, 3, 384, 640)\n",
      "\n",
      "0: 384x640 (no detections), 89.8ms\n",
      "Speed: 5.8ms preprocess, 89.8ms inference, 1.0ms postprocess per image at shape (1, 3, 384, 640)\n",
      "\n",
      "0: 384x640 1 person, 93.7ms\n",
      "Speed: 0.0ms preprocess, 93.7ms inference, 0.0ms postprocess per image at shape (1, 3, 384, 640)\n",
      "\n",
      "0: 384x640 1 cat, 1 dog, 80.5ms\n",
      "Speed: 3.5ms preprocess, 80.5ms inference, 0.0ms postprocess per image at shape (1, 3, 384, 640)\n",
      "\n"
     ]
    },
    {
     "name": "stdout",
     "output_type": "stream",
     "text": [
      "0 153 83 710\n",
      "Left Distance: 0, Right Distance: 1197\n",
      "Decision: Right\n",
      "0 172 164 711\n",
      "Left Distance: 0, Right Distance: 1116\n",
      "Decision: Right\n",
      "0 173 167 711\n",
      "Left Distance: 0, Right Distance: 1113\n",
      "Decision: Right\n"
     ]
    },
    {
     "name": "stderr",
     "output_type": "stream",
     "text": [
      "0: 384x640 1 person, 89.2ms\n",
      "Speed: 4.5ms preprocess, 89.2ms inference, 0.0ms postprocess per image at shape (1, 3, 384, 640)\n",
      "\n",
      "0: 384x640 1 person, 104.1ms\n",
      "Speed: 4.0ms preprocess, 104.1ms inference, 3.1ms postprocess per image at shape (1, 3, 384, 640)\n",
      "\n"
     ]
    },
    {
     "name": "stdout",
     "output_type": "stream",
     "text": [
      "0 175 230 711\n",
      "Left Distance: 0, Right Distance: 1050\n",
      "Decision: Right\n",
      "0 172 287 713\n",
      "Left Distance: 0, Right Distance: 993\n",
      "Decision: Right\n"
     ]
    },
    {
     "name": "stderr",
     "output_type": "stream",
     "text": [
      "0: 384x640 1 person, 103.1ms\n",
      "Speed: 3.5ms preprocess, 103.1ms inference, 1.4ms postprocess per image at shape (1, 3, 384, 640)\n",
      "\n",
      "0: 384x640 1 person, 100.9ms\n",
      "Speed: 4.5ms preprocess, 100.9ms inference, 2.0ms postprocess per image at shape (1, 3, 384, 640)\n",
      "\n"
     ]
    },
    {
     "name": "stdout",
     "output_type": "stream",
     "text": [
      "0 155 339 713\n",
      "Left Distance: 0, Right Distance: 941\n",
      "Decision: Right\n",
      "0 115 380 711\n",
      "Left Distance: 0, Right Distance: 900\n",
      "Decision: Right\n"
     ]
    },
    {
     "name": "stderr",
     "output_type": "stream",
     "text": [
      "0: 384x640 1 person, 109.4ms\n",
      "Speed: 3.9ms preprocess, 109.4ms inference, 0.0ms postprocess per image at shape (1, 3, 384, 640)\n",
      "\n",
      "0: 384x640 1 person, 112.8ms\n",
      "Speed: 4.0ms preprocess, 112.8ms inference, 0.0ms postprocess per image at shape (1, 3, 384, 640)\n",
      "\n"
     ]
    },
    {
     "name": "stdout",
     "output_type": "stream",
     "text": [
      "0 53 420 710\n",
      "Left Distance: 0, Right Distance: 860\n",
      "Decision: Right\n",
      "0 9 458 709\n",
      "Left Distance: 0, Right Distance: 822\n",
      "Decision: Right\n"
     ]
    },
    {
     "name": "stderr",
     "output_type": "stream",
     "text": [
      "0: 384x640 1 person, 105.8ms\n",
      "Speed: 4.5ms preprocess, 105.8ms inference, 2.5ms postprocess per image at shape (1, 3, 384, 640)\n",
      "\n",
      "0: 384x640 1 person, 104.8ms\n",
      "Speed: 3.8ms preprocess, 104.8ms inference, 1.0ms postprocess per image at shape (1, 3, 384, 640)\n",
      "\n"
     ]
    },
    {
     "name": "stdout",
     "output_type": "stream",
     "text": [
      "0 5 509 710\n",
      "Left Distance: 0, Right Distance: 771\n",
      "Decision: Right\n",
      "0 4 583 709\n",
      "Left Distance: 0, Right Distance: 697\n",
      "Decision: Right\n"
     ]
    },
    {
     "name": "stderr",
     "output_type": "stream",
     "text": [
      "0: 384x640 1 person, 94.3ms\n",
      "Speed: 4.5ms preprocess, 94.3ms inference, 2.0ms postprocess per image at shape (1, 3, 384, 640)\n",
      "\n",
      "0: 384x640 1 person, 95.2ms\n",
      "Speed: 3.5ms preprocess, 95.2ms inference, 0.0ms postprocess per image at shape (1, 3, 384, 640)\n",
      "\n"
     ]
    },
    {
     "name": "stdout",
     "output_type": "stream",
     "text": [
      "0 4 679 712\n",
      "Left Distance: 0, Right Distance: 601\n",
      "Decision: Right\n",
      "104 4 812 711\n",
      "Left Distance: 104, Right Distance: 468\n",
      "Decision: Right\n"
     ]
    },
    {
     "name": "stderr",
     "output_type": "stream",
     "text": [
      "0: 384x640 1 person, 89.3ms\n",
      "Speed: 2.9ms preprocess, 89.3ms inference, 0.0ms postprocess per image at shape (1, 3, 384, 640)\n",
      "\n",
      "0: 384x640 1 person, 97.4ms\n",
      "Speed: 3.4ms preprocess, 97.4ms inference, 2.0ms postprocess per image at shape (1, 3, 384, 640)\n",
      "\n"
     ]
    },
    {
     "name": "stdout",
     "output_type": "stream",
     "text": [
      "179 5 924 713\n",
      "Left Distance: 179, Right Distance: 356\n",
      "Decision: Right\n",
      "277 7 1022 712\n",
      "Left Distance: 277, Right Distance: 258\n",
      "Decision: Left\n"
     ]
    },
    {
     "name": "stderr",
     "output_type": "stream",
     "text": [
      "0: 384x640 1 person, 93.3ms\n",
      "Speed: 4.5ms preprocess, 93.3ms inference, 2.2ms postprocess per image at shape (1, 3, 384, 640)\n",
      "\n",
      "0: 384x640 1 person, 1 laptop, 99.9ms\n",
      "Speed: 4.6ms preprocess, 99.9ms inference, 3.0ms postprocess per image at shape (1, 3, 384, 640)\n",
      "\n"
     ]
    },
    {
     "name": "stdout",
     "output_type": "stream",
     "text": [
      "320 12 1078 712\n",
      "Left Distance: 320, Right Distance: 202\n",
      "Decision: Left\n",
      "334 13 1094 712\n",
      "Left Distance: 334, Right Distance: 186\n",
      "Decision: Left\n",
      "1089 48 1279 560\n",
      "Left Distance: 1089, Right Distance: 1\n",
      "Decision: Left\n"
     ]
    },
    {
     "name": "stderr",
     "output_type": "stream",
     "text": [
      "0: 384x640 1 person, 1 laptop, 101.3ms\n",
      "Speed: 2.0ms preprocess, 101.3ms inference, 1.5ms postprocess per image at shape (1, 3, 384, 640)\n",
      "\n",
      "0: 384x640 1 person, 99.0ms\n",
      "Speed: 5.6ms preprocess, 99.0ms inference, 1.0ms postprocess per image at shape (1, 3, 384, 640)\n",
      "\n"
     ]
    },
    {
     "name": "stdout",
     "output_type": "stream",
     "text": [
      "339 16 1094 711\n",
      "Left Distance: 339, Right Distance: 186\n",
      "Decision: Left\n",
      "1088 65 1279 552\n",
      "Left Distance: 1088, Right Distance: 1\n",
      "Decision: Left\n",
      "337 29 1073 711\n",
      "Left Distance: 337, Right Distance: 207\n",
      "Decision: Left\n"
     ]
    },
    {
     "name": "stderr",
     "output_type": "stream",
     "text": [
      "0: 384x640 1 person, 1 laptop, 98.2ms\n",
      "Speed: 5.5ms preprocess, 98.2ms inference, 5.7ms postprocess per image at shape (1, 3, 384, 640)\n",
      "\n",
      "0: 384x640 1 person, 1 laptop, 93.4ms\n",
      "Speed: 4.8ms preprocess, 93.4ms inference, 2.0ms postprocess per image at shape (1, 3, 384, 640)\n",
      "\n"
     ]
    },
    {
     "name": "stdout",
     "output_type": "stream",
     "text": [
      "331 45 1052 712\n",
      "Left Distance: 331, Right Distance: 228\n",
      "Decision: Left\n",
      "1089 80 1279 549\n",
      "Left Distance: 1089, Right Distance: 1\n",
      "Decision: Left\n",
      "327 51 1041 712\n",
      "Left Distance: 327, Right Distance: 239\n",
      "Decision: Left\n",
      "1089 70 1279 547\n",
      "Left Distance: 1089, Right Distance: 1\n",
      "Decision: Left\n"
     ]
    },
    {
     "name": "stderr",
     "output_type": "stream",
     "text": [
      "0: 384x640 1 person, 1 laptop, 93.7ms\n",
      "Speed: 2.2ms preprocess, 93.7ms inference, 2.0ms postprocess per image at shape (1, 3, 384, 640)\n",
      "\n",
      "0: 384x640 1 person, 1 laptop, 96.7ms\n",
      "Speed: 2.0ms preprocess, 96.7ms inference, 2.0ms postprocess per image at shape (1, 3, 384, 640)\n",
      "\n"
     ]
    },
    {
     "name": "stdout",
     "output_type": "stream",
     "text": [
      "326 51 1038 712\n",
      "Left Distance: 326, Right Distance: 242\n",
      "Decision: Left\n",
      "1088 66 1279 552\n",
      "Left Distance: 1088, Right Distance: 1\n",
      "Decision: Left\n",
      "320 49 1047 712\n",
      "Left Distance: 320, Right Distance: 233\n",
      "Decision: Left\n",
      "1088 60 1279 551\n",
      "Left Distance: 1088, Right Distance: 1\n",
      "Decision: Left\n"
     ]
    },
    {
     "name": "stderr",
     "output_type": "stream",
     "text": [
      "0: 384x640 1 person, 1 laptop, 96.6ms\n",
      "Speed: 1.5ms preprocess, 96.6ms inference, 2.0ms postprocess per image at shape (1, 3, 384, 640)\n",
      "\n",
      "0: 384x640 1 person, 1 laptop, 98.1ms\n",
      "Speed: 3.9ms preprocess, 98.1ms inference, 1.2ms postprocess per image at shape (1, 3, 384, 640)\n",
      "\n"
     ]
    },
    {
     "name": "stdout",
     "output_type": "stream",
     "text": [
      "319 47 1064 712\n",
      "Left Distance: 319, Right Distance: 216\n",
      "Decision: Left\n",
      "1088 76 1279 551\n",
      "Left Distance: 1088, Right Distance: 1\n",
      "Decision: Left\n",
      "321 37 1075 712\n",
      "Left Distance: 321, Right Distance: 205\n",
      "Decision: Left\n",
      "1089 70 1279 552\n",
      "Left Distance: 1089, Right Distance: 1\n",
      "Decision: Left\n"
     ]
    },
    {
     "name": "stderr",
     "output_type": "stream",
     "text": [
      "0: 384x640 1 person, 1 laptop, 1 sink, 92.6ms\n",
      "Speed: 2.5ms preprocess, 92.6ms inference, 2.0ms postprocess per image at shape (1, 3, 384, 640)\n",
      "\n",
      "0: 384x640 1 person, 1 sink, 122.6ms\n",
      "Speed: 2.0ms preprocess, 122.6ms inference, 2.0ms postprocess per image at shape (1, 3, 384, 640)\n"
     ]
    },
    {
     "name": "stdout",
     "output_type": "stream",
     "text": [
      "319 29 1086 711\n",
      "Left Distance: 319, Right Distance: 194\n",
      "Decision: Left\n",
      "1088 59 1279 556\n",
      "Left Distance: 1088, Right Distance: 1\n",
      "Decision: Left\n",
      "0 572 335 716\n",
      "Left Distance: 0, Right Distance: 945\n",
      "Decision: Right\n",
      "320 20 1090 711\n",
      "Left Distance: 320, Right Distance: 190\n",
      "Decision: Left\n",
      "0 574 336 717\n",
      "Left Distance: 0, Right Distance: 944\n",
      "Decision: Right\n"
     ]
    },
    {
     "name": "stderr",
     "output_type": "stream",
     "text": [
      "\n",
      "0: 384x640 1 person, 1 laptop, 96.5ms\n",
      "Speed: 4.1ms preprocess, 96.5ms inference, 1.0ms postprocess per image at shape (1, 3, 384, 640)\n",
      "\n",
      "0: 384x640 1 person, 1 laptop, 89.8ms\n",
      "Speed: 5.5ms preprocess, 89.8ms inference, 1.0ms postprocess per image at shape (1, 3, 384, 640)\n",
      "\n"
     ]
    },
    {
     "name": "stdout",
     "output_type": "stream",
     "text": [
      "319 16 1092 711\n",
      "Left Distance: 319, Right Distance: 188\n",
      "Decision: Left\n",
      "1088 54 1279 552\n",
      "Left Distance: 1088, Right Distance: 1\n",
      "Decision: Left\n",
      "317 18 1092 711\n",
      "Left Distance: 317, Right Distance: 188\n",
      "Decision: Left\n",
      "1088 54 1279 554\n",
      "Left Distance: 1088, Right Distance: 1\n",
      "Decision: Left\n"
     ]
    },
    {
     "name": "stderr",
     "output_type": "stream",
     "text": [
      "0: 384x640 1 person, 94.8ms\n",
      "Speed: 5.7ms preprocess, 94.8ms inference, 1.9ms postprocess per image at shape (1, 3, 384, 640)\n",
      "\n",
      "0: 384x640 1 person, 1 laptop, 95.6ms\n",
      "Speed: 2.9ms preprocess, 95.6ms inference, 2.0ms postprocess per image at shape (1, 3, 384, 640)\n",
      "\n"
     ]
    },
    {
     "name": "stdout",
     "output_type": "stream",
     "text": [
      "321 16 1078 711\n",
      "Left Distance: 321, Right Distance: 202\n",
      "Decision: Left\n",
      "322 13 1067 711\n",
      "Left Distance: 322, Right Distance: 213\n",
      "Decision: Left\n",
      "1088 61 1279 555\n",
      "Left Distance: 1088, Right Distance: 1\n",
      "Decision: Left\n"
     ]
    },
    {
     "name": "stderr",
     "output_type": "stream",
     "text": [
      "0: 384x640 1 person, 97.3ms\n",
      "Speed: 0.0ms preprocess, 97.3ms inference, 1.4ms postprocess per image at shape (1, 3, 384, 640)\n",
      "\n",
      "0: 384x640 1 person, 93.2ms\n",
      "Speed: 2.0ms preprocess, 93.2ms inference, 2.0ms postprocess per image at shape (1, 3, 384, 640)\n"
     ]
    },
    {
     "name": "stdout",
     "output_type": "stream",
     "text": [
      "318 7 1065 710\n",
      "Left Distance: 318, Right Distance: 215\n",
      "Decision: Left\n",
      "324 11 1079 711\n",
      "Left Distance: 324, Right Distance: 201\n",
      "Decision: Left\n"
     ]
    }
   ],
   "source": [
    "# Initialize camera\n",
    "cap = cv2.VideoCapture(0)\n",
    "cap.set(cv2.CAP_PROP_FRAME_WIDTH, 1280)\n",
    "cap.set(cv2.CAP_PROP_FRAME_HEIGHT, 720)\n",
    "if not cap.isOpened():\n",
    "    print(\"Error: Could not access the camera\")\n",
    "    exit()\n",
    "\n",
    "# Load the YOLO model\n",
    "model = YOLO(\"yolov8n.pt\")\n",
    "\n",
    "# Class names\n",
    "class_names = [\n",
    "    \"Person\", \"bicycle\", \"car\", \"motorbike\", \"aeroplane\", \"bus\", \"train\", \"truck\", \"boat\",\n",
    "    \"traffic light\", \"fire hydrant\", \"stop sign\", \"parking meter\", \"bench\", \"bird\", \"cat\",\n",
    "    \"dog\", \"horse\", \"sheep\", \"cow\", \"elephant\", \"bear\", \"zebra\", \"giraffe\", \"backpack\", \"umbrella\",\n",
    "    \"handbag\", \"tie\", \"suitcase\", \"frisbee\", \"skis\", \"snowboard\", \"sports ball\", \"kite\", \"baseball bat\",\n",
    "    \"baseball glove\", \"skateboard\", \"surfboard\", \"tennis racket\", \"bottle\", \"wine glass\", \"cup\",\n",
    "    \"fork\", \"knife\", \"spoon\", \"bowl\", \"banana\", \"apple\", \"sandwich\", \"orange\", \"broccoli\",\n",
    "    \"carrot\", \"hot dog\", \"pizza\", \"donut\", \"cake\", \"chair\", \"sofa\", \"pottedplant\", \"bed\",\n",
    "    \"diningtable\", \"toilet\", \"tvmonitor\", \"laptop\", \"mouse\", \"remote\", \"keyboard\", \"cell phone\",\n",
    "    \"microwave\", \"oven\", \"toaster\", \"sink\", \"refrigerator\", \"book\", \"clock\", \"vase\", \"scissors\",\n",
    "    \"teddy bear\", \"hair drier\", \"toothbrush\"\n",
    "]\n",
    "\n",
    "# Main loop\n",
    "while True:\n",
    "    success, img = cap.read()\n",
    "    if not success:\n",
    "        print(\"Failed to capture frame\")\n",
    "        break\n",
    "\n",
    "    frame_width = img.shape[1]  # Width of the frame\n",
    "    results = model(img, stream=True)\n",
    "\n",
    "    for r in results:\n",
    "        boxes = r.boxes\n",
    "        for box in boxes:\n",
    "            x1, y1, x2, y2 = box.xyxy[0]\n",
    "            x1, y1, x2, y2 = int(x1), int(y1), int(x2), int(y2)\n",
    "            bbox = int(x1), int(y1), int(x2) - int(x1), int(y2) - int(y1)  # Bounding box\n",
    "            print(x1, y1, x2, y2)\n",
    "\n",
    "            # Draw rectangle using cvzone\n",
    "            cvzone.cornerRect(img, bbox)\n",
    "\n",
    "            # Confidence value\n",
    "            conf_value = math.ceil(box.conf[0]* 100)\n",
    "\n",
    "            # Class ID\n",
    "            cls = box.cls[0]  # Class is a float mapped to the class names\n",
    "\n",
    "            # Display the confidence value and class name\n",
    "            cvzone.putTextRect(img, f'{class_names[int(cls)]} {conf_value} %', (max(x1, 0), max(y1, 35)),\n",
    "                               scale=0.9, thickness=2)\n",
    "\n",
    "            # Calculate distances\n",
    "            left_distance = x1  # Distance from the left edge of the frame\n",
    "            right_distance = frame_width - x2  # Distance from the right edge of the frame\n",
    "\n",
    "            print(f\"Left Distance: {left_distance}, Right Distance: {right_distance}\")\n",
    "\n",
    "            # Decision logic\n",
    "            decision = \"Left\" if left_distance > right_distance else \"Right\"\n",
    "            print(f\"Decision: {decision}\")\n",
    "\n",
    "            # Display decision on the frame\n",
    "            cvzone.putTextRect(img, f'Decision: {decision}', (10, 40), scale=1, thickness=2)\n",
    "\n",
    "    # Show the frame\n",
    "    cv2.imshow(\"Image\", img)\n",
    "\n",
    "    # Break the loop if 'q' is pressed\n",
    "    if cv2.waitKey(1) & 0xFF == ord('q'):\n",
    "        break\n",
    "\n",
    "# Release resources\n",
    "cap.release()\n",
    "cv2.destroyAllWindows()"
   ]
  },
  {
   "cell_type": "code",
   "execution_count": null,
   "metadata": {},
   "outputs": [],
   "source": []
  }
 ],
 "metadata": {
  "kernelspec": {
   "display_name": "Python 3",
   "language": "python",
   "name": "python3"
  },
  "language_info": {
   "codemirror_mode": {
    "name": "ipython",
    "version": 3
   },
   "file_extension": ".py",
   "mimetype": "text/x-python",
   "name": "python",
   "nbconvert_exporter": "python",
   "pygments_lexer": "ipython3",
   "version": "3.7.5"
  }
 },
 "nbformat": 4,
 "nbformat_minor": 2
}
